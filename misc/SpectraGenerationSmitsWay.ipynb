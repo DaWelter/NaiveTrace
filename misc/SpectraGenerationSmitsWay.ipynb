{
 "metadata": {
  "name": "",
  "signature": "sha256:12f7a6a015063249feff2cccacc9d1004de894c0aeb3c6eff83d159cb8b7986b"
 },
 "nbformat": 3,
 "nbformat_minor": 0,
 "worksheets": [
  {
   "cells": [
    {
     "cell_type": "markdown",
     "metadata": {},
     "source": [
      "# RGB to Spectrum Conversion for Reflectances\n",
      "\n",
      "This notebook contains code to generate spectra for RGB to spectral conversion by the method of Smits (1999). \n",
      "\n",
      "This notebook differs from the original way in possibly many aspects. Among which:\n",
      "* Python code written from scratch instead of Matlab code. (Yeah! Cpt. Obvious!)\n",
      "* Different optimization problem, adding a positivity constraint.\n",
      "* More bins!\n",
      "* sRGB color space instead of CIE (1931) RGB.\n",
      "* Messy normalization of the spectra and the RGB response curves.\n",
      "\n",
      "That is, at the time of this writing. I might change things and forget to update this comment.\n",
      "\n",
      "## Ref\n",
      "\n",
      "Smits, B. (1999). An RGB-to-Spectrum Conversion for Reflectances. Journal of Graphics Tools, 4(4), 11\u201322.\n",
      "doi:10.1080/10867651.1999.10487511"
     ]
    },
    {
     "cell_type": "code",
     "collapsed": false,
     "input": [
      "import csv\n",
      "import matplotlib.pyplot as pyplot\n",
      "import numpy as np"
     ],
     "language": "python",
     "metadata": {},
     "outputs": [],
     "prompt_number": 2
    },
    {
     "cell_type": "markdown",
     "metadata": {},
     "source": [
      "Getting XYZ response curves\n",
      "---------------------------\n",
      "X,Y and Z values are defined as the result of the convolution of the spectrum with the response curves.\n",
      "\n",
      "Data for those curves is found on the web."
     ]
    },
    {
     "cell_type": "code",
     "collapsed": false,
     "input": [
      "data = []\n",
      "# Data from http://cvrl.ioo.ucl.ac.uk/cmfs.htm\n",
      "# CIE 1931 2-deg, XYZ CMFs modified by Judd (1951) and Vos (1978)\n",
      "with open('ciexyzjv.csv', 'rb') as csvfile:\n",
      "    reader = csv.reader(csvfile, delimiter=',')\n",
      "    for row in reader:\n",
      "        data.append(map(float, row))\n",
      "data = np.asarray(data)"
     ],
     "language": "python",
     "metadata": {},
     "outputs": [],
     "prompt_number": 3
    },
    {
     "cell_type": "markdown",
     "metadata": {},
     "source": [
      "Wavelength delta?"
     ]
    },
    {
     "cell_type": "code",
     "collapsed": false,
     "input": [
      "delta = (data[1:,0]-data[:-1,0])\n",
      "print 'Min Max: ', delta.min(), delta.max()"
     ],
     "language": "python",
     "metadata": {},
     "outputs": [
      {
       "output_type": "stream",
       "stream": "stdout",
       "text": [
        "Min Max:  5.0 5.0\n"
       ]
      }
     ],
     "prompt_number": 4
    },
    {
     "cell_type": "code",
     "collapsed": false,
     "input": [
      "%matplotlib inline\n",
      "pyplot.ioff()"
     ],
     "language": "python",
     "metadata": {},
     "outputs": [],
     "prompt_number": 5
    },
    {
     "cell_type": "markdown",
     "metadata": {},
     "source": [
      "Plot the functions. Sure looks like proper XYZ color matching functions!"
     ]
    },
    {
     "cell_type": "code",
     "collapsed": false,
     "input": [
      "pyplot.plot(data[:,0], data[:,1], color='r')\n",
      "pyplot.plot(data[:,0], data[:,2], color='g')\n",
      "pyplot.plot(data[:,0], data[:,3], color='b')\n",
      "pyplot.show()"
     ],
     "language": "python",
     "metadata": {},
     "outputs": [
      {
       "metadata": {},
       "output_type": "display_data",
       "png": "[encoded data removed]",
       "text": [
        "<matplotlib.figure.Figure at 0x7f5579fdb510>"
       ]
      }
     ],
     "prompt_number": 6
    },
    {
     "cell_type": "markdown",
     "metadata": {},
     "source": [
      "Spectral discretization\n",
      "-----------------------\n",
      "I use different discretization points, so the curves need to be resampled. First define my discretization points, or bins."
     ]
    },
    {
     "cell_type": "markdown",
     "metadata": {},
     "source": [
      "Find nicely spaced bins for my discrete spectra. More than 10 used by Smits. Ideally a multiple of 3 because I trace 3 wavelengths per ray, and so I could make it that all bins are selected equal number of times by a simple stratification approach."
     ]
    },
    {
     "cell_type": "code",
     "collapsed": false,
     "input": [
      "NBINS = 36\n",
      "DLAMBDA = 10. # width of the bins\n",
      "bin_boundaries = 370. + np.arange(NBINS+1)*DLAMBDA\n",
      "print bin_boundaries\n",
      "bin_centers = np.average([bin_boundaries[1:], bin_boundaries[:-1]], axis=0)\n",
      "print bin_centers"
     ],
     "language": "python",
     "metadata": {},
     "outputs": [
      {
       "output_type": "stream",
       "stream": "stdout",
       "text": [
        "[ 370.  380.  390.  400.  410.  420.  430.  440.  450.  460.  470.  480.\n",
        "  490.  500.  510.  520.  530.  540.  550.  560.  570.  580.  590.  600.\n",
        "  610.  620.  630.  640.  650.  660.  670.  680.  690.  700.  710.  720.\n",
        "  730.]\n",
        "[ 375.  385.  395.  405.  415.  425.  435.  445.  455.  465.  475.  485.\n",
        "  495.  505.  515.  525.  535.  545.  555.  565.  575.  585.  595.  605.\n",
        "  615.  625.  635.  645.  655.  665.  675.  685.  695.  705.  715.  725.]\n"
       ]
      }
     ],
     "prompt_number": 7
    },
    {
     "cell_type": "code",
     "collapsed": false,
     "input": [
      "index_srgbR = np.argmin(np.abs(bin_centers-610.))\n",
      "index_srgbG = np.argmin(np.abs(bin_centers-550.))\n",
      "index_srgbB = np.argmin(np.abs(bin_centers-465.))\n",
      "print \"Bins with wavelengths near the sRGB primaries are very very roughly: %i, %i, %i\" %(index_srgbR, index_srgbG, index_srgbB)"
     ],
     "language": "python",
     "metadata": {},
     "outputs": [
      {
       "output_type": "stream",
       "stream": "stdout",
       "text": [
        "Bins with wavelengths near the sRGB primaries are very very roughly: 23, 17, 9\n"
       ]
      }
     ],
     "prompt_number": 8
    },
    {
     "cell_type": "code",
     "collapsed": false,
     "input": [
      "import scipy.interpolate"
     ],
     "language": "python",
     "metadata": {},
     "outputs": [],
     "prompt_number": 8
    },
    {
     "cell_type": "markdown",
     "metadata": {},
     "source": [
      "Resampling the XYZ curves\n",
      "-------------------------"
     ]
    },
    {
     "cell_type": "code",
     "collapsed": false,
     "input": [
      "xyz_response_curves = scipy.interpolate.interp1d(data[:,0], data[:,[1,2,3]], kind='quadratic', bounds_error=False, axis=0, fill_value=data[0,[1,2,3]])(bin_centers)"
     ],
     "language": "python",
     "metadata": {},
     "outputs": [],
     "prompt_number": 9
    },
    {
     "cell_type": "code",
     "collapsed": false,
     "input": [
      "pyplot.plot(data[:,0], data[:,1], color='r')\n",
      "pyplot.plot(data[:,0], data[:,2], color='g')\n",
      "pyplot.plot(data[:,0], data[:,3], color='b')\n",
      "pyplot.plot(bin_centers, xyz_response_curves[:,0], color='r', ls = ':')\n",
      "pyplot.plot(bin_centers, xyz_response_curves[:,1], color='g', ls = ':')\n",
      "pyplot.plot(bin_centers, xyz_response_curves[:,2], color='b', ls = ':')\n",
      "pyplot.show()"
     ],
     "language": "python",
     "metadata": {},
     "outputs": [
      {
       "metadata": {},
       "output_type": "display_data",
       "png": "[encoded data removed]",
       "text": [
        "<matplotlib.figure.Figure at 0x7f0d9c4a53d0>"
       ]
      }
     ],
     "prompt_number": 10
    },
    {
     "cell_type": "markdown",
     "metadata": {},
     "source": [
      "Normalizing XYZ curves\n",
      "----------------------"
     ]
    },
    {
     "cell_type": "code",
     "collapsed": false,
     "input": [
      "np.sum(xyz_response_curves, axis=0)"
     ],
     "language": "python",
     "metadata": {},
     "outputs": [
      {
       "metadata": {},
       "output_type": "pyout",
       "prompt_number": 11,
       "text": [
        "array([ 10.7042048 ,  10.74742221,  10.52389846])"
       ]
      }
     ],
     "prompt_number": 11
    },
    {
     "cell_type": "markdown",
     "metadata": {},
     "source": [
      "That is odd. Even after multiplication with the bin size, the inner product with a flat spectrum would not yield ones.\n",
      "However, I need ones, if this my spectra are going to be used for relfectivity curves and things that go between 0 and 1.\n",
      "\n",
      "I deal with it later ..."
     ]
    },
    {
     "cell_type": "markdown",
     "metadata": {},
     "source": [
      "RGB response curves\n",
      "-------------------\n",
      "XYZ is not super useful as render output. It must be converted to RGB which is just a matrix multiplication.\n",
      "However there are different RGB standards out there. https://en.wikipedia.org/wiki/RGB_color_space\n",
      "\n",
      "Web search for \"rgb to xyz transform\" yields plenty of sources\n",
      "Like that one http://www.brucelindbloom.com/index.html?Eqn_RGB_XYZ_Matrix.html\n",
      "\n",
      "In order to obtain RGB response curves, the XYZ-to-RGB transform is left multiplied to the XYZ response curves which can be seen as a 3xNBINS matrix, defining the transform from spectra to XYZ."
     ]
    },
    {
     "cell_type": "code",
     "collapsed": false,
     "input": [
      "xyz_to_srgb = np.asarray([\n",
      " [ 3.2404542, -1.5371385, -0.4985314 ],\n",
      " [-0.9692660,  1.8760108,  0.0415560 ],\n",
      " [ 0.0556434, -0.2040259,  1.0572252 ]\n",
      "])\n",
      "rgb_response_curves_unnormalized = np.dot(xyz_to_srgb, xyz_response_curves.T)"
     ],
     "language": "python",
     "metadata": {},
     "outputs": [],
     "prompt_number": 12
    },
    {
     "cell_type": "markdown",
     "metadata": {},
     "source": [
      "I want to approximate the convolution integral with by Riemann summs. Therefore there needs to be the step width as a factor somewhere. I put it in the response curves."
     ]
    },
    {
     "cell_type": "code",
     "collapsed": false,
     "input": [
      "pyplot.plot(bin_centers, rgb_response_curves_unnormalized[0], color='r')\n",
      "pyplot.plot(bin_centers, rgb_response_curves_unnormalized[1], color='g')\n",
      "pyplot.plot(bin_centers, rgb_response_curves_unnormalized[2], color='b')\n",
      "pyplot.show()"
     ],
     "language": "python",
     "metadata": {},
     "outputs": [
      {
       "metadata": {},
       "output_type": "display_data",
       "png": "[encoded data removed]",
       "text": [
        "<matplotlib.figure.Figure at 0x7f0d9c173390>"
       ]
      }
     ],
     "prompt_number": 13
    },
    {
     "cell_type": "markdown",
     "metadata": {},
     "source": [
      "Finding Smits style spectra\n",
      "---------------------------\n",
      "Smits finds spectra for each primary and secondary color by minimizing the distance of the calculated RGB triple to the target RGB triple, subject to a smoothness regularization.\n",
      "\n",
      "http://www.cs.utah.edu/~bes/papers/color/paper-node2.html\n",
      "\n",
      "This did not quite work for me, so I added a positivity constraint."
     ]
    },
    {
     "cell_type": "code",
     "collapsed": false,
     "input": [
      "import scipy.optimize"
     ],
     "language": "python",
     "metadata": {},
     "outputs": [],
     "prompt_number": 14
    },
    {
     "cell_type": "code",
     "collapsed": false,
     "input": [
      "def objective_func(spectrum, rgb_target, regularizer_coefficient):\n",
      "    rgb = np.dot(rgb_response_curves_unnormalized, spectrum)\n",
      "    cost = np.average(np.square(rgb - rgb_target))\n",
      "    regularizer = np.average(np.square(spectrum[1:] - spectrum[:-1]))\n",
      "    return cost + regularizer_coefficient * regularizer"
     ],
     "language": "python",
     "metadata": {},
     "outputs": [],
     "prompt_number": 15
    },
    {
     "cell_type": "code",
     "collapsed": false,
     "input": [
      "def constraint_func(spectrum):\n",
      "    return spectrum"
     ],
     "language": "python",
     "metadata": {},
     "outputs": [],
     "prompt_number": 16
    },
    {
     "cell_type": "code",
     "collapsed": false,
     "input": [
      "def find_spectrum_for_rgb(rgb):\n",
      "    #result = scipy.optimize.minimize(objective_func, np.random.normal(1., 1., size=NBINS), args=(rgb, 1.), options = {'disp' : True, 'eps' : 1.e-4})\n",
      "    result = scipy.optimize.minimize(\n",
      "        objective_func, \n",
      "        np.random.normal(1., 0.1, size=NBINS), \n",
      "        args=(rgb, 3.),\n",
      "        constraints=({'type' : 'ineq', 'fun' : constraint_func}),\n",
      "        options = {'disp' : True, 'eps' : 1.e-4})\n",
      "    return result.x"
     ],
     "language": "python",
     "metadata": {},
     "outputs": [],
     "prompt_number": 17
    },
    {
     "cell_type": "code",
     "collapsed": false,
     "input": [
      "primaries_targets = np.asarray([\n",
      "    (1., 1., 1.),\n",
      "    (1., 0., 0.),\n",
      "    (0., 1., 0.),\n",
      "    (0., 0., 1.),\n",
      "    (1., 1., 0.),\n",
      "    (0., 1., 1.),\n",
      "    (1., 0., 1.)\n",
      "])\n",
      "primaries_spectra_unnormalized = map(find_spectrum_for_rgb, primaries_targets)\n",
      "primaries_spectra_unnormalized = np.asarray(primaries_spectra_unnormalized)"
     ],
     "language": "python",
     "metadata": {},
     "outputs": [
      {
       "output_type": "stream",
       "stream": "stdout",
       "text": [
        "Optimization terminated successfully.    (Exit mode 0)\n",
        "            Current function value: 5.52985196425e-06\n",
        "            Iterations: 52\n",
        "            Function evaluations: 1980\n",
        "            Gradient evaluations: 52\n",
        "Optimization terminated successfully.    (Exit mode 0)"
       ]
      },
      {
       "output_type": "stream",
       "stream": "stdout",
       "text": [
        "\n",
        "            Current function value: 0.000104943687849\n",
        "            Iterations: 36\n",
        "            Function evaluations: 1370\n",
        "            Gradient evaluations: 36\n",
        "Optimization terminated successfully.    (Exit mode 0)"
       ]
      },
      {
       "output_type": "stream",
       "stream": "stdout",
       "text": [
        "\n",
        "            Current function value: 0.00026527298848\n",
        "            Iterations: 42\n",
        "            Function evaluations: 1597\n",
        "            Gradient evaluations: 42\n",
        "Optimization terminated successfully.    (Exit mode 0)"
       ]
      },
      {
       "output_type": "stream",
       "stream": "stdout",
       "text": [
        "\n",
        "            Current function value: 0.000111650399243\n",
        "            Iterations: 37\n",
        "            Function evaluations: 1409\n",
        "            Gradient evaluations: 37\n",
        "Optimization terminated successfully.    (Exit mode 0)"
       ]
      },
      {
       "output_type": "stream",
       "stream": "stdout",
       "text": [
        "\n",
        "            Current function value: 0.000107754268724\n",
        "            Iterations: 36\n",
        "            Function evaluations: 1371\n",
        "            Gradient evaluations: 36\n",
        "Optimization terminated successfully.    (Exit mode 0)"
       ]
      },
      {
       "output_type": "stream",
       "stream": "stdout",
       "text": [
        "\n",
        "            Current function value: 0.000107967787825\n",
        "            Iterations: 48\n",
        "            Function evaluations: 1826\n",
        "            Gradient evaluations: 48\n",
        "Optimization terminated successfully.    (Exit mode 0)"
       ]
      },
      {
       "output_type": "stream",
       "stream": "stdout",
       "text": [
        "\n",
        "            Current function value: 0.000207292672068\n",
        "            Iterations: 45\n",
        "            Function evaluations: 1713\n",
        "            Gradient evaluations: 45\n"
       ]
      }
     ],
     "prompt_number": 18
    },
    {
     "cell_type": "markdown",
     "metadata": {},
     "source": [
      "Normalization\n",
      "-------------"
     ]
    },
    {
     "cell_type": "code",
     "collapsed": false,
     "input": [
      "N = np.amax(primaries_spectra_unnormalized)\n",
      "primaries_spectra = primaries_spectra_unnormalized/N\n",
      "N2 = np.dot(rgb_response_curves_unnormalized, primaries_spectra.T)\n",
      "rgb_response_curves = rgb_response_curves_unnormalized / np.amax(N2)"
     ],
     "language": "python",
     "metadata": {},
     "outputs": [],
     "prompt_number": 19
    },
    {
     "cell_type": "markdown",
     "metadata": {},
     "source": [
      "Plots\n",
      "-----"
     ]
    },
    {
     "cell_type": "code",
     "collapsed": false,
     "input": [
      "primaries_names = 'white red green blue yellow cyan magenta'.split()\n",
      "primaries_name_to_index = dict([(n, i) for i,n in enumerate(primaries_names)])\n",
      "primaries_plot_colors = 'krgbycm'"
     ],
     "language": "python",
     "metadata": {},
     "outputs": [],
     "prompt_number": 20
    },
    {
     "cell_type": "code",
     "collapsed": false,
     "input": [
      "def plot(name):\n",
      "    idx = primaries_name_to_index[name]\n",
      "    spectrum = primaries_spectra[idx]\n",
      "    print 'RGB for %s = %0.2f, %0.2f %0.2f' % ((name,)+tuple(np.dot(rgb_response_curves, spectrum)))\n",
      "    pyplot.plot(bin_centers, spectrum, color=primaries_plot_colors[idx])\n",
      "    pyplot.gca().set(ylim = (0., 1.2))"
     ],
     "language": "python",
     "metadata": {},
     "outputs": [],
     "prompt_number": 21
    },
    {
     "cell_type": "code",
     "collapsed": false,
     "input": [
      "plot('white')\n",
      "pyplot.show()\n",
      "plot('red')\n",
      "plot('green')\n",
      "plot('blue')\n",
      "pyplot.show()\n",
      "plot('yellow')\n",
      "plot('cyan')\n",
      "plot('magenta')\n",
      "pyplot.show()"
     ],
     "language": "python",
     "metadata": {},
     "outputs": [
      {
       "output_type": "stream",
       "stream": "stdout",
       "text": [
        "RGB for white = 1.00, 1.00 1.00\n"
       ]
      },
      {
       "metadata": {},
       "output_type": "display_data",
       "png": "[encoded data removed]",
       "text": [
        "<matplotlib.figure.Figure at 0x7f0d9a7b9090>"
       ]
      },
      {
       "output_type": "stream",
       "stream": "stdout",
       "text": [
        "RGB for red = 1.00, 0.00 -0.00\n",
        "RGB for green = 0.00, 1.00 0.00\n",
        "RGB for blue = 0.00, 0.00 1.00\n"
       ]
      },
      {
       "metadata": {},
       "output_type": "display_data",
       "png": "[encoded data removed]",
       "text": [
        "<matplotlib.figure.Figure at 0x7f0d9a326e50>"
       ]
      },
      {
       "output_type": "stream",
       "stream": "stdout",
       "text": [
        "RGB for yellow = 1.00, 1.00 0.00\n",
        "RGB for cyan = 0.00, 1.00 1.00\n",
        "RGB for magenta = 1.00, 0.00 1.00\n"
       ]
      },
      {
       "metadata": {},
       "output_type": "display_data",
       "png": "[encoded data removed]",
       "text": [
        "<matplotlib.figure.Figure at 0x7f0d9a207150>"
       ]
      }
     ],
     "prompt_number": 22
    },
    {
     "cell_type": "code",
     "collapsed": false,
     "input": [
      "def RGBToSpectrum(rgb):\n",
      "  class Bunch(object):\n",
      "    def __init__(self, d):\n",
      "        self.__dict__.update(d)\n",
      "  S = Bunch(map(lambda q: (q[1].upper(), q[0]), list(enumerate(primaries_names))))\n",
      "  red, green, blue = rgb\n",
      "  ret = np.zeros(NBINS)\n",
      "  for bin in range(NBINS):\n",
      "      if (red <= green and red <= blue):\n",
      "        ret[bin] += red * primaries_spectra[S.WHITE][bin]\n",
      "        if (green <= blue): # cyan = green+blue\n",
      "          ret[bin] += (green - red) * primaries_spectra[S.CYAN][bin]\n",
      "          ret[bin] += (blue - green) * primaries_spectra[S.BLUE][bin]\n",
      "        else:\n",
      "          ret[bin] += (blue - red) * primaries_spectra[S.CYAN][bin]\n",
      "          ret[bin] += (green - blue) * primaries_spectra[S.GREEN][bin]\n",
      "      elif(green <= red and green <= blue):\n",
      "        ret[bin] += green * primaries_spectra[S.WHITE][bin]\n",
      "        if (red <= blue): #red+blue = magenta\n",
      "          ret[bin] += (red  - green) * primaries_spectra[S.MAGENTA][bin]\n",
      "          ret[bin] += (blue -   red) * primaries_spectra[S.BLUE][bin]\n",
      "        else:\n",
      "          ret[bin] += (blue - green) * primaries_spectra[S.MAGENTA][bin]\n",
      "          ret[bin] += (red - blue) * primaries_spectra[S.RED][bin]\n",
      "      else: #blue < all others\n",
      "        ret[bin] += blue * primaries_spectra[S.WHITE][bin]\n",
      "        if (red <= green): # red+green = YELLOW\n",
      "          ret[bin] += (red - blue) * primaries_spectra[S.YELLOW][bin]\n",
      "          ret[bin] += (green - red) * primaries_spectra[S.GREEN][bin]\n",
      "        else:\n",
      "          ret[bin] += (green - blue) * primaries_spectra[S.YELLOW][bin]\n",
      "          ret[bin] += (red - green) * primaries_spectra[S.RED][bin]\n",
      "  return ret"
     ],
     "language": "python",
     "metadata": {},
     "outputs": [],
     "prompt_number": 23
    },
    {
     "cell_type": "code",
     "collapsed": false,
     "input": [
      "sp = RGBToSpectrum([1., 1., 1.])\n",
      "pyplot.plot(bin_centers, sp)\n",
      "pyplot.show()"
     ],
     "language": "python",
     "metadata": {},
     "outputs": [
      {
       "metadata": {},
       "output_type": "display_data",
       "png": "[encoded data removed]",
       "text": [
        "<matplotlib.figure.Figure at 0x7f0d9a1b6150>"
       ]
      }
     ],
     "prompt_number": 24
    },
    {
     "cell_type": "markdown",
     "metadata": {},
     "source": [
      "Code Gen\n",
      "--------"
     ]
    },
    {
     "cell_type": "code",
     "collapsed": false,
     "input": [
      "print 'static const double spectra[7][NBINS] = {'\n",
      "for sp in primaries_spectra:\n",
      "    print '{',', '.join(['%0.5f' % s for s in sp]), '},'\n",
      "print '};'"
     ],
     "language": "python",
     "metadata": {},
     "outputs": [
      {
       "output_type": "stream",
       "stream": "stdout",
       "text": [
        "static const double spectra[7][NBINS] = {\n",
        "{ 0.82894, 0.83703, 0.84224, 0.84783, 0.85502, 0.85368, 0.84953, 0.85038, 0.84876, 0.84317, 0.84062, 0.83937, 0.83723, 0.83647, 0.83312, 0.82590, 0.81870, 0.80546, 0.78580, 0.76378, 0.73803, 0.71284, 0.69302, 0.67522, 0.65986, 0.65047, 0.64296, 0.62854, 0.61213, 0.60683, 0.61011, 0.61204, 0.61184, 0.61207, 0.61236, 0.61258 },\n",
        "{ 0.01775, 0.01685, 0.01724, 0.02064, 0.02723, 0.03302, 0.02871, 0.01801, 0.00801, 0.00110, 0.00000, 0.00000, -0.00000, 0.00000, 0.00000, 0.00000, 0.00000, -0.00000, -0.00000, 0.02739, 0.10789, 0.23092, 0.37105, 0.49884, 0.60610, 0.68904, 0.74017, 0.77176, 0.79046, 0.79948, 0.80320, 0.79905, 0.79541, 0.79251, 0.78922, 0.78712 },\n",
        "{ -0.00000, 0.00039, 0.00000, 0.00000, 0.00000, 0.00000, 0.00000, 0.00000, 0.01044, 0.07989, 0.19571, 0.34404, 0.50468, 0.64879, 0.76565, 0.84715, 0.87429, 0.85280, 0.78775, 0.68383, 0.55608, 0.41345, 0.26390, 0.13882, 0.05670, 0.01370, 0.00000, 0.00000, 0.00000, 0.00054, 0.00185, 0.00000, 0.00000, 0.00000, 0.00000, 0.00031 },\n",
        "{ 0.91526, 0.91390, 0.91102, 0.91374, 0.91536, 0.90112, 0.87247, 0.82728, 0.75844, 0.67689, 0.57678, 0.45640, 0.33643, 0.21992, 0.11155, 0.03506, -0.00000, -0.00000, 0.00000, 0.00000, 0.00000, -0.00000, 0.00000, -0.00000, 0.00000, 0.00000, -0.00000, -0.00000, -0.00000, 0.00000, -0.00000, -0.00000, 0.00131, 0.00049, -0.00000, 0.00161 },\n",
        "{ 0.00000, 0.00000, 0.00149, 0.00018, -0.00000, 0.00000, 0.00000, 0.02047, 0.06687, 0.13814, 0.23223, 0.33956, 0.44492, 0.54870, 0.64599, 0.73088, 0.79596, 0.83302, 0.84480, 0.83762, 0.80402, 0.75488, 0.70770, 0.65992, 0.61627, 0.59051, 0.57567, 0.56017, 0.54445, 0.52966, 0.51937, 0.51537, 0.52119, 0.52877, 0.53041, 0.52585 },\n",
        "{ 0.76738, 0.77355, 0.77939, 0.78034, 0.78407, 0.79205, 0.80193, 0.81025, 0.82992, 0.85761, 0.88312, 0.91019, 0.93327, 0.93722, 0.92836, 0.90383, 0.86685, 0.81183, 0.73038, 0.62433, 0.50594, 0.38650, 0.27906, 0.18451, 0.10844, 0.06002, 0.03148, 0.02122, 0.01381, 0.00766, 0.00183, -0.00000, 0.00000, 0.00272, 0.00706, 0.00724 },\n",
        "{ 0.99480, 0.99995, 1.00000, 0.99867, 0.99586, 0.97539, 0.93152, 0.86425, 0.76525, 0.64490, 0.51693, 0.38187, 0.24526, 0.12809, 0.04467, -0.00000, -0.00000, -0.00000, 0.02864, 0.09618, 0.18656, 0.28730, 0.38936, 0.48212, 0.56139, 0.62224, 0.65951, 0.68050, 0.69119, 0.69407, 0.69344, 0.69299, 0.69229, 0.69131, 0.69301, 0.69684 },\n",
        "};\n"
       ]
      }
     ],
     "prompt_number": 25
    },
    {
     "cell_type": "code",
     "collapsed": false,
     "input": [
      "print 'static const double mat_spectrum_to_rgb[3][NBINS] = {'\n",
      "for curve in rgb_response_curves:\n",
      "    print '{',', '.join(['%0.5f' % s for s in curve]), '},'\n",
      "print '};'"
     ],
     "language": "python",
     "metadata": {},
     "outputs": [
      {
       "output_type": "stream",
       "stream": "stdout",
       "text": [
        "static const double mat_spectrum_to_rgb[3][NBINS] = {\n",
        "{ 0.00028, 0.00055, 0.00215, 0.00646, 0.01587, 0.02695, 0.02860, 0.02191, 0.00933, -0.00582, -0.02597, -0.04505, -0.06345, -0.08774, -0.10924, -0.10885, -0.08348, -0.04144, 0.01576, 0.08569, 0.16202, 0.23338, 0.28560, 0.30374, 0.28461, 0.23265, 0.17042, 0.11440, 0.06971, 0.03846, 0.02056, 0.01046, 0.00510, 0.00259, 0.00131, 0.00065 },\n",
        "{ -0.00021, -0.00042, -0.00162, -0.00494, -0.01232, -0.02141, -0.02367, -0.01982, -0.01183, -0.00187, 0.01491, 0.03516, 0.05914, 0.09367, 0.13644, 0.16937, 0.18288, 0.18176, 0.16822, 0.14365, 0.10990, 0.07138, 0.03476, 0.00715, -0.00872, -0.01414, -0.01343, -0.01032, -0.00673, -0.00384, -0.00209, -0.00107, -0.00053, -0.00027, -0.00013, -0.00007 },\n",
        "{ 0.00160, 0.00315, 0.01239, 0.03778, 0.09527, 0.17111, 0.20543, 0.20362, 0.17791, 0.15918, 0.11977, 0.07188, 0.03773, 0.01651, -0.00086, -0.01180, -0.01747, -0.02024, -0.02067, -0.01939, -0.01683, -0.01350, -0.01003, -0.00699, -0.00466, -0.00294, -0.00177, -0.00103, -0.00057, -0.00030, -0.00016, -0.00008, -0.00004, -0.00002, -0.00001, -0.00000 },\n",
        "};\n"
       ]
      }
     ],
     "prompt_number": 26
    },
    {
     "cell_type": "code",
     "collapsed": false,
     "input": [
      "print 'static constexpr Scalar wavelengths[NBINS] = {\\n  ' + ', '.join(['%0.5f' % s for s in bin_centers])+'\\n};'"
     ],
     "language": "python",
     "metadata": {},
     "outputs": [
      {
       "output_type": "stream",
       "stream": "stdout",
       "text": [
        "static constexpr Scalar wavelengths[NBINS] = {\n",
        "  375.00000, 385.00000, 395.00000, 405.00000, 415.00000, 425.00000, 435.00000, 445.00000, 455.00000, 465.00000, 475.00000, 485.00000, 495.00000, 505.00000, 515.00000, 525.00000, 535.00000, 545.00000, 555.00000, 565.00000, 575.00000, 585.00000, 595.00000, 605.00000, 615.00000, 625.00000, 635.00000, 645.00000, 655.00000, 665.00000, 675.00000, 685.00000, 695.00000, 705.00000, 715.00000, 725.00000\n",
        "};\n"
       ]
      }
     ],
     "prompt_number": 27
    },
    {
     "cell_type": "code",
     "collapsed": false,
     "input": [
      "\n",
      "print 'enum Colors {\\n  '+', '.join(['{1} = {0}'.format(q[0], q[1].upper()) for q in enumerate(primaries_names)]) + '\\n};'"
     ],
     "language": "python",
     "metadata": {},
     "outputs": [
      {
       "output_type": "stream",
       "stream": "stdout",
       "text": [
        "enum Colors {\n",
        "  WHITE = 0, RED = 1, GREEN = 2, BLUE = 3, YELLOW = 4, CYAN = 5, MAGENTA = 6\n",
        "};\n"
       ]
      }
     ],
     "prompt_number": 43
    },
    {
     "cell_type": "code",
     "collapsed": false,
     "input": [],
     "language": "python",
     "metadata": {},
     "outputs": []
    }
   ],
   "metadata": {}
  }
 ]
}