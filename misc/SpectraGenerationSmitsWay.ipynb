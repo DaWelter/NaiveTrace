{
 "metadata": {
  "name": "",
  "signature": "sha256:7bb44f8ace2fb9ba994be99515949357ac113b433ffafbe035e90565f7593050"
 },
 "nbformat": 3,
 "nbformat_minor": 0,
 "worksheets": [
  {
   "cells": [
    {
     "cell_type": "markdown",
     "metadata": {},
     "source": [
      "XYZ <-> RGB Conversion Matrices\n",
      "===============================\n",
      "Conversion using (x,y) coordinates of primaries and white point.\n",
      "\n",
      "Using the formula for XYZ <-> xyY conversion (1) from https://en.wikipedia.org/wiki/CIE_1931_color_space\n",
      "plus the fact that RGB = M * XYZ, where M is a 3x3 Matrix.\n",
      "\n",
      "I fix the luminance Y of the white point to 1.\n",
      "\n",
      "So let's begin ..."
     ]
    },
    {
     "cell_type": "code",
     "collapsed": false,
     "input": [
      "#https://en.wikipedia.org/wiki/RGB_color_space\n",
      "#CIE RGB\n",
      "xy_r = (0.7347, 0.2653)\n",
      "xy_g = (0.2738, 0.7174)\n",
      "xy_b = (0.1666, 0.0089)\n",
      "xy_wp = (1/3., 1./3.)\n",
      "Y_wp = 1."
     ],
     "language": "python",
     "metadata": {},
     "outputs": [],
     "prompt_number": 1
    },
    {
     "cell_type": "markdown",
     "metadata": {},
     "source": [
      "Well first, we have from plugging (1) in $\\text{RGB} = M \\cdot \\text{XYZ}$ and writing it in matrix form:\n",
      "$$ M \\cdot \\begin{pmatrix} 1/y_q x_q \\\\ 1 \\\\ 1/y_q(1-x_q-y_q) \\end{pmatrix} = 1/Y_q \\bf{e}_q, $$\n",
      "where $\\bf{e}_q$ are the cartesian basis vectors, and $q$ iterates over r,g and b.\n",
      "\n",
      "Now I can stack the equation for r,g and b, respectively together to obtain:\n",
      "$$ B = \\begin{pmatrix} 1/y_r x_r & ... & ... \\\\ 1 & ... & ... \\\\ 1/y_r(1-x_r-y_r) & ... & ... \\end{pmatrix}$$\n",
      "$$ M \\cdot B = diag(1/Y_r, 1/Y_g, 1/Y_b) $$\n",
      "\n",
      "Rewriting $M$ as $M = A\\cdot B^{-1}$, I trivially find\n",
      "$$A = diag(1/Y_r, 1/Y_g, 1/Y_b)$$\n",
      "which is still unkown. However the white point helps now. Just plugging it into the conversion $\\text{RGB}_{wp} = (1,1,1)^T = M \\cdot \\text{XYZ}_{wp}$ yields:\n",
      "$$(Y_r, Y_g, Y_b)^{T}  = B^{-1} \\cdot \\text{XYZ}_{wp}.$$\n",
      "Note that $\\text{XYZ}_{wp}$ is easily computed via (1).\n",
      "Thus I obtain $(Y_r, Y_g, Y_b)$. So $M = A\\cdot B^{-1}$ is straight forward to calculate."
     ]
    },
    {
     "cell_type": "code",
     "collapsed": false,
     "input": [
      "import numpy as np"
     ],
     "language": "python",
     "metadata": {},
     "outputs": [],
     "prompt_number": 2
    },
    {
     "cell_type": "code",
     "collapsed": false,
     "input": [
      "def BMatrix(xy_r, xy_g, xy_b):\n",
      "    m = np.empty((3,3))\n",
      "    for i, (x, y) in enumerate([xy_r, xy_g, xy_b]):\n",
      "        m[0, i] = x/y\n",
      "        m[1, i] = 1.\n",
      "        m[2, i] = 1/y*(1.-x-y)\n",
      "    return m"
     ],
     "language": "python",
     "metadata": {},
     "outputs": [],
     "prompt_number": 3
    },
    {
     "cell_type": "code",
     "collapsed": false,
     "input": [
      "def ConvertToXYZ(xy, Y):\n",
      "    return (Y/xy[1]*xy[0], Y, Y/xy[1]*(1.-xy[0]-xy[1]))"
     ],
     "language": "python",
     "metadata": {},
     "outputs": [],
     "prompt_number": 4
    },
    {
     "cell_type": "code",
     "collapsed": false,
     "input": [
      "def ComputeRGBtoXYZMatrix(xy_r, xy_g, xy_b, xy_wp, Y_wp):\n",
      "    XYZ_wp = ConvertToXYZ(xy_wp, Y_wp)\n",
      "    B = BMatrix(xy_r, xy_g, xy_b)\n",
      "    Y_rgb = np.dot(np.linalg.inv(B), XYZ_wp)\n",
      "    M_inv = np.dot(B, np.diag(Y_rgb))\n",
      "    RGB_to_XYZ = M_inv\n",
      "    return RGB_to_XYZ"
     ],
     "language": "python",
     "metadata": {},
     "outputs": [],
     "prompt_number": 5
    },
    {
     "cell_type": "code",
     "collapsed": false,
     "input": [
      "rgb_to_xyz = ComputeRGBtoXYZMatrix(xy_r, xy_g, xy_b, xy_wp, Y_wp)\n",
      "print rgb_to_xyz"
     ],
     "language": "python",
     "metadata": {},
     "outputs": [
      {
       "output_type": "stream",
       "stream": "stdout",
       "text": [
        "[[ 0.489889    0.31006279  0.20004821]\n",
        " [ 0.1768988   0.81241435  0.01068685]\n",
        " [ 0.          0.0099655   0.9900345 ]]\n"
       ]
      }
     ],
     "prompt_number": 63
    },
    {
     "cell_type": "markdown",
     "metadata": {},
     "source": [
      "Comparison with the conversion matrix on http://www.brucelindbloom.com/index.html?Eqn_RGB_XYZ_Matrix.html\n",
      "shows that it matches for the CIE RGB colorspace as expected!\n",
      "\n",
      "Disclaimer: I don't know what I'm doing. Had I realized that the whitepoint xy=(1/3,1/3) suggested by Smits actually corresponds to the E illuminant used in the CIE RGB space, I would not have gone through the trouble of deriving the conversion by myself!"
     ]
    },
    {
     "cell_type": "code",
     "collapsed": false,
     "input": [
      "xyz_to_rgb = np.linalg.inv(ComputeRGBtoXYZMatrix(xy_r, xy_g, xy_b, xy_wp, Y_wp))\n",
      "print xyz_to_rgb"
     ],
     "language": "python",
     "metadata": {},
     "outputs": [
      {
       "output_type": "stream",
       "stream": "stdout",
       "text": [
        "[[ 2.36516161 -0.89693456 -0.46822706]\n",
        " [-0.51506927  1.42639048  0.08867879]\n",
        " [ 0.00518459 -0.01435777  1.00917318]]\n"
       ]
      }
     ],
     "prompt_number": 64
    },
    {
     "cell_type": "code",
     "collapsed": false,
     "input": [
      "#Now, taking data from Smits\n",
      "xyz_to_rgb = np.linalg.inv(ComputeRGBtoXYZMatrix(\n",
      "    (0.625, 0.34), (0.28, 0.595), (0.155, 0.07), (0.333, 0.333), 1.))\n",
      "print xyz_to_rgb"
     ],
     "language": "python",
     "metadata": {},
     "outputs": [
      {
       "output_type": "stream",
       "stream": "stdout",
       "text": [
        "[[ 2.48684895 -1.08640735 -0.39924267]\n",
        " [-1.15062409  2.11105692  0.03944871]\n",
        " [ 0.09388976 -0.2959639   1.19847512]]\n"
       ]
      }
     ],
     "prompt_number": 77
    },
    {
     "cell_type": "markdown",
     "metadata": {},
     "source": [
      "# RGB to Spectrum Conversion for Reflectances\n",
      "\n",
      "This notebook contains code to generate spectra for RGB to spectral conversion by the method of Smits (1999). \n",
      "\n",
      "This notebook differs from the original way in possibly many aspects. Among which:\n",
      "* Python code written from scratch instead of Matlab code. (Yeah! Cpt. Obvious!)\n",
      "* Different optimization problem, adding a positivity constraint.\n",
      "* More bins!\n",
      "* Messy normalization of the spectra and the RGB response curves.\n",
      "\n",
      "That is, at the time of this writing. I might change things and forget to update this comment.\n",
      "\n",
      "## Ref\n",
      "\n",
      "Smits, B. (1999). An RGB-to-Spectrum Conversion for Reflectances. Journal of Graphics Tools, 4(4), 11\u201322.\n",
      "doi:10.1080/10867651.1999.10487511"
     ]
    },
    {
     "cell_type": "code",
     "collapsed": false,
     "input": [
      "import csv\n",
      "import matplotlib.pyplot as pyplot\n",
      "import numpy as np"
     ],
     "language": "python",
     "metadata": {},
     "outputs": [],
     "prompt_number": 7
    },
    {
     "cell_type": "markdown",
     "metadata": {},
     "source": [
      "Getting XYZ response curves\n",
      "---------------------------\n",
      "X,Y and Z values are defined as the result of the convolution of the spectrum with the response curves.\n",
      "\n",
      "Data for those curves is found on the web."
     ]
    },
    {
     "cell_type": "code",
     "collapsed": false,
     "input": [
      "data = []\n",
      "# Data from http://cvrl.ioo.ucl.ac.uk/cmfs.htm\n",
      "# CIE 1931 2-deg, XYZ CMFs modified by Judd (1951) and Vos (1978)\n",
      "with open('ciexyzjv.csv', 'rb') as csvfile:\n",
      "    reader = csv.reader(csvfile, delimiter=',')\n",
      "    for row in reader:\n",
      "        data.append(map(float, row))\n",
      "data = np.asarray(data)"
     ],
     "language": "python",
     "metadata": {},
     "outputs": [],
     "prompt_number": 8
    },
    {
     "cell_type": "markdown",
     "metadata": {},
     "source": [
      "Wavelength delta?"
     ]
    },
    {
     "cell_type": "code",
     "collapsed": false,
     "input": [
      "delta = (data[1:,0]-data[:-1,0])\n",
      "print 'Min Max: ', delta.min(), delta.max()"
     ],
     "language": "python",
     "metadata": {},
     "outputs": [
      {
       "output_type": "stream",
       "stream": "stdout",
       "text": [
        "Min Max:  5.0 5.0\n"
       ]
      }
     ],
     "prompt_number": 9
    },
    {
     "cell_type": "code",
     "collapsed": false,
     "input": [
      "%matplotlib inline\n",
      "pyplot.ioff()"
     ],
     "language": "python",
     "metadata": {},
     "outputs": [],
     "prompt_number": 10
    },
    {
     "cell_type": "markdown",
     "metadata": {},
     "source": [
      "Plot the functions. Sure looks like proper XYZ color matching functions!"
     ]
    },
    {
     "cell_type": "code",
     "collapsed": false,
     "input": [
      "pyplot.plot(data[:,0], data[:,1], color='r')\n",
      "pyplot.plot(data[:,0], data[:,2], color='g')\n",
      "pyplot.plot(data[:,0], data[:,3], color='b')\n",
      "pyplot.show()"
     ],
     "language": "python",
     "metadata": {},
     "outputs": [
      {
       "metadata": {},
       "output_type": "display_data",
       "png": "[encoded data removed]",
       "text": [
        "<matplotlib.figure.Figure at 0x7f8f3b0fed10>"
       ]
      }
     ],
     "prompt_number": 11
    },
    {
     "cell_type": "markdown",
     "metadata": {},
     "source": [
      "Spectral discretization\n",
      "-----------------------\n",
      "I use different discretization points, so the curves need to be resampled. First define my discretization points, or bins."
     ]
    },
    {
     "cell_type": "markdown",
     "metadata": {},
     "source": [
      "Find nicely spaced bins for my discrete spectra. More than 10 used by Smits. Ideally a multiple of 3 because I trace 3 wavelengths per ray, and so I could make it that all bins are selected equal number of times by a simple stratification approach."
     ]
    },
    {
     "cell_type": "code",
     "collapsed": false,
     "input": [
      "NBINS = 36\n",
      "DLAMBDA = 10. # width of the bins\n",
      "bin_boundaries = 370. + np.arange(NBINS+1)*DLAMBDA\n",
      "print bin_boundaries\n",
      "bin_centers = np.average([bin_boundaries[1:], bin_boundaries[:-1]], axis=0)\n",
      "print bin_centers"
     ],
     "language": "python",
     "metadata": {},
     "outputs": [
      {
       "output_type": "stream",
       "stream": "stdout",
       "text": [
        "[ 370.  380.  390.  400.  410.  420.  430.  440.  450.  460.  470.  480.\n",
        "  490.  500.  510.  520.  530.  540.  550.  560.  570.  580.  590.  600.\n",
        "  610.  620.  630.  640.  650.  660.  670.  680.  690.  700.  710.  720.\n",
        "  730.]\n",
        "[ 375.  385.  395.  405.  415.  425.  435.  445.  455.  465.  475.  485.\n",
        "  495.  505.  515.  525.  535.  545.  555.  565.  575.  585.  595.  605.\n",
        "  615.  625.  635.  645.  655.  665.  675.  685.  695.  705.  715.  725.]\n"
       ]
      }
     ],
     "prompt_number": 12
    },
    {
     "cell_type": "code",
     "collapsed": false,
     "input": [
      "index_srgbR = np.argmin(np.abs(bin_centers-610.))\n",
      "index_srgbG = np.argmin(np.abs(bin_centers-550.))\n",
      "index_srgbB = np.argmin(np.abs(bin_centers-465.))\n",
      "print \"Bins with wavelengths near the sRGB primaries are very very roughly: %i, %i, %i\" %(index_srgbR, index_srgbG, index_srgbB)"
     ],
     "language": "python",
     "metadata": {},
     "outputs": [
      {
       "output_type": "stream",
       "stream": "stdout",
       "text": [
        "Bins with wavelengths near the sRGB primaries are very very roughly: 23, 17, 9\n"
       ]
      }
     ],
     "prompt_number": 13
    },
    {
     "cell_type": "code",
     "collapsed": false,
     "input": [
      "import scipy.interpolate"
     ],
     "language": "python",
     "metadata": {},
     "outputs": [],
     "prompt_number": 14
    },
    {
     "cell_type": "markdown",
     "metadata": {},
     "source": [
      "Resampling the XYZ curves\n",
      "-------------------------"
     ]
    },
    {
     "cell_type": "code",
     "collapsed": false,
     "input": [
      "xyz_response_curves = scipy.interpolate.interp1d(data[:,0], data[:,[1,2,3]], kind='quadratic', bounds_error=False, axis=0, fill_value=data[0,[1,2,3]])(bin_centers)"
     ],
     "language": "python",
     "metadata": {},
     "outputs": [],
     "prompt_number": 15
    },
    {
     "cell_type": "code",
     "collapsed": false,
     "input": [
      "pyplot.plot(data[:,0], data[:,1], color='r')\n",
      "pyplot.plot(data[:,0], data[:,2], color='g')\n",
      "pyplot.plot(data[:,0], data[:,3], color='b')\n",
      "pyplot.plot(bin_centers, xyz_response_curves[:,0], color='r', ls = ':')\n",
      "pyplot.plot(bin_centers, xyz_response_curves[:,1], color='g', ls = ':')\n",
      "pyplot.plot(bin_centers, xyz_response_curves[:,2], color='b', ls = ':')\n",
      "pyplot.show()"
     ],
     "language": "python",
     "metadata": {},
     "outputs": [
      {
       "metadata": {},
       "output_type": "display_data",
       "png": "[encoded data removed]",
       "text": [
        "<matplotlib.figure.Figure at 0x7f8f367b7150>"
       ]
      }
     ],
     "prompt_number": 16
    },
    {
     "cell_type": "markdown",
     "metadata": {},
     "source": [
      "Normalizing XYZ curves\n",
      "----------------------"
     ]
    },
    {
     "cell_type": "code",
     "collapsed": false,
     "input": [
      "np.sum(xyz_response_curves, axis=0)"
     ],
     "language": "python",
     "metadata": {},
     "outputs": [
      {
       "metadata": {},
       "output_type": "pyout",
       "prompt_number": 17,
       "text": [
        "array([ 10.7042048 ,  10.74742221,  10.52389846])"
       ]
      }
     ],
     "prompt_number": 17
    },
    {
     "cell_type": "markdown",
     "metadata": {},
     "source": [
      "That is odd. Even after multiplication with the bin size, the inner product with a flat spectrum would not yield ones.\n",
      "However, I need ones, if this my spectra are going to be used for relfectivity curves and things that go between 0 and 1.\n",
      "\n",
      "I deal with it later ..."
     ]
    },
    {
     "cell_type": "markdown",
     "metadata": {},
     "source": [
      "RGB response curves\n",
      "-------------------\n",
      "XYZ is not super useful as render output. It must be converted to RGB which is just a matrix multiplication.\n",
      "However there are different RGB standards out there. https://en.wikipedia.org/wiki/RGB_color_space\n",
      "\n",
      "Web search for \"rgb to xyz transform\" yields plenty of sources\n",
      "Like that one http://www.brucelindbloom.com/index.html?Eqn_RGB_XYZ_Matrix.html\n",
      "\n",
      "In order to obtain RGB response curves, the XYZ-to-RGB transform is left multiplied to the XYZ response curves which can be seen as a 3xNBINS matrix, defining the transform from spectra to XYZ."
     ]
    },
    {
     "cell_type": "code",
     "collapsed": false,
     "input": [
      "#xyz_to_srgb = np.asarray([\n",
      "# [ 3.2404542, -1.5371385, -0.4985314 ],\n",
      "# [-0.9692660,  1.8760108,  0.0415560 ],\n",
      "# [ 0.0556434, -0.2040259,  1.0572252 ]\n",
      "#])\n",
      "m = xyz_to_rgb\n",
      "rgb_response_curves_unnormalized = np.dot(m, xyz_response_curves.T)*DLAMBDA # DLAMBDA because integral.\n",
      "N = np.sum(rgb_response_curves_unnormalized, axis=1)\n",
      "#N = np.amax(N)\n",
      "N = N[:,np.newaxis] # Normalize each curve individually. I want rgb=(1,1,1) to produces a perfectly flat spectrum.\n",
      "rgb_response_curves = rgb_response_curves_unnormalized/N\n",
      "print np.sum(rgb_response_curves, axis=1)\n",
      "del rgb_response_curves_unnormalized\n",
      "print \"Normalization factor:\", N"
     ],
     "language": "python",
     "metadata": {},
     "outputs": [
      {
       "output_type": "stream",
       "stream": "stdout",
       "text": [
        "[ 1.  1.  1.]\n",
        "Normalization factor: [[ 107.42072631]\n",
        " [ 107.87058291]\n",
        " [ 104.36796656]]\n"
       ]
      }
     ],
     "prompt_number": 161
    },
    {
     "cell_type": "markdown",
     "metadata": {},
     "source": [
      "I want to approximate the convolution integral with by Riemann summs. Therefore there needs to be the step width as a factor somewhere. I put it in the response curves."
     ]
    },
    {
     "cell_type": "code",
     "collapsed": false,
     "input": [
      "pyplot.plot(bin_centers, rgb_response_curves[0], color='r')\n",
      "pyplot.plot(bin_centers, rgb_response_curves[1], color='g')\n",
      "pyplot.plot(bin_centers, rgb_response_curves[2], color='b')\n",
      "pyplot.show()"
     ],
     "language": "python",
     "metadata": {},
     "outputs": [
      {
       "metadata": {},
       "output_type": "display_data",
       "png": "[encoded data removed]",
       "text": [
        "<matplotlib.figure.Figure at 0x7f8f36447c50>"
       ]
      }
     ],
     "prompt_number": 151
    },
    {
     "cell_type": "markdown",
     "metadata": {},
     "source": [
      "Finding Smits style spectra\n",
      "---------------------------\n",
      "Smits finds spectra for each primary and secondary color by minimizing the distance of the calculated RGB triple to the target RGB triple, subject to a smoothness regularization.\n",
      "\n",
      "http://www.cs.utah.edu/~bes/papers/color/paper-node2.html\n",
      "\n",
      "This did not quite work for me, so I added a positivity constraint."
     ]
    },
    {
     "cell_type": "code",
     "collapsed": false,
     "input": [
      "import scipy.optimize"
     ],
     "language": "python",
     "metadata": {},
     "outputs": [],
     "prompt_number": 152
    },
    {
     "cell_type": "code",
     "collapsed": false,
     "input": [
      "def soft_constraint(spectrum):\n",
      "    coeff = 5.\n",
      "    f = np.square(np.maximum(0., (spectrum-0.99)))\n",
      "    return coeff*np.average(f)\n",
      "\n",
      "def objective_func(spectrum, rgb_target, regularizer_coefficient):\n",
      "    rgb = np.dot(rgb_response_curves, spectrum)\n",
      "    cost = np.average(np.square(rgb - rgb_target))\n",
      "    regularizer = np.sqrt(np.average(np.square(spectrum[1:] - spectrum[:-1])))\n",
      "    c = soft_constraint(spectrum)\n",
      "    return cost + regularizer_coefficient * regularizer + c"
     ],
     "language": "python",
     "metadata": {},
     "outputs": [
      {
       "output_type": "stream",
       "stream": "stdout",
       "text": [
        "[ 0.23180667  0.09776321  0.02637133  0.00910645  0.00403291  0.00264999\n",
        "  0.00242677  0.00262728  0.002987    0.00365058  0.00523816  0.0076754\n",
        "  0.00931087  0.00877803  0.00690137  0.00518377  0.00409926  0.00339727\n",
        "  0.00290473  0.00256382  0.00235417  0.00226926  0.00232543  0.00256984\n",
        "  0.00312702  0.00421215  0.0061845   0.00989896  0.01741694  0.03234227\n",
        "  0.06263822  0.12685795  0.25343155  0.500722    1.        ]\n"
       ]
      }
     ],
     "prompt_number": 408
    },
    {
     "cell_type": "code",
     "collapsed": false,
     "input": [
      "def constraint_func(spectrum):\n",
      "    return spectrum\n",
      "def constraint_less_than_1(spectrum):\n",
      "    return 1.-spectrum"
     ],
     "language": "python",
     "metadata": {},
     "outputs": [],
     "prompt_number": 409
    },
    {
     "cell_type": "code",
     "collapsed": false,
     "input": [
      "def find_spectrum_for_rgb(rgb):\n",
      "    result = scipy.optimize.minimize(\n",
      "        objective_func, \n",
      "        np.ones((NBINS)),\n",
      "        args=(rgb, 0.3),\n",
      "        constraints=(\n",
      "            {'type' : 'ineq', 'fun' : constraint_func},\n",
      "        ),\n",
      "        tol = 1.e-8,\n",
      "        options = {'disp' : True, 'eps' : 1.e-5})\n",
      "    return result.x\n",
      "# Note: The initial value is important! That is because the optimum solution is not unique because the sensitivity at the ends\n",
      "# of the spectrum is zero. So the spectrum can in principle fluctuate around at the ends. Now the smoothness regularizer helps\n",
      "# to suppress that. However it is really a property of the solver that the spectrum stays close to the initial value at the ends."
     ],
     "language": "python",
     "metadata": {},
     "outputs": [],
     "prompt_number": 471
    },
    {
     "cell_type": "code",
     "collapsed": false,
     "input": [
      "primaries_targets = np.asarray([\n",
      "    (1., 1., 1.),\n",
      "    (1., 0., 0.),\n",
      "    (0., 1., 0.),\n",
      "    (0., 0., 1.),\n",
      "    (1., 1., 0.),\n",
      "    (0., 1., 1.),\n",
      "    (1., 0., 1.)\n",
      "])\n",
      "primaries_spectra_unnormalized = map(find_spectrum_for_rgb, primaries_targets)\n",
      "primaries_spectra_unnormalized = np.asarray(primaries_spectra_unnormalized)\n",
      "primaries_spectra = primaries_spectra_unnormalized"
     ],
     "language": "python",
     "metadata": {},
     "outputs": [
      {
       "output_type": "stream",
       "stream": "stdout",
       "text": [
        "Optimization terminated successfully.    (Exit mode 0)\n",
        "            Current function value: 8.88377286614e-05\n",
        "            Iterations: 50\n",
        "            Function evaluations: 1950\n",
        "            Gradient evaluations: 50\n",
        "Optimization terminated successfully.    (Exit mode 0)"
       ]
      },
      {
       "output_type": "stream",
       "stream": "stdout",
       "text": [
        "\n",
        "            Current function value: 0.00119500030639\n",
        "            Iterations: 94\n",
        "            Function evaluations: 3573\n",
        "            Gradient evaluations: 94\n",
        "Iteration limit exceeded    (Exit mode 9)"
       ]
      },
      {
       "output_type": "stream",
       "stream": "stdout",
       "text": [
        "\n",
        "            Current function value: 0.00202272601917\n",
        "            Iterations: 101\n",
        "            Function evaluations: 3839\n",
        "            Gradient evaluations: 101\n",
        "Optimization terminated successfully.    (Exit mode 0)"
       ]
      },
      {
       "output_type": "stream",
       "stream": "stdout",
       "text": [
        "\n",
        "            Current function value: 0.00120587355772\n",
        "            Iterations: 88\n",
        "            Function evaluations: 3349\n",
        "            Gradient evaluations: 88\n",
        "Iteration limit exceeded    (Exit mode 9)"
       ]
      },
      {
       "output_type": "stream",
       "stream": "stdout",
       "text": [
        "\n",
        "            Current function value: 0.00121129110373\n",
        "            Iterations: 101\n",
        "            Function evaluations: 3841\n",
        "            Gradient evaluations: 101\n",
        "Iteration limit exceeded    (Exit mode 9)"
       ]
      },
      {
       "output_type": "stream",
       "stream": "stdout",
       "text": [
        "\n",
        "            Current function value: 0.00124030252765\n",
        "            Iterations: 101\n",
        "            Function evaluations: 3841\n",
        "            Gradient evaluations: 101\n",
        "Iteration limit exceeded    (Exit mode 9)"
       ]
      },
      {
       "output_type": "stream",
       "stream": "stdout",
       "text": [
        "\n",
        "            Current function value: 0.00181463579855\n",
        "            Iterations: 101\n",
        "            Function evaluations: 3845\n",
        "            Gradient evaluations: 101\n"
       ]
      }
     ],
     "prompt_number": 472
    },
    {
     "cell_type": "markdown",
     "metadata": {},
     "source": [
      "Plots\n",
      "-----"
     ]
    },
    {
     "cell_type": "code",
     "collapsed": false,
     "input": [
      "primaries_names = 'white red green blue yellow cyan magenta'.split()\n",
      "primaries_name_to_index = dict([(n, i) for i,n in enumerate(primaries_names)])\n",
      "primaries_plot_colors = 'krgbycm'"
     ],
     "language": "python",
     "metadata": {},
     "outputs": [],
     "prompt_number": 473
    },
    {
     "cell_type": "code",
     "collapsed": false,
     "input": [
      "def plot(name):\n",
      "    idx = primaries_name_to_index[name]\n",
      "    spectrum = primaries_spectra[idx]\n",
      "    print 'RGB for %s = %0.2f, %0.2f %0.2f' % ((name,)+tuple(np.dot(rgb_response_curves, spectrum)))\n",
      "    print 'Spectral maximum:', np.amax(spectrum)\n",
      "    pyplot.plot(bin_centers, spectrum, color=primaries_plot_colors[idx])\n",
      "    pyplot.gca().set(ylim = (-0.1, 1.2))"
     ],
     "language": "python",
     "metadata": {},
     "outputs": [],
     "prompt_number": 474
    },
    {
     "cell_type": "code",
     "collapsed": false,
     "input": [
      "plot('white')\n",
      "pyplot.show()\n",
      "plot('red')\n",
      "plot('green')\n",
      "plot('blue')\n",
      "pyplot.show()\n",
      "plot('yellow')\n",
      "plot('cyan')\n",
      "plot('magenta')\n",
      "pyplot.show()"
     ],
     "language": "python",
     "metadata": {},
     "outputs": [
      {
       "output_type": "stream",
       "stream": "stdout",
       "text": [
        "RGB for white = 0.99, 0.99 0.99\n",
        "Spectral maximum: 0.993279056269\n"
       ]
      },
      {
       "metadata": {},
       "output_type": "display_data",
       "png": "[encoded data removed]",
       "text": [
        "<matplotlib.figure.Figure at 0x7f8f34325410>"
       ]
      },
      {
       "output_type": "stream",
       "stream": "stdout",
       "text": [
        "RGB for red = 0.99, 0.01 0.00\n",
        "Spectral maximum: 0.992251411631\n",
        "RGB for green = 0.00, 0.99 0.01\n",
        "Spectral maximum: 0.990221337076\n",
        "RGB for blue = 0.00, 0.00 1.00\n",
        "Spectral maximum: 0.991952056499\n"
       ]
      },
      {
       "metadata": {},
       "output_type": "display_data",
       "png": "[encoded data removed]",
       "text": [
        "<matplotlib.figure.Figure at 0x7f8f344cae50>"
       ]
      },
      {
       "output_type": "stream",
       "stream": "stdout",
       "text": [
        "RGB for yellow = 1.00, 1.00 0.00\n",
        "Spectral maximum: 0.991909346461\n",
        "RGB for cyan = 0.01, 0.99 1.00\n",
        "Spectral maximum: 0.995026676127\n",
        "RGB for magenta = 1.00, 0.00 0.99\n",
        "Spectral maximum: 0.993188828049\n"
       ]
      },
      {
       "metadata": {},
       "output_type": "display_data",
       "png": "[encoded data removed]",
       "text": [
        "<matplotlib.figure.Figure at 0x7f8f36420a90>"
       ]
      }
     ],
     "prompt_number": 475
    },
    {
     "cell_type": "code",
     "collapsed": false,
     "input": [
      "def RGBToSpectrum(rgb):\n",
      "  class Bunch(object):\n",
      "    def __init__(self, d):\n",
      "        self.__dict__.update(d)\n",
      "  S = Bunch(map(lambda q: (q[1].upper(), q[0]), list(enumerate(primaries_names))))\n",
      "  red, green, blue = rgb\n",
      "  ret = np.zeros(NBINS)\n",
      "  for bin in range(NBINS):\n",
      "      if (red <= green and red <= blue):\n",
      "        ret[bin] += red * primaries_spectra[S.WHITE][bin]\n",
      "        if (green <= blue): # cyan = green+blue\n",
      "          ret[bin] += (green - red) * primaries_spectra[S.CYAN][bin]\n",
      "          ret[bin] += (blue - green) * primaries_spectra[S.BLUE][bin]\n",
      "        else:\n",
      "          ret[bin] += (blue - red) * primaries_spectra[S.CYAN][bin]\n",
      "          ret[bin] += (green - blue) * primaries_spectra[S.GREEN][bin]\n",
      "      elif(green <= red and green <= blue):\n",
      "        ret[bin] += green * primaries_spectra[S.WHITE][bin]\n",
      "        if (red <= blue): #red+blue = magenta\n",
      "          ret[bin] += (red  - green) * primaries_spectra[S.MAGENTA][bin]\n",
      "          ret[bin] += (blue -   red) * primaries_spectra[S.BLUE][bin]\n",
      "        else:\n",
      "          ret[bin] += (blue - green) * primaries_spectra[S.MAGENTA][bin]\n",
      "          ret[bin] += (red - blue) * primaries_spectra[S.RED][bin]\n",
      "      else: #blue < all others\n",
      "        ret[bin] += blue * primaries_spectra[S.WHITE][bin]\n",
      "        if (red <= green): # red+green = YELLOW\n",
      "          ret[bin] += (red - blue) * primaries_spectra[S.YELLOW][bin]\n",
      "          ret[bin] += (green - red) * primaries_spectra[S.GREEN][bin]\n",
      "        else:\n",
      "          ret[bin] += (green - blue) * primaries_spectra[S.YELLOW][bin]\n",
      "          ret[bin] += (red - green) * primaries_spectra[S.RED][bin]\n",
      "  return ret"
     ],
     "language": "python",
     "metadata": {},
     "outputs": [],
     "prompt_number": 476
    },
    {
     "cell_type": "code",
     "collapsed": false,
     "input": [
      "# Is it a linear mapping?\n",
      "sp = RGBToSpectrum(np.array([1.,  0,  0.75997736]))\n",
      "sp2 = RGBToSpectrum(np.array([1.,  0,  0])) + RGBToSpectrum(np.array([0,  0,  0.75997736]))\n",
      "pyplot.plot(bin_centers, sp, bin_centers, sp2)\n",
      "pyplot.show()\n",
      "# No it is not. But Nearly so?"
     ],
     "language": "python",
     "metadata": {},
     "outputs": [
      {
       "metadata": {},
       "output_type": "display_data",
       "png": "[encoded data removed]",
       "text": [
        "<matplotlib.figure.Figure at 0x7f8f3654c450>"
       ]
      }
     ],
     "prompt_number": 478
    },
    {
     "cell_type": "code",
     "collapsed": false,
     "input": [
      "def reconstructionErrorInRGB(rgb):\n",
      "    return np.abs(np.dot(rgb_response_curves, RGBToSpectrum(rgb))-rgb)\n",
      "errors = []\n",
      "for rgb in primaries_targets:\n",
      "    e = reconstructionErrorInRGB(rgb)\n",
      "    errors.append(e)\n",
      "    #{ 1._rgb, 0.5_rgb, 0.3_rgb },\n",
      "    #{ 0.5_rgb, 0.8_rgb, 0.9_rgb },\n",
      "for rgb in [(1.,0.5,0.3),(0.5,0.8,0.9)]:\n",
      "    errors.append(reconstructionErrorInRGB(rgb))\n",
      "print np.asarray(errors)\n",
      "print 'max error:', np.amax(errors)"
     ],
     "language": "python",
     "metadata": {},
     "outputs": [
      {
       "output_type": "stream",
       "stream": "stdout",
       "text": [
        "[[  7.73257044e-03   8.04442327e-03   8.04324703e-03]\n",
        " [  5.52634281e-03   1.11203189e-02   1.58179654e-03]\n",
        " [  1.53529517e-03   6.04481065e-03   5.10117135e-03]\n",
        " [  9.22473606e-05   3.69613085e-03   3.90727998e-03]\n",
        " [  1.97834697e-03   4.88190085e-03   3.65536728e-03]\n",
        " [  5.96292649e-03   1.27881621e-02   1.26823010e-03]\n",
        " [  2.81847150e-03   3.81150512e-03   5.98691836e-03]\n",
        " [  5.47861193e-03   2.17045232e-03   8.91002385e-04]\n",
        " [  2.06818253e-03   7.48904719e-03   4.79282054e-03]]\n",
        "max error: 0.0127881621498\n"
       ]
      }
     ],
     "prompt_number": 479
    },
    {
     "cell_type": "code",
     "collapsed": false,
     "input": [
      "# What does a flat spectrum look like?\n",
      "np.dot(rgb_response_curves, np.ones(NBINS))\n",
      "# It is reddish in SRGB? Yes it is. Compare the flat spectrum with the 'white' spectrum.\n",
      "# In order to make the 'white' spectrum flatter, we have to increase red, i.e.\n",
      "# the values for large wavelengths.\n",
      "# On the other hand, in CIE RGB, a flat spectrum is white (1,1,1)"
     ],
     "language": "python",
     "metadata": {},
     "outputs": [
      {
       "metadata": {},
       "output_type": "pyout",
       "prompt_number": 480,
       "text": [
        "array([ 1.,  1.,  1.])"
       ]
      }
     ],
     "prompt_number": 480
    },
    {
     "cell_type": "markdown",
     "metadata": {},
     "source": [
      "Code Gen\n",
      "--------"
     ]
    },
    {
     "cell_type": "code",
     "collapsed": false,
     "input": [
      "print 'static const double spectra[7][NBINS] = {'\n",
      "for sp in primaries_spectra:\n",
      "    print '{',', '.join(['%0.5f' % s for s in sp]), '},'\n",
      "print '};'"
     ],
     "language": "python",
     "metadata": {},
     "outputs": [
      {
       "output_type": "stream",
       "stream": "stdout",
       "text": [
        "static const double spectra[7][NBINS] = {\n",
        "{ 0.99015, 0.99015, 0.99019, 0.99035, 0.99079, 0.99177, 0.99265, 0.99292, 0.99256, 0.99194, 0.99145, 0.99115, 0.99117, 0.99114, 0.99111, 0.99139, 0.99166, 0.99179, 0.99221, 0.99262, 0.99291, 0.99314, 0.99328, 0.99305, 0.99228, 0.99148, 0.99061, 0.98966, 0.98882, 0.98824, 0.98784, 0.98756, 0.98745, 0.98742, 0.98741, 0.98742 },\n",
        "{ 0.07894, 0.07896, 0.07901, 0.07899, 0.07834, 0.07335, 0.05738, 0.03310, 0.01144, 0.00000, 0.00000, 0.00000, 0.00000, -0.00000, 0.00000, -0.00000, -0.00000, -0.00000, -0.00000, 0.08029, 0.28157, 0.55071, 0.80631, 0.96563, 0.99212, 0.99225, 0.99172, 0.99119, 0.99070, 0.99042, 0.99019, 0.99010, 0.99005, 0.98999, 0.98996, 0.98996 },\n",
        "{ -0.00000, -0.00000, 0.00000, -0.00000, -0.00000, 0.00000, -0.00000, 0.00000, -0.00000, 0.12933, 0.37098, 0.54123, 0.75558, 0.85512, 0.95864, 0.98004, 0.99022, 0.98551, 0.98150, 0.86049, 0.62797, 0.33627, 0.15643, 0.00262, 0.00000, 0.02230, 0.14723, 0.19397, 0.19709, 0.21106, 0.21874, 0.21938, 0.22409, 0.22507, 0.22482, 0.22530 },\n",
        "{ 0.99010, 0.99013, 0.99016, 0.99045, 0.99104, 0.99170, 0.99195, 0.98999, 0.89888, 0.75161, 0.58216, 0.44397, 0.34394, 0.26371, 0.18685, 0.10719, 0.03746, -0.00000, -0.00000, -0.00000, -0.00000, -0.00000, -0.00000, 0.00178, 0.01318, 0.02161, 0.02507, 0.02646, 0.02725, 0.02718, 0.02684, 0.02656, 0.02646, 0.02641, 0.02640, 0.02640 },\n",
        "{ -0.00000, -0.00000, 0.00000, -0.00000, 0.00000, -0.00000, -0.00000, 0.00919, 0.10549, 0.25615, 0.42425, 0.56295, 0.66293, 0.74427, 0.82242, 0.90032, 0.96668, 0.99118, 0.99191, 0.99181, 0.99167, 0.99141, 0.99112, 0.99094, 0.99061, 0.99047, 0.99032, 0.98889, 0.98658, 0.98439, 0.98275, 0.98200, 0.98167, 0.98153, 0.98148, 0.98147 },\n",
        "{ 0.97029, 0.96996, 0.96873, 0.96766, 0.96084, 0.94531, 0.93921, 0.95239, 0.97858, 0.99026, 0.99064, 0.99205, 0.99225, 0.99265, 0.99473, 0.99503, 0.99462, 0.99490, 0.99268, 0.93095, 0.73666, 0.46266, 0.19337, 0.02553, -0.00000, -0.00000, 0.00000, -0.00000, -0.00000, 0.00000, -0.00000, -0.00000, -0.00000, -0.00000, -0.00000, 0.00001 },\n",
        "{ 0.98932, 0.98941, 0.98958, 0.99042, 0.99114, 0.99222, 0.99319, 0.99287, 0.99055, 0.85987, 0.65043, 0.45366, 0.31224, 0.20031, 0.10024, 0.02593, 0.00000, -0.00000, 0.02384, 0.14459, 0.33845, 0.57514, 0.79025, 0.93277, 0.99107, 0.99095, 0.99048, 0.99079, 0.99114, 0.99080, 0.98887, 0.98746, 0.98673, 0.98646, 0.98636, 0.98635 },\n",
        "};\n"
       ]
      }
     ],
     "prompt_number": 481
    },
    {
     "cell_type": "code",
     "collapsed": false,
     "input": [
      "print 'static const double mat_spectrum_to_rgb[3][NBINS] = {'\n",
      "for curve in rgb_response_curves:\n",
      "    print '{',', '.join(['%0.5f' % s for s in curve]), '},'\n",
      "print '};'"
     ],
     "language": "python",
     "metadata": {},
     "outputs": [
      {
       "output_type": "stream",
       "stream": "stdout",
       "text": [
        "static const double mat_spectrum_to_rgb[3][NBINS] = {\n",
        "{ 0.00015, 0.00029, 0.00112, 0.00337, 0.00825, 0.01392, 0.01456, 0.01075, 0.00378, -0.00469, -0.01567, -0.02578, -0.03540, -0.04812, -0.05878, -0.05685, -0.04093, -0.01575, 0.01789, 0.05861, 0.10271, 0.14358, 0.17307, 0.18256, 0.17029, 0.13885, 0.10156, 0.06811, 0.04148, 0.02288, 0.01223, 0.00622, 0.00303, 0.00154, 0.00078, 0.00039 },\n",
        "{ -0.00020, -0.00040, -0.00157, -0.00476, -0.01190, -0.02074, -0.02312, -0.01975, -0.01248, -0.00361, 0.01136, 0.02931, 0.05020, 0.07984, 0.11629, 0.14399, 0.15490, 0.15321, 0.14080, 0.11889, 0.08917, 0.05553, 0.02385, 0.00035, -0.01261, -0.01619, -0.01444, -0.01079, -0.00694, -0.00393, -0.00214, -0.00110, -0.00054, -0.00027, -0.00014, -0.00007 },\n",
        "{ 0.00143, 0.00282, 0.01107, 0.03375, 0.08511, 0.15284, 0.18344, 0.18173, 0.15864, 0.14171, 0.10619, 0.06303, 0.03199, 0.01217, -0.00444, -0.01509, -0.02053, -0.02300, -0.02305, -0.02129, -0.01815, -0.01418, -0.01012, -0.00666, -0.00414, -0.00242, -0.00135, -0.00072, -0.00038, -0.00019, -0.00010, -0.00005, -0.00002, -0.00001, -0.00001, -0.00000 },\n",
        "};\n"
       ]
      }
     ],
     "prompt_number": 482
    },
    {
     "cell_type": "code",
     "collapsed": false,
     "input": [
      "print 'static constexpr Scalar wavelengths[NBINS] = {\\n  ' + ', '.join(['%0.5f' % s for s in bin_centers])+'\\n};'"
     ],
     "language": "python",
     "metadata": {},
     "outputs": [
      {
       "output_type": "stream",
       "stream": "stdout",
       "text": [
        "static constexpr Scalar wavelengths[NBINS] = {\n",
        "  375.00000, 385.00000, 395.00000, 405.00000, 415.00000, 425.00000, 435.00000, 445.00000, 455.00000, 465.00000, 475.00000, 485.00000, 495.00000, 505.00000, 515.00000, 525.00000, 535.00000, 545.00000, 555.00000, 565.00000, 575.00000, 585.00000, 595.00000, 605.00000, 615.00000, 625.00000, 635.00000, 645.00000, 655.00000, 665.00000, 675.00000, 685.00000, 695.00000, 705.00000, 715.00000, 725.00000\n",
        "};\n"
       ]
      }
     ],
     "prompt_number": 483
    },
    {
     "cell_type": "code",
     "collapsed": false,
     "input": [
      "print 'enum Colors {\\n  '+', '.join(['{1} = {0}'.format(q[0], q[1].upper()) for q in enumerate(primaries_names)]) + '\\n};'"
     ],
     "language": "python",
     "metadata": {},
     "outputs": [
      {
       "output_type": "stream",
       "stream": "stdout",
       "text": [
        "enum Colors {\n",
        "  WHITE = 0, RED = 1, GREEN = 2, BLUE = 3, YELLOW = 4, CYAN = 5, MAGENTA = 6\n",
        "};\n"
       ]
      }
     ],
     "prompt_number": 484
    },
    {
     "cell_type": "code",
     "collapsed": false,
     "input": [
      "def MatrixToCpp(name, m):\n",
      "    rows = []\n",
      "    def fmt(q):\n",
      "        return str(q)+'_rgb'\n",
      "    for r in m:\n",
      "        rows.append(', '.join(map(fmt, r)))\n",
      "    \n",
      "    s = 'static constexpr double {0}[] = {{\\n   {1}\\n}};'.format(\n",
      "        name,\n",
      "        ',\\n   '.join(rows)\n",
      "    )\n",
      "    return s"
     ],
     "language": "python",
     "metadata": {},
     "outputs": [],
     "prompt_number": 485
    },
    {
     "cell_type": "code",
     "collapsed": false,
     "input": [
      "srgb_to_rgb = np.dot(xyz_to_rgb, np.linalg.inv(xyz_to_srgb))\n",
      "rgb_to_srgb = np.linalg.inv(srgb_to_rgb)\n",
      "print MatrixToCpp('xyz_to_rgb', xyz_to_rgb)\n",
      "print MatrixToCpp('xyz_to_srgb', xyz_to_srgb)\n",
      "print MatrixToCpp('rgb_to_xyz', np.linalg.inv(xyz_to_rgb))\n",
      "print MatrixToCpp('srgb_to_xyz', np.linalg.inv(xyz_to_srgb))\n",
      "print MatrixToCpp('srgb_to_rgb', srgb_to_rgb)\n",
      "print MatrixToCpp('rgb_to_srgb', rgb_to_srgb)"
     ],
     "language": "python",
     "metadata": {},
     "outputs": [
      {
       "output_type": "stream",
       "stream": "stdout",
       "text": [
        "static constexpr double xyz_to_rgb[] = {\n",
        "   2.48684894759_rgb, -1.08640734626_rgb, -0.399242674371_rgb,\n",
        "   -1.15062409001_rgb, 2.11105691595_rgb, 0.0394487094639_rgb,\n",
        "   0.0938897560976_rgb, -0.295963902439_rgb, 1.19847512195_rgb\n",
        "};\n",
        "static constexpr double xyz_to_srgb[] = {\n",
        "   3.2404542_rgb, -1.5371385_rgb, -0.4985314_rgb,\n",
        "   -0.969266_rgb, 1.8760108_rgb, 0.041556_rgb,\n",
        "   0.0556434_rgb, -0.2040259_rgb, 1.0572252_rgb\n",
        "};\n",
        "static constexpr double rgb_to_xyz[] = {\n",
        "   0.533764398201_rgb, 0.298241903876_rgb, 0.167993697923_rgb,\n",
        "   0.290367832621_rgb, 0.633764045736_rgb, 0.0758681216428_rgb,\n",
        "   0.0298908062993_rgb, 0.133143707087_rgb, 0.839968489616_rgb\n",
        "};\n",
        "static constexpr double srgb_to_xyz[] = {\n",
        "   0.412456432268_rgb, 0.35757607628_rgb, 0.180437480294_rgb,\n",
        "   0.212672846318_rgb, 0.715152167155_rgb, 0.0721749995732_rgb,\n",
        "   0.0193339041033_rgb, 0.119192028243_rgb, 0.950304073677_rgb\n",
        "};\n",
        "static constexpr double srgb_to_rgb[] = {\n",
        "   0.78694858234_rgb, 0.0647045767649_rgb, -0.00909263161801_rgb,\n",
        "   -0.0248551264252_rgb, 1.10299325274_rgb, -0.0177619102543_rgb,\n",
        "   -0.00104684863467_rgb, -0.0352378150562_rgb, 1.13449582707_rgb\n",
        "};\n",
        "static constexpr double rgb_to_srgb[] = {\n",
        "   1.26840200577_rgb, -0.0741202032818_rgb, 0.00900540622489_rgb,\n",
        "   0.0286156491301_rgb, 0.905405377142_rgb, 0.0144045665207_rgb,\n",
        "   0.00205922120113_rgb, 0.0280537960894_rgb, 0.88190453316_rgb\n",
        "};\n"
       ]
      }
     ],
     "prompt_number": 486
    }
   ],
   "metadata": {}
  }
 ]
}