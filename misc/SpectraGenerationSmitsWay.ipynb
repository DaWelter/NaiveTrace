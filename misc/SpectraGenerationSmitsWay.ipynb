{
 "metadata": {
  "name": "",
  "signature": "sha256:2490e873363a76cec441a52c007fe1ee795fcd6580244f13842efaff2d0ba15c"
 },
 "nbformat": 3,
 "nbformat_minor": 0,
 "worksheets": [
  {
   "cells": [
    {
     "cell_type": "markdown",
     "metadata": {},
     "source": [
      "# RGB to Spectrum Conversion for Reflectances\n",
      "\n",
      "This notebook contains code to generate spectra for RGB to spectral conversion by the method of Smits (1999). \n",
      "\n",
      "This notebook differs from the original way in possibly many aspects. Among which:\n",
      "* Python code written from scratch instead of Matlab code. (Yeah! Cpt. Obvious!)\n",
      "* Different optimization problem, adding a positivity constraint.\n",
      "* More bins!\n",
      "* sRGB color space instead of CIE (1931) RGB.\n",
      "* Messy normalization of the spectra and the RGB response curves.\n",
      "\n",
      "That is, at the time of this writing. I might change things and forget to update this comment.\n",
      "\n",
      "## Ref\n",
      "\n",
      "Smits, B. (1999). An RGB-to-Spectrum Conversion for Reflectances. Journal of Graphics Tools, 4(4), 11\u201322.\n",
      "doi:10.1080/10867651.1999.10487511"
     ]
    },
    {
     "cell_type": "code",
     "collapsed": false,
     "input": [
      "import csv\n",
      "import matplotlib.pyplot as pyplot\n",
      "import numpy as np"
     ],
     "language": "python",
     "metadata": {},
     "outputs": [],
     "prompt_number": 1
    },
    {
     "cell_type": "markdown",
     "metadata": {},
     "source": [
      "Getting XYZ response curves\n",
      "---------------------------\n",
      "X,Y and Z values are defined as the result of the convolution of the spectrum with the response curves.\n",
      "\n",
      "Data for those curves is found on the web."
     ]
    },
    {
     "cell_type": "code",
     "collapsed": false,
     "input": [
      "data = []\n",
      "# Data from http://cvrl.ioo.ucl.ac.uk/cmfs.htm\n",
      "# CIE 1931 2-deg, XYZ CMFs modified by Judd (1951) and Vos (1978)\n",
      "with open('ciexyzjv.csv', 'rb') as csvfile:\n",
      "    reader = csv.reader(csvfile, delimiter=',')\n",
      "    for row in reader:\n",
      "        data.append(map(float, row))\n",
      "data = np.asarray(data)"
     ],
     "language": "python",
     "metadata": {},
     "outputs": [],
     "prompt_number": 2
    },
    {
     "cell_type": "markdown",
     "metadata": {},
     "source": [
      "Wavelength delta?"
     ]
    },
    {
     "cell_type": "code",
     "collapsed": false,
     "input": [
      "delta = (data[1:,0]-data[:-1,0])\n",
      "print 'Min Max: ', delta.min(), delta.max()"
     ],
     "language": "python",
     "metadata": {},
     "outputs": [
      {
       "output_type": "stream",
       "stream": "stdout",
       "text": [
        "Min Max:  5.0 5.0\n"
       ]
      }
     ],
     "prompt_number": 3
    },
    {
     "cell_type": "code",
     "collapsed": false,
     "input": [
      "%matplotlib inline\n",
      "pyplot.ioff()"
     ],
     "language": "python",
     "metadata": {},
     "outputs": [],
     "prompt_number": 4
    },
    {
     "cell_type": "markdown",
     "metadata": {},
     "source": [
      "Plot the functions. Sure looks like proper XYZ color matching functions!"
     ]
    },
    {
     "cell_type": "code",
     "collapsed": false,
     "input": [
      "pyplot.plot(data[:,0], data[:,1], color='r')\n",
      "pyplot.plot(data[:,0], data[:,2], color='g')\n",
      "pyplot.plot(data[:,0], data[:,3], color='b')\n",
      "pyplot.show()"
     ],
     "language": "python",
     "metadata": {},
     "outputs": [
      {
       "metadata": {},
       "output_type": "display_data",
       "png": "[encoded data removed]",
       "text": [
        "<matplotlib.figure.Figure at 0x7fd08c5d6c10>"
       ]
      }
     ],
     "prompt_number": 5
    },
    {
     "cell_type": "markdown",
     "metadata": {},
     "source": [
      "Spectral discretization\n",
      "-----------------------\n",
      "I use different discretization points, so the curves need to be resampled. First define my discretization points, or bins."
     ]
    },
    {
     "cell_type": "markdown",
     "metadata": {},
     "source": [
      "Find nicely spaced bins for my discrete spectra. More than 10 used by Smits. Ideally a multiple of 3 because I trace 3 wavelengths per ray, and so I could make it that all bins are selected equal number of times by a simple stratification approach."
     ]
    },
    {
     "cell_type": "code",
     "collapsed": false,
     "input": [
      "NBINS = 36\n",
      "DLAMBDA = 10. # width of the bins\n",
      "bin_boundaries = 370. + np.arange(NBINS+1)*DLAMBDA\n",
      "print bin_boundaries\n",
      "bin_centers = np.average([bin_boundaries[1:], bin_boundaries[:-1]], axis=0)\n",
      "print bin_centers"
     ],
     "language": "python",
     "metadata": {},
     "outputs": [
      {
       "output_type": "stream",
       "stream": "stdout",
       "text": [
        "[ 370.  380.  390.  400.  410.  420.  430.  440.  450.  460.  470.  480.\n",
        "  490.  500.  510.  520.  530.  540.  550.  560.  570.  580.  590.  600.\n",
        "  610.  620.  630.  640.  650.  660.  670.  680.  690.  700.  710.  720.\n",
        "  730.]\n",
        "[ 375.  385.  395.  405.  415.  425.  435.  445.  455.  465.  475.  485.\n",
        "  495.  505.  515.  525.  535.  545.  555.  565.  575.  585.  595.  605.\n",
        "  615.  625.  635.  645.  655.  665.  675.  685.  695.  705.  715.  725.]\n"
       ]
      }
     ],
     "prompt_number": 6
    },
    {
     "cell_type": "code",
     "collapsed": false,
     "input": [
      "index_srgbR = np.argmin(np.abs(bin_centers-610.))\n",
      "index_srgbG = np.argmin(np.abs(bin_centers-550.))\n",
      "index_srgbB = np.argmin(np.abs(bin_centers-465.))\n",
      "print \"Bins with wavelengths near the sRGB primaries are very very roughly: %i, %i, %i\" %(index_srgbR, index_srgbG, index_srgbB)"
     ],
     "language": "python",
     "metadata": {},
     "outputs": [
      {
       "output_type": "stream",
       "stream": "stdout",
       "text": [
        "Bins with wavelengths near the sRGB primaries are very very roughly: 23, 17, 9\n"
       ]
      }
     ],
     "prompt_number": 7
    },
    {
     "cell_type": "code",
     "collapsed": false,
     "input": [
      "import scipy.interpolate"
     ],
     "language": "python",
     "metadata": {},
     "outputs": [],
     "prompt_number": 8
    },
    {
     "cell_type": "markdown",
     "metadata": {},
     "source": [
      "Resampling the XYZ curves\n",
      "-------------------------"
     ]
    },
    {
     "cell_type": "code",
     "collapsed": false,
     "input": [
      "xyz_response_curves = scipy.interpolate.interp1d(data[:,0], data[:,[1,2,3]], kind='quadratic', bounds_error=False, axis=0, fill_value=data[0,[1,2,3]])(bin_centers)"
     ],
     "language": "python",
     "metadata": {},
     "outputs": [],
     "prompt_number": 9
    },
    {
     "cell_type": "code",
     "collapsed": false,
     "input": [
      "pyplot.plot(data[:,0], data[:,1], color='r')\n",
      "pyplot.plot(data[:,0], data[:,2], color='g')\n",
      "pyplot.plot(data[:,0], data[:,3], color='b')\n",
      "pyplot.plot(bin_centers, xyz_response_curves[:,0], color='r', ls = ':')\n",
      "pyplot.plot(bin_centers, xyz_response_curves[:,1], color='g', ls = ':')\n",
      "pyplot.plot(bin_centers, xyz_response_curves[:,2], color='b', ls = ':')\n",
      "pyplot.show()"
     ],
     "language": "python",
     "metadata": {},
     "outputs": [
      {
       "metadata": {},
       "output_type": "display_data",
       "png": "[encoded data removed]",
       "text": [
        "<matplotlib.figure.Figure at 0x7fd087c910d0>"
       ]
      }
     ],
     "prompt_number": 10
    },
    {
     "cell_type": "markdown",
     "metadata": {},
     "source": [
      "Normalizing XYZ curves\n",
      "----------------------"
     ]
    },
    {
     "cell_type": "code",
     "collapsed": false,
     "input": [
      "np.sum(xyz_response_curves, axis=0)"
     ],
     "language": "python",
     "metadata": {},
     "outputs": [
      {
       "metadata": {},
       "output_type": "pyout",
       "prompt_number": 11,
       "text": [
        "array([ 10.7042048 ,  10.74742221,  10.52389846])"
       ]
      }
     ],
     "prompt_number": 11
    },
    {
     "cell_type": "markdown",
     "metadata": {},
     "source": [
      "That is odd. Even after multiplication with the bin size, the inner product with a flat spectrum would not yield ones.\n",
      "However, I need ones, if this my spectra are going to be used for relfectivity curves and things that go between 0 and 1.\n",
      "\n",
      "I deal with it later ..."
     ]
    },
    {
     "cell_type": "markdown",
     "metadata": {},
     "source": [
      "RGB response curves\n",
      "-------------------\n",
      "XYZ is not super useful as render output. It must be converted to RGB which is just a matrix multiplication.\n",
      "However there are different RGB standards out there. https://en.wikipedia.org/wiki/RGB_color_space\n",
      "\n",
      "Web search for \"rgb to xyz transform\" yields plenty of sources\n",
      "Like that one http://www.brucelindbloom.com/index.html?Eqn_RGB_XYZ_Matrix.html\n",
      "\n",
      "In order to obtain RGB response curves, the XYZ-to-RGB transform is left multiplied to the XYZ response curves which can be seen as a 3xNBINS matrix, defining the transform from spectra to XYZ."
     ]
    },
    {
     "cell_type": "code",
     "collapsed": false,
     "input": [
      "xyz_to_srgb = np.asarray([\n",
      " [ 3.2404542, -1.5371385, -0.4985314 ],\n",
      " [-0.9692660,  1.8760108,  0.0415560 ],\n",
      " [ 0.0556434, -0.2040259,  1.0572252 ]\n",
      "])\n",
      "rgb_response_curves_unnormalized = np.dot(xyz_to_srgb, xyz_response_curves.T)"
     ],
     "language": "python",
     "metadata": {},
     "outputs": [],
     "prompt_number": 12
    },
    {
     "cell_type": "markdown",
     "metadata": {},
     "source": [
      "I want to approximate the convolution integral with by Riemann summs. Therefore there needs to be the step width as a factor somewhere. I put it in the response curves."
     ]
    },
    {
     "cell_type": "code",
     "collapsed": false,
     "input": [
      "pyplot.plot(bin_centers, rgb_response_curves_unnormalized[0], color='r')\n",
      "pyplot.plot(bin_centers, rgb_response_curves_unnormalized[1], color='g')\n",
      "pyplot.plot(bin_centers, rgb_response_curves_unnormalized[2], color='b')\n",
      "pyplot.show()"
     ],
     "language": "python",
     "metadata": {},
     "outputs": [
      {
       "metadata": {},
       "output_type": "display_data",
       "png": "[encoded data removed]",
       "text": [
        "<matplotlib.figure.Figure at 0x7fd087c90b50>"
       ]
      }
     ],
     "prompt_number": 13
    },
    {
     "cell_type": "markdown",
     "metadata": {},
     "source": [
      "Finding Smits style spectra\n",
      "---------------------------\n",
      "Smits finds spectra for each primary and secondary color by minimizing the distance of the calculated RGB triple to the target RGB triple, subject to a smoothness regularization.\n",
      "\n",
      "http://www.cs.utah.edu/~bes/papers/color/paper-node2.html\n",
      "\n",
      "This did not quite work for me, so I added a positivity constraint."
     ]
    },
    {
     "cell_type": "code",
     "collapsed": false,
     "input": [
      "import scipy.optimize"
     ],
     "language": "python",
     "metadata": {},
     "outputs": [],
     "prompt_number": 14
    },
    {
     "cell_type": "code",
     "collapsed": false,
     "input": [
      "def objective_func(spectrum, rgb_target, regularizer_coefficient):\n",
      "    rgb = np.dot(rgb_response_curves_unnormalized, spectrum)\n",
      "    cost = np.average(np.square(rgb - rgb_target))\n",
      "    regularizer = np.average(np.square(spectrum[1:] - spectrum[:-1]))\n",
      "    return cost + regularizer_coefficient * regularizer"
     ],
     "language": "python",
     "metadata": {},
     "outputs": [],
     "prompt_number": 15
    },
    {
     "cell_type": "code",
     "collapsed": false,
     "input": [
      "def constraint_func(spectrum):\n",
      "    return spectrum"
     ],
     "language": "python",
     "metadata": {},
     "outputs": [],
     "prompt_number": 16
    },
    {
     "cell_type": "code",
     "collapsed": false,
     "input": [
      "def find_spectrum_for_rgb(rgb):\n",
      "    #result = scipy.optimize.minimize(objective_func, np.random.normal(1., 1., size=NBINS), args=(rgb, 1.), options = {'disp' : True, 'eps' : 1.e-4})\n",
      "    result = scipy.optimize.minimize(\n",
      "        objective_func, \n",
      "        np.random.normal(1., 0.1, size=NBINS), \n",
      "        args=(rgb, 3.),\n",
      "        constraints=({'type' : 'ineq', 'fun' : constraint_func}),\n",
      "        options = {'disp' : True, 'eps' : 1.e-4})\n",
      "    return result.x"
     ],
     "language": "python",
     "metadata": {},
     "outputs": [],
     "prompt_number": 17
    },
    {
     "cell_type": "code",
     "collapsed": false,
     "input": [
      "primaries_targets = np.asarray([\n",
      "    (1., 1., 1.),\n",
      "    (1., 0., 0.),\n",
      "    (0., 1., 0.),\n",
      "    (0., 0., 1.),\n",
      "    (1., 1., 0.),\n",
      "    (0., 1., 1.),\n",
      "    (1., 0., 1.)\n",
      "])\n",
      "primaries_spectra_unnormalized = map(find_spectrum_for_rgb, primaries_targets)\n",
      "primaries_spectra_unnormalized = np.asarray(primaries_spectra_unnormalized)"
     ],
     "language": "python",
     "metadata": {},
     "outputs": [
      {
       "output_type": "stream",
       "stream": "stdout",
       "text": [
        "Optimization terminated successfully.    (Exit mode 0)\n",
        "            Current function value: 5.8219159972e-06\n",
        "            Iterations: 51\n",
        "            Function evaluations: 1940\n",
        "            Gradient evaluations: 51\n",
        "Optimization terminated successfully.    (Exit mode 0)"
       ]
      },
      {
       "output_type": "stream",
       "stream": "stdout",
       "text": [
        "\n",
        "            Current function value: 0.000105065221675\n",
        "            Iterations: 37\n",
        "            Function evaluations: 1408\n",
        "            Gradient evaluations: 37\n",
        "Optimization terminated successfully.    (Exit mode 0)"
       ]
      },
      {
       "output_type": "stream",
       "stream": "stdout",
       "text": [
        "\n",
        "            Current function value: 0.000265344746664\n",
        "            Iterations: 42\n",
        "            Function evaluations: 1597\n",
        "            Gradient evaluations: 42\n",
        "Optimization terminated successfully.    (Exit mode 0)"
       ]
      },
      {
       "output_type": "stream",
       "stream": "stdout",
       "text": [
        "\n",
        "            Current function value: 0.000111745453392\n",
        "            Iterations: 35\n",
        "            Function evaluations: 1332\n",
        "            Gradient evaluations: 35\n",
        "Optimization terminated successfully.    (Exit mode 0)"
       ]
      },
      {
       "output_type": "stream",
       "stream": "stdout",
       "text": [
        "\n",
        "            Current function value: 0.000107622146015\n",
        "            Iterations: 36\n",
        "            Function evaluations: 1371\n",
        "            Gradient evaluations: 36\n",
        "Optimization terminated successfully.    (Exit mode 0)"
       ]
      },
      {
       "output_type": "stream",
       "stream": "stdout",
       "text": [
        "\n",
        "            Current function value: 0.000107772808891\n",
        "            Iterations: 47\n",
        "            Function evaluations: 1789\n",
        "            Gradient evaluations: 47\n",
        "Optimization terminated successfully.    (Exit mode 0)"
       ]
      },
      {
       "output_type": "stream",
       "stream": "stdout",
       "text": [
        "\n",
        "            Current function value: 0.000207559492748\n",
        "            Iterations: 46\n",
        "            Function evaluations: 1750\n",
        "            Gradient evaluations: 46\n"
       ]
      }
     ],
     "prompt_number": 18
    },
    {
     "cell_type": "markdown",
     "metadata": {},
     "source": [
      "Normalization\n",
      "-------------"
     ]
    },
    {
     "cell_type": "code",
     "collapsed": false,
     "input": [
      "N = np.amax(primaries_spectra_unnormalized)\n",
      "primaries_spectra = primaries_spectra_unnormalized/N\n",
      "N2 = np.dot(rgb_response_curves_unnormalized, primaries_spectra.T)\n",
      "rgb_response_curves = rgb_response_curves_unnormalized / np.amax(N2)"
     ],
     "language": "python",
     "metadata": {},
     "outputs": [],
     "prompt_number": 19
    },
    {
     "cell_type": "markdown",
     "metadata": {},
     "source": [
      "Plots\n",
      "-----"
     ]
    },
    {
     "cell_type": "code",
     "collapsed": false,
     "input": [
      "primaries_names = 'white red green blue yellow cyan magenta'.split()\n",
      "primaries_name_to_index = dict([(n, i) for i,n in enumerate(primaries_names)])\n",
      "primaries_plot_colors = 'krgbycm'"
     ],
     "language": "python",
     "metadata": {},
     "outputs": [],
     "prompt_number": 20
    },
    {
     "cell_type": "code",
     "collapsed": false,
     "input": [
      "def plot(name):\n",
      "    idx = primaries_name_to_index[name]\n",
      "    spectrum = primaries_spectra[idx]\n",
      "    print 'RGB for %s = %0.2f, %0.2f %0.2f' % ((name,)+tuple(np.dot(rgb_response_curves, spectrum)))\n",
      "    pyplot.plot(bin_centers, spectrum, color=primaries_plot_colors[idx])\n",
      "    pyplot.gca().set(ylim = (0., 1.2))"
     ],
     "language": "python",
     "metadata": {},
     "outputs": [],
     "prompt_number": 21
    },
    {
     "cell_type": "code",
     "collapsed": false,
     "input": [
      "plot('white')\n",
      "pyplot.show()\n",
      "plot('red')\n",
      "plot('green')\n",
      "plot('blue')\n",
      "pyplot.show()\n",
      "plot('yellow')\n",
      "plot('cyan')\n",
      "plot('magenta')\n",
      "pyplot.show()"
     ],
     "language": "python",
     "metadata": {},
     "outputs": [
      {
       "output_type": "stream",
       "stream": "stdout",
       "text": [
        "RGB for white = 1.00, 1.00 1.00\n"
       ]
      },
      {
       "metadata": {},
       "output_type": "display_data",
       "png": "[encoded data removed]",
       "text": [
        "<matplotlib.figure.Figure at 0x7fd085b86b50>"
       ]
      },
      {
       "output_type": "stream",
       "stream": "stdout",
       "text": [
        "RGB for red = 1.00, 0.00 0.00\n",
        "RGB for green = 0.00, 1.00 0.00\n",
        "RGB for blue = 0.00, 0.00 1.00\n"
       ]
      },
      {
       "metadata": {},
       "output_type": "display_data",
       "png": "[encoded data removed]",
       "text": [
        "<matplotlib.figure.Figure at 0x7fd086220f10>"
       ]
      },
      {
       "output_type": "stream",
       "stream": "stdout",
       "text": [
        "RGB for yellow = 1.00, 1.00 0.00\n",
        "RGB for cyan = 0.00, 1.00 1.00\n",
        "RGB for magenta = 1.00, 0.00 1.00\n"
       ]
      },
      {
       "metadata": {},
       "output_type": "display_data",
       "png": "[encoded data removed]",
       "text": [
        "<matplotlib.figure.Figure at 0x7fd085a83ed0>"
       ]
      }
     ],
     "prompt_number": 22
    },
    {
     "cell_type": "code",
     "collapsed": false,
     "input": [
      "def RGBToSpectrum(rgb):\n",
      "  class Bunch(object):\n",
      "    def __init__(self, d):\n",
      "        self.__dict__.update(d)\n",
      "  S = Bunch(map(lambda q: (q[1].upper(), q[0]), list(enumerate(primaries_names))))\n",
      "  red, green, blue = rgb\n",
      "  ret = np.zeros(NBINS)\n",
      "  for bin in range(NBINS):\n",
      "      if (red <= green and red <= blue):\n",
      "        ret[bin] += red * primaries_spectra[S.WHITE][bin]\n",
      "        if (green <= blue): # cyan = green+blue\n",
      "          ret[bin] += (green - red) * primaries_spectra[S.CYAN][bin]\n",
      "          ret[bin] += (blue - green) * primaries_spectra[S.BLUE][bin]\n",
      "        else:\n",
      "          ret[bin] += (blue - red) * primaries_spectra[S.CYAN][bin]\n",
      "          ret[bin] += (green - blue) * primaries_spectra[S.GREEN][bin]\n",
      "      elif(green <= red and green <= blue):\n",
      "        ret[bin] += green * primaries_spectra[S.WHITE][bin]\n",
      "        if (red <= blue): #red+blue = magenta\n",
      "          ret[bin] += (red  - green) * primaries_spectra[S.MAGENTA][bin]\n",
      "          ret[bin] += (blue -   red) * primaries_spectra[S.BLUE][bin]\n",
      "        else:\n",
      "          ret[bin] += (blue - green) * primaries_spectra[S.MAGENTA][bin]\n",
      "          ret[bin] += (red - blue) * primaries_spectra[S.RED][bin]\n",
      "      else: #blue < all others\n",
      "        ret[bin] += blue * primaries_spectra[S.WHITE][bin]\n",
      "        if (red <= green): # red+green = YELLOW\n",
      "          ret[bin] += (red - blue) * primaries_spectra[S.YELLOW][bin]\n",
      "          ret[bin] += (green - red) * primaries_spectra[S.GREEN][bin]\n",
      "        else:\n",
      "          ret[bin] += (green - blue) * primaries_spectra[S.YELLOW][bin]\n",
      "          ret[bin] += (red - green) * primaries_spectra[S.RED][bin]\n",
      "  return ret"
     ],
     "language": "python",
     "metadata": {},
     "outputs": [],
     "prompt_number": 23
    },
    {
     "cell_type": "code",
     "collapsed": false,
     "input": [
      "sp = RGBToSpectrum(np.array([ 0.85898926,  0.78023474,  0.75997736]))\n",
      "pyplot.plot(bin_centers, sp)\n",
      "pyplot.show()\n",
      "print repr(sp)"
     ],
     "language": "python",
     "metadata": {},
     "outputs": [
      {
       "metadata": {},
       "output_type": "display_data",
       "png": "[encoded data removed]",
       "text": [
        "<matplotlib.figure.Figure at 0x7fd085984b90>"
       ]
      },
      {
       "output_type": "stream",
       "stream": "stdout",
       "text": [
        "array([ 0.64128072,  0.64288979,  0.64163047,  0.63818233,  0.63889259,\n",
        "        0.64503856,  0.64951162,  0.64854453,  0.64853227,  0.64954066,\n",
        "        0.64985249,  0.65216909,  0.653577  ,  0.6501796 ,  0.64432621,\n",
        "        0.63753952,  0.63217197,  0.62347758,  0.61588054,  0.60633209,\n",
        "        0.59225073,  0.58107408,  0.57307305,  0.56353993,  0.55545807,\n",
        "        0.55280069,  0.55276518,  0.55331026,  0.55521467,  0.55461381,\n",
        "        0.54679761,  0.53554144,  0.52723588,  0.5277409 ,  0.53053622,\n",
        "        0.53110613])\n"
       ]
      }
     ],
     "prompt_number": 24
    },
    {
     "cell_type": "code",
     "collapsed": false,
     "input": [
      "# What does a flat spectrum look like in srgb?\n",
      "np.dot(rgb_response_curves, np.ones(NBINS))\n",
      "# It is reddish? Yes it is. Compare the flat spectrum with the 'white' spectrum.\n",
      "# In order to make the 'white' spectrum flatter, we have to increase red, i.e.\n",
      "# the values for large wavelengths."
     ],
     "language": "python",
     "metadata": {},
     "outputs": [
      {
       "metadata": {},
       "output_type": "pyout",
       "prompt_number": 25,
       "text": [
        "array([ 1.57673069,  1.24779134,  1.16292512])"
       ]
      }
     ],
     "prompt_number": 25
    },
    {
     "cell_type": "markdown",
     "metadata": {},
     "source": [
      "Code Gen\n",
      "--------"
     ]
    },
    {
     "cell_type": "code",
     "collapsed": false,
     "input": [
      "print 'static const double spectra[7][NBINS] = {'\n",
      "for sp in primaries_spectra:\n",
      "    print '{',', '.join(['%0.5f' % s for s in sp]), '},'\n",
      "print '};'"
     ],
     "language": "python",
     "metadata": {},
     "outputs": [
      {
       "output_type": "stream",
       "stream": "stdout",
       "text": [
        "static const double spectra[7][NBINS] = {\n",
        "{ 0.84176, 0.84437, 0.84262, 0.83753, 0.83777, 0.84522, 0.85147, 0.85112, 0.85095, 0.85109, 0.84886, 0.84875, 0.84760, 0.84038, 0.83026, 0.81934, 0.81086, 0.79836, 0.78791, 0.77300, 0.74684, 0.72022, 0.69658, 0.67212, 0.65141, 0.64061, 0.63551, 0.63265, 0.63329, 0.63209, 0.62190, 0.60747, 0.59695, 0.59820, 0.60263, 0.60387 },\n",
        "{ 0.01871, 0.01487, 0.01597, 0.02129, 0.02804, 0.03412, 0.03067, 0.01828, 0.00661, -0.00000, -0.00000, 0.00000, 0.00000, 0.00000, -0.00000, -0.00000, 0.00000, -0.00000, 0.00000, 0.02543, 0.10729, 0.23377, 0.37371, 0.50113, 0.60756, 0.68461, 0.73681, 0.77247, 0.79205, 0.79884, 0.80021, 0.79763, 0.79584, 0.79203, 0.78478, 0.77911 },\n",
        "{ 0.00000, 0.00226, 0.00096, -0.00000, 0.00000, -0.00000, -0.00000, -0.00000, 0.00907, 0.07944, 0.19665, 0.34481, 0.50698, 0.65241, 0.77048, 0.85082, 0.87408, 0.85171, 0.78685, 0.68204, 0.55430, 0.41326, 0.26450, 0.13972, 0.05913, 0.01660, -0.00000, 0.00000, -0.00000, 0.00265, 0.00355, 0.00000, 0.00000, 0.00000, 0.00000, -0.00000 },\n",
        "{ 0.91748, 0.91580, 0.91699, 0.91799, 0.91199, 0.89750, 0.87158, 0.82709, 0.76109, 0.67934, 0.58116, 0.46267, 0.33550, 0.21771, 0.11232, 0.03344, -0.00000, -0.00000, -0.00000, 0.00000, 0.00000, -0.00000, -0.00000, 0.00000, 0.00000, -0.00000, 0.00000, 0.00000, -0.00000, -0.00000, -0.00000, -0.00000, 0.00518, 0.00785, 0.00477, -0.00000 },\n",
        "{ 0.00458, 0.00066, -0.00000, 0.00000, 0.00000, -0.00000, -0.00000, 0.01333, 0.06479, 0.13484, 0.23385, 0.35241, 0.46515, 0.56829, 0.65899, 0.73345, 0.78652, 0.82631, 0.84365, 0.83262, 0.80061, 0.75610, 0.70373, 0.65538, 0.61967, 0.59427, 0.58066, 0.57647, 0.57037, 0.55916, 0.55050, 0.54606, 0.53755, 0.53045, 0.53047, 0.53401 },\n",
        "{ 0.78274, 0.77797, 0.78111, 0.78706, 0.79035, 0.79007, 0.79466, 0.81024, 0.83127, 0.85669, 0.88921, 0.91769, 0.93452, 0.94534, 0.94148, 0.91300, 0.86784, 0.80769, 0.72537, 0.62028, 0.50184, 0.38261, 0.27213, 0.17772, 0.11132, 0.07306, 0.04970, 0.03449, 0.02567, 0.01562, 0.00456, 0.00000, 0.00000, 0.00003, 0.00189, 0.00410 },\n",
        "{ 0.98958, 0.99796, 1.00000, 0.99987, 0.99901, 0.97872, 0.93202, 0.86186, 0.76263, 0.64430, 0.51777, 0.38537, 0.25169, 0.13555, 0.04899, -0.00000, -0.00000, 0.00000, 0.02658, 0.09449, 0.18224, 0.28155, 0.38679, 0.48354, 0.56743, 0.62714, 0.66560, 0.68957, 0.69674, 0.69134, 0.68710, 0.68635, 0.68642, 0.69033, 0.69579, 0.69765 },\n",
        "};\n"
       ]
      }
     ],
     "prompt_number": 26
    },
    {
     "cell_type": "code",
     "collapsed": false,
     "input": [
      "print 'static const double mat_spectrum_to_rgb[3][NBINS] = {'\n",
      "for curve in rgb_response_curves:\n",
      "    print '{',', '.join(['%0.5f' % s for s in curve]), '},'\n",
      "print '};'"
     ],
     "language": "python",
     "metadata": {},
     "outputs": [
      {
       "output_type": "stream",
       "stream": "stdout",
       "text": [
        "static const double mat_spectrum_to_rgb[3][NBINS] = {\n",
        "{ 0.00028, 0.00055, 0.00214, 0.00645, 0.01585, 0.02692, 0.02857, 0.02189, 0.00933, -0.00581, -0.02595, -0.04501, -0.06339, -0.08766, -0.10914, -0.10875, -0.08340, -0.04140, 0.01575, 0.08561, 0.16187, 0.23317, 0.28534, 0.30346, 0.28435, 0.23244, 0.17027, 0.11429, 0.06965, 0.03843, 0.02054, 0.01045, 0.00509, 0.00258, 0.00131, 0.00065 },\n",
        "{ -0.00021, -0.00041, -0.00162, -0.00493, -0.01231, -0.02139, -0.02365, -0.01981, -0.01182, -0.00187, 0.01490, 0.03512, 0.05909, 0.09359, 0.13632, 0.16922, 0.18272, 0.18160, 0.16807, 0.14352, 0.10980, 0.07131, 0.03473, 0.00714, -0.00871, -0.01413, -0.01342, -0.01031, -0.00672, -0.00383, -0.00209, -0.00107, -0.00053, -0.00027, -0.00013, -0.00007 },\n",
        "{ 0.00160, 0.00315, 0.01238, 0.03775, 0.09518, 0.17096, 0.20524, 0.20343, 0.17775, 0.15903, 0.11966, 0.07182, 0.03769, 0.01649, -0.00086, -0.01179, -0.01745, -0.02022, -0.02065, -0.01937, -0.01681, -0.01349, -0.01002, -0.00698, -0.00465, -0.00294, -0.00177, -0.00103, -0.00057, -0.00030, -0.00016, -0.00008, -0.00004, -0.00002, -0.00001, -0.00000 },\n",
        "};\n"
       ]
      }
     ],
     "prompt_number": 27
    },
    {
     "cell_type": "code",
     "collapsed": false,
     "input": [
      "print 'static constexpr Scalar wavelengths[NBINS] = {\\n  ' + ', '.join(['%0.5f' % s for s in bin_centers])+'\\n};'"
     ],
     "language": "python",
     "metadata": {},
     "outputs": [
      {
       "output_type": "stream",
       "stream": "stdout",
       "text": [
        "static constexpr Scalar wavelengths[NBINS] = {\n",
        "  375.00000, 385.00000, 395.00000, 405.00000, 415.00000, 425.00000, 435.00000, 445.00000, 455.00000, 465.00000, 475.00000, 485.00000, 495.00000, 505.00000, 515.00000, 525.00000, 535.00000, 545.00000, 555.00000, 565.00000, 575.00000, 585.00000, 595.00000, 605.00000, 615.00000, 625.00000, 635.00000, 645.00000, 655.00000, 665.00000, 675.00000, 685.00000, 695.00000, 705.00000, 715.00000, 725.00000\n",
        "};\n"
       ]
      }
     ],
     "prompt_number": 28
    },
    {
     "cell_type": "code",
     "collapsed": false,
     "input": [
      "\n",
      "print 'enum Colors {\\n  '+', '.join(['{1} = {0}'.format(q[0], q[1].upper()) for q in enumerate(primaries_names)]) + '\\n};'"
     ],
     "language": "python",
     "metadata": {},
     "outputs": [
      {
       "output_type": "stream",
       "stream": "stdout",
       "text": [
        "enum Colors {\n",
        "  WHITE = 0, RED = 1, GREEN = 2, BLUE = 3, YELLOW = 4, CYAN = 5, MAGENTA = 6\n",
        "};\n"
       ]
      }
     ],
     "prompt_number": 29
    }
   ],
   "metadata": {}
  }
 ]
}