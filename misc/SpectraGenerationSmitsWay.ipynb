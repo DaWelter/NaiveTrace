{
 "metadata": {
  "name": "",
  "signature": "sha256:cba1c09e1a7202077ac19f2eff929c97d1730a71d646de439bf1d1084870b3e6"
 },
 "nbformat": 3,
 "nbformat_minor": 0,
 "worksheets": [
  {
   "cells": [
    {
     "cell_type": "markdown",
     "metadata": {},
     "source": [
      "# RGB to Spectrum Conversion for Reflectances\n",
      "\n",
      "This notebook contains code to generate spectra for RGB to spectral conversion by the method of Smits (1999). \n",
      "\n",
      "This notebook differs from the original way in possibly many aspects. Among which:\n",
      "* Python code written from scratch instead of Matlab code. (Yeah! Cpt. Obvious!)\n",
      "* Different optimization problem, adding a positivity constraint.\n",
      "* More bins!\n",
      "* sRGB color space instead of CIE (1931) RGB.\n",
      "* Messy normalization of the spectra and the RGB response curves.\n",
      "\n",
      "That is, at the time of this writing. I might change things and forget to update this comment.\n",
      "\n",
      "## Ref\n",
      "\n",
      "Smits, B. (1999). An RGB-to-Spectrum Conversion for Reflectances. Journal of Graphics Tools, 4(4), 11\u201322.\n",
      "doi:10.1080/10867651.1999.10487511"
     ]
    },
    {
     "cell_type": "code",
     "collapsed": false,
     "input": [
      "import csv\n",
      "import matplotlib.pyplot as pyplot\n",
      "import numpy as np"
     ],
     "language": "python",
     "metadata": {},
     "outputs": [],
     "prompt_number": 2
    },
    {
     "cell_type": "markdown",
     "metadata": {},
     "source": [
      "Getting XYZ response curves\n",
      "---------------------------\n",
      "X,Y and Z values are defined as the result of the convolution of the spectrum with the response curves.\n",
      "\n",
      "Data for those curves is found on the web."
     ]
    },
    {
     "cell_type": "code",
     "collapsed": false,
     "input": [
      "data = []\n",
      "# Data from http://cvrl.ioo.ucl.ac.uk/cmfs.htm\n",
      "# CIE 1931 2-deg, XYZ CMFs modified by Judd (1951) and Vos (1978)\n",
      "with open('ciexyzjv.csv', 'rb') as csvfile:\n",
      "    reader = csv.reader(csvfile, delimiter=',')\n",
      "    for row in reader:\n",
      "        data.append(map(float, row))\n",
      "data = np.asarray(data)"
     ],
     "language": "python",
     "metadata": {},
     "outputs": [],
     "prompt_number": 3
    },
    {
     "cell_type": "markdown",
     "metadata": {},
     "source": [
      "Wavelength delta?"
     ]
    },
    {
     "cell_type": "code",
     "collapsed": false,
     "input": [
      "delta = (data[1:,0]-data[:-1,0])\n",
      "print 'Min Max: ', delta.min(), delta.max()"
     ],
     "language": "python",
     "metadata": {},
     "outputs": [
      {
       "output_type": "stream",
       "stream": "stdout",
       "text": [
        "Min Max:  5.0 5.0\n"
       ]
      }
     ],
     "prompt_number": 4
    },
    {
     "cell_type": "code",
     "collapsed": false,
     "input": [
      "%matplotlib inline\n",
      "pyplot.ioff()"
     ],
     "language": "python",
     "metadata": {},
     "outputs": [],
     "prompt_number": 5
    },
    {
     "cell_type": "markdown",
     "metadata": {},
     "source": [
      "Plot the functions. Sure looks like proper XYZ color matching functions!"
     ]
    },
    {
     "cell_type": "code",
     "collapsed": false,
     "input": [
      "pyplot.plot(data[:,0], data[:,1], color='r')\n",
      "pyplot.plot(data[:,0], data[:,2], color='g')\n",
      "pyplot.plot(data[:,0], data[:,3], color='b')\n",
      "pyplot.show()"
     ],
     "language": "python",
     "metadata": {},
     "outputs": [
      {
       "metadata": {},
       "output_type": "display_data",
       "png": "[encoded data removed]",
       "text": [
        "<matplotlib.figure.Figure at 0x7f9f14155c50>"
       ]
      }
     ],
     "prompt_number": 6
    },
    {
     "cell_type": "markdown",
     "metadata": {},
     "source": [
      "Spectral discretization\n",
      "-----------------------\n",
      "I use different discretization points, so the curves need to be resampled. First define my discretization points, or bins."
     ]
    },
    {
     "cell_type": "markdown",
     "metadata": {},
     "source": [
      "Find nicely spaced bins for my discrete spectra. More than 10 used by Smits. Ideally a multiple of 3 because I trace 3 wavelengths per ray, and so I could make it that all bins are selected equal number of times by a simple stratification approach."
     ]
    },
    {
     "cell_type": "code",
     "collapsed": false,
     "input": [
      "NBINS = 36\n",
      "DLAMBDA = 10. # width of the bins\n",
      "bin_boundaries = 370. + np.arange(NBINS+1)*DLAMBDA\n",
      "print bin_boundaries\n",
      "bin_centers = np.average([bin_boundaries[1:], bin_boundaries[:-1]], axis=0)\n",
      "print bin_centers"
     ],
     "language": "python",
     "metadata": {},
     "outputs": [
      {
       "output_type": "stream",
       "stream": "stdout",
       "text": [
        "[ 370.  380.  390.  400.  410.  420.  430.  440.  450.  460.  470.  480.\n",
        "  490.  500.  510.  520.  530.  540.  550.  560.  570.  580.  590.  600.\n",
        "  610.  620.  630.  640.  650.  660.  670.  680.  690.  700.  710.  720.\n",
        "  730.]\n",
        "[ 375.  385.  395.  405.  415.  425.  435.  445.  455.  465.  475.  485.\n",
        "  495.  505.  515.  525.  535.  545.  555.  565.  575.  585.  595.  605.\n",
        "  615.  625.  635.  645.  655.  665.  675.  685.  695.  705.  715.  725.]\n"
       ]
      }
     ],
     "prompt_number": 7
    },
    {
     "cell_type": "code",
     "collapsed": false,
     "input": [
      "index_srgbR = np.argmin(np.abs(bin_centers-610.))\n",
      "index_srgbG = np.argmin(np.abs(bin_centers-550.))\n",
      "index_srgbB = np.argmin(np.abs(bin_centers-465.))\n",
      "print \"Bins with wavelengths near the sRGB primaries are very very roughly: %i, %i, %i\" %(index_srgbR, index_srgbG, index_srgbB)"
     ],
     "language": "python",
     "metadata": {},
     "outputs": [
      {
       "output_type": "stream",
       "stream": "stdout",
       "text": [
        "Bins with wavelengths near the sRGB primaries are very very roughly: 23, 17, 9\n"
       ]
      }
     ],
     "prompt_number": 8
    },
    {
     "cell_type": "code",
     "collapsed": false,
     "input": [
      "import scipy.interpolate"
     ],
     "language": "python",
     "metadata": {},
     "outputs": [],
     "prompt_number": 9
    },
    {
     "cell_type": "markdown",
     "metadata": {},
     "source": [
      "Resampling the XYZ curves\n",
      "-------------------------"
     ]
    },
    {
     "cell_type": "code",
     "collapsed": false,
     "input": [
      "xyz_response_curves = scipy.interpolate.interp1d(data[:,0], data[:,[1,2,3]], kind='quadratic', bounds_error=False, axis=0, fill_value=data[0,[1,2,3]])(bin_centers)"
     ],
     "language": "python",
     "metadata": {},
     "outputs": [],
     "prompt_number": 10
    },
    {
     "cell_type": "code",
     "collapsed": false,
     "input": [
      "pyplot.plot(data[:,0], data[:,1], color='r')\n",
      "pyplot.plot(data[:,0], data[:,2], color='g')\n",
      "pyplot.plot(data[:,0], data[:,3], color='b')\n",
      "pyplot.plot(bin_centers, xyz_response_curves[:,0], color='r', ls = ':')\n",
      "pyplot.plot(bin_centers, xyz_response_curves[:,1], color='g', ls = ':')\n",
      "pyplot.plot(bin_centers, xyz_response_curves[:,2], color='b', ls = ':')\n",
      "pyplot.show()"
     ],
     "language": "python",
     "metadata": {},
     "outputs": [
      {
       "metadata": {},
       "output_type": "display_data",
       "png": "[encoded data removed]",
       "text": [
        "<matplotlib.figure.Figure at 0x7f9f0f80e0d0>"
       ]
      }
     ],
     "prompt_number": 11
    },
    {
     "cell_type": "markdown",
     "metadata": {},
     "source": [
      "Normalizing XYZ curves\n",
      "----------------------"
     ]
    },
    {
     "cell_type": "code",
     "collapsed": false,
     "input": [
      "np.sum(xyz_response_curves, axis=0)"
     ],
     "language": "python",
     "metadata": {},
     "outputs": [
      {
       "metadata": {},
       "output_type": "pyout",
       "prompt_number": 12,
       "text": [
        "array([ 10.7042048 ,  10.74742221,  10.52389846])"
       ]
      }
     ],
     "prompt_number": 12
    },
    {
     "cell_type": "markdown",
     "metadata": {},
     "source": [
      "That is odd. Even after multiplication with the bin size, the inner product with a flat spectrum would not yield ones.\n",
      "However, I need ones, if this my spectra are going to be used for relfectivity curves and things that go between 0 and 1.\n",
      "\n",
      "I deal with it later ..."
     ]
    },
    {
     "cell_type": "markdown",
     "metadata": {},
     "source": [
      "RGB response curves\n",
      "-------------------\n",
      "XYZ is not super useful as render output. It must be converted to RGB which is just a matrix multiplication.\n",
      "However there are different RGB standards out there. https://en.wikipedia.org/wiki/RGB_color_space\n",
      "\n",
      "Web search for \"rgb to xyz transform\" yields plenty of sources\n",
      "Like that one http://www.brucelindbloom.com/index.html?Eqn_RGB_XYZ_Matrix.html\n",
      "\n",
      "In order to obtain RGB response curves, the XYZ-to-RGB transform is left multiplied to the XYZ response curves which can be seen as a 3xNBINS matrix, defining the transform from spectra to XYZ."
     ]
    },
    {
     "cell_type": "code",
     "collapsed": false,
     "input": [
      "xyz_to_srgb = np.asarray([\n",
      " [ 3.2404542, -1.5371385, -0.4985314 ],\n",
      " [-0.9692660,  1.8760108,  0.0415560 ],\n",
      " [ 0.0556434, -0.2040259,  1.0572252 ]\n",
      "])\n",
      "xyz_to_rgb = np.asarray([ # CIE RGB\n",
      "  [2.3706743, -0.9000405, -0.4706338],\n",
      "  [-0.5138850,  1.4253036,  0.0885814],\n",
      "  [ 0.0052982, -0.0146949,  1.0093968],\n",
      "])\n",
      "m = xyz_to_rgb\n",
      "rgb_response_curves_unnormalized = np.dot(m, xyz_response_curves.T)\n",
      "N = np.sum(rgb_response_curves_unnormalized, axis=1)\n",
      "#N = np.amax(N)\n",
      "N = N[:,np.newaxis] # Normalize each curve individually. I want rgb=(1,1,1) to produces a perfectly flat spectrum.\n",
      "rgb_response_curves = rgb_response_curves_unnormalized/N\n",
      "print np.sum(rgb_response_curves, axis=1)"
     ],
     "language": "python",
     "metadata": {},
     "outputs": [
      {
       "output_type": "stream",
       "stream": "stdout",
       "text": [
        "[ 1.  1.  1.]\n"
       ]
      }
     ],
     "prompt_number": 13
    },
    {
     "cell_type": "markdown",
     "metadata": {},
     "source": [
      "I want to approximate the convolution integral with by Riemann summs. Therefore there needs to be the step width as a factor somewhere. I put it in the response curves."
     ]
    },
    {
     "cell_type": "code",
     "collapsed": false,
     "input": [
      "pyplot.plot(bin_centers, rgb_response_curves_unnormalized[0], color='r')\n",
      "pyplot.plot(bin_centers, rgb_response_curves_unnormalized[1], color='g')\n",
      "pyplot.plot(bin_centers, rgb_response_curves_unnormalized[2], color='b')\n",
      "pyplot.show()"
     ],
     "language": "python",
     "metadata": {},
     "outputs": [
      {
       "metadata": {},
       "output_type": "display_data",
       "png": "[encoded data removed]",
       "text": [
        "<matplotlib.figure.Figure at 0x7f9f0f80c990>"
       ]
      }
     ],
     "prompt_number": 14
    },
    {
     "cell_type": "markdown",
     "metadata": {},
     "source": [
      "Finding Smits style spectra\n",
      "---------------------------\n",
      "Smits finds spectra for each primary and secondary color by minimizing the distance of the calculated RGB triple to the target RGB triple, subject to a smoothness regularization.\n",
      "\n",
      "http://www.cs.utah.edu/~bes/papers/color/paper-node2.html\n",
      "\n",
      "This did not quite work for me, so I added a positivity constraint."
     ]
    },
    {
     "cell_type": "code",
     "collapsed": false,
     "input": [
      "import scipy.optimize"
     ],
     "language": "python",
     "metadata": {},
     "outputs": [],
     "prompt_number": 15
    },
    {
     "cell_type": "code",
     "collapsed": false,
     "input": [
      "def objective_func(spectrum, rgb_target, regularizer_coefficient):\n",
      "    rgb = np.dot(rgb_response_curves, spectrum)\n",
      "    cost = np.average(np.square(rgb - rgb_target))\n",
      "    regularizer = np.average(np.square(spectrum[1:] - spectrum[:-1]))\n",
      "    return cost + regularizer_coefficient * regularizer"
     ],
     "language": "python",
     "metadata": {},
     "outputs": [],
     "prompt_number": 16
    },
    {
     "cell_type": "code",
     "collapsed": false,
     "input": [
      "def constraint_func(spectrum):\n",
      "    return spectrum\n",
      "def constraint_less_than_1(spectrum):\n",
      "    return 1.-spectrum"
     ],
     "language": "python",
     "metadata": {},
     "outputs": [],
     "prompt_number": 17
    },
    {
     "cell_type": "code",
     "collapsed": false,
     "input": [
      "def find_spectrum_for_rgb(rgb):\n",
      "#     result = scipy.optimize.minimize(objective_func, np.random.normal(0.5, 1., size=NBINS), args=(rgb, 0.1), options = {'disp' : True, 'eps' : 1.e-4})\n",
      "    result = scipy.optimize.minimize(\n",
      "        objective_func, \n",
      "        np.random.normal(0.5, 0.1, size=NBINS), \n",
      "        args=(rgb, 3),\n",
      "        constraints=(\n",
      "            {'type' : 'ineq', 'fun' : constraint_func},\n",
      "            {'type' : 'ineq', 'fun' : constraint_less_than_1},\n",
      "        ),\n",
      "        options = {'disp' : True, 'eps' : 1.e-4})\n",
      "    return result.x"
     ],
     "language": "python",
     "metadata": {},
     "outputs": [],
     "prompt_number": 18
    },
    {
     "cell_type": "code",
     "collapsed": false,
     "input": [
      "primaries_targets = np.asarray([\n",
      "    (1., 1., 1.),\n",
      "    (1., 0., 0.),\n",
      "    (0., 1., 0.),\n",
      "    (0., 0., 1.),\n",
      "    (1., 1., 0.),\n",
      "    (0., 1., 1.),\n",
      "    (1., 0., 1.)\n",
      "])\n",
      "primaries_spectra_unnormalized = map(find_spectrum_for_rgb, primaries_targets)\n",
      "primaries_spectra_unnormalized = np.asarray(primaries_spectra_unnormalized)"
     ],
     "language": "python",
     "metadata": {},
     "outputs": [
      {
       "output_type": "stream",
       "stream": "stdout",
       "text": [
        "Optimization terminated successfully.    (Exit mode 0)\n",
        "            Current function value: 9.24701093143e-07\n",
        "            Iterations: 44\n",
        "            Function evaluations: 1672\n",
        "            Gradient evaluations: 44\n",
        "Optimization terminated successfully.    (Exit mode 0)"
       ]
      },
      {
       "output_type": "stream",
       "stream": "stdout",
       "text": [
        "\n",
        "            Current function value: 0.0213400757234\n",
        "            Iterations: 40\n",
        "            Function evaluations: 1520\n",
        "            Gradient evaluations: 40\n",
        "Optimization terminated successfully.    (Exit mode 0)"
       ]
      },
      {
       "output_type": "stream",
       "stream": "stdout",
       "text": [
        "\n",
        "            Current function value: 0.0519057147955\n",
        "            Iterations: 35\n",
        "            Function evaluations: 1330\n",
        "            Gradient evaluations: 35\n",
        "Optimization terminated successfully.    (Exit mode 0)"
       ]
      },
      {
       "output_type": "stream",
       "stream": "stdout",
       "text": [
        "\n",
        "            Current function value: 0.0183545868357\n",
        "            Iterations: 43\n",
        "            Function evaluations: 1635\n",
        "            Gradient evaluations: 43\n",
        "Optimization terminated successfully.    (Exit mode 0)"
       ]
      },
      {
       "output_type": "stream",
       "stream": "stdout",
       "text": [
        "\n",
        "            Current function value: 0.0183543685519\n",
        "            Iterations: 43\n",
        "            Function evaluations: 1634\n",
        "            Gradient evaluations: 43\n",
        "Optimization terminated successfully.    (Exit mode 0)"
       ]
      },
      {
       "output_type": "stream",
       "stream": "stdout",
       "text": [
        "\n",
        "            Current function value: 0.0213400539714\n",
        "            Iterations: 39\n",
        "            Function evaluations: 1482\n",
        "            Gradient evaluations: 39\n",
        "Optimization terminated successfully.    (Exit mode 0)"
       ]
      },
      {
       "output_type": "stream",
       "stream": "stdout",
       "text": [
        "\n",
        "            Current function value: 0.0519051065238\n",
        "            Iterations: 40\n",
        "            Function evaluations: 1520\n",
        "            Gradient evaluations: 40\n"
       ]
      }
     ],
     "prompt_number": 19
    },
    {
     "cell_type": "markdown",
     "metadata": {},
     "source": [
      "Normalization\n",
      "-------------"
     ]
    },
    {
     "cell_type": "code",
     "collapsed": false,
     "input": [
      "primaries_spectra = primaries_spectra_unnormalized\n",
      "#N = np.amax(primaries_spectra_unnormalized[0])\n",
      "#primaries_spectra = primaries_spectra_unnormalized/N\n",
      "#N2 = np.dot(rgb_response_curves_unnormalized, primaries_spectra.T)\n",
      "#rgb_response_curves = rgb_response_curves_unnormalized / np.amax(N2)"
     ],
     "language": "python",
     "metadata": {},
     "outputs": [],
     "prompt_number": 20
    },
    {
     "cell_type": "markdown",
     "metadata": {},
     "source": [
      "Plots\n",
      "-----"
     ]
    },
    {
     "cell_type": "code",
     "collapsed": false,
     "input": [
      "primaries_names = 'white red green blue yellow cyan magenta'.split()\n",
      "primaries_name_to_index = dict([(n, i) for i,n in enumerate(primaries_names)])\n",
      "primaries_plot_colors = 'krgbycm'"
     ],
     "language": "python",
     "metadata": {},
     "outputs": [],
     "prompt_number": 21
    },
    {
     "cell_type": "code",
     "collapsed": false,
     "input": [
      "def plot(name):\n",
      "    idx = primaries_name_to_index[name]\n",
      "    spectrum = primaries_spectra[idx]\n",
      "    print 'RGB for %s = %0.2f, %0.2f %0.2f' % ((name,)+tuple(np.dot(rgb_response_curves, spectrum)))\n",
      "    pyplot.plot(bin_centers, spectrum, color=primaries_plot_colors[idx])\n",
      "    pyplot.gca().set(ylim = (-0.1, 1.2))"
     ],
     "language": "python",
     "metadata": {},
     "outputs": [],
     "prompt_number": 22
    },
    {
     "cell_type": "code",
     "collapsed": false,
     "input": [
      "plot('white')\n",
      "pyplot.show()\n",
      "plot('red')\n",
      "plot('green')\n",
      "plot('blue')\n",
      "pyplot.show()\n",
      "plot('yellow')\n",
      "plot('cyan')\n",
      "plot('magenta')\n",
      "pyplot.show()"
     ],
     "language": "python",
     "metadata": {},
     "outputs": [
      {
       "output_type": "stream",
       "stream": "stdout",
       "text": [
        "RGB for white = 1.00, 1.00 1.00\n"
       ]
      },
      {
       "metadata": {},
       "output_type": "display_data",
       "png": "[encoded data removed]",
       "text": [
        "<matplotlib.figure.Figure at 0x7f9f0d7092d0>"
       ]
      },
      {
       "output_type": "stream",
       "stream": "stdout",
       "text": [
        "RGB for red = 0.92, 0.16 -0.00\n",
        "RGB for green = 0.11, 0.78 0.14\n",
        "RGB for blue = -0.02, 0.11 0.90\n"
       ]
      },
      {
       "metadata": {},
       "output_type": "display_data",
       "png": "[encoded data removed]",
       "text": [
        "<matplotlib.figure.Figure at 0x7f9f0d644d90>"
       ]
      },
      {
       "output_type": "stream",
       "stream": "stdout",
       "text": [
        "RGB for yellow = 1.02, 0.89 0.10\n",
        "RGB for cyan = 0.08, 0.84 1.00\n",
        "RGB for magenta = 0.89, 0.22 0.86\n"
       ]
      },
      {
       "metadata": {},
       "output_type": "display_data",
       "png": "[encoded data removed]",
       "text": [
        "<matplotlib.figure.Figure at 0x7f9f0d59ebd0>"
       ]
      }
     ],
     "prompt_number": 23
    },
    {
     "cell_type": "code",
     "collapsed": false,
     "input": [
      "def RGBToSpectrum(rgb):\n",
      "  class Bunch(object):\n",
      "    def __init__(self, d):\n",
      "        self.__dict__.update(d)\n",
      "  S = Bunch(map(lambda q: (q[1].upper(), q[0]), list(enumerate(primaries_names))))\n",
      "  red, green, blue = rgb\n",
      "  ret = np.zeros(NBINS)\n",
      "  for bin in range(NBINS):\n",
      "      if (red <= green and red <= blue):\n",
      "        ret[bin] += red * primaries_spectra[S.WHITE][bin]\n",
      "        if (green <= blue): # cyan = green+blue\n",
      "          ret[bin] += (green - red) * primaries_spectra[S.CYAN][bin]\n",
      "          ret[bin] += (blue - green) * primaries_spectra[S.BLUE][bin]\n",
      "        else:\n",
      "          ret[bin] += (blue - red) * primaries_spectra[S.CYAN][bin]\n",
      "          ret[bin] += (green - blue) * primaries_spectra[S.GREEN][bin]\n",
      "      elif(green <= red and green <= blue):\n",
      "        ret[bin] += green * primaries_spectra[S.WHITE][bin]\n",
      "        if (red <= blue): #red+blue = magenta\n",
      "          ret[bin] += (red  - green) * primaries_spectra[S.MAGENTA][bin]\n",
      "          ret[bin] += (blue -   red) * primaries_spectra[S.BLUE][bin]\n",
      "        else:\n",
      "          ret[bin] += (blue - green) * primaries_spectra[S.MAGENTA][bin]\n",
      "          ret[bin] += (red - blue) * primaries_spectra[S.RED][bin]\n",
      "      else: #blue < all others\n",
      "        ret[bin] += blue * primaries_spectra[S.WHITE][bin]\n",
      "        if (red <= green): # red+green = YELLOW\n",
      "          ret[bin] += (red - blue) * primaries_spectra[S.YELLOW][bin]\n",
      "          ret[bin] += (green - red) * primaries_spectra[S.GREEN][bin]\n",
      "        else:\n",
      "          ret[bin] += (green - blue) * primaries_spectra[S.YELLOW][bin]\n",
      "          ret[bin] += (red - green) * primaries_spectra[S.RED][bin]\n",
      "  return ret"
     ],
     "language": "python",
     "metadata": {},
     "outputs": [],
     "prompt_number": 24
    },
    {
     "cell_type": "code",
     "collapsed": false,
     "input": [
      "# Is it a linear mapping?\n",
      "sp = RGBToSpectrum(np.array([1.,  0,  0.75997736]))\n",
      "sp2 = RGBToSpectrum(np.array([1.,  0,  0])) + RGBToSpectrum(np.array([0,  0,  0.75997736]))\n",
      "pyplot.plot(bin_centers, sp, bin_centers, sp2)\n",
      "pyplot.show()\n",
      "# No it is not."
     ],
     "language": "python",
     "metadata": {},
     "outputs": [
      {
       "metadata": {},
       "output_type": "display_data",
       "png": "[encoded data removed]",
       "text": [
        "<matplotlib.figure.Figure at 0x7f9f0f4f76d0>"
       ]
      }
     ],
     "prompt_number": 50
    },
    {
     "cell_type": "code",
     "collapsed": false,
     "input": [
      "# What does a flat spectrum look like in srgb?\n",
      "np.dot(rgb_response_curves, np.ones(NBINS))\n",
      "# It is reddish? Yes it is. Compare the flat spectrum with the 'white' spectrum.\n",
      "# In order to make the 'white' spectrum flatter, we have to increase red, i.e.\n",
      "# the values for large wavelengths."
     ],
     "language": "python",
     "metadata": {},
     "outputs": [
      {
       "metadata": {},
       "output_type": "pyout",
       "prompt_number": 26,
       "text": [
        "array([ 1.,  1.,  1.])"
       ]
      }
     ],
     "prompt_number": 26
    },
    {
     "cell_type": "markdown",
     "metadata": {},
     "source": [
      "Code Gen\n",
      "--------"
     ]
    },
    {
     "cell_type": "code",
     "collapsed": false,
     "input": [
      "print 'static const double spectra[7][NBINS] = {'\n",
      "for sp in primaries_spectra:\n",
      "    print '{',', '.join(['%0.5f' % s for s in sp]), '},'\n",
      "print '};'"
     ],
     "language": "python",
     "metadata": {},
     "outputs": [
      {
       "output_type": "stream",
       "stream": "stdout",
       "text": [
        "static const double spectra[7][NBINS] = {\n",
        "{ 1.00000, 0.99984, 0.99937, 0.99917, 0.99932, 0.99995, 1.00000, 1.00000, 0.99974, 0.99960, 0.99973, 0.99993, 0.99997, 1.00000, 0.99964, 0.99930, 0.99921, 0.99949, 0.99967, 0.99996, 1.00000, 1.00000, 1.00000, 1.00000, 0.99986, 0.99954, 0.99998, 0.99958, 0.99860, 0.99721, 0.99532, 0.99458, 0.99484, 0.99564, 0.99630, 0.99604 },\n",
        "{ 0.00289, 0.00288, 0.00304, 0.00336, 0.00322, 0.00232, 0.00079, -0.00000, 0.00000, 0.00000, -0.00000, 0.00000, -0.00000, 0.00000, 0.00000, -0.00000, 0.00000, 0.00000, 0.05974, 0.17653, 0.33167, 0.50291, 0.66811, 0.80804, 0.91133, 0.97382, 1.00000, 1.00000, 1.00000, 1.00000, 1.00000, 0.99980, 0.99884, 0.99937, 1.00000, 1.00000 },\n",
        "{ -0.00000, -0.00000, 0.00000, -0.00000, -0.00000, -0.00000, 0.00000, 0.00000, 0.04991, 0.16399, 0.32782, 0.51731, 0.70522, 0.86688, 0.97478, 1.00000, 1.00000, 1.00000, 0.96079, 0.84365, 0.67309, 0.47848, 0.29174, 0.14082, 0.04207, -0.00000, -0.00000, -0.00000, -0.00000, -0.00000, -0.00000, -0.00000, 0.00023, 0.00023, 0.00000, 0.00000 },\n",
        "{ 1.00000, 1.00000, 1.00000, 1.00000, 1.00000, 1.00000, 1.00000, 1.00000, 0.96871, 0.88779, 0.76524, 0.61616, 0.45755, 0.30383, 0.16935, 0.06787, 0.01010, 0.00000, -0.00000, 0.00000, 0.00000, 0.00425, 0.02418, 0.05133, 0.07726, 0.09780, 0.11280, 0.12248, 0.12738, 0.13005, 0.13158, 0.13084, 0.12941, 0.12881, 0.12768, 0.12597 },\n",
        "{ -0.00000, -0.00000, -0.00000, -0.00000, -0.00000, 0.00000, -0.00000, -0.00000, 0.03081, 0.11143, 0.23356, 0.38142, 0.53933, 0.69343, 0.82865, 0.93085, 0.98979, 1.00000, 1.00000, 1.00000, 1.00000, 0.99633, 0.97666, 0.94997, 0.92292, 0.90043, 0.88433, 0.87465, 0.86937, 0.86555, 0.86278, 0.86178, 0.86205, 0.86247, 0.86279, 0.86306 },\n",
        "{ 0.99585, 0.99557, 0.99543, 0.99585, 0.99637, 0.99743, 0.99927, 1.00000, 1.00000, 1.00000, 1.00000, 1.00000, 1.00000, 1.00000, 1.00000, 1.00000, 1.00000, 1.00000, 0.94001, 0.82370, 0.66932, 0.49817, 0.33237, 0.19132, 0.08781, 0.02598, -0.00000, -0.00000, -0.00000, -0.00000, -0.00000, -0.00000, 0.00092, 0.00117, 0.00029, -0.00000 },\n",
        "{ 1.00000, 1.00000, 1.00000, 1.00000, 1.00000, 1.00000, 1.00000, 1.00000, 0.94866, 0.83450, 0.67036, 0.48052, 0.29293, 0.13132, 0.02329, -0.00000, -0.00000, -0.00000, 0.03721, 0.15439, 0.32642, 0.52139, 0.70830, 0.86010, 0.95862, 1.00000, 1.00000, 1.00000, 1.00000, 1.00000, 1.00000, 1.00000, 1.00000, 1.00000, 0.99875, 0.99811 },\n",
        "};\n"
       ]
      }
     ],
     "prompt_number": 27
    },
    {
     "cell_type": "code",
     "collapsed": false,
     "input": [
      "print 'static const double mat_spectrum_to_rgb[3][NBINS] = {'\n",
      "for curve in rgb_response_curves:\n",
      "    print '{',', '.join(['%0.5f' % s for s in curve]), '},'\n",
      "print '};'"
     ],
     "language": "python",
     "metadata": {},
     "outputs": [
      {
       "output_type": "stream",
       "stream": "stdout",
       "text": [
        "static const double mat_spectrum_to_rgb[3][NBINS] = {\n",
        "{ 0.00004, 0.00008, 0.00029, 0.00084, 0.00188, 0.00253, 0.00105, -0.00236, -0.00725, -0.01389, -0.02140, -0.02733, -0.03332, -0.04245, -0.04924, -0.04459, -0.02769, -0.00275, 0.02961, 0.06815, 0.10937, 0.14705, 0.17361, 0.18104, 0.16778, 0.13631, 0.09948, 0.06662, 0.04054, 0.02235, 0.01195, 0.00608, 0.00296, 0.00150, 0.00076, 0.00038 },\n",
        "{ -0.00000, -0.00000, -0.00001, -0.00001, 0.00003, 0.00040, 0.00153, 0.00340, 0.00582, 0.00981, 0.01637, 0.02463, 0.03633, 0.05534, 0.08013, 0.10059, 0.11068, 0.11273, 0.10802, 0.09723, 0.08107, 0.06153, 0.04188, 0.02559, 0.01418, 0.00713, 0.00327, 0.00137, 0.00056, 0.00023, 0.00009, 0.00004, 0.00002, 0.00001, 0.00001, 0.00000 },\n",
        "{ 0.00118, 0.00233, 0.00914, 0.02786, 0.07026, 0.12623, 0.15166, 0.15055, 0.13187, 0.11854, 0.09030, 0.05605, 0.03238, 0.01919, 0.00964, 0.00434, 0.00165, 0.00009, -0.00058, -0.00074, -0.00066, -0.00050, -0.00033, -0.00020, -0.00012, -0.00006, -0.00003, -0.00001, -0.00000, -0.00000, -0.00000, -0.00000, -0.00000, -0.00000, -0.00000, -0.00000 },\n",
        "};\n"
       ]
      }
     ],
     "prompt_number": 28
    },
    {
     "cell_type": "code",
     "collapsed": false,
     "input": [
      "print 'static constexpr Scalar wavelengths[NBINS] = {\\n  ' + ', '.join(['%0.5f' % s for s in bin_centers])+'\\n};'"
     ],
     "language": "python",
     "metadata": {},
     "outputs": [
      {
       "output_type": "stream",
       "stream": "stdout",
       "text": [
        "static constexpr Scalar wavelengths[NBINS] = {\n",
        "  375.00000, 385.00000, 395.00000, 405.00000, 415.00000, 425.00000, 435.00000, 445.00000, 455.00000, 465.00000, 475.00000, 485.00000, 495.00000, 505.00000, 515.00000, 525.00000, 535.00000, 545.00000, 555.00000, 565.00000, 575.00000, 585.00000, 595.00000, 605.00000, 615.00000, 625.00000, 635.00000, 645.00000, 655.00000, 665.00000, 675.00000, 685.00000, 695.00000, 705.00000, 715.00000, 725.00000\n",
        "};\n"
       ]
      }
     ],
     "prompt_number": 29
    },
    {
     "cell_type": "code",
     "collapsed": false,
     "input": [
      "\n",
      "print 'enum Colors {\\n  '+', '.join(['{1} = {0}'.format(q[0], q[1].upper()) for q in enumerate(primaries_names)]) + '\\n};'"
     ],
     "language": "python",
     "metadata": {},
     "outputs": [
      {
       "output_type": "stream",
       "stream": "stdout",
       "text": [
        "enum Colors {\n",
        "  WHITE = 0, RED = 1, GREEN = 2, BLUE = 3, YELLOW = 4, CYAN = 5, MAGENTA = 6\n",
        "};\n"
       ]
      }
     ],
     "prompt_number": 30
    },
    {
     "cell_type": "code",
     "collapsed": false,
     "input": [
      "xyz_to_rgb"
     ],
     "language": "python",
     "metadata": {},
     "outputs": [
      {
       "metadata": {},
       "output_type": "pyout",
       "prompt_number": 38,
       "text": [
        "array([[ 2.3706743, -0.9000405, -0.4706338],\n",
        "       [-0.513885 ,  1.4253036,  0.0885814],\n",
        "       [ 0.0052982, -0.0146949,  1.0093968]])"
       ]
      }
     ],
     "prompt_number": 38
    },
    {
     "cell_type": "code",
     "collapsed": false,
     "input": [
      "def MatrixToCpp(name, m):\n",
      "    rows = []\n",
      "    for r in m:\n",
      "        rows.append(', '.join(str(q) for q in r))\n",
      "    \n",
      "    s = 'static constexpr double {0}[] = {{\\n   {1}\\n}};'.format(\n",
      "        name,\n",
      "        ',\\n   '.join(rows)\n",
      "    )\n",
      "    return s"
     ],
     "language": "python",
     "metadata": {},
     "outputs": [],
     "prompt_number": 62
    },
    {
     "cell_type": "code",
     "collapsed": false,
     "input": [
      "srgb_to_rgb = np.dot(xyz_to_rgb, np.linalg.inv(xyz_to_srgb))\n",
      "rgb_to_srgb = np.linalg.inv(srgb_to_rgb)\n",
      "print MatrixToCpp('xyz_to_rgb', xyz_to_rgb)\n",
      "print MatrixToCpp('xyz_to_srgb', xyz_to_srgb)\n",
      "print MatrixToCpp('rgb_to_xyz', np.linalg.inv(xyz_to_rgb))\n",
      "print MatrixToCpp('srgb_to_xyz', np.linalg.inv(xyz_to_srgb))\n",
      "print MatrixToCpp('srgb_to_rgb', srgb_to_rgb)\n",
      "print MatrixToCpp('rgb_to_srgb', rgb_to_srgb)"
     ],
     "language": "python",
     "metadata": {},
     "outputs": [
      {
       "output_type": "stream",
       "stream": "stdout",
       "text": [
        "static constexpr double xyz_to_rgb = {\n",
        "   2.3706743, -0.9000405, -0.4706338,\n",
        "   -0.513885, 1.4253036, 0.0885814,\n",
        "   0.0052982, -0.0146949, 1.0093968\n",
        "}\n",
        "static constexpr double xyz_to_srgb = {\n",
        "   3.2404542, -1.5371385, -0.4985314,\n",
        "   -0.969266, 1.8760108, 0.041556,\n",
        "   0.0556434, -0.2040259, 1.0572252\n",
        "}\n",
        "static constexpr double rgb_to_xyz = {\n",
        "   0.488717970145, 0.310680326552, 0.200601683242,\n",
        "   0.176204449169, 0.812984689746, 0.010810860004,\n",
        "   -1.86144101189e-08, 0.010204789842, 0.989795129793\n",
        "}\n",
        "static constexpr double srgb_to_xyz = {\n",
        "   0.412456432268, 0.35757607628, 0.180437480294,\n",
        "   0.212672846318, 0.715152167155, 0.0721749995732,\n",
        "   0.0193339041033, 0.119192028243, 0.950304073677\n",
        "}\n",
        "static constexpr double srgb_to_rgb = {\n",
        "   0.777286500154, 0.147934703048, -0.0844471427628,\n",
        "   0.0928808240766, 0.846114173165, 0.0943264374326,\n",
        "   0.0185756513935, 0.11169747188, 0.959129280454\n",
        "}\n",
        "static constexpr double rgb_to_srgb = {\n",
        "   1.31281756556, -0.248012105652, 0.139978826091,\n",
        "   -0.143136263175, 1.22446025105, -0.133023174571,\n",
        "   -0.00875636150541, -0.137793862347, 1.05539281831\n",
        "}\n"
       ]
      }
     ],
     "prompt_number": 60
    },
    {
     "cell_type": "code",
     "collapsed": false,
     "input": [],
     "language": "python",
     "metadata": {},
     "outputs": []
    }
   ],
   "metadata": {}
  }
 ]
}