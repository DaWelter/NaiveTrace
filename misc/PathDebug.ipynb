{
 "metadata": {
  "name": "",
  "signature": "sha256:56bc34c8b29dad5b9901f1636463243a1204e9b161bae0b24819dc8e269f7138"
 },
 "nbformat": 3,
 "nbformat_minor": 0,
 "worksheets": [
  {
   "cells": [
    {
     "cell_type": "code",
     "collapsed": false,
     "input": [
      "import numpy as np"
     ],
     "language": "python",
     "metadata": {},
     "outputs": [
      {
       "output_type": "stream",
       "stream": "stdout",
       "text": [
        "\n"
       ]
      }
     ],
     "prompt_number": 18
    },
    {
     "cell_type": "code",
     "collapsed": false,
     "input": [
      "from pprint import pprint"
     ],
     "language": "python",
     "metadata": {},
     "outputs": [],
     "prompt_number": 19
    },
    {
     "cell_type": "code",
     "collapsed": false,
     "input": [
      "import json\n",
      "import vtk"
     ],
     "language": "python",
     "metadata": {},
     "outputs": [],
     "prompt_number": 20
    },
    {
     "cell_type": "code",
     "collapsed": false,
     "input": [
      "from matplotlib import pyplot\n",
      "import matplotlib\n",
      "pyplot.ion()"
     ],
     "language": "python",
     "metadata": {},
     "outputs": [],
     "prompt_number": 5
    },
    {
     "cell_type": "code",
     "collapsed": false,
     "input": [
      "with open('/tmp/paths.json') as f:\n",
      "    data = f.read()"
     ],
     "language": "python",
     "metadata": {},
     "outputs": [],
     "prompt_number": 6
    },
    {
     "cell_type": "code",
     "collapsed": false,
     "input": [
      "paths = map(str.strip, filter(lambda s: s, data.split(\"-----------------------------------------\")))\n",
      "paths = map(lambda s: json.loads(s), paths)"
     ],
     "language": "python",
     "metadata": {},
     "outputs": [],
     "prompt_number": 7
    },
    {
     "cell_type": "code",
     "collapsed": false,
     "input": [
      "len(paths)"
     ],
     "language": "python",
     "metadata": {},
     "outputs": [
      {
       "metadata": {},
       "output_type": "pyout",
       "prompt_number": 21,
       "text": [
        "45"
       ]
      }
     ],
     "prompt_number": 21
    },
    {
     "cell_type": "code",
     "collapsed": false,
     "input": [
      "p = paths[0]"
     ],
     "language": "python",
     "metadata": {},
     "outputs": [],
     "prompt_number": 22
    },
    {
     "cell_type": "code",
     "collapsed": false,
     "input": [
      "#pprint(p)"
     ],
     "language": "python",
     "metadata": {},
     "outputs": [],
     "prompt_number": 23
    },
    {
     "cell_type": "code",
     "collapsed": false,
     "input": [
      "for i,node in enumerate(p):\n",
      "    n1 = np.asarray(node['geom_normal'])\n",
      "    n2 = np.asarray(node['normal'])\n",
      "    wi = np.asarray(node['incident_dir'])\n",
      "    wo = np.asarray(node['exitant_dir'])\n",
      "    print '[%i]---------------------------------------' % i\n",
      "    print np.dot(n1,n2), np.linalg.norm(n1), np.linalg.norm(n2)\n",
      "    print 'Wb = ',node['weight_before']\n",
      "    print 'Wa = ',node['weight_after']\n",
      "    print 'wi = ',wi, np.linalg.norm(wi)\n",
      "    print 'wo = ',wo, np.linalg.norm(wo)\n",
      "    print 'wi.wo = ', np.dot(wi,wo)\n",
      "    print 'is_surf = ',node['is_surface']\n",
      "    print 'pos = ', node['position']\n",
      "print '-----------------------------------------'"
     ],
     "language": "python",
     "metadata": {},
     "outputs": [
      {
       "output_type": "stream",
       "stream": "stdout",
       "text": [
        "[0]---------------------------------------\n",
        "0.0 0.0 0.0\n",
        "Wb =  [0.0, 0.0, 0.0]\n",
        "Wa =  [1.0, 1.0, 1.0]\n",
        "wi =  [0. 0. 0.] 0.0\n",
        "wo =  [ 0.42120644 -0.8400687   0.34186208] 0.9999999847845945\n",
        "wi.wo =  0.0\n",
        "is_surf =  True\n",
        "pos =  [-48.023900969729745, 96.76835991776413, -39.58475461740684]\n",
        "[1]---------------------------------------\n",
        "0.9832791467620914 1.0 1.0\n",
        "Wb =  [1.0, 1.0, 1.0]\n",
        "Wa =  [78.88948426740633, 78.88948426740633, 78.88948426740633]\n",
        "wi =  [ 0.42120644 -0.8400687   0.34186208] 0.9999999847845945\n",
        "wo =  [ 0.41791348 -0.84187367  0.34146305] 0.9999999847845945\n",
        "wi.wo =  0.9999928392042927\n",
        "is_surf =  True\n",
        "pos =  [0.0729568749666214, 0.8422347903251648, -0.5476874709129333]\n",
        "[2]---------------------------------------\n",
        "0.9945254493522901 1.0 1.0\n",
        "Wb =  [78.88948426740633, 78.88948426740633, 78.88948426740633]\n",
        "Wa =  [2562.0603440381833, 2562.0603440381833, 2562.0603440381833]\n",
        "wi =  [ 0.41791348 -0.84187367  0.34146305] 0.9999999847845945\n",
        "wo =  [ 0.41472697 -0.84358815  0.34111662] 0.9999999847845945\n",
        "wi.wo =  0.9999933628901101\n",
        "is_surf =  True\n",
        "pos =  [0.07590173929929733, 0.8363015055656433, -0.5452809929847717]\n",
        "[3]---------------------------------------\n",
        "0.9928757255390595 0.9999999999999999 1.0\n",
        "Wb =  [2562.0603440381833, 2562.0603440381833, 2562.0603440381833]\n",
        "Wa =  [149.69122221831407, 149.69122221831407, 149.69122221831407]\n",
        "wi =  [ 0.41472697 -0.84358815  0.34111662] 0.9999999847845945\n",
        "wo =  [ 0.19529552 -0.92419479  0.32821277] 0.9999999847845945\n",
        "wi.wo =  0.9725929195541165\n",
        "is_surf =  True\n",
        "pos =  [0.08136506378650665, 0.8251876831054688, -0.5407871007919312]\n",
        "[4]---------------------------------------\n",
        "0.9961223136303305 0.9999999999999999 1.0\n",
        "Wb =  [149.69122221831407, 149.69122221831407, 149.69122221831407]\n",
        "Wa =  [36.46407895661822, 36.46407895661822, 36.46407895661822]\n",
        "wi =  [ 0.19529552 -0.92419479  0.32821277] 0.9999999847845945\n",
        "wo =  [ 0.0718531  -0.94626098  0.3153209 ] 0.9999999847845944\n",
        "wi.wo =  0.992054395647886\n",
        "is_surf =  True\n",
        "pos =  [0.08312096446752548, 0.816877007484436, -0.5378357172012329]\n",
        "[5]---------------------------------------\n",
        "0.9983656987421596 1.0 1.0\n",
        "Wb =  [36.46407895661822, 36.46407895661822, 36.46407895661822]\n",
        "Wa =  [35.49543548605648, 35.49543548605648, 35.49543548605648]\n",
        "wi =  [ 0.0718531  -0.94626098  0.3153209 ] 0.9999999847845944\n",
        "wo =  [-0.53941852 -0.8221963  -0.18171646] 0.9999999847845945\n",
        "wi.wo =  0.6819543795411018\n",
        "is_surf =  True\n",
        "pos =  [0.09693234413862228, 0.6349866390228271, -0.4772247076034546]\n",
        "[6]---------------------------------------\n",
        "0.9994275042436818 0.9999999999999999 1.0\n",
        "Wb =  [35.49543548605648, 35.49543548605648, 35.49543548605648]\n",
        "Wa =  [33.69437389720138, 33.69437389720138, 33.69437389720138]\n",
        "wi =  [-0.53941852 -0.8221963  -0.18171646] 0.9999999847845945\n",
        "wo =  [ 0.44763572 -0.23562479 -0.86261416] 0.9999999847845946\n",
        "wi.wo =  0.1090180244731477\n",
        "is_surf =  True\n",
        "pos =  [-0.06522363424301147, 0.3878246545791626, -0.531851053237915]\n",
        "[7]---------------------------------------\n",
        "0.9922431110609824 1.0 1.0\n",
        "Wb =  [33.69437389720138, 33.69437389720138, 33.69437389720138]\n",
        "Wa =  [27.80651078868682, 27.80651078868682, 27.80651078868682]\n",
        "wi =  [ 0.44763572 -0.23562479 -0.86261416] 0.9999999847845946\n",
        "wo =  [ 0.52203124 -0.7415924   0.42133605] 0.9999999847845945\n",
        "wi.wo =  0.04496694426098519\n",
        "is_surf =  True\n",
        "pos =  [0.03091341070830822, 0.3372207581996918, -0.7171111106872559]\n",
        "[8]---------------------------------------\n",
        "0.9500738384024909 1.0 1.0\n",
        "Wb =  [27.80651078868682, 27.80651078868682, 27.80651078868682]\n",
        "Wa =  [55.61302157737364, 55.61302157737364, 55.61302157737364]\n",
        "wi =  [ 0.52203124 -0.7415924   0.42133605] 0.9999999847845945\n",
        "wo =  [0.96605924 0.21780608 0.13888853] 0.9999999847845945\n",
        "wi.wo =  0.4013085151696359\n",
        "is_surf =  True\n",
        "pos =  [0.13276107609272003, 0.19253689050674438, -0.6349083185195923]\n",
        "[9]---------------------------------------\n",
        "0.9857978851208639 1.0 1.0\n",
        "Wb =  [55.61302157737364, 55.61302157737364, 55.61302157737364]\n",
        "Wa =  [0.0, 0.0, 0.0]\n",
        "wi =  [0.96605924 0.21780608 0.13888853] 0.9999999847845945\n",
        "wo =  [0. 0. 0.] 0.0\n",
        "wi.wo =  0.0\n",
        "is_surf =  True\n",
        "pos =  [0.14296245574951172, 0.1948370635509491, -0.6334418058395386]\n",
        "-----------------------------------------\n"
       ]
      }
     ],
     "prompt_number": 24
    },
    {
     "cell_type": "code",
     "collapsed": false,
     "input": [
      "def weightgrowth(node):\n",
      "    return np.amax(np.nan_to_num(np.asarray(node['weight_after'])/np.asarray(node['weight_before'])))"
     ],
     "language": "python",
     "metadata": {},
     "outputs": [],
     "prompt_number": 25
    },
    {
     "cell_type": "code",
     "collapsed": false,
     "input": [
      "maxgrowth = [weightgrowth(n) for n in p[1:] if n['is_surface']]\n",
      "maxgrowth"
     ],
     "language": "python",
     "metadata": {},
     "outputs": [
      {
       "metadata": {},
       "output_type": "pyout",
       "prompt_number": 26,
       "text": [
        "[78.88948426740633,\n",
        " 32.47657616005881,\n",
        " 0.05842611106590047,\n",
        " 0.24359530516383882,\n",
        " 0.9734356797627015,\n",
        " 0.9492593466119721,\n",
        " 0.825256788374287,\n",
        " 2.0,\n",
        " 0.0]"
       ]
      }
     ],
     "prompt_number": 26
    },
    {
     "cell_type": "code",
     "collapsed": false,
     "input": [
      "np.cumproduct(maxgrowth)"
     ],
     "language": "python",
     "metadata": {},
     "outputs": [
      {
       "metadata": {},
       "output_type": "pyout",
       "prompt_number": 27,
       "text": [
        "array([  78.88948427, 2562.06034404,  149.69122222,   36.46407896,\n",
        "         35.49543549,   33.6943739 ,   27.80651079,   55.61302158,\n",
        "          0.        ])"
       ]
      }
     ],
     "prompt_number": 27
    },
    {
     "cell_type": "code",
     "collapsed": false,
     "input": [
      "maxgrowth = [weightgrowth(n)/50. for n in p if not n['is_surface']]\n",
      "maxgrowth"
     ],
     "language": "python",
     "metadata": {},
     "outputs": [
      {
       "metadata": {},
       "output_type": "pyout",
       "prompt_number": 28,
       "text": [
        "[]"
       ]
      }
     ],
     "prompt_number": 28
    },
    {
     "cell_type": "code",
     "collapsed": false,
     "input": [
      "node = p[1]"
     ],
     "language": "python",
     "metadata": {},
     "outputs": [],
     "prompt_number": 29
    },
    {
     "cell_type": "code",
     "collapsed": false,
     "input": [
      "print 'weightgrowth = ', weightgrowth(node)"
     ],
     "language": "python",
     "metadata": {},
     "outputs": [
      {
       "output_type": "stream",
       "stream": "stdout",
       "text": [
        "weightgrowth =  78.88948426740633\n"
       ]
      }
     ],
     "prompt_number": 30
    },
    {
     "cell_type": "code",
     "collapsed": false,
     "input": [
      "print (node['weight_before'])\n",
      "print (node['weight_after'])"
     ],
     "language": "python",
     "metadata": {},
     "outputs": [
      {
       "output_type": "stream",
       "stream": "stdout",
       "text": [
        "[1.0, 1.0, 1.0]\n",
        "[78.88948426740633, 78.88948426740633, 78.88948426740633]\n"
       ]
      }
     ],
     "prompt_number": 50
    },
    {
     "cell_type": "code",
     "collapsed": false,
     "input": [
      "ng = np.asarray(node['geom_normal'])\n",
      "ns = np.asarray(node['normal'])\n",
      "wi = -np.asarray(node['incident_dir'])\n",
      "wo = np.asarray(node['exitant_dir'])"
     ],
     "language": "python",
     "metadata": {},
     "outputs": [],
     "prompt_number": 31
    },
    {
     "cell_type": "code",
     "collapsed": false,
     "input": [
      "print (\"Is consistent normal: \", np.dot(ns,wi) * np.dot(ng,wi))"
     ],
     "language": "python",
     "metadata": {},
     "outputs": [
      {
       "output_type": "stream",
       "stream": "stdout",
       "text": [
        "('Is consistent normal: ', -0.0002812554046661003)\n"
       ]
      }
     ],
     "prompt_number": 51
    },
    {
     "cell_type": "code",
     "collapsed": false,
     "input": [
      "np.dot(wo, ns)/np.dot(wo, ng)"
     ],
     "language": "python",
     "metadata": {},
     "outputs": [
      {
       "metadata": {},
       "output_type": "pyout",
       "prompt_number": 53,
       "text": [
        "80.85604256098982"
       ]
      }
     ],
     "prompt_number": 53
    },
    {
     "cell_type": "code",
     "collapsed": false,
     "input": [
      "frame = np.asarray([\n",
      "    ng,\n",
      "    wi,\n",
      "    np.cross(ng,wi)\n",
      "])\n",
      "frame[2] /= np.linalg.norm(frame[2])\n",
      "frame[1] = np.cross(frame[0],frame[2])\n",
      "frame = np.linalg.inv(frame.T)"
     ],
     "language": "python",
     "metadata": {},
     "outputs": [],
     "prompt_number": 32
    },
    {
     "cell_type": "code",
     "collapsed": false,
     "input": [
      "np.linalg.det(frame)"
     ],
     "language": "python",
     "metadata": {},
     "outputs": [
      {
       "metadata": {},
       "output_type": "pyout",
       "prompt_number": 33,
       "text": [
        "-0.9999999999999997"
       ]
      }
     ],
     "prompt_number": 33
    },
    {
     "cell_type": "code",
     "collapsed": false,
     "input": [
      "wi_ = np.dot(frame, np.atleast_2d(wi).T).T[0]\n",
      "wo_ = np.dot(frame, np.atleast_2d(wo).T).T[0]\n",
      "ng_ = np.dot(frame, np.atleast_2d(ng).T).T[0]\n",
      "ns_ = np.dot(frame, np.atleast_2d(ns).T).T[0]"
     ],
     "language": "python",
     "metadata": {},
     "outputs": [],
     "prompt_number": 34
    },
    {
     "cell_type": "code",
     "collapsed": false,
     "input": [
      "wi_"
     ],
     "language": "python",
     "metadata": {},
     "outputs": [
      {
       "metadata": {},
       "output_type": "pyout",
       "prompt_number": 35,
       "text": [
        "array([ 1.88816907e-03, -9.99998202e-01,  2.77555756e-17])"
       ]
      }
     ],
     "prompt_number": 35
    },
    {
     "cell_type": "code",
     "collapsed": false,
     "input": [
      "wo_"
     ],
     "language": "python",
     "metadata": {},
     "outputs": [
      {
       "metadata": {},
       "output_type": "pyout",
       "prompt_number": 36,
       "text": [
        "array([ 1.88816907e-03,  9.99998202e-01, -2.77555756e-17])"
       ]
      }
     ],
     "prompt_number": 36
    },
    {
     "cell_type": "code",
     "collapsed": false,
     "input": [
      "ng_"
     ],
     "language": "python",
     "metadata": {},
     "outputs": [
      {
       "metadata": {},
       "output_type": "pyout",
       "prompt_number": 37,
       "text": [
        "array([ 1.00000000e+00, -5.55111512e-17, -2.77555756e-17])"
       ]
      }
     ],
     "prompt_number": 37
    },
    {
     "cell_type": "code",
     "collapsed": false,
     "input": [
      "ns_"
     ],
     "language": "python",
     "metadata": {},
     "outputs": [
      {
       "metadata": {},
       "output_type": "pyout",
       "prompt_number": 38,
       "text": [
        "array([ 0.98327915,  0.15081355, -0.10206563])"
       ]
      }
     ],
     "prompt_number": 38
    },
    {
     "cell_type": "code",
     "collapsed": false,
     "input": [
      "np.linalg.norm(wi)"
     ],
     "language": "python",
     "metadata": {},
     "outputs": [
      {
       "metadata": {},
       "output_type": "pyout",
       "prompt_number": 39,
       "text": [
        "0.9999999847845945"
       ]
      }
     ],
     "prompt_number": 39
    },
    {
     "cell_type": "code",
     "collapsed": false,
     "input": [
      "def plot_dir(w,*args, **kwargs):\n",
      "    return pyplot.plot([0,w[0]], [0,w[1]], *args, **kwargs)"
     ],
     "language": "python",
     "metadata": {},
     "outputs": [],
     "prompt_number": 45
    },
    {
     "cell_type": "code",
     "collapsed": false,
     "input": [
      "plot_dir(wi_, c='r')\n",
      "plot_dir(wo_, c='g')\n",
      "plot_dir(ng_, c='k')\n",
      "plot_dir(ns_, c='grey')\n",
      "pyplot.show()"
     ],
     "language": "python",
     "metadata": {},
     "outputs": [],
     "prompt_number": 46
    },
    {
     "cell_type": "code",
     "collapsed": false,
     "input": [
      "def HasTotalReflect(wi, n, eta):\n",
      "    cosThetaI = np.dot(n, wi)\n",
      "    sin2ThetaI = max(0, 1- cosThetaI*cosThetaI)\n",
      "    sin2ThetaI *= eta*eta\n",
      "    return sin2ThetaI >= 1"
     ],
     "language": "python",
     "metadata": {},
     "outputs": [],
     "prompt_number": 48
    },
    {
     "cell_type": "code",
     "collapsed": false,
     "input": [
      "HasTotalReflect(wi_, ng_, 1.4)"
     ],
     "language": "python",
     "metadata": {},
     "outputs": [
      {
       "metadata": {},
       "output_type": "pyout",
       "prompt_number": 49,
       "text": [
        "True"
       ]
      }
     ],
     "prompt_number": 49
    },
    {
     "cell_type": "code",
     "collapsed": false,
     "input": [
      "np.dot(ns_, wi_)*np.dot(ng_,wo_)/(np.dot(ns_,wo_)*np.dot(ng_,wi_))"
     ],
     "language": "python",
     "metadata": {},
     "outputs": [
      {
       "metadata": {},
       "output_type": "pyout",
       "prompt_number": 29,
       "text": [
        "-0.9756782767095262"
       ]
      }
     ],
     "prompt_number": 29
    },
    {
     "cell_type": "code",
     "collapsed": false,
     "input": [
      "points = vtk.vtkPoints()\n",
      "lines  = vtk.vtkCellArray()\n",
      "idx = 0\n",
      "for p in paths:\n",
      "    for i in range(len(p)-1):\n",
      "        points.InsertNextPoint(p[i]['position'])\n",
      "        points.InsertNextPoint(p[i+1]['position'])\n",
      "        line = vtk.vtkLine()\n",
      "        line.GetPointIds().SetId(0, idx)\n",
      "        line.GetPointIds().SetId(1, idx+1)\n",
      "        lines.InsertNextCell(line)\n",
      "        idx += 2\n",
      "\n",
      "polydata = vtk.vtkPolyData()\n",
      "polydata.SetPoints(points)\n",
      "polydata.SetLines(lines)\n",
      "polydata.Modified()\n",
      "polydata.Update()\n",
      "\n",
      "writer = vtk.vtkXMLPolyDataWriter()\n",
      "writer.SetFileName('/tmp/lines.vtp')\n",
      "writer.SetInput(polydata)\n",
      "writer.Write()"
     ],
     "language": "python",
     "metadata": {},
     "outputs": [
      {
       "metadata": {},
       "output_type": "pyout",
       "prompt_number": 36,
       "text": [
        "1"
       ]
      }
     ],
     "prompt_number": 36
    }
   ],
   "metadata": {}
  }
 ]
}