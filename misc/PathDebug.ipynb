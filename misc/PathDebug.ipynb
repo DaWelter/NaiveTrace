{
 "cells": [
  {
   "cell_type": "code",
   "execution_count": null,
   "metadata": {},
   "outputs": [],
   "source": [
    "import numpy as np"
   ]
  },
  {
   "cell_type": "code",
   "execution_count": null,
   "metadata": {},
   "outputs": [],
   "source": [
    "from pprint import pprint"
   ]
  },
  {
   "cell_type": "code",
   "execution_count": null,
   "metadata": {},
   "outputs": [],
   "source": [
    "import json\n",
    "import vtk"
   ]
  },
  {
   "cell_type": "code",
   "execution_count": null,
   "metadata": {},
   "outputs": [],
   "source": [
    "from matplotlib import pyplot\n",
    "import matplotlib\n",
    "pyplot.ion()"
   ]
  },
  {
   "cell_type": "code",
   "execution_count": null,
   "metadata": {},
   "outputs": [],
   "source": [
    "with open('/tmp/paths.json') as f:\n",
    "    data = f.read()"
   ]
  },
  {
   "cell_type": "code",
   "execution_count": null,
   "metadata": {},
   "outputs": [],
   "source": [
    "paths = map(str.strip, filter(lambda s: s, data.split(\"\\n-----------------------------------------\\n\")))\n",
    "paths = list(map(lambda s: json.loads(s), paths))"
   ]
  },
  {
   "cell_type": "code",
   "execution_count": null,
   "metadata": {},
   "outputs": [],
   "source": [
    "for p in paths:\n",
    "    p['max_contribution'] = max(*p['contribution']['pixel_value'])"
   ]
  },
  {
   "cell_type": "code",
   "execution_count": null,
   "metadata": {},
   "outputs": [],
   "source": [
    "len(paths)"
   ]
  },
  {
   "cell_type": "raw",
   "metadata": {},
   "source": [
    "ng = np.asarray(node['geom_normal'])\n",
    "ns = np.asarray(node['normal'])\n",
    "wi = -np.asarray(node['incident_dir'])\n",
    "wo = np.asarray(node['exitant_dir'])"
   ]
  },
  {
   "cell_type": "raw",
   "metadata": {},
   "source": [
    "frame = np.asarray([\n",
    "    ng,\n",
    "    wi,\n",
    "    np.cross(ng,wi)\n",
    "])\n",
    "frame[2] /= np.linalg.norm(frame[2])\n",
    "frame[1] = np.cross(frame[0],frame[2])\n",
    "frame = np.linalg.inv(frame.T)"
   ]
  },
  {
   "cell_type": "raw",
   "metadata": {},
   "source": [
    "def plot_dir(w,*args, **kwargs):\n",
    "    return pyplot.plot([0,w[0]], [0,w[1]], *args, **kwargs)"
   ]
  },
  {
   "cell_type": "raw",
   "metadata": {},
   "source": [
    "plot_dir(wi_, c='r')\n",
    "plot_dir(wo_, c='g')\n",
    "plot_dir(ng_, c='k')\n",
    "plot_dir(ns_, c='grey')\n",
    "pyplot.show()"
   ]
  },
  {
   "cell_type": "code",
   "execution_count": null,
   "metadata": {},
   "outputs": [],
   "source": [
    "def HasTotalReflect(wi, n, eta):\n",
    "    cosThetaI = np.dot(n, wi)\n",
    "    sin2ThetaI = max(0, 1- cosThetaI*cosThetaI)\n",
    "    sin2ThetaI *= eta*eta\n",
    "    return sin2ThetaI >= 1"
   ]
  },
  {
   "cell_type": "code",
   "execution_count": null,
   "metadata": {},
   "outputs": [],
   "source": [
    "points = vtk.vtkPoints()\n",
    "lines  = vtk.vtkCellArray()\n",
    "idx = 0\n",
    "for p in paths:\n",
    "    for i in range(len(p)-1):\n",
    "        points.InsertNextPoint(p[i]['position'])\n",
    "        points.InsertNextPoint(p[i+1]['position'])\n",
    "        line = vtk.vtkLine()\n",
    "        line.GetPointIds().SetId(0, idx)\n",
    "        line.GetPointIds().SetId(1, idx+1)\n",
    "        lines.InsertNextCell(line)\n",
    "        idx += 2\n",
    "\n",
    "polydata = vtk.vtkPolyData()\n",
    "polydata.SetPoints(points)\n",
    "polydata.SetLines(lines)\n",
    "polydata.Modified()\n",
    "polydata.Update()\n",
    "\n",
    "writer = vtk.vtkXMLPolyDataWriter()\n",
    "writer.SetFileName('/tmp/lines.vtp')\n",
    "writer.SetInput(polydata)\n",
    "writer.Write()"
   ]
  }
 ],
 "metadata": {
  "kernelspec": {
   "display_name": "Python 3",
   "language": "python",
   "name": "python3"
  },
  "language_info": {
   "codemirror_mode": {
    "name": "ipython",
    "version": 3
   },
   "file_extension": ".py",
   "mimetype": "text/x-python",
   "name": "python",
   "nbconvert_exporter": "python",
   "pygments_lexer": "ipython3",
   "version": "3.7.3"
  }
 },
 "nbformat": 4,
 "nbformat_minor": 1
}
