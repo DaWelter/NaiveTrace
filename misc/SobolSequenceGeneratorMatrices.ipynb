{
 "cells": [
  {
   "cell_type": "markdown",
   "metadata": {},
   "source": [
    "Refs:\n",
    "* https://web.maths.unsw.edu.au/~fkuo/sobol/joe-kuo-notes.pdf\n",
    "* https://web.maths.unsw.edu.au/~fkuo/sobol/\n",
    "* https://researchcommons.waikato.ac.nz/bitstream/handle/10289/967/Joe%20constructing.pdf?sequence=1&isAllowed=y\n",
    "* http://www.pbr-book.org/3ed-2018/Sampling_and_Reconstruction/(0,_2)-Sequence_Sampler.html\n",
    "* http://www.pbr-book.org/3ed-2018/Sampling_and_Reconstruction/Sobol_Sampler.html"
   ]
  },
  {
   "cell_type": "code",
   "execution_count": null,
   "metadata": {},
   "outputs": [],
   "source": [
    "import numpy as np\n",
    "from matplotlib import pyplot"
   ]
  },
  {
   "cell_type": "code",
   "execution_count": null,
   "metadata": {},
   "outputs": [],
   "source": [
    "def ReverseBits(bits):\n",
    "    bits = (bits << 16) | (bits >> 16)\n",
    "    bits = ((bits & 0x00ff00ff) << 8) | ((bits & 0xff00ff00) >> 8)\n",
    "    bits = ((bits & 0x0f0f0f0f) << 4) | ((bits & 0xf0f0f0f0) >> 4)\n",
    "    bits = ((bits & 0x33333333) << 2) | ((bits & 0xcccccccc) >> 2)\n",
    "    bits = ((bits & 0x55555555) << 1) | ((bits & 0xaaaaaaaa) >> 1)\n",
    "    return bits\n",
    "\n",
    "def To01(x):\n",
    "    return x / float(1<<32)"
   ]
  },
  {
   "cell_type": "code",
   "execution_count": null,
   "metadata": {},
   "outputs": [],
   "source": [
    "def PlotMatrix(ax, C):\n",
    "    a = np.zeros((32,32), np.uint8)\n",
    "    for i in range(32):\n",
    "        for j in range(32):\n",
    "            a[i,j] = (1) if C[j]&(1<<i) else 0\n",
    "    ax.imshow(a)"
   ]
  },
  {
   "cell_type": "code",
   "execution_count": null,
   "metadata": {},
   "outputs": [],
   "source": [
    "def MakeTheMatrix(s, a, m):\n",
    "    # The generator matrix\n",
    "    # s: Polynomial degree\n",
    "    # a: Polynomial coefficients (binary).\n",
    "    # m: Initial direction numbers\n",
    "    C = np.zeros(32, dtype=np.uint32)\n",
    "    for k in range(s):\n",
    "        C[k] = m[k]\n",
    "        #print (C[k], bin(C[k]))\n",
    "    for k in range(s, 32):\n",
    "        # Generate m[k]\n",
    "        pow2 = 1<<s\n",
    "        C[k] ^= C[k-s]\n",
    "        C[k] ^= pow2*C[k-s]\n",
    "        for i in range(s-1):\n",
    "            pow2 = pow2>>1\n",
    "            #print (f\"C[{k}] ... i{i}, pow2 {pow2}, a {a&1}, C[{k-s+i+1}]\")\n",
    "            if (a & (1<<(s-2-i))):\n",
    "                C[k] ^= pow2*C[k-s+i+1]\n",
    "            assert(k-s+i+1 >= 0)\n",
    "            assert(pow2>=2)\n",
    "        #print (C[k], bin(C[k]))\n",
    "    # Turn the m's into the v's\n",
    "    for k in range(0, 32):\n",
    "        # The shift aligns the bits to the left.\n",
    "        C[k] = C[k]<<(32-k-1)\n",
    "    return C"
   ]
  },
  {
   "cell_type": "code",
   "execution_count": null,
   "metadata": {},
   "outputs": [],
   "source": [
    "def MakeIdentityGenerator():\n",
    "    a = np.zeros(32, np.uint32)\n",
    "    for i in range(32):\n",
    "        a[i] = 1<<(31-i)\n",
    "    return a"
   ]
  },
  {
   "cell_type": "code",
   "execution_count": null,
   "metadata": {},
   "outputs": [],
   "source": [
    "def MultGenerator(C, x):\n",
    "    out = np.uint32(0)\n",
    "    i = 0;\n",
    "    while x != 0:\n",
    "        if x & 1:\n",
    "            out ^= C[i]\n",
    "        i += 1\n",
    "        x = x>>1\n",
    "    return out"
   ]
  },
  {
   "cell_type": "code",
   "execution_count": null,
   "metadata": {},
   "outputs": [],
   "source": [
    "def Generate(N, C):\n",
    "    for i in range(N):\n",
    "        yield To01(MultGenerator(C, i))"
   ]
  },
  {
   "cell_type": "code",
   "execution_count": null,
   "metadata": {},
   "outputs": [],
   "source": [
    "m1 = 1\n",
    "m2 = 3\n",
    "m3 = 7\n",
    "s = 3\n",
    "a = 2"
   ]
  },
  {
   "cell_type": "code",
   "execution_count": null,
   "metadata": {},
   "outputs": [],
   "source": [
    "m4 = (2**s * m1) ^ (m1) ^ (1 * 2**2 * m2) ^ (0 * 2**1 * m3)\n",
    "m4"
   ]
  },
  {
   "cell_type": "code",
   "execution_count": null,
   "metadata": {},
   "outputs": [],
   "source": [
    "m5 = (2**s * m2) ^ (m2) ^ (1 * 2**2 * m3) ^ (0 * 2**1 * m4)\n",
    "m5"
   ]
  },
  {
   "cell_type": "code",
   "execution_count": null,
   "metadata": {},
   "outputs": [],
   "source": [
    "#C2 = MakeTheMatrix(1,0,[1]) # Dim 2\n",
    "#C3 = MakeTheMatrix(2,1,[1,3]) # Dim 3\n",
    "#print(C9)\n",
    "#print(C2)\n",
    "TEST = MakeTheMatrix(3, 2, [1, 3, 7])\n",
    "sorted([*Generate(16, TEST)])"
   ]
  },
  {
   "cell_type": "code",
   "execution_count": null,
   "metadata": {},
   "outputs": [],
   "source": [
    "PlotMatrix(pyplot.gca(), TEST)\n",
    "pyplot.show()\n",
    "for v in TEST:\n",
    "    print(bin(v))"
   ]
  },
  {
   "cell_type": "code",
   "execution_count": null,
   "metadata": {},
   "outputs": [],
   "source": [
    "# https://web.maths.unsw.edu.au/~fkuo/sobol/\n",
    "# d       s       a       m_i\n",
    "joe_kue_D5_excerpt = r'''\n",
    "2       1       0       1 \n",
    "3       2       1       1 3 \n",
    "4       3       1       1 3 1 \n",
    "5       3       2       1 1 1 \n",
    "6       4       1       1 1 3 3 \n",
    "7       4       4       1 3 5 13 \n",
    "8       5       2       1 1 5 5 17 \n",
    "9       5       4       1 1 5 5 5 \n",
    "10      5       7       1 1 7 11 19 \n",
    "11      5       11      1 1 5 1 1 \n",
    "12      5       13      1 3 7 1 19 \n",
    "13      5       14      1 3 3 5 7 \n",
    "14      6       1       1 3 3 13 9 53 \n",
    "15      6       13      1 1 5 11 1 1 \n",
    "16      6       16      1 1 3 7 21 51 \n",
    "17      6       19      1 1 1 15 1 5 \n",
    "18      6       22      1 3 1 9 9 1 \n",
    "19      6       25      1 1 5 5 17 61 \n",
    "20      7       1       1 3 1 15 29 57 87 \n",
    "21      7       4       1 3 5 15 3 11 17 \n",
    "22      7       7       1 3 3 7 5 17 65 \n",
    "23      7       8       1 3 5 1 25 29 49 \n",
    "24      7       14      1 1 3 7 15 39 119 \n",
    "25      7       19      1 3 3 5 19 51 61 \n",
    "26      7       21      1 1 5 15 11 47 15 \n",
    "27      7       28      1 1 7 3 29 51 51 \n",
    "28      7       31      1 1 3 15 19 17 13 \n",
    "29      7       32      1 3 7 3 17 9 93 \n",
    "30      7       37      1 3 7 5 7 29 111 \n",
    "31      7       41      1 1 7 9 25 19 105 \n",
    "32      7       42      1 1 1 11 21 35 107 \n",
    "33      7       50      1 1 5 11 19 53 25 \n",
    "34      7       55      1 3 1 3 27 29 31 \n",
    "35      7       56      1 1 5 13 27 19 61 \n",
    "36      7       59      1 3 1 3 25 33 105 \n",
    "37      7       62      1 3 7 11 27 55 1 \n",
    "38      8       14      1 1 7 1 9 45 97 63 \n",
    "39      8       21      1 1 7 9 3 17 85 213 \n",
    "40      8       22      1 1 1 3 31 35 93 35 \n",
    "41      8       38      1 3 5 9 1 63 117 35 \n",
    "42      8       47      1 3 1 9 21 3 53 29 \n",
    "43      8       49      1 3 1 9 29 33 43 181 \n",
    "44      8       50      1 3 7 3 21 45 121 141 \n",
    "45      8       52      1 1 1 13 5 49 45 77 \n",
    "46      8       56      1 1 3 3 1 47 37 151 \n",
    "47      8       67      1 3 7 5 9 51 61 95 \n",
    "48      8       70      1 1 1 7 31 23 81 105 \n",
    "49      8       84      1 3 5 15 15 9 115 55 \n",
    "50      8       97      1 3 3 13 15 1 87 11 \n",
    "51      8       103     1 3 5 1 5 9 29 241 \n",
    "52      8       115     1 1 1 9 19 5 115 191 \n",
    "53      8       122     1 1 1 15 1 57 107 49 \n",
    "54      9       8       1 1 7 7 23 21 71 187 207 \n",
    "55      9       13      1 3 3 5 11 35 101 7 501 \n",
    "56      9       16      1 3 5 15 29 5 61 205 301 \n",
    "57      9       22      1 1 7 13 7 39 127 243 307 \n",
    "58      9       25      1 3 7 13 29 9 93 187 429 \n",
    "59      9       44      1 3 3 11 15 35 85 159 223 \n",
    "60      9       47      1 1 3 1 13 3 111 17 411 \n",
    "61      9       52      1 1 1 7 31 21 103 175 97 \n",
    "62      9       55      1 1 1 15 11 21 63 45 29 \n",
    "63      9       59      1 3 5 3 13 45 53 191 455 \n",
    "64      9       62      1 3 3 13 11 37 65 45 371 \n",
    "'''\n",
    "def readln(row):\n",
    "    data = [int(s.strip()) for s in row.split(' ') if s.strip()]\n",
    "    d, s, a = data[:3]\n",
    "    ms = data[3:]\n",
    "    return d, s, a, ms\n",
    "\n",
    "#generator_specs = [readln(r) for r in joe_kue_D5_excerpt.split('\\n') if r]\n",
    "\n",
    "with open(\"new-joe-kuo-5.21201\",\"r\") as f:\n",
    "    joe_kue_D5_full = f.readlines()[1:]\n",
    "generator_specs = [readln(r) for r in joe_kue_D5_full ]"
   ]
  },
  {
   "cell_type": "code",
   "execution_count": null,
   "metadata": {},
   "outputs": [],
   "source": [
    "N = 100\n",
    "def MakeGenerator(D):\n",
    "    if D==1:\n",
    "        return MakeIdentityGenerator()\n",
    "    else:\n",
    "        return MakeTheMatrix(*generator_specs[D-2][1:])\n",
    "    \n",
    "def Plot2d(N, D1, D2):\n",
    "    col = np.arange(N)\n",
    "    x1 = np.fromiter(Generate(N,MakeGenerator(D1)), dtype=np.float32)\n",
    "    x2 = np.fromiter(Generate(N,MakeGenerator(D2)), dtype=np.float32)\n",
    "    pyplot.scatter(x1,x2,c=col, marker = 'x')"
   ]
  },
  {
   "cell_type": "code",
   "execution_count": null,
   "metadata": {},
   "outputs": [],
   "source": [
    "Plot2d(1000, 1, 2)"
   ]
  },
  {
   "cell_type": "code",
   "execution_count": null,
   "metadata": {},
   "outputs": [],
   "source": [
    "Plot2d(1000, 3, 4)"
   ]
  },
  {
   "cell_type": "code",
   "execution_count": null,
   "metadata": {},
   "outputs": [],
   "source": [
    "Plot2d(1000, 5, 6)"
   ]
  },
  {
   "cell_type": "code",
   "execution_count": null,
   "metadata": {},
   "outputs": [],
   "source": [
    "Plot2d(1000, 7, 8)"
   ]
  },
  {
   "cell_type": "code",
   "execution_count": null,
   "metadata": {},
   "outputs": [],
   "source": [
    "Plot2d(1000, 9, 10)"
   ]
  },
  {
   "cell_type": "code",
   "execution_count": null,
   "metadata": {},
   "outputs": [],
   "source": [
    "Plot2d(100, 66, 67)"
   ]
  },
  {
   "cell_type": "code",
   "execution_count": null,
   "metadata": {},
   "outputs": [],
   "source": [
    "Plot2d(1024, 64, 65)"
   ]
  },
  {
   "cell_type": "raw",
   "metadata": {},
   "source": [
    "# Load points generated by the provided example program https://web.maths.unsw.edu.au/~fkuo/sobol/\n",
    "with open('/tmp/sobol.txt','r') as f:\n",
    "    data = f.readlines()\n",
    "data = np.array([ [ float(s.strip()) for s in row.split(' ') if s.strip()] for row in data if row.strip()])\n",
    "data = data[:16]"
   ]
  },
  {
   "cell_type": "raw",
   "metadata": {},
   "source": [
    "pyplot.scatter(data[:,0],data[:,2])\n",
    "pyplot.scatter(x1[:16],x3[:16], marker='x')"
   ]
  },
  {
   "cell_type": "code",
   "execution_count": null,
   "metadata": {},
   "outputs": [],
   "source": [
    "matrices = [ MakeIdentityGenerator() ]\n",
    "for _, s, a, ms in generator_specs:\n",
    "    Cd = MakeTheMatrix(s, a, ms)\n",
    "    matrices.append(Cd)"
   ]
  },
  {
   "cell_type": "raw",
   "metadata": {},
   "source": [
    "fig, axes = pyplot.subplots(8,8,figsize=(20,20))\n",
    "axes = axes.ravel()    \n",
    "for d, m in enumerate(matrices[64:128]):\n",
    "    PlotMatrix(axes[d], m)\n",
    "    axes[d].xaxis.set_visible(False)\n",
    "    axes[d].yaxis.set_visible(False)"
   ]
  },
  {
   "cell_type": "code",
   "execution_count": null,
   "metadata": {},
   "outputs": [],
   "source": [
    "def CppMatrix(m):\n",
    "    return '{'+','.join((hex(i)+'u') for i in m)+'}'\n",
    "cpp = f'std::uint32_t sobol_generator_matrices[{len(matrices)}][32] = {{\\n'+',\\n'.join(CppMatrix(m) for m in matrices)+'\\n};'\n",
    "with open(\"../src/sampler_sobol_matrices.cxx\", \"w\") as f:\n",
    "    f.write(\"#include <cstdint>\\n\")\n",
    "    f.write(cpp)"
   ]
  },
  {
   "cell_type": "code",
   "execution_count": null,
   "metadata": {},
   "outputs": [],
   "source": [
    "print(fr\"\"\"\n",
    "static constexpr int MAX_SOBOL_DIM = {len(matrices)};\n",
    "extern std::uint32_t sobol_generator_matrices[MAX_SOBOL_DIM][32];\n",
    "\"\"\")"
   ]
  },
  {
   "cell_type": "code",
   "execution_count": null,
   "metadata": {},
   "outputs": [],
   "source": []
  }
 ],
 "metadata": {
  "kernelspec": {
   "display_name": "Python 3.7.3 64-bit ('base': conda)",
   "language": "python",
   "name": "python37364bitbaseconda9e3abde003724f85a3814823454b693e"
  },
  "language_info": {
   "codemirror_mode": {
    "name": "ipython",
    "version": 3
   },
   "file_extension": ".py",
   "mimetype": "text/x-python",
   "name": "python",
   "nbconvert_exporter": "python",
   "pygments_lexer": "ipython3",
   "version": "3.7.3"
  }
 },
 "nbformat": 4,
 "nbformat_minor": 4
}
