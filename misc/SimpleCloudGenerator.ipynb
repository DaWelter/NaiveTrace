{
 "metadata": {
  "name": "",
  "signature": "sha256:c86e4b209c235d15fae218a26b2cca5b2824a5621f890b792eafef8901431b8a"
 },
 "nbformat": 3,
 "nbformat_minor": 0,
 "worksheets": [
  {
   "cells": [
    {
     "cell_type": "code",
     "collapsed": false,
     "input": [
      "import os, sys\n",
      "import subprocess\n",
      "from math import pi\n",
      "import numpy as np\n",
      "import matplotlib.pyplot as pyplot\n",
      "import matplotlib.cm\n",
      "import scipy.ndimage\n",
      "%matplotlib auto\n",
      "pyplot.ioff()"
     ],
     "language": "python",
     "metadata": {},
     "outputs": [
      {
       "output_type": "stream",
       "stream": "stdout",
       "text": [
        "Using matplotlib backend: TkAgg\n"
       ]
      }
     ],
     "prompt_number": 1
    },
    {
     "cell_type": "code",
     "collapsed": false,
     "input": [
      "SHAPE = (3, 256, 256)"
     ],
     "language": "python",
     "metadata": {},
     "outputs": [],
     "prompt_number": 2
    },
    {
     "cell_type": "code",
     "collapsed": false,
     "input": [
      "H0 = 0"
     ],
     "language": "python",
     "metadata": {},
     "outputs": [],
     "prompt_number": 3
    },
    {
     "cell_type": "code",
     "collapsed": false,
     "input": [
      "def salt_and_pepper_noise(shape, occupation_probability):\n",
      "    a = np.random.choice(2, size = shape, p = (1.-occupation_probability, occupation_probability)).astype(np.uint8)\n",
      "    return a"
     ],
     "language": "python",
     "metadata": {},
     "outputs": [],
     "prompt_number": 4
    },
    {
     "cell_type": "code",
     "collapsed": false,
     "input": [
      "kern = np.asarray(\n",
      "        [[[0,0,0],[0, 1, 0],[0,0,0]],\n",
      "        [[0,1,0],[1, 1, 1],[0,1,0]],\n",
      "        [[0,0,0],[0, 1, 0],[0,0,0]]], dtype = np.uint8)\n",
      "def random_growth_iteration(a, occupation_probability, decay_high, decay_low):\n",
      "    b = scipy.ndimage.filters.convolve(a, kern, mode = 'constant')\n",
      "    for h in range(SHAPE[0]):\n",
      "        dh = max(0, (h-H0)/decay_high) + max(0, (H0-h)/decay_low)\n",
      "        prob = occupation_probability * np.exp(-dh)\n",
      "        b[h,...] *= salt_and_pepper_noise(b[h].shape, prob)\n",
      "    b += a\n",
      "    return b"
     ],
     "language": "python",
     "metadata": {},
     "outputs": [],
     "prompt_number": 5
    },
    {
     "cell_type": "code",
     "collapsed": false,
     "input": [
      "occupation = np.zeros(SHAPE, np.uint8)"
     ],
     "language": "python",
     "metadata": {},
     "outputs": [],
     "prompt_number": 6
    },
    {
     "cell_type": "code",
     "collapsed": false,
     "input": [
      "for i in range(10):\n",
      "    occupation[H0,...] += salt_and_pepper_noise((SHAPE[1], SHAPE[2]), 0.003)\n",
      "    occupation = random_growth_iteration(occupation, 0.2, 1.5, 1)\n",
      "    occupation = np.clip(occupation, 0, 1)\n",
      "    print '.',"
     ],
     "language": "python",
     "metadata": {},
     "outputs": [
      {
       "output_type": "stream",
       "stream": "stdout",
       "text": [
        ". . . . . . . "
       ]
      },
      {
       "output_type": "stream",
       "stream": "stdout",
       "text": [
        ". . .\n"
       ]
      }
     ],
     "prompt_number": 7
    },
    {
     "cell_type": "code",
     "collapsed": false,
     "input": [
      "fig, ax = pyplot.subplots(4, 32/4)\n",
      "ax = ax.ravel()\n",
      "#for i, h in enumerate([0, H0-3, H0-2, H0-1, H0, H0+1, H0+2, H0+3, SHAPE[0]-1]):\n",
      "for h in range(SHAPE[0]):\n",
      "    ax[h].imshow(occupation[h,:100,:100], cmap = matplotlib.cm.gray)\n",
      "pyplot.show()"
     ],
     "language": "python",
     "metadata": {},
     "outputs": [],
     "prompt_number": 8
    },
    {
     "cell_type": "code",
     "collapsed": false,
     "input": [
      "stringified = []\n",
      "CELL_SIZE_IN_KM = 100.e-3\n",
      "RADIUS = 0.5*1.5*CELL_SIZE_IN_KM\n",
      "H0_ALTITUDE = 1.\n",
      "ORG_OFFSET = np.asarray([H0,SHAPE[1]/2,SHAPE[2]/2])\n",
      "print ORG_OFFSET\n",
      "PLANET_RADIUS = 6300.\n",
      "idx_array = np.asarray(np.where(occupation>0)).T\n",
      "x = (idx_array-ORG_OFFSET)*CELL_SIZE_IN_KM\n",
      "print np.amin(x, axis=0)\n",
      "print np.amax(x, axis=0)\n",
      "x[:,0] += H0_ALTITUDE + PLANET_RADIUS\n",
      "x[:,0] = np.sqrt(np.square(x[:,0]) - np.square(x[:,1]) - np.square(x[:,2]))\n",
      "x = np.roll(x, 2, axis=1)\n",
      "print np.amin(x, axis=0)\n",
      "print np.amax(x, axis=0)\n",
      "def to_sphere_spec(c):\n",
      "    return 's %f %f %f %f' % (c[0], c[1], c[2], RADIUS)\n",
      "print len(x)\n",
      "stringified = np.apply_along_axis(to_sphere_spec, 1, x)"
     ],
     "language": "python",
     "metadata": {},
     "outputs": [
      {
       "output_type": "stream",
       "stream": "stdout",
       "text": [
        "[  0 128 128]\n",
        "[  0.  -12.8 -12.8]\n",
        "[  0.2  12.7  12.7]\n",
        "[  -12.8          -12.8         6300.97440242]\n",
        "[   12.7           12.7         6301.19985876]\n",
        "23426\n"
       ]
      }
     ],
     "prompt_number": 9
    },
    {
     "cell_type": "code",
     "collapsed": false,
     "input": [
      "print len(stringified)\n",
      "print stringified[:10]"
     ],
     "language": "python",
     "metadata": {},
     "outputs": [
      {
       "output_type": "stream",
       "stream": "stdout",
       "text": [
        "23426\n",
        "['s -12.800000 -12.500000 6300.974600 0.075000'\n",
        " 's -12.800000 -12.400000 6300.974798 0.075000'\n",
        " 's -12.800000 -9.900000 6300.979222 0.075000'\n",
        " 's -12.800000 -9.800000 6300.979378 0.075000'\n",
        " 's -12.800000 -9.700000 6300.979533 0.075000'\n",
        " 's -12.800000 -7.800000 6300.982171 0.075000'\n",
        " 's -12.800000 -7.700000 6300.982294 0.075000'\n",
        " 's -12.800000 -7.600000 6300.982415 0.075000'\n",
        " 's -12.800000 -7.200000 6300.982885 0.075000'\n",
        " 's -12.800000 -7.000000 6300.983111 0.075000']\n"
       ]
      }
     ],
     "prompt_number": 10
    },
    {
     "cell_type": "code",
     "collapsed": false,
     "input": [
      "with open('../scenes/cloudlayer_10km.nff', 'w') as f:\n",
      "    for l in stringified:\n",
      "        f.write(l)\n",
      "        f.write('\\n')"
     ],
     "language": "python",
     "metadata": {},
     "outputs": [],
     "prompt_number": 11
    },
    {
     "cell_type": "code",
     "collapsed": false,
     "input": [
      "1./CELL_SIZE_IN_KM"
     ],
     "language": "python",
     "metadata": {},
     "outputs": [
      {
       "metadata": {},
       "output_type": "pyout",
       "prompt_number": 12,
       "text": [
        "10.0"
       ]
      }
     ],
     "prompt_number": 12
    },
    {
     "cell_type": "code",
     "collapsed": false,
     "input": [],
     "language": "python",
     "metadata": {},
     "outputs": [],
     "prompt_number": 12
    }
   ],
   "metadata": {}
  }
 ]
}