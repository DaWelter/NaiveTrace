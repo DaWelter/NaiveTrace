{
 "metadata": {
  "name": "",
  "signature": "sha256:76ff1b817f6ba43ef6ac12e7ae706751df11b3c95754cd307a5e109c82eede8b"
 },
 "nbformat": 3,
 "nbformat_minor": 0,
 "worksheets": [
  {
   "cells": [
    {
     "cell_type": "markdown",
     "metadata": {},
     "source": [
      "Floating point errors in the solution of the quadratic equation\n",
      "===============================================================\n",
      "In this notebook I attempt to derive formula for the errors in\n",
      "the solution of the quadratic equation $A x^2 + B x + C = 0$. \n",
      "I respect two kind of errors: Propagated uncertainty in $A, B,$\n",
      "and $C$. And roundoff errors in the solution formula due to\n",
      "floating point computations."
     ]
    },
    {
     "cell_type": "code",
     "collapsed": false,
     "input": [
      "import scipy\n",
      "import numpy as np\n",
      "import sympy\n",
      "#from sympy import *\n",
      "from IPython.display import display, Math, Latex\n",
      "def prettylatex(x):\n",
      "    display(Math(sympy.latex(x)))\n",
      "import sys\n",
      "import os\n",
      "import interval\n",
      "import math"
     ],
     "language": "python",
     "metadata": {},
     "outputs": [],
     "prompt_number": 2
    },
    {
     "cell_type": "code",
     "collapsed": false,
     "input": [
      "def itostring(i):\n",
      "    assert len(i) == 1\n",
      "    return u'{}+/-{} \u2282 {}'.format(i.midpoint[0].inf,0.5*(i[0].sup-i[0].inf),i)\n",
      "\n",
      "def eps_half_interval_around(x, eps):\n",
      "    return interval.interval([x*(1-0.5*eps), x*(1+0.5*eps)])"
     ],
     "language": "python",
     "metadata": {},
     "outputs": [],
     "prompt_number": 3
    },
    {
     "cell_type": "code",
     "collapsed": false,
     "input": [
      "def gamma_t(dtype):\n",
      "    # Get machine epsilon. (Isn't the machine epsilon actually half of that? ... Well not that it's a big deal ...)\n",
      "    eps = np.finfo(np.float16).eps.astype(np.float64)\n",
      "    # Then make the gamma function as defined in PBRT pg.216\n",
      "    def gamma(n):\n",
      "        return n*eps/(1-n*eps)\n",
      "    return gamma\n",
      "\n",
      "def typedlike(x, t):\n",
      "    \"\"\" return x cast to same type as t. t.dtype must give the numpy type.\"\"\"\n",
      "    return np.array(x, dtype=t.dtype)"
     ],
     "language": "python",
     "metadata": {},
     "outputs": [],
     "prompt_number": 4
    },
    {
     "cell_type": "code",
     "collapsed": false,
     "input": [
      "def errorformula1(A, B, C, rA, rB, rC):\n",
      "    xi = typedlike(1 if B < 0 else -1,A)\n",
      "    one = typedlike(1,A)\n",
      "    four = typedlike(4, A)\n",
      "    two  = typedlike(2, A)\n",
      "    three = typedlike(3, A)\n",
      "    eps  = np.finfo(A.dtype).eps\n",
      "    Q = B*B - A*C\n",
      "    sQ = np.sqrt(Q)\n",
      "    E1 = eps*(np.abs((B - sQ*xi)/A) + np.abs(sQ/A/two) + np.abs(C/sQ) + np.abs(B*B/four/A/sQ) + np.abs(sQ/A/four))\n",
      "    E2 = rA*np.abs(A*(xi*C/A/sQ + (B-xi*sQ)/(two*A*A))) + rB/two*np.abs(B/A*(B*xi/sQ-one)) + rC*np.abs(C/sQ)\n",
      "    return E1+E2\n",
      "\n",
      "def errorformula2(A, B, C, rA, rB, rC):\n",
      "    xi = typedlike(1 if B < 0 else -1,A)\n",
      "    one = typedlike(1,A)\n",
      "    four = typedlike(4, A)\n",
      "    two  = typedlike(2, A)\n",
      "    three = typedlike(3, A)\n",
      "    eps  = np.finfo(A.dtype).eps\n",
      "    Q = B*B - A*C\n",
      "    sQ = np.sqrt(Q)\n",
      "    E1_den1 = B - xi*sQ\n",
      "    E1_den2 = E1_den1*E1_den1\n",
      "    E1 = eps*(four*np.abs(C/E1_den1) + two*np.abs(C*sQ/E1_den2) + np.abs(four*A*C*C/sQ/E1_den2) + np.abs(B*B*C/sQ/E1_den2) + np.abs(C*sQ/E1_den2))\n",
      "    E2 = four*rA*np.abs(A*C*C/sQ/E1_den2) + two*rB*np.abs((B*C*(B*xi-sQ))/sQ/E1_den2) + rC*np.abs(C*(four*A*C*xi/sQ/E1_den2 - two/E1_den1))\n",
      "    return E1+E2"
     ],
     "language": "python",
     "metadata": {},
     "outputs": [],
     "prompt_number": 5
    },
    {
     "cell_type": "code",
     "collapsed": false,
     "input": [
      "sqrt = np.sqrt\n",
      "\n",
      "def quadratic(A, B, C):\n",
      "    Q = B*B - typedlike(4, A)*A*C\n",
      "    sQ = sqrt(Q)\n",
      "    sol1 = (-B + sQ)/(typedlike(2, A)*A)\n",
      "    sol2 = (-B - sQ)/(typedlike(2, A)*A)\n",
      "    return sol1,sol2\n",
      "\n",
      "def better_quadratic(A, B, C, rA, rB, rC):\n",
      "    # from PBRT pg. 1080\n",
      "    D = B*B - typedlike(4, A)*A*C\n",
      "    sD = sqrt(D)\n",
      "    Q = -B+sD if B<0 else -B-sD\n",
      "    t0 = Q/2/A\n",
      "    t1 = 2*C/Q\n",
      "    e0 = errorformula1(A, B, C, rA, rB, rC)\n",
      "    e1 = errorformula2(A, B, C, rA, rB, rC)\n",
      "    if t0<t1:\n",
      "        t0, t1, e0, e1 = t1, t0, e1, e0\n",
      "    return t0, t1, e0, e1\n",
      "\n",
      "# TODO: implement improved solution precision method\n",
      "#def quadratic_interval(A, B, C):\n",
      "#     Q = B*B - 4*A*C\n",
      "#     sQ = interval.imath.sqrt(Q)\n",
      "#     sol1 = (-B + sQ)/(2*A)\n",
      "#     sol2 = (-B - sQ)/(2*A)\n",
      "    # return sol1, sol2"
     ],
     "language": "python",
     "metadata": {},
     "outputs": [],
     "prompt_number": 6
    },
    {
     "cell_type": "code",
     "collapsed": false,
     "input": [
      "def print_quadratic_solution_and_float_errors(A, B, C, rA, rB, rC):\n",
      "    print \"A={}, B={}, C={}\".format(A, B, C)\n",
      "    print \"========================\"\n",
      "    eps = float(np.finfo(np.float16).eps)\n",
      "    #print \"Float16 Eps: \", eps\n",
      "    print \"Float64 solution:\"\n",
      "    A64 = np.float64(A)\n",
      "    B64 = np.float64(B)\n",
      "    C64 = np.float64(C)\n",
      "    A16, B16, C16 = np.float16(A),np.float16(B),np.float16(C)\n",
      "    t0_64,t1_64 = quadratic(A64,B64,C64)\n",
      "    print t0_64, t1_64\n",
      "    print \"Residual:\"\n",
      "    print (A*t0_64*t0_64 + B*t0_64 + C), (A*t1_64*t1_64 + B*t1_64 + C)\n",
      "    print \"---------------------\"\n",
      "    print \"Float16 solution:\"\n",
      "    t0_16, t1_16 = quadratic(A16, B16, C16)\n",
      "    print t0_16, t1_16\n",
      "    print \"Residual:\"\n",
      "    print (A*t0_16*t0_16 + B*t0_16 + C), (A*t1_16*t1_16 + B*t1_16 + C)\n",
      "    print \"---------------------\"\n",
      "    print \"Improved Float16 Solution\"\n",
      "    t0_better_16, t1_better_16, e0_better_16, e1_better_16 = better_quadratic(A16, B16, C16, np.float16(eps*rA), np.float16(eps*rB), np.float16(eps*rC))\n",
      "    print t0_better_16, t1_better_16\n",
      "    print \"Residual:\"\n",
      "    print (A*t0_better_16*t0_better_16 + B*t0_better_16 + C), (A*t1_better_16*t1_better_16 + B*t1_better_16 + C)\n",
      "    print \"---------------------\"\n",
      "    print \"Error Estimates\"\n",
      "    rA = rA*eps\n",
      "    rB = rB*eps\n",
      "    rC = rC*eps\n",
      "#     isol1, isol2 = quadratic_interval(eps_half_interval_around(A, rA), eps_half_interval_around(B, rB), eps_half_interval_around(C, rC))\n",
      "#     def fmt(i, x):\n",
      "#         return \"[{:0.5f}, {:0.5f}]\".format(i[0].inf-x, i[0].sup-x)\n",
      "#     print \"Solution 1 bounds around true solution:\", fmt(isol1, t0_64)\n",
      "#     print \"Solution 2 bounds around true solution:\", fmt(isol2, t1_64)\n",
      "    assert type(e0_better_16) == np.float16\n",
      "    assert type(e1_better_16) == np.float16\n",
      "    print \"Analytic bound of solution 1: +/-\", e0_better_16\n",
      "    print \"Analytic bound of solution 2: +/-\", e1_better_16\n",
      "    print \"Actual errors of improved solution:\", (t0_better_16-t0_64), (t1_better_16-t1_64)\n",
      "    print \"\""
     ],
     "language": "python",
     "metadata": {},
     "outputs": [],
     "prompt_number": 7
    },
    {
     "cell_type": "code",
     "collapsed": false,
     "input": [
      "print_quadratic_solution_and_float_errors(1, 100, 1, 1, 1, 1)\n",
      "#print_quadratic_solution_and_float_errors(1, -100, 1, 1, 1, 1)\n",
      "#print_quadratic_solution_and_float_errors(3, 210, 3002 , 1, 1, 1)\n",
      "#print_quadratic_solution_and_float_errors(3, -210, 3002 , 1, 1, 1)\n",
      "#print_quadratic_solution_and_float_errors(1, -100, 0.001 , 1, 1, 1)\n",
      "#print_quadratic_solution_and_float_errors(3, 100, 3, 100, 0, 0)\n",
      "#print_quadratic_solution_and_float_errors(3, 100, 3, 0, 100, 0)\n",
      "#print_quadratic_solution_and_float_errors(3, 100, 3, 0, 0, 100)\n",
      "#print_quadratic_solution_and_float_errors(3, 100, 3*(1+np.finfo(np.float16).eps*100), 0, 0, 100)"
     ],
     "language": "python",
     "metadata": {},
     "outputs": [
      {
       "output_type": "stream",
       "stream": "stdout",
       "text": [
        "A=1, B=100, C=1\n",
        "========================\n",
        "Float64 solution:\n",
        "-0.010001000200048793 -99.98999899979995\n",
        "Residual:\n",
        "1.2212453270876722e-13 0.0\n",
        "---------------------\n",
        "Float16 solution:\n",
        "0.0 -100.0\n",
        "Residual:\n",
        "1.0 1.0\n",
        "---------------------\n",
        "Improved Float16 Solution\n",
        "-0.01 -100.0\n",
        "Residual:\n",
        "9.999999999998899e-05 1.0\n",
        "---------------------\n",
        "Error Estimates\n",
        "Analytic bound of solution 1: +/- 4.89e-05\n",
        "Analytic bound of solution 2: +/- 0.4883\n",
        "Actual errors of improved solution: 1.0002000487927681e-06 -0.010001000200048793\n",
        "\n"
       ]
      }
     ],
     "prompt_number": 8
    },
    {
     "cell_type": "code",
     "collapsed": false,
     "input": [
      "A, B, C, rA, rB, rC, Q_, e1, e2, e3, e4, e5, e6, S_, em, xi = sympy.symbols('A B C rA rB rC Q e1 e2 e3 e4 e5 e6 S e_m xi')"
     ],
     "language": "python",
     "metadata": {},
     "outputs": [],
     "prompt_number": 9
    },
    {
     "cell_type": "code",
     "collapsed": false,
     "input": [
      "roundoff_rel_errs = [e1, e2, e3, e4, e5, e6]"
     ],
     "language": "python",
     "metadata": {},
     "outputs": [],
     "prompt_number": 10
    },
    {
     "cell_type": "code",
     "collapsed": false,
     "input": [
      "Q = B*B - 4*A*C\n",
      "# There are two types of solutions. xi switches the sign, as in the improved solution formula.\n",
      "S1_exact = (-B + xi*sympy.sqrt(Q))/(2*A)\n",
      "S2_exact = 2*C/(-B + xi*sympy.sqrt(Q))\n",
      "prettylatex(S1_exact)\n",
      "prettylatex(S2_exact)"
     ],
     "language": "python",
     "metadata": {},
     "outputs": [
      {
       "latex": [
        "$$\\frac{1}{2 A} \\left(- B + \\xi \\sqrt{- 4 A C + B^{2}}\\right)$$"
       ],
       "metadata": {},
       "output_type": "display_data",
       "text": [
        "<IPython.core.display.Math at 0x7f701452e850>"
       ]
      },
      {
       "latex": [
        "$$\\frac{2 C}{- B + \\xi \\sqrt{- 4 A C + B^{2}}}$$"
       ],
       "metadata": {},
       "output_type": "display_data",
       "text": [
        "<IPython.core.display.Math at 0x7f70146ec9d0>"
       ]
      }
     ],
     "prompt_number": 11
    },
    {
     "cell_type": "code",
     "collapsed": false,
     "input": [
      "# Represent solutions with floating point errors.\n",
      "# e1  ... e6 are relative roundoff errors after arithmetic operations. \n",
      "# Their values depend on the next closest floating point value, and is generally unkown.\n",
      "Q = B*B - 4*A*C\n",
      "EQ = (B*B*(1+e3) - 4*A*C*(1+e2))*(1+e1)\n",
      "S1 = (-B + xi*sympy.sqrt(EQ)*(1+e4))/(2*A)*(1+e5)*(1+e6)\n",
      "S2 = 2*C/(-B + xi*sympy.sqrt(EQ)*(1+e4))*(1+e5)*(1+e6)\n",
      "prettylatex(S1)\n",
      "prettylatex(S2)"
     ],
     "language": "python",
     "metadata": {},
     "outputs": [
      {
       "latex": [
        "$$\\frac{1}{2 A} \\left(- B + \\xi \\sqrt{\\left(e_{1} + 1\\right) \\left(- 4 A C \\left(e_{2} + 1\\right) + B^{2} \\left(e_{3} + 1\\right)\\right)} \\left(e_{4} + 1\\right)\\right) \\left(e_{5} + 1\\right) \\left(e_{6} + 1\\right)$$"
       ],
       "metadata": {},
       "output_type": "display_data",
       "text": [
        "<IPython.core.display.Math at 0x7f70407f1ed0>"
       ]
      },
      {
       "latex": [
        "$$\\frac{2 C \\left(e_{5} + 1\\right) \\left(e_{6} + 1\\right)}{- B + \\xi \\sqrt{\\left(e_{1} + 1\\right) \\left(- 4 A C \\left(e_{2} + 1\\right) + B^{2} \\left(e_{3} + 1\\right)\\right)} \\left(e_{4} + 1\\right)}$$"
       ],
       "metadata": {},
       "output_type": "display_data",
       "text": [
        "<IPython.core.display.Math at 0x7f7039e56ad0>"
       ]
      }
     ],
     "prompt_number": 12
    },
    {
     "cell_type": "code",
     "collapsed": false,
     "input": [
      "# Do simple error propagation by linearization:\n",
      "# Taylor series expansion to first order around true coefficients and e1..e6=0.\n",
      "# That is  F(A + A*rA, ..., e1, ....) \\approx F(A, ..., 0, ...) + |dF/dA|*A*rA + .... + |dF/de1|*e1 + ....\n",
      "derivs = {}\n",
      "for s in [A, B, C] + roundoff_rel_errs:\n",
      "    d = sympy.diff(S1,s).subs({e1:0, e2:0, e3:0, e4:0, e5:0, e6:0}).subs(Q , Q_)\n",
      "    derivs[s] = d\n",
      "    prettylatex(sympy.Eq(sympy.Derivative(S_, s) ,d))"
     ],
     "language": "python",
     "metadata": {},
     "outputs": [
      {
       "latex": [
        "$$\\frac{d}{d A} S = - \\frac{C \\xi}{A \\sqrt{Q}} - \\frac{1}{2 A^{2}} \\left(- B + \\sqrt{Q} \\xi\\right)$$"
       ],
       "metadata": {},
       "output_type": "display_data",
       "text": [
        "<IPython.core.display.Math at 0x7f704a28be90>"
       ]
      },
      {
       "latex": [
        "$$\\frac{d}{d B} S = \\frac{\\frac{B \\xi}{\\sqrt{Q}} - 1}{2 A}$$"
       ],
       "metadata": {},
       "output_type": "display_data",
       "text": [
        "<IPython.core.display.Math at 0x7f7039e45fd0>"
       ]
      },
      {
       "latex": [
        "$$\\frac{d}{d C} S = - \\frac{\\xi}{\\sqrt{Q}}$$"
       ],
       "metadata": {},
       "output_type": "display_data",
       "text": [
        "<IPython.core.display.Math at 0x7f7039dd5a10>"
       ]
      },
      {
       "latex": [
        "$$\\frac{d}{d e_{1}} S = \\frac{\\xi}{2 A \\sqrt{Q}} \\left(- 2 A C + \\frac{B^{2}}{2}\\right)$$"
       ],
       "metadata": {},
       "output_type": "display_data",
       "text": [
        "<IPython.core.display.Math at 0x7f7039dded50>"
       ]
      },
      {
       "latex": [
        "$$\\frac{d}{d e_{2}} S = - \\frac{C \\xi}{\\sqrt{Q}}$$"
       ],
       "metadata": {},
       "output_type": "display_data",
       "text": [
        "<IPython.core.display.Math at 0x7f7039dfb150>"
       ]
      },
      {
       "latex": [
        "$$\\frac{d}{d e_{3}} S = \\frac{B^{2} \\xi}{4 A \\sqrt{Q}}$$"
       ],
       "metadata": {},
       "output_type": "display_data",
       "text": [
        "<IPython.core.display.Math at 0x7f7039dde290>"
       ]
      },
      {
       "latex": [
        "$$\\frac{d}{d e_{4}} S = \\frac{\\sqrt{Q} \\xi}{2 A}$$"
       ],
       "metadata": {},
       "output_type": "display_data",
       "text": [
        "<IPython.core.display.Math at 0x7f7039e06650>"
       ]
      },
      {
       "latex": [
        "$$\\frac{d}{d e_{5}} S = \\frac{1}{2 A} \\left(- B + \\sqrt{Q} \\xi\\right)$$"
       ],
       "metadata": {},
       "output_type": "display_data",
       "text": [
        "<IPython.core.display.Math at 0x7f7039d90f50>"
       ]
      },
      {
       "latex": [
        "$$\\frac{d}{d e_{6}} S = \\frac{1}{2 A} \\left(- B + \\sqrt{Q} \\xi\\right)$$"
       ],
       "metadata": {},
       "output_type": "display_data",
       "text": [
        "<IPython.core.display.Math at 0x7f7039d90d90>"
       ]
      }
     ],
     "prompt_number": 13
    },
    {
     "cell_type": "code",
     "collapsed": false,
     "input": [
      "# Then estimate each error term by derivative times uncertainty magnitude. \n",
      "# EStimate e1...e6 as machine epsilon.\n",
      "roundoff_total_err = 0\n",
      "for s in roundoff_rel_errs:\n",
      "    term = derivs[s]\n",
      "    roundoff_total_err += sympy.Abs(sympy.ratsimp(term)).subs(Q , Q_)\n",
      "roundoff_total_err = (sympy.simplify(roundoff_total_err))*em\n",
      "prettylatex(roundoff_total_err)"
     ],
     "language": "python",
     "metadata": {},
     "outputs": [
      {
       "latex": [
        "$$e_{m} \\left(\\left|{\\frac{1}{A} \\left(B - \\sqrt{Q} \\xi\\right)}\\right| + \\frac{\\left|{\\frac{\\sqrt{Q} \\xi}{A}}\\right|}{2} + \\left|{\\frac{C \\xi}{\\sqrt{Q}}}\\right| + \\frac{1}{4} \\left|{\\frac{B^{2} \\xi}{A \\sqrt{Q}}}\\right| + \\frac{1}{4} \\left|{\\frac{\\xi}{A \\sqrt{Q}} \\left(4 A C - B^{2}\\right)}\\right|\\right)$$"
       ],
       "metadata": {},
       "output_type": "display_data",
       "text": [
        "<IPython.core.display.Math at 0x7f7039d68a10>"
       ]
      }
     ],
     "prompt_number": 14
    },
    {
     "cell_type": "code",
     "collapsed": false,
     "input": [
      "# Take supplied errors for A,B, and C.\n",
      "propagated_error = 0\n",
      "for s, rs in [(A, rA), (B, rB), (C, rC)]:\n",
      "    term = derivs[s]\n",
      "    err = sympy.Abs((term))*rs\n",
      "    propagated_error += err\n",
      "prettylatex(propagated_error)"
     ],
     "language": "python",
     "metadata": {},
     "outputs": [
      {
       "latex": [
        "$$rA \\left|{- \\frac{C \\xi}{A \\sqrt{Q}} - \\frac{1}{2 A^{2}} \\left(- B + \\sqrt{Q} \\xi\\right)}\\right| + \\frac{rB}{2} \\left|{\\frac{1}{A} \\left(\\frac{B \\xi}{\\sqrt{Q}} - 1\\right)}\\right| + rC \\left|{\\frac{\\xi}{\\sqrt{Q}}}\\right|$$"
       ],
       "metadata": {},
       "output_type": "display_data",
       "text": [
        "<IPython.core.display.Math at 0x7f7039d68890>"
       ]
      }
     ],
     "prompt_number": 15
    },
    {
     "cell_type": "code",
     "collapsed": false,
     "input": [
      "# In total ...\n",
      "total_error1 = roundoff_total_err + propagated_error\n",
      "prettylatex(sympy.Eq(sympy.symbols('ERR1'), total_error1))"
     ],
     "language": "python",
     "metadata": {},
     "outputs": [
      {
       "latex": [
        "$$ERR_{1} = e_{m} \\left(\\left|{\\frac{1}{A} \\left(B - \\sqrt{Q} \\xi\\right)}\\right| + \\frac{\\left|{\\frac{\\sqrt{Q} \\xi}{A}}\\right|}{2} + \\left|{\\frac{C \\xi}{\\sqrt{Q}}}\\right| + \\frac{1}{4} \\left|{\\frac{B^{2} \\xi}{A \\sqrt{Q}}}\\right| + \\frac{1}{4} \\left|{\\frac{\\xi}{A \\sqrt{Q}} \\left(4 A C - B^{2}\\right)}\\right|\\right) + rA \\left|{- \\frac{C \\xi}{A \\sqrt{Q}} - \\frac{1}{2 A^{2}} \\left(- B + \\sqrt{Q} \\xi\\right)}\\right| + \\frac{rB}{2} \\left|{\\frac{1}{A} \\left(\\frac{B \\xi}{\\sqrt{Q}} - 1\\right)}\\right| + rC \\left|{\\frac{\\xi}{\\sqrt{Q}}}\\right|$$"
       ],
       "metadata": {},
       "output_type": "display_data",
       "text": [
        "<IPython.core.display.Math at 0x7f7040782550>"
       ]
      }
     ],
     "prompt_number": 16
    },
    {
     "cell_type": "code",
     "collapsed": false,
     "input": [
      "prettylatex(total_error1.subs(B-xi*sympy.sqrt(Q_), sympy.symbols('G')).subs(Q, Q_))"
     ],
     "language": "python",
     "metadata": {},
     "outputs": [
      {
       "latex": [
        "$$e_{m} \\left(\\left|{\\frac{G}{A}}\\right| + \\frac{3}{4} \\left|{\\frac{\\sqrt{Q} \\xi}{A}}\\right| + \\left|{\\frac{C \\xi}{\\sqrt{Q}}}\\right| + \\frac{1}{4} \\left|{\\frac{B^{2} \\xi}{A \\sqrt{Q}}}\\right|\\right) + rA \\left|{\\frac{C \\xi}{A \\sqrt{Q}} - \\frac{G}{2 A^{2}}}\\right| + \\frac{rB}{2} \\left|{\\frac{1}{A} \\left(\\frac{B \\xi}{\\sqrt{Q}} - 1\\right)}\\right| + rC \\left|{\\frac{\\xi}{\\sqrt{Q}}}\\right|$$"
       ],
       "metadata": {},
       "output_type": "display_data",
       "text": [
        "<IPython.core.display.Math at 0x7f7039d42150>"
       ]
      }
     ],
     "prompt_number": 17
    },
    {
     "cell_type": "code",
     "collapsed": false,
     "input": [
      "# Now the same for solution type 2\n",
      "derivs = {}\n",
      "for s in [A, B, C] + roundoff_rel_errs:\n",
      "    d = sympy.diff(S2,s).subs({e1:0, e2:0, e3:0, e4:0, e5:0, e6:0}).subs(Q , Q_)\n",
      "    derivs[s] = d\n",
      "roundoff_total_err = 0\n",
      "for s in roundoff_rel_errs:\n",
      "    term = derivs[s]\n",
      "    roundoff_total_err += sympy.Abs((term)).subs(Q , Q_)\n",
      "roundoff_total_err = (sympy.simplify(roundoff_total_err))*em\n",
      "propagated_error = 0\n",
      "for s, rs in [(A, rA), (B, rB), (C, rC)]:\n",
      "    term = derivs[s]\n",
      "    err = sympy.Abs((term))*rs\n",
      "    propagated_error += err\n",
      "total_error2 = roundoff_total_err + propagated_error\n",
      "prettylatex(sympy.Eq(sympy.symbols('ERR2'),total_error2))"
     ],
     "language": "python",
     "metadata": {},
     "outputs": [
      {
       "latex": [
        "$$ERR_{2} = e_{m} \\left(4 \\left|{\\frac{C}{B - \\sqrt{Q} \\xi}}\\right| + 2 \\left|{\\frac{C \\sqrt{Q} \\xi}{\\left(B - \\sqrt{Q} \\xi\\right)^{2}}}\\right| + 4 \\left|{\\frac{A C^{2} \\xi}{\\sqrt{Q} \\left(B - \\sqrt{Q} \\xi\\right)^{2}}}\\right| + \\left|{\\frac{B^{2} C \\xi}{\\sqrt{Q} \\left(B - \\sqrt{Q} \\xi\\right)^{2}}}\\right| + \\left|{\\frac{C \\xi \\left(4 A C - B^{2}\\right)}{\\sqrt{Q} \\left(B - \\sqrt{Q} \\xi\\right)^{2}}}\\right|\\right) + 4 rA \\left|{\\frac{C^{2} \\xi}{\\sqrt{Q} \\left(B - \\sqrt{Q} \\xi\\right)^{2}}}\\right| + 2 rB \\left|{\\frac{C \\left(\\frac{B \\xi}{\\sqrt{Q}} - 1\\right)}{\\left(B - \\sqrt{Q} \\xi\\right)^{2}}}\\right| + rC \\left|{\\frac{4 A C \\xi}{\\sqrt{Q} \\left(- B + \\sqrt{Q} \\xi\\right)^{2}} + \\frac{2}{- B + \\sqrt{Q} \\xi}}\\right|$$"
       ],
       "metadata": {},
       "output_type": "display_data",
       "text": [
        "<IPython.core.display.Math at 0x7f7039d7fb50>"
       ]
      }
     ],
     "prompt_number": 18
    },
    {
     "cell_type": "code",
     "collapsed": false,
     "input": [
      "prettylatex(total_error2.subs(Q, Q_).subs(B-xi*sympy.sqrt(Q_), sympy.symbols('G')))"
     ],
     "language": "python",
     "metadata": {},
     "outputs": [
      {
       "latex": [
        "$$e_{m} \\left(4 \\left|{\\frac{C}{G}}\\right| + 3 \\left|{\\frac{C \\xi}{G^{2}} \\sqrt{Q}}\\right| + 4 \\left|{\\frac{A C^{2} \\xi}{G^{2} \\sqrt{Q}}}\\right| + \\left|{\\frac{B^{2} C \\xi}{G^{2} \\sqrt{Q}}}\\right|\\right) + 4 rA \\left|{\\frac{C^{2} \\xi}{G^{2} \\sqrt{Q}}}\\right| + 2 rB \\left|{\\frac{C}{G^{2}} \\left(\\frac{B \\xi}{\\sqrt{Q}} - 1\\right)}\\right| + rC \\left|{\\frac{4 A C \\xi}{G^{2} \\sqrt{Q}} - \\frac{2}{G}}\\right|$$"
       ],
       "metadata": {},
       "output_type": "display_data",
       "text": [
        "<IPython.core.display.Math at 0x7f7039cdc8d0>"
       ]
      }
     ],
     "prompt_number": 19
    },
    {
     "cell_type": "code",
     "collapsed": false,
     "input": [
      "# Let's try. However, note that all calculations are done in default floating point format.\n",
      "# But I take the low precision eps of float16. Normally the error calculations themselves would be subject to roundoff error.\n",
      "def print_absolute_errors(A_val, B_val, C_val, eA, eB, eC, computation_eps, val_type = None):\n",
      "    if val_type is not None:\n",
      "        A_val = val_type(A_val)\n",
      "        B_val = val_type(B_val)\n",
      "        C_val = val_type(C_val)\n",
      "        eA = val_type(eA)\n",
      "        eB = val_type(eB)\n",
      "        eC = val_type(eC)\n",
      "    #eps = np.finfo(np.float16).eps\n",
      "    d = {A : A_val, B : B_val, C : C_val, em : computation_eps}\n",
      "    d[xi] = 1 if d[B]<0 else -1\n",
      "    de = d.copy()\n",
      "    de.update({ rA: eA, rB : eB, rC: eC})\n",
      "    S1_val = S1_exact.subs(d).evalf()\n",
      "    S2_val = S2_exact.subs(d).evalf()\n",
      "    e1_val = total_error1.subs(Q_ , Q).subs(d).evalf()\n",
      "    e2_val = total_error2.subs(Q_ , Q).subs(d).evalf()\n",
      "    #if S1_val < S2_val:\n",
      "    #    S1_val, S2_val, e1_val, e2_val = S2_val, S1_val, e2_val, e1_val\n",
      "    print \"Sol = \", S1_val, S2_val\n",
      "    print \"Err1 = \", e1_val, \"(\", total_error1.subs(Q_ , Q).subs(de).evalf() ,\")\" \n",
      "    print \"Err2 = \", e2_val, \"(\", total_error2.subs(Q_ , Q).subs(de).evalf() ,\")\" \n",
      "\n",
      "print_absolute_errors(1, 100, 1, 0, 0, 0.1, np.finfo(np.float32).eps, val_type = np.float32)"
     ],
     "language": "python",
     "metadata": {},
     "outputs": [
      {
       "output_type": "stream",
       "stream": "stdout",
       "text": [
        "Sol =  -99.9899902343750 -0.0100010018795729\n",
        "Err1 =  100.0*rA + 1.0001*rB + 0.010002*rC + 3.57604003511369e-5 ( 0.00103596039116383 )\n",
        "Err2 =  1.0004e-6*rA + 0.00010003*rB + 0.010002*rC + 3.57675622453257e-9 ( 0.00100020365789533 )\n"
       ]
      }
     ],
     "prompt_number": 46
    },
    {
     "cell_type": "code",
     "collapsed": false,
     "input": [
      "# Compute the relative error.\n",
      "rel_err1 = (total_error1 / sympy.Abs(S1_exact.subs(Q,Q_))).subs(Q, Q_)\n",
      "prettylatex(rel_err1)"
     ],
     "language": "python",
     "metadata": {},
     "outputs": [
      {
       "latex": [
        "$$\\frac{2}{\\left|{\\frac{1}{A} \\left(B - \\sqrt{Q} \\xi\\right)}\\right|} \\left(e_{m} \\left(\\left|{\\frac{1}{A} \\left(B - \\sqrt{Q} \\xi\\right)}\\right| + \\frac{3}{4} \\left|{\\frac{\\sqrt{Q} \\xi}{A}}\\right| + \\left|{\\frac{C \\xi}{\\sqrt{Q}}}\\right| + \\frac{1}{4} \\left|{\\frac{B^{2} \\xi}{A \\sqrt{Q}}}\\right|\\right) + rA \\left|{- \\frac{C \\xi}{A \\sqrt{Q}} - \\frac{1}{2 A^{2}} \\left(- B + \\sqrt{Q} \\xi\\right)}\\right| + \\frac{rB}{2} \\left|{\\frac{1}{A} \\left(\\frac{B \\xi}{\\sqrt{Q}} - 1\\right)}\\right| + rC \\left|{\\frac{\\xi}{\\sqrt{Q}}}\\right|\\right)$$"
       ],
       "metadata": {},
       "output_type": "display_data",
       "text": [
        "<IPython.core.display.Math at 0x7f7039d75550>"
       ]
      }
     ],
     "prompt_number": 21
    },
    {
     "cell_type": "code",
     "collapsed": false,
     "input": [
      "# Relative error for type 2 solution.\n",
      "rel_err2 = (total_error2 / sympy.Abs(S2_exact.subs(Q,Q_)))\n",
      "rel_err2 = sympy.simplify(rel_err2)\n",
      "# Sympy appears to have problems canceling absolute terms :-(\n",
      "prettylatex(rel_err2)"
     ],
     "language": "python",
     "metadata": {},
     "outputs": [
      {
       "latex": [
        "$$\\frac{1}{\\left|{\\frac{C}{B - \\sqrt{Q} \\xi}}\\right|} \\left(\\frac{e_{m}}{2} \\left(4 \\left|{\\frac{C}{B - \\sqrt{Q} \\xi}}\\right| + 2 \\left|{\\frac{C \\sqrt{Q} \\xi}{\\left(B - \\sqrt{Q} \\xi\\right)^{2}}}\\right| + 4 \\left|{\\frac{A C^{2} \\xi}{\\sqrt{Q} \\left(B - \\sqrt{Q} \\xi\\right)^{2}}}\\right| + \\left|{\\frac{B^{2} C \\xi}{\\sqrt{Q} \\left(B - \\sqrt{Q} \\xi\\right)^{2}}}\\right| + \\left|{\\frac{C \\xi \\left(4 A C - B^{2}\\right)}{\\sqrt{Q} \\left(B - \\sqrt{Q} \\xi\\right)^{2}}}\\right|\\right) + 2 rA \\left|{\\frac{C^{2} \\xi}{\\sqrt{Q} \\left(B - \\sqrt{Q} \\xi\\right)^{2}}}\\right| + rB \\left|{\\frac{C \\left(B \\xi - \\sqrt{Q}\\right)}{\\sqrt{Q} \\left(B - \\sqrt{Q} \\xi\\right)^{2}}}\\right| + rC \\left|{\\frac{2 A C \\xi - \\sqrt{Q} \\left(B - \\sqrt{Q} \\xi\\right)}{\\sqrt{Q} \\left(B - \\sqrt{Q} \\xi\\right)^{2}}}\\right|\\right)$$"
       ],
       "metadata": {},
       "output_type": "display_data",
       "text": [
        "<IPython.core.display.Math at 0x7f7039c60090>"
       ]
      }
     ],
     "prompt_number": 22
    },
    {
     "cell_type": "code",
     "collapsed": false,
     "input": [
      "# Study relative errors\n",
      "eps64 = np.finfo(np.float64).eps\n",
      "eps32 = np.finfo(np.float32).eps\n",
      "def compute_error_propagation_coefficients(A_val, B_val, C_val, computation_eps = eps64):\n",
      "    \"\"\" Compute linear factors in the propagation of errors when computation is done using 'computation_eps'. Relative input errors rA,rB,rC are \n",
      "        measured in machine epsilons (float32). The printed formula approximates the relative error w.r.t the true solution in units of\n",
      "        epsilon of float32. \"\"\"\n",
      "    dABC = {A : A_val, B : B_val, C : C_val, em : computation_eps}\n",
      "    dABC[xi] = 1 if d[B]<0 else -1\n",
      "    print \"Solutions: \", S1_exact.subs(Q_, Q).subs(dABC).evalf(), S2_exact.subs(Q_, Q).subs(dABC).evalf()\n",
      "    rel_error1_in_eps32 = (rel_err1/eps32).subs(Q_ , Q).subs(dABC).subs({rA: A*rA*eps32, rB : B*rB*eps32, rC : C*rC*eps32}).evalf()\n",
      "    rel_error2_in_eps32 = (rel_err2/eps32).subs(Q_ , Q).subs(dABC).subs({rA: A*rA*eps32, rB : B*rB*eps32, rC : C*rC*eps32}).evalf()\n",
      "    print \"Solution Type 1: {},\\nSolution Type 2: {}\".format(rel_error1_in_eps32, rel_error2_in_eps32)\n",
      "    \n",
      "# Worst catastrophic cancelation in the BB - 4AC term!\n",
      "compute_error_propagation_coefficients(1, 2.*(1+eps32),  1)"
     ],
     "language": "python",
     "metadata": {},
     "outputs": [
      {
       "output_type": "stream",
       "stream": "stdout",
       "text": [
        "Solutions:  -1.00048840047384 -0.999511837944738\n",
        "Solution Type 1: 1024.50009155273*A*rA + 1023.99996948242*B*rB + 1023.50009155273*C*rC + 3.81656206993623e-6,\n",
        "Solution Type 2: 1023.50009155273*A*rA + 1023.99996948242*B*rB + 1024.50009155273*C*rC + 3.81656206993623e-6"
       ]
      },
      {
       "output_type": "stream",
       "stream": "stdout",
       "text": [
        "\n"
       ]
      }
     ],
     "prompt_number": 27
    },
    {
     "cell_type": "code",
     "collapsed": false,
     "input": [
      "# Same here. Float32 calculations.\n",
      "compute_error_propagation_coefficients(1, 2.*(1+eps32),  1, computation_eps = eps32)"
     ],
     "language": "python",
     "metadata": {},
     "outputs": [
      {
       "output_type": "stream",
       "stream": "stdout",
       "text": [
        "Solutions:  -1.00048840047384 -0.999511837944738\n",
        "Solution Type 1: 1024.50009155273*A*rA + 1023.99996948242*B*rB + 1023.50009155273*C*rC + 2049.00115919127,\n",
        "Solution Type 2: 1023.50009155273*A*rA + 1023.99996948242*B*rB + 1024.50009155273*C*rC + 2049.00115919127"
       ]
      },
      {
       "output_type": "stream",
       "stream": "stdout",
       "text": [
        "\n"
       ]
      }
     ],
     "prompt_number": 28
    },
    {
     "cell_type": "code",
     "collapsed": false,
     "input": [
      "# Benign cases\n",
      "compute_error_propagation_coefficients(1, 3,  1, computation_eps = eps64)\n",
      "compute_error_propagation_coefficients(1, 3, 1, computation_eps = eps32)"
     ],
     "language": "python",
     "metadata": {},
     "outputs": [
      {
       "output_type": "stream",
       "stream": "stdout",
       "text": [
        "Solutions:  -2.61803398874989 -0.381966011250105\n",
        "Solution Type 1: 1.17082043397669*A*rA + 0.447213605681647*B*rB + 0.170820383068248*C*rC + 5.95253473659895e-9,\n",
        "Solution Type 2: 0.170820383068248*A*rA + 0.44721356884395*B*rB + 1.1708203234636*C*rC + 5.95253473659895e-9"
       ]
      },
      {
       "output_type": "stream",
       "stream": "stdout",
       "text": [
        "\n",
        "Solutions:  -2.61803398874989 -0.381966011250105\n",
        "Solution Type 1: 1.17082043397669*A*rA + 0.447213605681647*B*rB + 0.170820383068248*C*rC + 3.19574283420307,\n",
        "Solution Type 2: 0.170820383068248*A*rA + 0.44721356884395*B*rB + 1.1708203234636*C*rC + 3.19574283420307"
       ]
      },
      {
       "output_type": "stream",
       "stream": "stdout",
       "text": [
        "\n"
       ]
      }
     ],
     "prompt_number": 29
    },
    {
     "cell_type": "code",
     "collapsed": false,
     "input": [
      "# Catastrophic cancelation in -B + sqrt(....) prevented by improved solution formula.\n",
      "compute_error_propagation_coefficients(1, 100, 1, computation_eps = eps64)\n",
      "compute_error_propagation_coefficients(1, 100, 1, computation_eps = eps32)"
     ],
     "language": "python",
     "metadata": {},
     "outputs": [
      {
       "output_type": "stream",
       "stream": "stdout",
       "text": [
        "Solutions:  -99.9899989998000 -0.0100010002000500\n",
        "Solution Type 1: 1.00010005767486*A*rA + 0.0100020003020874*B*rB + 0.000100030004041248*C*rC + 5.58812178674155e-9,\n",
        "Solution Type 2: 0.000100030004041248*A*rA + 0.0100020000040344*B*rB + 1.0000999703994*C*rC + 5.58812178674155e-9"
       ]
      },
      {
       "output_type": "stream",
       "stream": "stdout",
       "text": [
        "\n",
        "Solutions:  -99.9899989998000 -0.0100010002000500\n",
        "Solution Type 1: 1.00010005767486*A*rA + 0.0100020003020874*B*rB + 0.000100030004041248*C*rC + 3.00009995911915,\n",
        "Solution Type 2: 0.000100030004041248*A*rA + 0.0100020000040344*B*rB + 1.0000999703994*C*rC + 3.00010009534472\n"
       ]
      }
     ],
     "prompt_number": 30
    },
    {
     "cell_type": "code",
     "collapsed": false,
     "input": [],
     "language": "python",
     "metadata": {},
     "outputs": [],
     "prompt_number": 26
    }
   ],
   "metadata": {}
  }
 ]
}