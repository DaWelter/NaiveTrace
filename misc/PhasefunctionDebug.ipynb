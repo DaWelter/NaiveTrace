{
 "metadata": {
  "name": "",
  "signature": "sha256:85feb728fa908cf1580f15b5d78892a4116a4872b36237088cd1446c27942d69"
 },
 "nbformat": 3,
 "nbformat_minor": 0,
 "worksheets": [
  {
   "cells": [
    {
     "cell_type": "code",
     "collapsed": false,
     "input": [
      "import matplotlib.pyplot as pyplot\n",
      "from mpl_toolkits.mplot3d import Axes3D\n",
      "import os\n",
      "import sys\n",
      "import numpy as np\n",
      "import json\n",
      "Arr = np.asarray\n",
      "%matplotlib"
     ],
     "language": "python",
     "metadata": {},
     "outputs": [
      {
       "output_type": "stream",
       "stream": "stdout",
       "text": [
        "Using matplotlib backend: TkAgg\n"
       ]
      }
     ],
     "prompt_number": 1
    },
    {
     "cell_type": "code",
     "collapsed": false,
     "input": [
      "with open('/tmp/MicrofacetShader2.json', 'r') as f:\n",
      "    all_data = json.load(f)\n",
      "# all_data is deserialized into python types!"
     ],
     "language": "python",
     "metadata": {},
     "outputs": [],
     "prompt_number": 2
    },
    {
     "cell_type": "code",
     "collapsed": false,
     "input": [
      "def json_samples_to_arrays(js):\n",
      "    coordinates = []\n",
      "    probabilities = []\n",
      "    values = []\n",
      "    for smpl in js:\n",
      "        probabilities.append(smpl['pdf'])\n",
      "        coordinates.append(smpl['coord'])\n",
      "        values.append(smpl['value'])\n",
      "    coordinates = Arr(coordinates)\n",
      "    probabilities = Arr(probabilities)\n",
      "    values = Arr(values)\n",
      "    return coordinates, probabilities, values\n",
      "coordinates, probabilities, values = json_samples_to_arrays(all_data['vis_samples'])\n",
      "values = np.average(values, axis=1)"
     ],
     "language": "python",
     "metadata": {},
     "outputs": [],
     "prompt_number": 3
    },
    {
     "cell_type": "code",
     "collapsed": false,
     "input": [
      "#https://stackoverflow.com/questions/4116658/faster-numpy-cartesian-to-spherical-coordinate-conversion\n",
      "def appendSpherical_np(xyz):\n",
      "    ptsnew = np.hstack((xyz, np.zeros(xyz.shape)))\n",
      "    xy = xyz[:,0]**2 + xyz[:,1]**2\n",
      "    ptsnew[:,3] = np.sqrt(xy + xyz[:,2]**2)\n",
      "    ptsnew[:,4] = np.arctan2(np.sqrt(xy), xyz[:,2]) # for elevation angle defined from Z-axis down\n",
      "    #ptsnew[:,4] = np.arctan2(xyz[:,2], np.sqrt(xy)) # for elevation angle defined from XY-plane up\n",
      "    ptsnew[:,5] = np.arctan2(xyz[:,1], xyz[:,0])\n",
      "    return ptsnew"
     ],
     "language": "python",
     "metadata": {},
     "outputs": [],
     "prompt_number": 4
    },
    {
     "cell_type": "code",
     "collapsed": false,
     "input": [
      "spherecoord = appendSpherical_np(coordinates)[:,3:]\n",
      "spherecoord[:,[1,2]] *= 180./np.pi"
     ],
     "language": "python",
     "metadata": {},
     "outputs": [],
     "prompt_number": 5
    },
    {
     "cell_type": "code",
     "collapsed": false,
     "input": [
      "all_data['test_cubemap'][0][0][0]"
     ],
     "language": "python",
     "metadata": {},
     "outputs": [
      {
       "metadata": {},
       "output_type": "pyout",
       "prompt_number": 6,
       "text": [
        "{u'cnt': 0, u'prob': 5.924608584042346e-12}"
       ]
      }
     ],
     "prompt_number": 6
    },
    {
     "cell_type": "code",
     "collapsed": false,
     "input": [
      "def json_test_cubemap_to_arrays(js):\n",
      "    num_bins = len(js[0])\n",
      "    pr = np.empty((6, num_bins, num_bins))\n",
      "    val = np.empty((6, num_bins, num_bins, 3))\n",
      "    cnt = np.empty((6, num_bins, num_bins))\n",
      "    for side_idx, side in enumerate(js):\n",
      "        for irow, row in enumerate(side):\n",
      "            for icol, col in enumerate(row):\n",
      "                cell = col\n",
      "                pr[side_idx,irow,icol] = cell['prob']\n",
      "                cnt[side_idx,irow,icol] = float(cell['cnt'])\n",
      "    return pr, cnt\n",
      "\n",
      "def json_vis_cubemap_to_arrays(js):\n",
      "    num_bins = len(js[0])\n",
      "    pdf = np.empty((6, num_bins, num_bins))\n",
      "    val = np.empty((6, num_bins, num_bins, 3))\n",
      "    pos = np.empty((6, num_bins, num_bins, 3))\n",
      "    for side_idx, side in enumerate(js):\n",
      "        for irow, row in enumerate(side):\n",
      "            for icol, col in enumerate(row):\n",
      "                cell = col\n",
      "                pdf[side_idx,irow,icol] = cell['pdf']\n",
      "                val[side_idx,irow,icol,:] = cell['val']\n",
      "                pos[side_idx,irow,icol] = cell['pos']\n",
      "    return pos, val, pdf\n",
      "\n",
      "cube_probabilities, cube_counts = json_test_cubemap_to_arrays(all_data['test_cubemap'])\n",
      "cube_counts /= np.sum(cube_counts)\n",
      "\n",
      "tc_pos, tc_val, tc_pdf = json_vis_cubemap_to_arrays(all_data['vis_cubemap'])\n",
      "tc_val = np.average(tc_val, axis=3)"
     ],
     "language": "python",
     "metadata": {},
     "outputs": [],
     "prompt_number": 19
    },
    {
     "cell_type": "code",
     "collapsed": false,
     "input": [
      "side_labels = '+X -X +Y -Y +Z -Z'.split()"
     ],
     "language": "python",
     "metadata": {},
     "outputs": [],
     "prompt_number": 9
    },
    {
     "cell_type": "code",
     "collapsed": false,
     "input": [
      "fig = pyplot.figure()\n",
      "ax = fig.add_subplot(121, projection='3d')\n",
      "ax.scatter(coordinates[:,0], coordinates[:,1], coordinates[:,2], c=probabilities)\n",
      "ax = fig.add_subplot(122, projection='3d')\n",
      "ax.scatter(coordinates[:,0], coordinates[:,1], coordinates[:,2], c=values)"
     ],
     "language": "python",
     "metadata": {},
     "outputs": [
      {
       "metadata": {},
       "output_type": "pyout",
       "prompt_number": 22,
       "text": [
        "<mpl_toolkits.mplot3d.art3d.Path3DCollection at 0x7f6b0255d0d0>"
       ]
      }
     ],
     "prompt_number": 22
    },
    {
     "cell_type": "code",
     "collapsed": false,
     "input": [
      "fig = pyplot.figure()\n",
      "ax = fig.add_subplot(111)\n",
      "#ax.tripcolor(spherecoord[:,1], spherecoord[:,2], np.log(probabilities))\n",
      "ax.scatter(spherecoord[:,1], spherecoord[:,2], s=5., c = probabilities, edgecolor='None')"
     ],
     "language": "python",
     "metadata": {},
     "outputs": [
      {
       "metadata": {},
       "output_type": "pyout",
       "prompt_number": 21,
       "text": [
        "<matplotlib.collections.PolyCollection at 0x7f6b0084ba50>"
       ]
      }
     ],
     "prompt_number": 21
    },
    {
     "cell_type": "code",
     "collapsed": false,
     "input": [
      "def plotcubemap(data, vmin=None, vmax=None):\n",
      "    fig, axes = pyplot.subplots(2,3)\n",
      "    axes = axes.flatten()\n",
      "    for side, ax in zip(range(6), axes):\n",
      "        ax.imshow(data[side,...], vmin=vmin, vmax=vmax, interpolation='none')\n",
      "        ax.set(title = side_labels[side])\n",
      "        ax.get_xaxis().set_visible(False)\n",
      "        ax.get_yaxis().set_visible(False)\n",
      "    return fig, axes"
     ],
     "language": "python",
     "metadata": {},
     "outputs": [],
     "prompt_number": 15
    },
    {
     "cell_type": "code",
     "collapsed": false,
     "input": [
      "data = np.log(cube_probabilities+1.e-4)\n",
      "fig, _ = plotcubemap(data, np.log(1.e-4), 0.)\n",
      "fig.suptitle('probs')\n",
      "data = np.log(cube_counts+1.e-4)\n",
      "fig, _ = plotcubemap(data, np.log(1.e-4), 0.)\n",
      "fig.suptitle('counts')"
     ],
     "language": "python",
     "metadata": {},
     "outputs": [
      {
       "metadata": {},
       "output_type": "pyout",
       "prompt_number": 23,
       "text": [
        "<matplotlib.text.Text at 0x7f6b00bf0490>"
       ]
      }
     ],
     "prompt_number": 23
    },
    {
     "cell_type": "code",
     "collapsed": false,
     "input": [
      "data = np.log(tc_val+1.e-4)\n",
      "fig, _ = plotcubemap(data, np.log(1.e-4), 0.)\n",
      "fig.suptitle('probs')\n",
      "data = np.log(tc_pdf+1.e-4)\n",
      "fig, _ = plotcubemap(data, np.log(1.e-4), 0.)\n",
      "fig.suptitle('counts')"
     ],
     "language": "python",
     "metadata": {},
     "outputs": [
      {
       "metadata": {},
       "output_type": "pyout",
       "prompt_number": 20,
       "text": [
        "<matplotlib.text.Text at 0x7f6b00f56250>"
       ]
      }
     ],
     "prompt_number": 20
    },
    {
     "cell_type": "code",
     "collapsed": false,
     "input": [],
     "language": "python",
     "metadata": {},
     "outputs": []
    }
   ],
   "metadata": {}
  }
 ]
}