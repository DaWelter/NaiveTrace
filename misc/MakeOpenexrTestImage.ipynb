{
 "metadata": {
  "name": "",
  "signature": "sha256:8f72ef4ee0ad979dcae567316a0762dfde480314143596e732bc0bff9415ef8a"
 },
 "nbformat": 3,
 "nbformat_minor": 0,
 "worksheets": [
  {
   "cells": [
    {
     "cell_type": "code",
     "collapsed": false,
     "input": [
      "import sys\n",
      "import array\n",
      "import OpenEXR\n",
      "import Imath"
     ],
     "language": "python",
     "metadata": {},
     "outputs": [],
     "prompt_number": 7
    },
    {
     "cell_type": "code",
     "collapsed": false,
     "input": [
      "import numpy as np"
     ],
     "language": "python",
     "metadata": {},
     "outputs": [],
     "prompt_number": 8
    },
    {
     "cell_type": "code",
     "collapsed": false,
     "input": [
      "img = np.array([\n",
      "    [[10, 9, 8],  [0, 0, 0]],\n",
      "    [[ 0,  0,  0], [1, 1, 1]],\n",
      "    [[ 0,  0,  0], [0, 0, 0]],\n",
      "    [[ 0,  0,  0], [0, 0, 0]],\n",
      "    [[ 0,  0,  0], [0, 0, 0]]\n",
      "], np.float32)"
     ],
     "language": "python",
     "metadata": {},
     "outputs": [],
     "prompt_number": 9
    },
    {
     "cell_type": "code",
     "collapsed": false,
     "input": [
      "# http://excamera.com/articles/26/doc/intro.html\n",
      "FLOAT = Imath.PixelType(Imath.PixelType.FLOAT)\n",
      "HEADER = OpenEXR.Header(2,5)\n",
      "float_chan = Imath.Channel(FLOAT)\n",
      "HEADER['channels'] = dict([(c, float_chan) for c in \"RGB\"])\n",
      "exr = OpenEXR.OutputFile(\"/home/mwelter/Programmierung/ToyTrace/testing/scenes/texloadtest2.exr\", HEADER)\n",
      "R = img[...,0].tostring()\n",
      "G = img[...,1].tostring()\n",
      "B = img[...,2].tostring()\n",
      "exr.writePixels({'R': R, 'G': G, 'B': B})\n",
      "exr.close()"
     ],
     "language": "python",
     "metadata": {},
     "outputs": [],
     "prompt_number": 10
    },
    {
     "cell_type": "code",
     "collapsed": false,
     "input": [],
     "language": "python",
     "metadata": {},
     "outputs": []
    }
   ],
   "metadata": {}
  }
 ]
}