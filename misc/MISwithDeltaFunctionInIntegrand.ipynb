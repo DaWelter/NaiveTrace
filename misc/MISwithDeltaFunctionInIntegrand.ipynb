{
 "metadata": {
  "name": "",
  "signature": "sha256:bb9a76ceee87fb6d09772d1f68b979db4adcdb4856e2f325cd5f58a814834c9d"
 },
 "nbformat": 3,
 "nbformat_minor": 0,
 "worksheets": [
  {
   "cells": [
    {
     "cell_type": "markdown",
     "metadata": {},
     "source": [
      "Multi-Importance Sampling With Delta Function In The Integrand\n",
      "==============================================================\n",
      "Want to compute integral of f(x) + delta(x-x0)*g over x, where delta is the Dirac Delta function.\n",
      "\n",
      "Want to use Monte-Carlo Estimate. Have estimator, called estimator1 here, that generates samples from a continuous distribution and from discrete points. Then have another estimator, called estimator2 here, that draws samples only from a continuous distribution.\n",
      "\n",
      "Want to combine both via multi-importance sampling. In order to do this, samples from the discrete distribution are assigned a weight of 1 since there is no other way to generate such samples. (Estimator 2 draws from continuous distribution.) Samples from continuous distributions are combined with standard MIS weights."
     ]
    },
    {
     "cell_type": "code",
     "collapsed": false,
     "input": [
      "import numpy as np\n",
      "import matplotlib.pyplot as pyplot\n",
      "import scipy.stats\n",
      "%matplotlib inline\n",
      "pyplot.ioff()\n",
      "\n",
      "# Helper. Not yet in my numpy. Is in numpy 1.3.\n",
      "def heaviside(x):\n",
      "    x = np.asarray(x)\n",
      "    if not np.isscalar(x):\n",
      "        y = np.zeros_like(x)\n",
      "        mask = x.ravel()>0\n",
      "        y.ravel()[mask] = 1.\n",
      "        return y\n",
      "    else:\n",
      "        return 1. if x>0 else 0.\n",
      "# Integrand definition. First the location and value of two peaks.\n",
      "delta_peaks = np.asarray([\n",
      "    (0.2, 3.14),\n",
      "    (0.8, 4.2)\n",
      "])\n",
      "# Then the continuous part.\n",
      "def func(x):\n",
      "    return 2.*np.exp(-np.square((x-0.3)/0.3)) + heaviside(x-0.5)*heaviside(0.9-x)"
     ],
     "language": "python",
     "metadata": {},
     "outputs": [],
     "prompt_number": 195
    },
    {
     "cell_type": "code",
     "collapsed": false,
     "input": [
      "# Numerical solution and plotting.\n",
      "x_arr = np.linspace(0., 1., 1000)\n",
      "dx = x_arr[1]-x_arr[0]\n",
      "y_arr = func(x_arr)\n",
      "y_delta_arr = np.zeros_like(x_arr)\n",
      "# Add mollified delta function peaks.\n",
      "for x, val in delta_peaks:\n",
      "    idx = np.searchsorted(x_arr, x)\n",
      "    y_delta_arr[idx] = val / dx\n",
      "y_arr += y_delta_arr\n",
      "# And the solution is ...\n",
      "I_numerical = np.sum(y_arr)*dx\n",
      "print \"Numerical solution of the integral = \", I_numerical\n",
      "\n",
      "pyplot.plot(x_arr, y_arr)\n",
      "pyplot.gca().set_ylim((0., 5.))\n",
      "pyplot.show()"
     ],
     "language": "python",
     "metadata": {},
     "outputs": [
      {
       "output_type": "stream",
       "stream": "stdout",
       "text": [
        "Numerical solution of the integral =  8.72008877013\n"
       ]
      },
      {
       "metadata": {},
       "output_type": "display_data",
       "png": "[encoded data removed]",
       "text": [
        "<matplotlib.figure.Figure at 0x7f590d513f50>"
       ]
      }
     ],
     "prompt_number": 196
    },
    {
     "cell_type": "code",
     "collapsed": false,
     "input": [
      "# Estimator that samples the box part.\n",
      "# If x is given, don't sample but evaluate the continuous part of the integrand!\n",
      "def estimator_other_continuous_part(x = None):\n",
      "    distrib = scipy.stats.norm(loc=0.5*(0.5+0.9), scale=0.5*(0.9-0.5))\n",
      "    if x is None:\n",
      "        x = distrib.rvs()\n",
      "    pdf = distrib.pdf(x)\n",
      "    return x, func(x), pdf, 'pdf'\n",
      "# For the peaks\n",
      "def estimator_discrete_part():\n",
      "    pmf_arr = delta_peaks[:,1] / np.sum(delta_peaks[:,1])\n",
      "    discrete = scipy.stats.rv_discrete(values=(range(len(delta_peaks)), pmf_arr))\n",
      "    i = discrete.rvs()\n",
      "    x = delta_peaks[i,0]\n",
      "    value = delta_peaks[i,1]\n",
      "    return x, value, discrete.pmf(i), 'pmf'\n",
      "# And the gaussian\n",
      "def estimator_continuous_part(x = None):\n",
      "    distrib = scipy.stats.uniform(loc=0.3, scale=0.3)\n",
      "    if x is None:\n",
      "        x = distrib.rvs()\n",
      "    pdf = distrib.pdf(x)\n",
      "    return x, func(x), pdf, 'pdf'\n",
      "# Combined estimator sametimes sampling the gaussian part and sometimes the peaks.\n",
      "def estimator1(x = None):\n",
      "    if x is not None:\n",
      "        return estimator_continuous_part(x=x)\n",
      "    r = np.random.uniform(0., 1.)\n",
      "    prob_sample_pdf = 0.2\n",
      "    if r < prob_sample_pdf:\n",
      "        x, value, p, type = estimator_continuous_part()\n",
      "        p = prob_sample_pdf*p\n",
      "    else:\n",
      "        x, value, p, type = estimator_discrete_part()\n",
      "        p = (1.-prob_sample_pdf)*p\n",
      "    return x, value, p, type\n",
      "# The other estimator.\n",
      "def estimator2(x = None):\n",
      "    return estimator_other_continuous_part(x)\n",
      "# Compute the MIS weight using the power heuristic\n",
      "def mis_power(*probabilities):\n",
      "    pp = map(lambda p: p*p, probabilities)\n",
      "    return pp[0] / sum(pp)\n",
      "# The MIS estimator, using estimator1 and 2.\n",
      "def mis_estimator():\n",
      "    # Part 1 and 2 evaluate estimator 1 and 2, respectively, and multiply the MIS weight to the function value.\n",
      "    def part1():\n",
      "        x, value, p1, type = estimator1()\n",
      "        if type == 'pdf':\n",
      "            _, _, p2, _ = estimator_other_continuous_part(x = x)\n",
      "            return x, mis_power(p1, p2)*value, p1, type\n",
      "        else:\n",
      "            return x, value, p1, type\n",
      "    def part2():\n",
      "        x, value, p2, type = estimator2()\n",
      "        _, _, p1, _ = estimator1(x = x)\n",
      "        return x, mis_power(p2, p1)*value, p2, type\n",
      "    # Ways to combine e1 and e2. Here, take the sum, straight forward according to Veach's original definition. \n",
      "    def combine_sum(e1, e2):\n",
      "        _, v1, p1, _ = e1()\n",
      "        _, v2, p2, _ = e2()\n",
      "        return np.nan, v1/p1 + v2/p2, 1., ''\n",
      "    # But one can also evaluate only one of the parts probabilistically and \n",
      "    # scale the result with the inverse of the probability so that the expectation\n",
      "    # is equal to the sum.\n",
      "    def combine_probabilistic(e1, e2, prob1):\n",
      "        if np.random.uniform(0.,1.) < prob1:\n",
      "            _, v1, p1, _ = e1()\n",
      "            p1 *= prob1\n",
      "            return np.nan, v1, p1, ''\n",
      "        else:\n",
      "            _, v2, p2, _ = e2()\n",
      "            p2 *= 1.-prob1\n",
      "            return np.nan, v2, p2, ''\n",
      "    # Done!\n",
      "    return combine_probabilistic(part1, part2, 0.5)"
     ],
     "language": "python",
     "metadata": {},
     "outputs": [],
     "prompt_number": 205
    },
    {
     "cell_type": "code",
     "collapsed": false,
     "input": [
      "# Try the things.\n",
      "for _ in range(10):\n",
      "    print estimator1()\n",
      "print estimator1(x=0.5)\n",
      "print estimator2(x=0.5)\n",
      "print mis_estimator()"
     ],
     "language": "python",
     "metadata": {},
     "outputs": [
      {
       "output_type": "stream",
       "stream": "stdout",
       "text": [
        "(0.5475587521987625, 2.0122737164683731, 0.66666666666666674, 'pdf')\n",
        "(0.3599818558610139, 1.9216253590301979, 0.66666666666666674, 'pdf')\n",
        "(0.20000000000000001, 3.1400000000000001, 0.34223433242506818, 'pmf')\n",
        "(0.20000000000000001, 3.1400000000000001, 0.34223433242506818, 'pmf')\n",
        "(0.3666443460581924, 1.9036965078814416, 0.66666666666666674, 'pdf')\n",
        "(0.20000000000000001, 3.1400000000000001, 0.34223433242506818, 'pmf')\n",
        "(0.80000000000000004, 4.2000000000000002, 0.45776566757493192, 'pmf')\n",
        "(0.80000000000000004, 4.2000000000000002, 0.45776566757493192, 'pmf')\n",
        "(0.20000000000000001, 3.1400000000000001, 0.34223433242506818, 'pmf')\n",
        "(0.48133918190485525, 1.3878704558142618, 0.66666666666666674, 'pdf')\n",
        "(0.5, 1.282360776859909, 3.3333333333333335, 'pdf')\n",
        "(0.5, 1.282360776859909, 1.209853622595717, 'pdf')\n",
        "(nan, 0.65986457977633894, 0.33333333333333337, '')\n"
       ]
      }
     ],
     "prompt_number": 212
    },
    {
     "cell_type": "code",
     "collapsed": false,
     "input": [
      "# Simple direct Monte-Carlo algorithm. Also returns estimate of the standard deviation (sigma) of the computed average.\n",
      "# Of course the average should not be much further away from the numerical solution than say one or two sigmas.\n",
      "def mc_sample(estimator, n):\n",
      "    smpl = []\n",
      "    for _ in xrange(n):\n",
      "        x, value, p, type = estimator()\n",
      "        smpl.append(value/p)\n",
      "    return np.average(smpl), np.std(smpl)/np.sqrt(n)"
     ],
     "language": "python",
     "metadata": {},
     "outputs": [],
     "prompt_number": 213
    },
    {
     "cell_type": "code",
     "collapsed": false,
     "input": [
      "I, sigma = mc_sample(estimator1, 1000)\n",
      "print 'MC solution=%f +/- %f' % (I, sigma)"
     ],
     "language": "python",
     "metadata": {},
     "outputs": [
      {
       "output_type": "stream",
       "stream": "stdout",
       "text": [
        "MC solution=7.958183 +/- 0.079864\n"
       ]
      }
     ],
     "prompt_number": 208
    },
    {
     "cell_type": "code",
     "collapsed": false,
     "input": [
      "I, sigma = mc_sample(mis_estimator, 1000)\n",
      "print 'MC solution=%f +/- %f' % (I, sigma)"
     ],
     "language": "python",
     "metadata": {},
     "outputs": [
      {
       "output_type": "stream",
       "stream": "stdout",
       "text": [
        "MC solution=8.706790 +/- 0.272245\n"
       ]
      }
     ],
     "prompt_number": 209
    },
    {
     "cell_type": "code",
     "collapsed": false,
     "input": [
      "# The MIS estimate usually looks pretty good as it should. Estimate 1 appears to be biased. \n",
      "# Perhaps the probability to sample the boxy area to the right of the domain\n",
      "# becomes too low. Idk. And I don't care since estimator 1 won't be good for that reason.\n",
      "# I'd just expect a much higher variance because the density does not drop to zero altogether!"
     ],
     "language": "python",
     "metadata": {},
     "outputs": [],
     "prompt_number": 214
    }
   ],
   "metadata": {}
  }
 ]
}