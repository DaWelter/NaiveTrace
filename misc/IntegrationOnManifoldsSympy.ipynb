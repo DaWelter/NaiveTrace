{
 "metadata": {
  "name": "",
  "signature": "sha256:acfb8c1fe1068e6ce75762c1a35edb099acd61de2c6fe145be1f7a1ade927b30"
 },
 "nbformat": 3,
 "nbformat_minor": 0,
 "worksheets": [
  {
   "cells": [
    {
     "cell_type": "markdown",
     "metadata": {},
     "source": [
      "Integration on manifolds exercise in Sympy!\n",
      "===========================================\n",
      "Here I compute the scale factor $J(t)$ for the integration over the faces of a \"cube mapped\" sphere. That is\n",
      "$$ F = (u,v,1)^t/\\sqrt{u^2 + v^2 + 1}$$\n",
      "\n",
      "Explanation:\n",
      "------------\n",
      "Following http://www.owlnet.rice.edu/~fjones/chap11.pdf\n",
      "\n",
      "Let $M \\in R^n$ be a manifold defined by map $F: A \\rightarrow M$, where $A \\in R^m, m<n$.\n",
      "If $g$ is a real-valued function defined on $M$, its integral over $M$ is given by\n",
      "$$ I = \\int_M g(x) dx = \\int_A g(F(t)) J(t) dt $$\n",
      "with\n",
      "$$ J(t) = \\sqrt{det \\{(DF)^t (DF)\\}}$$\n",
      "and the Jacobian matrix\n",
      "$$ DF_{ij} = \\partial F_i / \\partial t_j$$"
     ]
    },
    {
     "cell_type": "code",
     "collapsed": false,
     "input": [
      "from sympy import *\n",
      "import sympy\n",
      "print sympy.__version__"
     ],
     "language": "python",
     "metadata": {},
     "outputs": [
      {
       "output_type": "stream",
       "stream": "stdout",
       "text": [
        "1.1.1\n"
       ]
      }
     ],
     "prompt_number": 2
    },
    {
     "cell_type": "code",
     "collapsed": false,
     "input": [
      "u, v = Symbol('u'), Symbol('v')"
     ],
     "language": "python",
     "metadata": {},
     "outputs": [],
     "prompt_number": 3
    },
    {
     "cell_type": "code",
     "collapsed": false,
     "input": [
      "n = sqrt(u*u + v*v + 1.)"
     ],
     "language": "python",
     "metadata": {},
     "outputs": [],
     "prompt_number": 38
    },
    {
     "cell_type": "code",
     "collapsed": false,
     "input": [
      "print n"
     ],
     "language": "python",
     "metadata": {},
     "outputs": [
      {
       "output_type": "stream",
       "stream": "stdout",
       "text": [
        "sqrt(u**2 + v**2 + 1.0)\n"
       ]
      }
     ],
     "prompt_number": 39
    },
    {
     "cell_type": "code",
     "collapsed": false,
     "input": [
      "x = u/n\n",
      "y = v/n\n",
      "z = 1/n"
     ],
     "language": "python",
     "metadata": {},
     "outputs": [],
     "prompt_number": 40
    },
    {
     "cell_type": "code",
     "collapsed": false,
     "input": [
      "import numpy as np"
     ],
     "language": "python",
     "metadata": {},
     "outputs": [],
     "prompt_number": 41
    },
    {
     "cell_type": "code",
     "collapsed": false,
     "input": [
      "DF = np.zeros((3,2), np.object)\n",
      "for i, a in enumerate([x, y, z]):\n",
      "    for j, b in enumerate([u, v]):\n",
      "        DF[i,j] = simplify(diff(a, b))\n",
      "DF = Matrix(DF)\n",
      "DF"
     ],
     "language": "python",
     "metadata": {},
     "outputs": [
      {
       "metadata": {},
       "output_type": "pyout",
       "prompt_number": 42,
       "text": [
        "Matrix([\n",
        "[(v**2 + 1.0)/(u**2 + v**2 + 1.0)**(3/2),         -u*v/(u**2 + v**2 + 1.0)**(3/2)],\n",
        "[        -u*v/(u**2 + v**2 + 1.0)**(3/2), (u**2 + 1.0)/(u**2 + v**2 + 1.0)**(3/2)],\n",
        "[          -u/(u**2 + v**2 + 1.0)**(3/2),           -v/(u**2 + v**2 + 1.0)**(3/2)]])"
       ]
      }
     ],
     "prompt_number": 42
    },
    {
     "cell_type": "code",
     "collapsed": false,
     "input": [
      "DF.T"
     ],
     "language": "python",
     "metadata": {},
     "outputs": [
      {
       "metadata": {},
       "output_type": "pyout",
       "prompt_number": 43,
       "text": [
        "Matrix([\n",
        "[(v**2 + 1.0)/(u**2 + v**2 + 1.0)**(3/2),         -u*v/(u**2 + v**2 + 1.0)**(3/2), -u/(u**2 + v**2 + 1.0)**(3/2)],\n",
        "[        -u*v/(u**2 + v**2 + 1.0)**(3/2), (u**2 + 1.0)/(u**2 + v**2 + 1.0)**(3/2), -v/(u**2 + v**2 + 1.0)**(3/2)]])"
       ]
      }
     ],
     "prompt_number": 43
    },
    {
     "cell_type": "code",
     "collapsed": false,
     "input": [
      "J = sqrt((DF.T*DF).det())"
     ],
     "language": "python",
     "metadata": {},
     "outputs": [],
     "prompt_number": 44
    },
    {
     "cell_type": "code",
     "collapsed": false,
     "input": [
      "J = simplify(J)"
     ],
     "language": "python",
     "metadata": {},
     "outputs": [],
     "prompt_number": 45
    },
    {
     "cell_type": "code",
     "collapsed": false,
     "input": [
      "J"
     ],
     "language": "python",
     "metadata": {},
     "outputs": [
      {
       "metadata": {},
       "output_type": "pyout",
       "prompt_number": 46,
       "text": [
        "sqrt((-u**2*v**2*(u**2 + v**2 + 1.0)**2 + (u**2*v**2 + u**2 + (v**2 + 1.0)**2)*(u**2*v**2 + v**2 + (u**2 + 1.0)**2))/(u**2 + v**2 + 1.0)**6)"
       ]
      }
     ],
     "prompt_number": 46
    },
    {
     "cell_type": "code",
     "collapsed": false,
     "input": [
      "J.subs([(u, 0), (v, 0)]).evalf()"
     ],
     "language": "python",
     "metadata": {},
     "outputs": [
      {
       "metadata": {},
       "output_type": "pyout",
       "prompt_number": 47,
       "text": [
        "1.00000000000000"
       ]
      }
     ],
     "prompt_number": 47
    },
    {
     "cell_type": "code",
     "collapsed": false,
     "input": [
      "q = np.linspace(-1., 1., 21)\n",
      "print q"
     ],
     "language": "python",
     "metadata": {},
     "outputs": [
      {
       "output_type": "stream",
       "stream": "stdout",
       "text": [
        "[-1.  -0.9 -0.8 -0.7 -0.6 -0.5 -0.4 -0.3 -0.2 -0.1  0.   0.1  0.2  0.3\n",
        "  0.4  0.5  0.6  0.7  0.8  0.9  1. ]\n"
       ]
      }
     ],
     "prompt_number": 48
    },
    {
     "cell_type": "code",
     "collapsed": false,
     "input": [
      "# let's check if the integration works by computing the \n",
      "# area of a cube mapped face of the unit sphere.\n",
      "# Of course the area should come out as 1/6 of the area of the full sphere.\n",
      "du = (q[1]-q[0])\n",
      "dv = du\n",
      "def f(s, t):\n",
      "    return J.subs([(u, q[s]), (v, q[t])]).evalf()\n",
      "I = 0.\n",
      "for s in range(len(q)-1):\n",
      "    for t in range(len(q)-1):\n",
      "        # 2D trapezoid quadrature.\n",
      "        vol = (f(s, t) + f(s+1, t) + f(s,t+1) + f(s+1, t+1))*0.25*du*dv\n",
      "        I += vol"
     ],
     "language": "python",
     "metadata": {},
     "outputs": [],
     "prompt_number": 49
    },
    {
     "cell_type": "code",
     "collapsed": false,
     "input": [
      "import math\n",
      "print 'Relative to exact area:', I/(4.*math.pi)*6."
     ],
     "language": "python",
     "metadata": {},
     "outputs": [
      {
       "output_type": "stream",
       "stream": "stdout",
       "text": [
        "Relative to exact area: 0.998775337001508\n"
       ]
      }
     ],
     "prompt_number": 50
    },
    {
     "cell_type": "code",
     "collapsed": false,
     "input": [
      "from sympy.utilities.codegen import codegen"
     ],
     "language": "python",
     "metadata": {},
     "outputs": [],
     "prompt_number": 51
    },
    {
     "cell_type": "code",
     "collapsed": false,
     "input": [
      "x_, y_, z_ = symbols('x_ y_ z_')\n",
      "[(c_name, c_code), (h_name, c_header)] = codegen(\n",
      "    [(\"cube_map_J\", J), ('cube_map_F', [Eq(x_,x), Eq(y_,y), Eq(z_,z)])], \"C\", \"test\", header=False, empty=False)"
     ],
     "language": "python",
     "metadata": {},
     "outputs": [],
     "prompt_number": 52
    },
    {
     "cell_type": "code",
     "collapsed": false,
     "input": [
      "print c_code"
     ],
     "language": "python",
     "metadata": {},
     "outputs": [
      {
       "output_type": "stream",
       "stream": "stdout",
       "text": [
        "#include \"test.h\"\n",
        "#include <math.h>\n",
        "double cube_map_J(double u, double v) {\n",
        "   double cube_map_J_result;\n",
        "   cube_map_J_result = sqrt((-pow(u, 2)*pow(v, 2)*pow(pow(u, 2) + pow(v, 2) + 1.0, 2) + (pow(u, 2)*pow(v, 2) + pow(u, 2) + pow(pow(v, 2) + 1.0, 2))*(pow(u, 2)*pow(v, 2) + pow(v, 2) + pow(pow(u, 2) + 1.0, 2)))/pow(pow(u, 2) + pow(v, 2) + 1.0, 6));\n",
        "   return cube_map_J_result;\n",
        "}\n",
        "void cube_map_F(double u, double v, double *x_, double *y_, double *z_) {\n",
        "   (*x_) = u/sqrt(pow(u, 2) + pow(v, 2) + 1.0);\n",
        "   (*y_) = v/sqrt(pow(u, 2) + pow(v, 2) + 1.0);\n",
        "   (*z_) = pow(pow(u, 2) + pow(v, 2) + 1.0, -1.0L/2.0L);\n",
        "}\n",
        "\n"
       ]
      }
     ],
     "prompt_number": 53
    }
   ],
   "metadata": {}
  }
 ]
}