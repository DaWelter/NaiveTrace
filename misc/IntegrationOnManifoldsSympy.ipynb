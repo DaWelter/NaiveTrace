{
 "cells": [
  {
   "cell_type": "markdown",
   "metadata": {},
   "source": [
    "Integration on manifolds exercise in Sympy!\n",
    "===========================================\n",
    "Here I compute the scale factor $J(t)$ for the integration over the faces of a \"cube mapped\" sphere. That is\n",
    "$$ F = (u,v,1)^t/\\sqrt{u^2 + v^2 + 1}$$\n",
    "\n",
    "Explanation:\n",
    "------------\n",
    "Following http://www.owlnet.rice.edu/~fjones/chap11.pdf\n",
    "\n",
    "Let $M \\in R^n$ be a manifold defined by map $F: A \\rightarrow M$, where $A \\in R^m, m<n$.\n",
    "If $g$ is a real-valued function defined on $M$, its integral over $M$ is given by\n",
    "$$ I = \\int_M g(x) dx = \\int_A g(F(t)) J(t) dt $$\n",
    "with\n",
    "$$ J(t) = \\sqrt{det \\{(DF)^t (DF)\\}}$$\n",
    "and the Jacobian matrix\n",
    "$$ DF_{ij} = \\partial F_i / \\partial t_j$$"
   ]
  },
  {
   "cell_type": "markdown",
   "metadata": {},
   "source": [
    "For probability densities we have\n",
    "$$ I = \\int_M p_X(x) dx = \\int_A p_X(F(t)) J(t) dt = \\int_A p_T(t) dt $$\n",
    "Hence\n",
    "$$ p_X = \\frac{p_T}{J} $$"
   ]
  },
  {
   "cell_type": "code",
   "execution_count": null,
   "metadata": {},
   "outputs": [],
   "source": [
    "from sympy import *\n",
    "import sympy\n",
    "print(sympy.__version__)"
   ]
  },
  {
   "cell_type": "code",
   "execution_count": null,
   "metadata": {},
   "outputs": [],
   "source": [
    "u, v = Symbol('u'), Symbol('v')"
   ]
  },
  {
   "cell_type": "code",
   "execution_count": null,
   "metadata": {},
   "outputs": [],
   "source": [
    "n = sqrt(u*u + v*v + 1.)"
   ]
  },
  {
   "cell_type": "code",
   "execution_count": null,
   "metadata": {},
   "outputs": [],
   "source": [
    "print(n)"
   ]
  },
  {
   "cell_type": "code",
   "execution_count": null,
   "metadata": {},
   "outputs": [],
   "source": [
    "x = u/n\n",
    "y = v/n\n",
    "z = 1/n"
   ]
  },
  {
   "cell_type": "code",
   "execution_count": null,
   "metadata": {},
   "outputs": [],
   "source": [
    "import numpy as np"
   ]
  },
  {
   "cell_type": "code",
   "execution_count": null,
   "metadata": {},
   "outputs": [],
   "source": [
    "DF = np.zeros((3,2), np.object)\n",
    "for i, a in enumerate([x, y, z]):\n",
    "    for j, b in enumerate([u, v]):\n",
    "        DF[i,j] = simplify(diff(a, b))\n",
    "DF = Matrix(DF)\n",
    "DF"
   ]
  },
  {
   "cell_type": "code",
   "execution_count": null,
   "metadata": {},
   "outputs": [],
   "source": [
    "DF.T"
   ]
  },
  {
   "cell_type": "code",
   "execution_count": null,
   "metadata": {},
   "outputs": [],
   "source": [
    "J = sqrt((DF.T*DF).det())"
   ]
  },
  {
   "cell_type": "code",
   "execution_count": null,
   "metadata": {},
   "outputs": [],
   "source": [
    "J = simplify(J)"
   ]
  },
  {
   "cell_type": "code",
   "execution_count": null,
   "metadata": {},
   "outputs": [],
   "source": [
    "J"
   ]
  },
  {
   "cell_type": "code",
   "execution_count": null,
   "metadata": {},
   "outputs": [],
   "source": [
    "J.subs([(u, 0), (v, 0)]).evalf()"
   ]
  },
  {
   "cell_type": "code",
   "execution_count": null,
   "metadata": {},
   "outputs": [],
   "source": [
    "q = np.linspace(-1., 1., 21)\n",
    "print(q)"
   ]
  },
  {
   "cell_type": "code",
   "execution_count": null,
   "metadata": {},
   "outputs": [],
   "source": [
    "# let's check if the integration works by computing the \n",
    "# area of a cube mapped face of the unit sphere.\n",
    "# Of course the area should come out as 1/6 of the area of the full sphere.\n",
    "du = (q[1]-q[0])\n",
    "dv = du\n",
    "def f(s, t):\n",
    "    return J.subs([(u, q[s]), (v, q[t])]).evalf()\n",
    "I = 0.\n",
    "for s in range(len(q)-1):\n",
    "    for t in range(len(q)-1):\n",
    "        # 2D trapezoid quadrature.\n",
    "        vol = (f(s, t) + f(s+1, t) + f(s,t+1) + f(s+1, t+1))*0.25*du*dv\n",
    "        I += vol"
   ]
  },
  {
   "cell_type": "code",
   "execution_count": null,
   "metadata": {},
   "outputs": [],
   "source": [
    "import math\n",
    "print('Relative to exact area:', I/(4.*math.pi)*6.)"
   ]
  },
  {
   "cell_type": "code",
   "execution_count": null,
   "metadata": {},
   "outputs": [],
   "source": [
    "from sympy.utilities.codegen import codegen"
   ]
  },
  {
   "cell_type": "code",
   "execution_count": null,
   "metadata": {},
   "outputs": [],
   "source": [
    "x_, y_, z_ = symbols('x_ y_ z_')\n",
    "[(c_name, c_code), (h_name, c_header)] = codegen(\n",
    "    [(\"cube_map_J\", J), ('cube_map_F', [Eq(x_,x), Eq(y_,y), Eq(z_,z)])], \"C\", \"test\", header=False, empty=False)"
   ]
  },
  {
   "cell_type": "code",
   "execution_count": null,
   "metadata": {},
   "outputs": [],
   "source": [
    "print(c_code)"
   ]
  },
  {
   "cell_type": "code",
   "execution_count": null,
   "metadata": {},
   "outputs": [],
   "source": []
  }
 ],
 "metadata": {
  "kernelspec": {
   "display_name": "Python 3",
   "language": "python",
   "name": "python3"
  },
  "language_info": {
   "codemirror_mode": {
    "name": "ipython",
    "version": 3
   },
   "file_extension": ".py",
   "mimetype": "text/x-python",
   "name": "python",
   "nbconvert_exporter": "python",
   "pygments_lexer": "ipython3",
   "version": "3.7.3"
  }
 },
 "nbformat": 4,
 "nbformat_minor": 1
}
