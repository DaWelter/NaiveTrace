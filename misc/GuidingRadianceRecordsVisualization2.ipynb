{
 "cells": [
  {
   "cell_type": "code",
   "execution_count": null,
   "metadata": {},
   "outputs": [],
   "source": [
    "from IPython.core.display import display, HTML\n",
    "display(HTML(\"<style>.container { width:100% !important; }</style>\"))"
   ]
  },
  {
   "cell_type": "code",
   "execution_count": null,
   "metadata": {},
   "outputs": [],
   "source": [
    "import os\n",
    "import sys\n",
    "import json\n",
    "import glob\n",
    "import numpy as np\n",
    "from collections import defaultdict, namedtuple\n",
    "from pprint import pprint\n",
    "from copy import copy"
   ]
  },
  {
   "cell_type": "code",
   "execution_count": null,
   "metadata": {},
   "outputs": [],
   "source": [
    "from path_guiding_kdtree_loader import read_records, convert_data"
   ]
  },
  {
   "cell_type": "code",
   "execution_count": null,
   "metadata": {},
   "outputs": [],
   "source": [
    "from matplotlib import pyplot\n",
    "import matplotlib\n",
    "from mpl_toolkits.mplot3d import Axes3D"
   ]
  },
  {
   "cell_type": "raw",
   "metadata": {},
   "source": [
    "import mayavi.mlab\n",
    "mayavi.mlab.init_notebook('x3d', 800, 800)\n",
    "#mayavi.mlab.options.offscreen = True"
   ]
  },
  {
   "cell_type": "raw",
   "metadata": {},
   "source": [
    "mayavi.mlab.test_plot3d()"
   ]
  },
  {
   "cell_type": "code",
   "execution_count": null,
   "metadata": {},
   "outputs": [],
   "source": [
    "def pdf_image(ax, gmm):\n",
    "    t = np.linspace(-1.,1., 100)\n",
    "    x,y = np.meshgrid(t,t)\n",
    "    coord_list = np.vstack((x.ravel(), y.ravel())).T\n",
    "    pdf_vals = gmm.pdf(coord_list)\n",
    "    pdf_vals = np.reshape(pdf_vals, (t.size,t.size))\n",
    "    return ax.imshow(pdf_vals[::-1,::], extent=(-1.,1,-1.,1.))\n",
    "\n",
    "def rot(a):\n",
    "    a = np.pi/180*a\n",
    "    cs = np.cos(a)\n",
    "    sn = np.sin(a)\n",
    "    rot = [\n",
    "        [cs, sn],\n",
    "        [-sn,cs]\n",
    "    ]\n",
    "    return np.matrix(rot)"
   ]
  },
  {
   "cell_type": "code",
   "execution_count": null,
   "metadata": {},
   "outputs": [],
   "source": [
    "def run_fit(cell):\n",
    "    gmm = path_guiding.GMM2d()\n",
    "    init_uniform_means_on_cicle = np.array([\n",
    "        [-0.02081824, -0.00203204],\n",
    "        [ 0.4037143 , -0.5633242 ],\n",
    "        [-0.60468113,  0.32800356],\n",
    "        [-0.12180968,  0.6798401 ],\n",
    "        [ 0.6943762 , -0.03451705],\n",
    "        [ 0.4580511 ,  0.52144015],\n",
    "        [-0.63349193, -0.26706135],\n",
    "        [-0.18766472, -0.66355205]\n",
    "    ])\n",
    "    sigma_inv = np.full(8, 10.)\n",
    "    init_precisions = np.zeros((8,2,2), dtype=np.float32)\n",
    "    init_precisions[:,0,0] = sigma_inv\n",
    "    init_precisions[:,1,1] = sigma_inv\n",
    "    init_weights = np.full(8, 1./8., dtype=np.float32)\n",
    "    gmm.initialize(init_weights, init_uniform_means_on_cicle, init_precisions)\n",
    "    prior_nu = 1.00001; prior_alpha = 2.01; prior_u = 1.e-5; max_iters = 10;\n",
    "    \n",
    "    xs = cell.proj\n",
    "    ws = np.average(cell.vals,axis=1)\n",
    "    gmm.fit(xs, ws, prior_nu, prior_alpha, prior_u, max_iters)\n",
    "    return gmm\n",
    "\n",
    "def incremental_fit(cell):\n",
    "    gmm = path_guiding.GMM2d()\n",
    "    init_uniform_means_on_cicle = np.array([\n",
    "        [-0.02081824, -0.00203204],\n",
    "        [ 0.4037143 , -0.5633242 ],\n",
    "        [-0.60468113,  0.32800356],\n",
    "        [-0.12180968,  0.6798401 ],\n",
    "        [ 0.6943762 , -0.03451705],\n",
    "        [ 0.4580511 ,  0.52144015],\n",
    "        [-0.63349193, -0.26706135],\n",
    "        [-0.18766472, -0.66355205]\n",
    "    ])\n",
    "    sigma_inv = np.full(8, 10.)\n",
    "    init_precisions = np.zeros((8,2,2), dtype=np.float32)\n",
    "    init_precisions[:,0,0] = sigma_inv\n",
    "    init_precisions[:,1,1] = sigma_inv\n",
    "    init_weights = np.full(8, 1./8., dtype=np.float32)\n",
    "    gmm.initialize(init_weights, init_uniform_means_on_cicle, init_precisions)\n",
    "    \n",
    "    prior_nu = 100; prior_alpha = 2.1; prior_u = 10; maximization_step_every = 100;\n",
    "    \n",
    "    incremental = path_guiding.GMM2dFitIncremental(\n",
    "        prior_nu = prior_nu, \n",
    "        prior_alpha = prior_alpha, \n",
    "        prior_u = prior_u, \n",
    "        maximization_step_every = maximization_step_every)\n",
    "    \n",
    "    xs = cell.proj\n",
    "    ws = np.average(cell.vals,axis=1)\n",
    "    incremental.fit(gmm, xs, ws)\n",
    "    \n",
    "    return gmm"
   ]
  },
  {
   "cell_type": "code",
   "execution_count": null,
   "metadata": {},
   "outputs": [],
   "source": [
    "#PREFIX=\"D:\\\\tmp\\\\\"\n",
    "PREFIX=\"/tmp/\""
   ]
  },
  {
   "cell_type": "code",
   "execution_count": null,
   "metadata": {
    "scrolled": false
   },
   "outputs": [],
   "source": [
    "for i in range(11):\n",
    "    tree, celldata = convert_data(read_records(PREFIX+f'radiance_records_{i}.json'), load_samples = False)\n",
    "    weights = np.array([cd['average_weight'] for cd in celldata])\n",
    "    print (f\"{i}: {len(celldata)}, average weight = {np.average(weights)}\")\n",
    "    pyplot.bar(x = np.arange(len(weights)), height=weights)\n",
    "    pyplot.show()"
   ]
  },
  {
   "cell_type": "raw",
   "metadata": {
    "scrolled": true
   },
   "source": [
    "samplecounts = np.asarray([c.num_points for c in celldata])\n",
    "pyplot.bar(x = np.arange(len(samplecounts)), height=samplecounts)"
   ]
  },
  {
   "cell_type": "code",
   "execution_count": null,
   "metadata": {},
   "outputs": [],
   "source": [
    "#for i in range(14):\n",
    "#    tree, celldata = convert_data(read_records(PREFIX+f'radiance_records_{i}.json'), load_samples = False)"
   ]
  },
  {
   "cell_type": "code",
   "execution_count": null,
   "metadata": {},
   "outputs": [],
   "source": [
    "#%matplotlib notebook"
   ]
  },
  {
   "cell_type": "code",
   "execution_count": null,
   "metadata": {},
   "outputs": [],
   "source": [
    "tree, celldata = convert_data(read_records(PREFIX+'radiance_records_14.json'), load_samples = False, build_boxes = True)"
   ]
  },
  {
   "cell_type": "code",
   "execution_count": null,
   "metadata": {},
   "outputs": [],
   "source": [
    "n = [c.num_points for c in celldata]\n",
    "#pyplot.plot(n)\n",
    "sum(n)# / (1280*960)"
   ]
  },
  {
   "cell_type": "raw",
   "metadata": {
    "scrolled": false
   },
   "source": [
    "boxmin = np.asarray([c.box[:,0] for c in celldata])\n",
    "boxmax = np.asarray([c.box[:,1] for c in celldata])\n",
    "cellsizes = np.asarray([c.size for c in celldata])\n",
    "cellcenters = np.asarray([c.center for c in celldata])\n",
    "x = np.arange(len(boxmin))\n",
    "fig, axes = pyplot.subplots(3,1, figsize=(15,10))\n",
    "for i, ax in enumerate(axes):\n",
    "    ax.set_title(f\"axis {i}\")\n",
    "    ax.plot(x, boxmin.T[i], ls = '', marker='_', color = 'k')\n",
    "    ax.plot(x, boxmax.T[i], ls = '', marker='_', color = 'k')\n",
    "    ax.errorbar(x, cellcenters.T[i], yerr=cellsizes.T[i], marker='x', ls='')\n",
    "pyplot.tight_layout()"
   ]
  },
  {
   "cell_type": "raw",
   "metadata": {},
   "source": [
    "cellvolumes = np.asarray([c.size for c in celldata])\n",
    "x = np.arange(len(samplecounts))\n",
    "pyplot.bar(x = x, height = cellvolumes[:,0])"
   ]
  },
  {
   "cell_type": "code",
   "execution_count": null,
   "metadata": {
    "scrolled": false
   },
   "outputs": [],
   "source": [
    "coords = np.concatenate([c.center[np.newaxis,:] for c in celldata], axis=0)\n",
    "mask_roi = (coords[:,1] < 0.5) & (coords[:,1] > 0.0) & (coords[:,0] < 0.25) & (coords[:,0] > -0.25) & (coords[:,2] < 0.25) & (coords[:,2] > -0.25)\n",
    "print (np.where(mask_roi))"
   ]
  },
  {
   "cell_type": "code",
   "execution_count": null,
   "metadata": {},
   "outputs": [],
   "source": [
    "def plot_vmf_pdf(ax, vmfm):\n",
    "    # https://scipython.com/book/chapter-8-scipy/examples/visualizing-the-spherical-harmonics/\n",
    "    phi = np.linspace(0, np.pi, 100)\n",
    "    theta = np.linspace(0, 2*np.pi, 100)\n",
    "    phi, theta = np.meshgrid(phi, theta)\n",
    "\n",
    "    # The Cartesian coordinates of the unit sphere\n",
    "    x = np.sin(phi) * np.cos(theta)\n",
    "    y = np.sin(phi) * np.sin(theta)\n",
    "    z = np.cos(phi)\n",
    "\n",
    "    pts = np.vstack((x.ravel(),y.ravel(),z.ravel())).T\n",
    "    fcolors = vmfm.pdf(pts).reshape(x.shape)\n",
    "    fcolors /= fcolors.max()\n",
    "    \n",
    "    ax.plot_surface(x, y, z,  rstride=1, cstride=1, facecolors=matplotlib.cm.jet(fcolors))"
   ]
  },
  {
   "cell_type": "code",
   "execution_count": null,
   "metadata": {},
   "outputs": [],
   "source": [
    "%matplotlib notebook"
   ]
  },
  {
   "cell_type": "code",
   "execution_count": null,
   "metadata": {
    "scrolled": false
   },
   "outputs": [],
   "source": [
    "# For gaussian mixture\n",
    "data_selection = [celldata[int(i)] for i in [73, 110, 164, 165]]\n",
    "for cell1 in data_selection:\n",
    "    if 0:\n",
    "        fig, axes = pyplot.subplots(1,3, figsize=(15,5))\n",
    "        fig.suptitle(f\"#samples = {cell1.num_points}\")\n",
    "        if cell1.val is not None:\n",
    "            w = np.average(cell1.val,axis=1) + 1.e-9\n",
    "            norm = np.average(w)\n",
    "            w /= norm\n",
    "            axes[0].scatter(*cell1.proj.T, c = w, s=w, alpha = 0.2, edgecolor='none')\n",
    "            axes[0].add_artist(pyplot.Circle((0, 0), 1, fill=False, color = 'k'))\n",
    "        pdf_image(axes[1], cell1.mixture_learned)\n",
    "        axes[1].set(title = 'learned')\n",
    "        pdf_image(axes[2], cell1.mixture_sampled)\n",
    "        axes[2].set(title = 'sampled')\n",
    "        pyplot.show()\n",
    "    if 1:\n",
    "        fig = pyplot.figure()\n",
    "        ax = fig.add_subplot(121, projection='3d')\n",
    "        plot_vmf_pdf(ax, cell1.mixture_learned)\n",
    "        fig = pyplot.figure()\n",
    "        ax = fig.add_subplot(122, projection='3d')\n",
    "        plot_vmf_pdf(ax, cell1.mixture_sampled)\n",
    "        pyplot.show()"
   ]
  },
  {
   "cell_type": "code",
   "execution_count": null,
   "metadata": {},
   "outputs": [],
   "source": []
  }
 ],
 "metadata": {
  "kernelspec": {
   "display_name": "Python 3",
   "language": "python",
   "name": "python3"
  },
  "language_info": {
   "codemirror_mode": {
    "name": "ipython",
    "version": 3
   },
   "file_extension": ".py",
   "mimetype": "text/x-python",
   "name": "python",
   "nbconvert_exporter": "python",
   "pygments_lexer": "ipython3",
   "version": "3.7.3"
  }
 },
 "nbformat": 4,
 "nbformat_minor": 2
}
