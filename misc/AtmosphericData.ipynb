{
 "metadata": {
  "name": "",
  "signature": "sha256:d345ecbb2ab664eaea87f7ec501a519040cfd286752695c370f2fe5f64a20c08"
 },
 "nbformat": 3,
 "nbformat_minor": 0,
 "worksheets": [
  {
   "cells": [
    {
     "cell_type": "markdown",
     "metadata": {},
     "source": [
      "Conversion of Atmospheric Data\n",
      "------------------------------\n",
      "This notebook contains code to determine tabulated collision coefficients for Earth's atmosphere, compiled from various sources, taking into account the distribution of molecules, aerosoles and ozone with altitude.\n",
      "\n",
      "Refs: \n",
      "* [1] Adams (1974) \"The Influence of Ozone and Aerosols on the Brightness and Color of the Twilight Sky\"\n",
      "* [2] Elterman (1968) \"UV, Visible, and IR Attenuation for Altitudes to 50 km\"\n",
      "* [3] Haenel (1976) The single-scattering albedo of atmospheric aerosol particles as a function of relative humidity\n",
      "* [4] Handbook of Geophysics (1985) Chapt. 18"
     ]
    },
    {
     "cell_type": "code",
     "collapsed": false,
     "input": [
      "import numpy as np\n",
      "import matplotlib.pyplot as pyplot\n",
      "import csv\n",
      "# What would I do without this stuff ...\n",
      "import scipy.stats\n",
      "import scipy.optimize\n",
      "import scipy.interpolate\n",
      "import functools"
     ],
     "language": "python",
     "metadata": {},
     "outputs": [],
     "prompt_number": 1
    },
    {
     "cell_type": "code",
     "collapsed": false,
     "input": [
      "%matplotlib inline\n",
      "pyplot.ioff()"
     ],
     "language": "python",
     "metadata": {},
     "outputs": [],
     "prompt_number": 2
    },
    {
     "cell_type": "markdown",
     "metadata": {},
     "source": [
      "Before doing anything, I define the spectral discretization in uniformly spaced bins"
     ]
    },
    {
     "cell_type": "code",
     "collapsed": false,
     "input": [
      "NBINS = 36\n",
      "DLAMBDA = 10. # width of the bins\n",
      "bin_boundaries = 370. + np.arange(NBINS+1)*DLAMBDA\n",
      "print bin_boundaries\n",
      "bin_centers = np.average([bin_boundaries[1:], bin_boundaries[:-1]], axis=0)\n",
      "print bin_centers"
     ],
     "language": "python",
     "metadata": {},
     "outputs": [
      {
       "output_type": "stream",
       "stream": "stdout",
       "text": [
        "[ 370.  380.  390.  400.  410.  420.  430.  440.  450.  460.  470.  480.\n",
        "  490.  500.  510.  520.  530.  540.  550.  560.  570.  580.  590.  600.\n",
        "  610.  620.  630.  640.  650.  660.  670.  680.  690.  700.  710.  720.\n",
        "  730.]\n",
        "[ 375.  385.  395.  405.  415.  425.  435.  445.  455.  465.  475.  485.\n",
        "  495.  505.  515.  525.  535.  545.  555.  565.  575.  585.  595.  605.\n",
        "  615.  625.  635.  645.  655.  665.  675.  685.  695.  705.  715.  725.]\n"
       ]
      }
     ],
     "prompt_number": 3
    },
    {
     "cell_type": "markdown",
     "metadata": {},
     "source": [
      "Then define points in altitude where the collision coefficients are supported."
     ]
    },
    {
     "cell_type": "code",
     "collapsed": false,
     "input": [
      "H = np.linspace(-1, 200., 403)\n",
      "deltaH = H[1]-H[0]\n",
      "print 'delta h =', deltaH, 'km'\n",
      "sealevel_idx = np.argmin(H<0.)\n",
      "print 'Sealevel Idx =', sealevel_idx, ' at height ', H[sealevel_idx]"
     ],
     "language": "python",
     "metadata": {},
     "outputs": [
      {
       "output_type": "stream",
       "stream": "stdout",
       "text": [
        "delta h = 0.5 km\n",
        "Sealevel Idx = 2  at height  0.0\n"
       ]
      }
     ],
     "prompt_number": 4
    },
    {
     "cell_type": "markdown",
     "metadata": {},
     "source": [
      "Exponential law to fit distributions of stuff depending on altitude."
     ]
    },
    {
     "cell_type": "code",
     "collapsed": false,
     "input": [
      "def exponential_law(h, inv_scale_height, ref_val, ref_alt):\n",
      "    return np.exp(-(h-ref_alt)*inv_scale_height)*ref_val"
     ],
     "language": "python",
     "metadata": {},
     "outputs": [],
     "prompt_number": 5
    },
    {
     "cell_type": "code",
     "collapsed": false,
     "input": [
      "def map_line(l):\n",
      "    l = map(str.strip, l.split())\n",
      "    l = map(float, l)\n",
      "    return l\n",
      "\n",
      "def loadcsv(filename, skip_header_lines):\n",
      "    data = []\n",
      "    with open(filename, 'rb') as csvfile:\n",
      "        reader = csv.reader(csvfile, delimiter=',')\n",
      "        for row in reader:\n",
      "            data.append(row)\n",
      "    data = data[skip_header_lines:]\n",
      "    data = map(lambda row: map(float, row), data)\n",
      "    data = np.asarray(data)\n",
      "    return data"
     ],
     "language": "python",
     "metadata": {},
     "outputs": [],
     "prompt_number": 6
    },
    {
     "cell_type": "markdown",
     "metadata": {},
     "source": [
      "Aerosoles\n",
      "---------\n",
      "Read csv obtained by tracing the figures in the refs. Transform data to proper units."
     ]
    },
    {
     "cell_type": "markdown",
     "metadata": {},
     "source": [
      "First the attenuation coefficient for lambda = 550 nm. In the end it will be in units of km^-1 vs km of altitude."
     ]
    },
    {
     "cell_type": "code",
     "collapsed": false,
     "input": [
      "if False:\n",
      "    aerosole_attenuation_vs_alt = loadcsv('atmospheric_data/elterman_1968_aerosole_attenuation_vs_altitude.csv',1)\n",
      "    aerosole_attenuation_vs_alt.T[1] = np.power(10., aerosole_attenuation_vs_alt.T[1])\n",
      "    aerosole_attenuation_vs_alt.T[2] = np.power(10., aerosole_attenuation_vs_alt.T[2])\n",
      "    fit_above_altitude = 30.\n",
      "else:\n",
      "    aerosole_attenuation_vs_alt = loadcsv('atmospheric_data/handbook_of_geophysics_fig18-13.csv',1)\n",
      "    fit_above_altitude = 24.\n",
      "    (inv_scale_height,_) , _ = scipy.optimize.curve_fit(\n",
      "        functools.partial(exponential_law, ref_alt=30.),\n",
      "        [30., 60.],\n",
      "        [3.e-5, 6.e-7],\n",
      "        p0 = (0.2, 1.e-3))\n",
      "    print \"Inv scale height at above 30km=\", inv_scale_height"
     ],
     "language": "python",
     "metadata": {},
     "outputs": [
      {
       "output_type": "stream",
       "stream": "stdout",
       "text": [
        "Inv scale height at above 30km= 0.130400766848\n"
       ]
      },
      {
       "output_type": "stream",
       "stream": "stderr",
       "text": [
        "/usr/lib/python2.7/dist-packages/scipy/optimize/minpack.py:690: OptimizeWarning: Covariance of the parameters could not be estimated\n",
        "  category=OptimizeWarning)\n"
       ]
      }
     ],
     "prompt_number": 7
    },
    {
     "cell_type": "code",
     "collapsed": false,
     "input": [
      "pyplot.plot(aerosole_attenuation_vs_alt.T[0], aerosole_attenuation_vs_alt.T[1])\n",
      "pyplot.gca().set(yscale = 'log')\n",
      "pyplot.show()"
     ],
     "language": "python",
     "metadata": {},
     "outputs": [
      {
       "metadata": {},
       "output_type": "display_data",
       "png": "[encoded data removed]",
       "text": [
        "<matplotlib.figure.Figure at 0x7fe3b27d0210>"
       ]
      }
     ],
     "prompt_number": 8
    },
    {
     "cell_type": "markdown",
     "metadata": {},
     "source": [
      "Use a fit at the ends of the curve to do an extrapolation with the fitted scale height."
     ]
    },
    {
     "cell_type": "code",
     "collapsed": false,
     "input": [
      "mask = aerosole_attenuation_vs_alt.T[0]>fit_above_altitude\n",
      "p1, _ = scipy.optimize.curve_fit(\n",
      "    functools.partial(exponential_law, ref_alt = fit_above_altitude),\n",
      "    aerosole_attenuation_vs_alt.T[0,mask],\n",
      "    aerosole_attenuation_vs_alt.T[1,mask],\n",
      "    p0 = (0.2, 1.e-3))\n",
      "sigma_t_inv_scale_height_at_alt = p1[0]\n",
      "print 'Inv Scale height at altitude:', sigma_t_inv_scale_height_at_alt\n",
      "print \"It is too large. I'm going to use 1.2 km\"\n",
      "sigma_t_inv_scale_height_at_alt = 1./1.2\n",
      "\n",
      "mask = aerosole_attenuation_vs_alt.T[0]<5\n",
      "p1, _ = scipy.optimize.curve_fit(\n",
      "    functools.partial(exponential_law, ref_alt = 0.),\n",
      "    aerosole_attenuation_vs_alt.T[0,mask],\n",
      "    aerosole_attenuation_vs_alt.T[1,mask],\n",
      "    p0 = (0.2, 1.e-3))\n",
      "sigma_t_inv_scale_height_at_gnd = p1[0]\n",
      "print 'Inv Scale height at ground:', sigma_t_inv_scale_height_at_gnd"
     ],
     "language": "python",
     "metadata": {},
     "outputs": [
      {
       "output_type": "stream",
       "stream": "stdout",
       "text": [
        "Inv Scale height at altitude: 0.286440371052\n",
        "It is too large. I'm going to use 1.2 km\n",
        "Inv Scale height at ground: 0.621025451472\n"
       ]
      }
     ],
     "prompt_number": 9
    },
    {
     "cell_type": "markdown",
     "metadata": {},
     "source": [
      "Start filling the spectrally resolved extinction coefficient array. Interpolate."
     ]
    },
    {
     "cell_type": "code",
     "collapsed": false,
     "input": [
      "aerosole_sigma_t = np.zeros((len(H), NBINS))\n",
      "aerosole_sigma_t_550nm = np.zeros(len(H))\n",
      "mask = H<1.\n",
      "aerosole_sigma_t_550nm[:] = scipy.interpolate.interp1d(\n",
      "    aerosole_attenuation_vs_alt.T[0], \n",
      "    aerosole_attenuation_vs_alt.T[1],\n",
      "    kind = 'linear', # beware of ringing\n",
      "    bounds_error = False,\n",
      "    fill_value = np.nan)(H)"
     ],
     "language": "python",
     "metadata": {},
     "outputs": [],
     "prompt_number": 10
    },
    {
     "cell_type": "markdown",
     "metadata": {},
     "source": [
      "Fill in below sea level."
     ]
    },
    {
     "cell_type": "code",
     "collapsed": false,
     "input": [
      "mask = np.logical_and(np.isnan(aerosole_sigma_t_550nm), H<1.)\n",
      "idx = np.argmin(mask)\n",
      "tmp = np.exp(-sigma_t_inv_scale_height_at_gnd*(H[mask]-H[idx]))*aerosole_sigma_t_550nm[idx]\n",
      "print tmp\n",
      "print aerosole_sigma_t_550nm[idx: idx+2]"
     ],
     "language": "python",
     "metadata": {},
     "outputs": [
      {
       "output_type": "stream",
       "stream": "stdout",
       "text": [
        "[ 0.10636453  0.07797275  0.05715956]\n",
        "[ 0.04190202  0.02887601]\n"
       ]
      }
     ],
     "prompt_number": 11
    },
    {
     "cell_type": "code",
     "collapsed": false,
     "input": [
      "aerosole_sigma_t_550nm[mask] = tmp"
     ],
     "language": "python",
     "metadata": {},
     "outputs": [],
     "prompt_number": 12
    },
    {
     "cell_type": "markdown",
     "metadata": {},
     "source": [
      "Next fill in high altitude extrapolation."
     ]
    },
    {
     "cell_type": "code",
     "collapsed": false,
     "input": [
      "mask = np.logical_and(np.isnan(aerosole_sigma_t_550nm), H>5.)\n",
      "idx = np.argmax(mask)-1\n",
      "tmp = np.exp(-sigma_t_inv_scale_height_at_alt*(H[mask]-H[idx]))*aerosole_sigma_t_550nm[idx]"
     ],
     "language": "python",
     "metadata": {},
     "outputs": [],
     "prompt_number": 13
    },
    {
     "cell_type": "code",
     "collapsed": false,
     "input": [
      "aerosole_sigma_t_550nm[mask] = tmp"
     ],
     "language": "python",
     "metadata": {},
     "outputs": [],
     "prompt_number": 14
    },
    {
     "cell_type": "code",
     "collapsed": false,
     "input": [
      "mask = H<60\n",
      "pyplot.plot(H[mask], aerosole_sigma_t_550nm[mask], color = 'r')\n",
      "pyplot.plot(aerosole_attenuation_vs_alt.T[0], aerosole_attenuation_vs_alt.T[1], color = 'k', ls = ':')\n",
      "pyplot.gca().set(yscale = 'log')\n",
      "pyplot.show()"
     ],
     "language": "python",
     "metadata": {},
     "outputs": [
      {
       "metadata": {},
       "output_type": "display_data",
       "png": "[encoded data removed]",
       "text": [
        "<matplotlib.figure.Figure at 0x7fe3b253dc10>"
       ]
      }
     ],
     "prompt_number": 15
    },
    {
     "cell_type": "code",
     "collapsed": false,
     "input": [
      "# NO!\n",
      "# Screw that ...\n",
      "# Still too much aerosoles. Does not look good from space.\n",
      "# Less is better.\n",
      "aerosole_sigma_t_550nm = np.exp(-H/1.2) * 5.e-2"
     ],
     "language": "python",
     "metadata": {},
     "outputs": [],
     "prompt_number": 16
    },
    {
     "cell_type": "markdown",
     "metadata": {},
     "source": [
      "Now the lambda dependence. See https://en.wikipedia.org/wiki/Angstrom_exponent."
     ]
    },
    {
     "cell_type": "markdown",
     "metadata": {},
     "source": [
      "Use power law relation to figure out values for my spectral discretization."
     ]
    },
    {
     "cell_type": "code",
     "collapsed": false,
     "input": [
      "aerosole_attenuation_vs_lambda = loadcsv('atmospheric_data/elterman_1968_aerosole_attenuation_vs_lambda.csv',1)\n",
      "aerosole_attenuation_vs_lambda.T[0] *= 100.\n",
      "aerosole_attenuation_vs_lambda.T[1] *= 0.01\n",
      "pyplot.plot(aerosole_attenuation_vs_lambda.T[0], aerosole_attenuation_vs_lambda.T[1])\n",
      "pyplot.gca().set(yscale='log')\n",
      "pyplot.show()"
     ],
     "language": "python",
     "metadata": {},
     "outputs": [
      {
       "metadata": {},
       "output_type": "display_data",
       "png": "[encoded data removed]",
       "text": [
        "<matplotlib.figure.Figure at 0x7fe3b2710b50>"
       ]
      }
     ],
     "prompt_number": 17
    },
    {
     "cell_type": "code",
     "collapsed": false,
     "input": [
      "def sigma_t_at_lambda(lambda_, alpha, value_at_550nm):\n",
      "    idx = len(lambda_)/2\n",
      "    return value_at_550nm * np.power(lambda_/550., alpha)\n",
      "mask = np.logical_and(300 < aerosole_attenuation_vs_lambda.T[0],\n",
      "                      aerosole_attenuation_vs_lambda.T[0] < 800)\n",
      "best_params, _ = scipy.optimize.curve_fit(\n",
      "    sigma_t_at_lambda,\n",
      "    aerosole_attenuation_vs_lambda.T[0,mask],\n",
      "    aerosole_attenuation_vs_lambda.T[1,mask],\n",
      "    p0 = (1., 0.1))\n",
      "print 'Best Parameters:', best_params\n",
      "alpha = best_params[0]\n",
      "aerosole_attenuation_vs_lambda_proper = sigma_t_at_lambda(bin_centers, *best_params)"
     ],
     "language": "python",
     "metadata": {},
     "outputs": [
      {
       "output_type": "stream",
       "stream": "stdout",
       "text": [
        "Best Parameters: [-0.76655487  0.16659469]\n"
       ]
      }
     ],
     "prompt_number": 18
    },
    {
     "cell_type": "code",
     "collapsed": false,
     "input": [
      "pyplot.plot(aerosole_attenuation_vs_lambda.T[0], aerosole_attenuation_vs_lambda.T[1])\n",
      "pyplot.plot(bin_centers, aerosole_attenuation_vs_lambda_proper )\n",
      "pyplot.gca().set(yscale='log')\n",
      "pyplot.gca().set(xlim=(300, 800))\n",
      "pyplot.show()"
     ],
     "language": "python",
     "metadata": {},
     "outputs": [
      {
       "metadata": {},
       "output_type": "display_data",
       "png": "[encoded data removed]",
       "text": [
        "<matplotlib.figure.Figure at 0x7fe3b25ce510>"
       ]
      }
     ],
     "prompt_number": 19
    },
    {
     "cell_type": "markdown",
     "metadata": {},
     "source": [
      "Now compute extinction coefficient over the entire spectrum."
     ]
    },
    {
     "cell_type": "code",
     "collapsed": false,
     "input": [
      "aerosole_sigma_t = sigma_t_at_lambda(bin_centers, alpha, np.repeat(aerosole_sigma_t_550nm.reshape(-1,1), NBINS, axis=1))"
     ],
     "language": "python",
     "metadata": {},
     "outputs": [],
     "prompt_number": 20
    },
    {
     "cell_type": "code",
     "collapsed": false,
     "input": [
      "mask = H<70\n",
      "pyplot.plot(H[mask], aerosole_sigma_t[mask,0])\n",
      "pyplot.plot(H[mask], aerosole_sigma_t[mask,NBINS/2])\n",
      "pyplot.plot(H[mask], aerosole_sigma_t[mask,1])\n",
      "pyplot.gca().set(yscale='log')\n",
      "pyplot.show()\n",
      "mask = H<20\n",
      "pyplot.plot(H[mask], aerosole_sigma_t[mask,0])\n",
      "pyplot.plot(H[mask], aerosole_sigma_t[mask,NBINS/2])\n",
      "pyplot.plot(H[mask], aerosole_sigma_t[mask,1])\n",
      "pyplot.show()\n",
      "print 'Average aeorsole exctinction cross scation at SL=', np.average(aerosole_sigma_t[sealevel_idx])\n",
      "# Compare with Handbook of Geophysics (1985) Chapt. 18, Fig 18-13"
     ],
     "language": "python",
     "metadata": {},
     "outputs": [
      {
       "metadata": {},
       "output_type": "display_data",
       "png": "[encoded data removed]",
       "text": [
        "<matplotlib.figure.Figure at 0x7fe3b26ce310>"
       ]
      },
      {
       "metadata": {},
       "output_type": "display_data",
       "png": "[encoded data removed]",
       "text": [
        "<matplotlib.figure.Figure at 0x7fe3b2306d10>"
       ]
      },
      {
       "output_type": "stream",
       "stream": "stdout",
       "text": [
        "Average aeorsole exctinction cross scation at SL= 0.0512801187827\n"
       ]
      }
     ],
     "prompt_number": 21
    },
    {
     "cell_type": "markdown",
     "metadata": {},
     "source": [
      "Standard Atmosphere: Density, Temperature\n",
      "-----------------------------------------\n",
      "\n",
      "Using some model of the atmosphere I can get data at the exact altitudes I want."
     ]
    },
    {
     "cell_type": "code",
     "collapsed": false,
     "input": [
      "import sys\n",
      "sys.path.append('Python-NRLMSISE-00')\n",
      "import nrlmsise_00\n",
      "import nrlmsise_00_header"
     ],
     "language": "python",
     "metadata": {},
     "outputs": [],
     "prompt_number": 22
    },
    {
     "cell_type": "code",
     "collapsed": false,
     "input": [
      "def mk_input(altitude):\n",
      "    inp = nrlmsise_00_header.nrlmsise_input()\n",
      "    inp.doy=172;\n",
      "    inp.year=0; #/* without effect */\n",
      "    inp.sec=29000;\n",
      "    inp.alt=altitude;\n",
      "    inp.g_lat=60;\n",
      "    inp.g_long=-70;\n",
      "    inp.lst=16;\n",
      "    inp.f107A=150;\n",
      "    inp.f107=150;\n",
      "    inp.ap=4;\n",
      "    return inp\n",
      "Input = map(mk_input, H)"
     ],
     "language": "python",
     "metadata": {},
     "outputs": [],
     "prompt_number": 23
    },
    {
     "cell_type": "code",
     "collapsed": false,
     "input": [
      "Output = [nrlmsise_00_header.nrlmsise_output() for _ in range(len(H))]"
     ],
     "language": "python",
     "metadata": {},
     "outputs": [],
     "prompt_number": 24
    },
    {
     "cell_type": "code",
     "collapsed": false,
     "input": [
      "flags = nrlmsise_00_header.nrlmsise_flags()\n",
      "flags.switches[0] = 0\n",
      "flags.switches[2] = 1  # time independent\n",
      "for i in range(1, 24):\n",
      "    flags.switches[i] = 1\n",
      "aph = nrlmsise_00_header.ap_array()"
     ],
     "language": "python",
     "metadata": {},
     "outputs": [],
     "prompt_number": 25
    },
    {
     "cell_type": "code",
     "collapsed": false,
     "input": [
      "for i in range(len(H)):\n",
      "    nrlmsise_00.gtd7(Input[i], flags, Output[i])"
     ],
     "language": "python",
     "metadata": {},
     "outputs": [],
     "prompt_number": 26
    },
    {
     "cell_type": "code",
     "collapsed": false,
     "input": [
      "mass_density = np.asarray(map(lambda o: o.d[5], Output))\n",
      "# g/cm^3, convert to kg/m^3:\n",
      "mass_density *= 1.e3"
     ],
     "language": "python",
     "metadata": {},
     "outputs": [],
     "prompt_number": 27
    },
    {
     "cell_type": "code",
     "collapsed": false,
     "input": [
      "temperature  = np.asarray(map(lambda o: o.t[1], Output))"
     ],
     "language": "python",
     "metadata": {},
     "outputs": [],
     "prompt_number": 28
    },
    {
     "cell_type": "code",
     "collapsed": false,
     "input": [
      "pyplot.plot(H, mass_density, color='r')\n",
      "pyplot.gca().set(yscale='log')\n",
      "ax = pyplot.twinx()\n",
      "ax.plot(H, temperature)\n",
      "pyplot.show()"
     ],
     "language": "python",
     "metadata": {},
     "outputs": [
      {
       "metadata": {},
       "output_type": "display_data",
       "png": "[encoded data removed]",
       "text": [
        "<matplotlib.figure.Figure at 0x7fe3b21a8210>"
       ]
      }
     ],
     "prompt_number": 29
    },
    {
     "cell_type": "code",
     "collapsed": false,
     "input": [
      "density_at_sea_level = mass_density[sealevel_idx]\n",
      "print 'Density at sealevel = ', density_at_sea_level, 'kg/m3'"
     ],
     "language": "python",
     "metadata": {},
     "outputs": [
      {
       "output_type": "stream",
       "stream": "stdout",
       "text": [
        "Density at sealevel =  1.26106566112 kg/m3\n"
       ]
      }
     ],
     "prompt_number": 30
    },
    {
     "cell_type": "markdown",
     "metadata": {},
     "source": [
      "Molecular Attenuation\n",
      "---------------------"
     ]
    },
    {
     "cell_type": "code",
     "collapsed": false,
     "input": [
      "def rayleigh_scattering_cross_section(lambda_, mass_density):\n",
      "  Na = 6.022e23; # particles per mol\n",
      "  m = 29e-3; # kg/mol\n",
      "  N = density_at_sea_level * Na / m; # 1./m3\n",
      "  ior = 1.00028\n",
      "  ior_term = np.square(np.square(ior) - 1.)\n",
      "  m3_to_nm3 = 1.e27\n",
      "  km_to_nm = 1.e12\n",
      "  sigma_s = 8.*np.pi*np.pi*np.pi/3.*ior_term/N*m3_to_nm3*km_to_nm \n",
      "  sigma_s *= mass_density/density_at_sea_level\n",
      "  sigma_s /= lambda_**4\n",
      "  return sigma_s #1/km"
     ],
     "language": "python",
     "metadata": {},
     "outputs": [],
     "prompt_number": 31
    },
    {
     "cell_type": "code",
     "collapsed": false,
     "input": [
      "molecular_sigma_s = rayleigh_scattering_cross_section(bin_centers, np.repeat(mass_density[...,np.newaxis], NBINS, axis=1))"
     ],
     "language": "python",
     "metadata": {},
     "outputs": [],
     "prompt_number": 32
    },
    {
     "cell_type": "code",
     "collapsed": false,
     "input": [
      "pyplot.plot(H, molecular_sigma_s.T[-1], color = 'r')\n",
      "pyplot.plot(H, molecular_sigma_s.T[NBINS/2], color = 'g')\n",
      "pyplot.plot(H, molecular_sigma_s.T[0], color = 'b')\n",
      "pyplot.gca().set(yscale='log')\n",
      "pyplot.show()\n",
      "print 'Coefficients at sealevel = '\n",
      "print molecular_sigma_s[sealevel_idx]"
     ],
     "language": "python",
     "metadata": {},
     "outputs": [
      {
       "metadata": {},
       "output_type": "display_data",
       "png": "[encoded data removed]",
       "text": [
        "<matplotlib.figure.Figure at 0x7fe3b21a84d0>"
       ]
      },
      {
       "output_type": "stream",
       "stream": "stdout",
       "text": [
        "Coefficients at sealevel = \n",
        "[ 0.05008532  0.04508091  0.0406862   0.03681421  0.03339206  0.03035847\n",
        "  0.02766168  0.0252578   0.02310947  0.02118477  0.01945634  0.01790064\n",
        "  0.01649737  0.01522895  0.01408013  0.01303762  0.01208984  0.01122663\n",
        "  0.01043911  0.00971945  0.00906075  0.00845692  0.00790256  0.00739289\n",
        "  0.00692365  0.00649106  0.00609173  0.00572264  0.00538109  0.00506464\n",
        "  0.00477112  0.00449856  0.00424518  0.0040094   0.00378976  0.00358495]\n"
       ]
      }
     ],
     "prompt_number": 33
    },
    {
     "cell_type": "markdown",
     "metadata": {},
     "source": [
      "Ozone\n",
      "-----"
     ]
    },
    {
     "cell_type": "markdown",
     "metadata": {},
     "source": [
      "First the absorption spectrum. Data must be converted to my binned spectra. Data is provided in units of cm^2/molecule."
     ]
    },
    {
     "cell_type": "code",
     "collapsed": false,
     "input": [
      "def read_dataset(filename, num_lines_skip):\n",
      "    def map_line(l):\n",
      "        l = map(str.strip, l.split())\n",
      "        l = map(float, l)\n",
      "        return l\n",
      "    with open(filename, 'r') as f:\n",
      "        lines = f.readlines()\n",
      "    lines = lines[num_lines_skip:]\n",
      "    data = map(map_line, lines)\n",
      "    data = np.asarray(data)\n",
      "    return data"
     ],
     "language": "python",
     "metadata": {},
     "outputs": [],
     "prompt_number": 34
    },
    {
     "cell_type": "code",
     "collapsed": false,
     "input": [
      "orig_spectrum_203 = read_dataset('atmospheric_data/absorption_crossection_spectra/absportion_spectrum_o3_203h.dat', 44)\n",
      "orig_spectrum_223 = read_dataset('atmospheric_data/absorption_crossection_spectra/absportion_spectrum_o3_223h.dat', 44)\n",
      "orig_spectrum_246 = read_dataset('atmospheric_data/absorption_crossection_spectra/absportion_spectrum_o3_246h.dat', 44)\n",
      "orig_spectrum_280 = read_dataset('atmospheric_data/absorption_crossection_spectra/absportion_spectrum_o3_280h.dat', 44)"
     ],
     "language": "python",
     "metadata": {},
     "outputs": [],
     "prompt_number": 35
    },
    {
     "cell_type": "code",
     "collapsed": false,
     "input": [
      "def to_my_bins(orig_spectrum):\n",
      "    downsampled, _ = np.histogram(orig_spectrum[:, 0], bins = bin_boundaries, weights = orig_spectrum[:,2])\n",
      "    counts,_       = np.histogram(orig_spectrum[:, 0], bins = bin_boundaries)\n",
      "    return downsampled/counts\n",
      "ozone_absoption_spectra = map(to_my_bins, [orig_spectrum_203, orig_spectrum_223, orig_spectrum_246, orig_spectrum_280])\n",
      "ozone_absoption_spectra_temp = [203., 223., 246., 280.]"
     ],
     "language": "python",
     "metadata": {},
     "outputs": [],
     "prompt_number": 36
    },
    {
     "cell_type": "code",
     "collapsed": false,
     "input": [
      "avg_spectrum = np.average(ozone_absoption_spectra, axis=0)\n",
      "pyplot.bar(bin_boundaries[:-1], avg_spectrum, bin_boundaries[1:]-bin_boundaries[:-1])\n",
      "pyplot.plot(orig_spectrum_203.T[0], orig_spectrum_203.T[2])\n",
      "pyplot.plot(orig_spectrum_223.T[0], orig_spectrum_223.T[2])\n",
      "pyplot.plot(orig_spectrum_246.T[0], orig_spectrum_246.T[2])\n",
      "pyplot.plot(orig_spectrum_280.T[0], orig_spectrum_280.T[2])\n",
      "pyplot.gca().set(yscale='log', xlim = (bin_boundaries[[0,-1]]))\n",
      "pyplot.show()"
     ],
     "language": "python",
     "metadata": {},
     "outputs": [
      {
       "metadata": {},
       "output_type": "display_data",
       "png": "[encoded data removed]",
       "text": [
        "<matplotlib.figure.Figure at 0x7fe3b214e810>"
       ]
      }
     ],
     "prompt_number": 37
    },
    {
     "cell_type": "markdown",
     "metadata": {},
     "source": [
      "Is the variation with temperature insignificant? The cross section of Rayleigh scattering is much bigger. But it is scattering not absorption as in the case of extinction by Ozone. Might as well consider the variation."
     ]
    },
    {
     "cell_type": "code",
     "collapsed": false,
     "input": [
      "s0 = ozone_absoption_spectra[0]\n",
      "s1 = ozone_absoption_spectra[-1]\n",
      "ozone_spectrum_vs_alt = scipy.interpolate.interp1d(\n",
      "    [0]+ozone_absoption_spectra_temp+[10000], \n",
      "    [s0]+ozone_absoption_spectra+[s1],\n",
      "    kind = 'linear', # beware of ringing\n",
      "    axis = 0,\n",
      "    fill_value = np.nan)(temperature)\n",
      "pyplot.plot(H, ozone_spectrum_vs_alt.T[-1], color = 'r')\n",
      "pyplot.plot(H, ozone_spectrum_vs_alt.T[NBINS/2], color = 'g')\n",
      "pyplot.plot(H, ozone_spectrum_vs_alt.T[0], color = 'b')\n",
      "pyplot.gca().set(yscale='log')\n",
      "pyplot.show()"
     ],
     "language": "python",
     "metadata": {},
     "outputs": [
      {
       "metadata": {},
       "output_type": "display_data",
       "png": "[encoded data removed]",
       "text": [
        "<matplotlib.figure.Figure at 0x7fe3b219e590>"
       ]
      }
     ],
     "prompt_number": 38
    },
    {
     "cell_type": "markdown",
     "metadata": {},
     "source": [
      "Then the concentration vs altitude. The columns are after processing: altiude in km and the relative mass density."
     ]
    },
    {
     "cell_type": "code",
     "collapsed": false,
     "input": [
      "ozone_mass_ratio_vs_alt = loadcsv('atmospheric_data/ozone_mixing_ratio_from_spectralcalc.csv', 1)\n",
      "ozone_mass_ratio_vs_alt.T[1] *= 1.e-6\n",
      "ozone_mass_ratio_vs_alt.T[1,-1] = 0."
     ],
     "language": "python",
     "metadata": {},
     "outputs": [],
     "prompt_number": 39
    },
    {
     "cell_type": "code",
     "collapsed": false,
     "input": [
      "pyplot.plot(ozone_mass_ratio_vs_alt.T[0], ozone_mass_ratio_vs_alt.T[1])\n",
      "pyplot.show()"
     ],
     "language": "python",
     "metadata": {},
     "outputs": [
      {
       "metadata": {},
       "output_type": "display_data",
       "png": "[encoded data removed]",
       "text": [
        "<matplotlib.figure.Figure at 0x7fe3b279e650>"
       ]
      }
     ],
     "prompt_number": 40
    },
    {
     "cell_type": "markdown",
     "metadata": {},
     "source": [
      "The altitude curve must be interpolated to the discretization points over altitude."
     ]
    },
    {
     "cell_type": "code",
     "collapsed": false,
     "input": [
      "ozone_mass_ratio_vs_alt_proper = scipy.interpolate.interp1d(\n",
      "    ozone_mass_ratio_vs_alt.T[0], \n",
      "    ozone_mass_ratio_vs_alt.T[1],\n",
      "    kind = 'linear', # beware of ringing\n",
      "    bounds_error = False,\n",
      "    fill_value = 0.)(H)\n",
      "ozone_mass_density = ozone_mass_ratio_vs_alt_proper * mass_density # kg/m3"
     ],
     "language": "python",
     "metadata": {},
     "outputs": [],
     "prompt_number": 41
    },
    {
     "cell_type": "code",
     "collapsed": false,
     "input": [
      "ozone_molar_mass = 48 # kg/kmol\n",
      "Na = 6.022140857e23 # particles per mol"
     ],
     "language": "python",
     "metadata": {},
     "outputs": [],
     "prompt_number": 42
    },
    {
     "cell_type": "code",
     "collapsed": false,
     "input": [
      "m3_to_cm3 = 100.**3\n",
      "kmol_to_mol = 1.e3\n",
      "ozone_conc = ozone_mass_density/ozone_molar_mass*kmol_to_mol*Na/m3_to_cm3\n",
      "mask = H<60\n",
      "pyplot.plot(H[mask], ozone_conc[mask])\n",
      "pyplot.gca().set(yscale='log')\n",
      "pyplot.show()\n",
      "# compare with figure 1 in https://www.ucar.edu/communications/gcip/m1sod/m1pdfc1.pdf"
     ],
     "language": "python",
     "metadata": {},
     "outputs": [
      {
       "metadata": {},
       "output_type": "display_data",
       "png": "[encoded data removed]",
       "text": [
        "<matplotlib.figure.Figure at 0x7fe3b22d4fd0>"
       ]
      }
     ],
     "prompt_number": 43
    },
    {
     "cell_type": "markdown",
     "metadata": {},
     "source": [
      "Obtain extinction coeff now."
     ]
    },
    {
     "cell_type": "code",
     "collapsed": false,
     "input": [
      "cm_to_km = 1.e-5\n",
      "ozone_sigma_t = 1./cm_to_km*ozone_spectrum_vs_alt * np.repeat(ozone_conc[:,np.newaxis], NBINS, axis=1)"
     ],
     "language": "python",
     "metadata": {},
     "outputs": [],
     "prompt_number": 44
    },
    {
     "cell_type": "code",
     "collapsed": false,
     "input": [
      "pyplot.plot(H, ozone_sigma_t.T[-1], color = 'r')\n",
      "pyplot.plot(H, ozone_sigma_t.T[NBINS/2], color = 'g')\n",
      "pyplot.plot(H, ozone_sigma_t.T[0], color = 'b')\n",
      "pyplot.gca().set(yscale='log')\n",
      "pyplot.show()"
     ],
     "language": "python",
     "metadata": {},
     "outputs": [
      {
       "metadata": {},
       "output_type": "display_data",
       "png": "[encoded data removed]",
       "text": [
        "<matplotlib.figure.Figure at 0x7fe3b23e1950>"
       ]
      }
     ],
     "prompt_number": 45
    },
    {
     "cell_type": "markdown",
     "metadata": {},
     "source": [
      "Export the data\n",
      "---------------"
     ]
    },
    {
     "cell_type": "code",
     "collapsed": false,
     "input": [
      "import json"
     ],
     "language": "python",
     "metadata": {},
     "outputs": [],
     "prompt_number": 46
    },
    {
     "cell_type": "code",
     "collapsed": false,
     "input": [
      "#molecular_sigma_s *= 0.1\n",
      "#aerosole_sigma_t *= 0.1\n",
      "aerosole_sigma_s = 0.85 * aerosole_sigma_t"
     ],
     "language": "python",
     "metadata": {},
     "outputs": [],
     "prompt_number": 47
    },
    {
     "cell_type": "markdown",
     "metadata": {},
     "source": [
      "First the total extinction cross section"
     ]
    },
    {
     "cell_type": "code",
     "collapsed": false,
     "input": [
      "total_sigma_t = molecular_sigma_s + ozone_sigma_t + aerosole_sigma_t + 1.e-20\n",
      "pyplot.plot(H, total_sigma_t.T[-1], color = 'r')\n",
      "pyplot.plot(H, total_sigma_t.T[NBINS/2], color = 'g')\n",
      "pyplot.plot(H, total_sigma_t.T[0], color = 'b')\n",
      "pyplot.gca().set(yscale='log')\n",
      "pyplot.show()"
     ],
     "language": "python",
     "metadata": {},
     "outputs": [
      {
       "metadata": {},
       "output_type": "display_data",
       "png": "[encoded data removed]",
       "text": [
        "<matplotlib.figure.Figure at 0x7fe3b2557fd0>"
       ]
      }
     ],
     "prompt_number": 48
    },
    {
     "cell_type": "code",
     "collapsed": false,
     "input": [
      "# Sanity check\n",
      "assert(np.all((total_sigma_t - molecular_sigma_s - aerosole_sigma_s) >= 0))"
     ],
     "language": "python",
     "metadata": {},
     "outputs": [],
     "prompt_number": 49
    },
    {
     "cell_type": "code",
     "collapsed": false,
     "input": [
      "all_data = {\n",
      "    'H0' : H[0],\n",
      "    'deltaH' : deltaH,\n",
      "    'sigma_t' : total_sigma_t.tolist(),\n",
      "    'sigma_s_molecules' : molecular_sigma_s.tolist(),\n",
      "    'sigma_s_aerosoles' : aerosole_sigma_s.tolist()\n",
      "}"
     ],
     "language": "python",
     "metadata": {},
     "outputs": [],
     "prompt_number": 50
    },
    {
     "cell_type": "code",
     "collapsed": false,
     "input": [
      "with open('earth_atmosphere_collision_coefficients.json', 'w') as f:\n",
      "    json.dump(all_data, f)"
     ],
     "language": "python",
     "metadata": {},
     "outputs": [],
     "prompt_number": 52
    },
    {
     "cell_type": "code",
     "collapsed": false,
     "input": [],
     "language": "python",
     "metadata": {},
     "outputs": [],
     "prompt_number": 51
    }
   ],
   "metadata": {}
  }
 ]
}