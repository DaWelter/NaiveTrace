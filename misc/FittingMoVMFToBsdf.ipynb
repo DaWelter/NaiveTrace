{
 "cells": [
  {
   "cell_type": "code",
   "execution_count": null,
   "metadata": {},
   "outputs": [],
   "source": [
    "import numpy as np\n",
    "from matplotlib import pyplot\n",
    "import matplotlib\n",
    "from mpl_toolkits.mplot3d import Axes3D\n",
    "import ipywidgets as widgets\n",
    "from IPython.display import clear_output"
   ]
  },
  {
   "cell_type": "code",
   "execution_count": null,
   "metadata": {},
   "outputs": [],
   "source": [
    "from path_guiding import SurfaceInteraction, DiffuseShader, GlossyTransmissiveDielectricShader\n",
    "from path_guiding import VMFMixture2, VMFFitIncremental2, VMFMixture8\n",
    "import path_guiding"
   ]
  },
  {
   "cell_type": "raw",
   "metadata": {},
   "source": [
    "Note: realistic values for IOR: 1/3. to 3.\n",
    "\n",
    "Good values for Beckmann Alpha, from walter 2007:\n",
    "Sample    Beckmann Fit  GGX Fit\n",
    "          scale  α      scale α\n",
    "ground    0.542 0.344 0.755 0.394\n",
    "frosted   0.629 0.400 0.861 0.454\n",
    "etched    0.711 0.493 0.955 0.553\n",
    "antiglare 0.607 0.023 0.847 0.027\n",
    "\n",
    "Suggested widend sampling distribution for Beckmann BSDF\n",
    "α†_b = (1.2 − 0.2 |i · n|)α_b"
   ]
  },
  {
   "cell_type": "code",
   "execution_count": null,
   "metadata": {},
   "outputs": [],
   "source": [
    "np.sqrt(284413745)"
   ]
  },
  {
   "cell_type": "code",
   "execution_count": null,
   "metadata": {},
   "outputs": [],
   "source": [
    "%matplotlib notebook"
   ]
  },
  {
   "cell_type": "code",
   "execution_count": null,
   "metadata": {},
   "outputs": [],
   "source": [
    "si = SurfaceInteraction([0., 1., 0.], [0., 1., 0.])"
   ]
  },
  {
   "cell_type": "code",
   "execution_count": null,
   "metadata": {},
   "outputs": [],
   "source": [
    "t = np.linspace(0., 2.*np.pi, 360)"
   ]
  },
  {
   "cell_type": "code",
   "execution_count": null,
   "metadata": {},
   "outputs": [],
   "source": [
    "cs = np.cos(t)\n",
    "sn = np.sin(t)"
   ]
  },
  {
   "cell_type": "code",
   "execution_count": null,
   "metadata": {},
   "outputs": [],
   "source": [
    "incidents = np.vstack([cs,sn,np.zeros_like(cs)]).T"
   ]
  },
  {
   "cell_type": "code",
   "execution_count": null,
   "metadata": {},
   "outputs": [],
   "source": [
    "def make_sphere_grid():\n",
    "    # https://scipython.com/book/chapter-8-scipy/examples/visualizing-the-spherical-harmonics/\n",
    "    phi = np.linspace(0, np.pi, 100)\n",
    "    theta = np.linspace(0, 2*np.pi, 100)\n",
    "    phi, theta = np.meshgrid(phi, theta)\n",
    "\n",
    "    # The Cartesian coordinates of the unit sphere\n",
    "    x = np.sin(phi) * np.cos(theta)\n",
    "    y = np.sin(phi) * np.sin(theta)\n",
    "    z = np.cos(phi)\n",
    "    return x, y, z\n",
    "\n",
    "def plot_vmf_pdf(ax, vmfm):\n",
    "    x, y, z = make_sphere_grid()\n",
    "    pts = np.vstack((x.ravel(),y.ravel(),z.ravel())).T\n",
    "    fcolors = vmfm.pdf(pts).reshape(x.shape)\n",
    "    fcolors /= fcolors.max()\n",
    "    \n",
    "    ax.plot_surface(x, y, z,  rstride=1, cstride=1, facecolors=matplotlib.cm.coolwarm(fcolors), shade=False)\n",
    "    return fcolors\n",
    "\n",
    "def plot_bsdf(ax, bsdf, wi, si):\n",
    "    # https://scipython.com/book/chapter-8-scipy/examples/visualizing-the-spherical-harmonics/\n",
    "    phi = np.linspace(0, np.pi, 100)\n",
    "    theta = np.linspace(0, 2*np.pi, 100)\n",
    "    phi, theta = np.meshgrid(phi, theta)\n",
    "\n",
    "    # The Cartesian coordinates of the unit sphere\n",
    "    x = np.sin(phi) * np.cos(theta)\n",
    "    y = np.sin(phi) * np.sin(theta)\n",
    "    z = np.cos(phi)\n",
    "\n",
    "    pts = np.vstack((x.ravel(),y.ravel(),z.ravel())).T\n",
    "    \n",
    "    values = np.asarray([bsdf.Evaluate(wi, si, wo) for wo in pts])[:,0]\n",
    "    values = values.reshape(x.shape)\n",
    "    values /= values.max()\n",
    "    #ax.scatter(x, y, z, c = values, s = 8., marker='o', cmap = matplotlib.cm.coolwarm, vmin=0., vmax=1.)\n",
    "    ax.plot_surface(x, y, z,  rstride=1, cstride=1, facecolors=matplotlib.cm.coolwarm(values), shade=False)"
   ]
  },
  {
   "cell_type": "code",
   "execution_count": null,
   "metadata": {},
   "outputs": [],
   "source": [
    "def take_samples(shd, incident, si, n):\n",
    "    return np.fromiter(\n",
    "        (shd.Sample(incident, si) for _ in range(n)),\n",
    "        dtype = [('w','f8',3), ('f','f8',3), ('p', 'f8'), ('delta', np.bool)])"
   ]
  },
  {
   "cell_type": "code",
   "execution_count": null,
   "metadata": {},
   "outputs": [],
   "source": [
    "def filter_out_of_plane(samples):\n",
    "    mask = np.abs(samples['w'][:,2]) < (np.pi/180.*10.)\n",
    "    return samples[mask]"
   ]
  },
  {
   "cell_type": "code",
   "execution_count": null,
   "metadata": {},
   "outputs": [],
   "source": [
    "m2 = VMFMixture2()\n",
    "m2.weights = [1., 0.]\n",
    "m2.concentrations = [ 1., 1.]\n",
    "m8 = VMFMixture8()\n",
    "m8.concentrations = 10. * np.ones(8)\n",
    "m16 = path_guiding.product(m2,m8)\n",
    "x, y, z = make_sphere_grid()\n",
    "pts = np.vstack((x.ravel(),y.ravel(),z.ravel())).T\n",
    "m2_vals = m2.pdf(pts)\n",
    "m8_vals = m8.pdf(pts)\n",
    "m16_vals = m16.pdf(pts)\n",
    "m16_expected = m2_vals*m8_vals\n",
    "err = m16_vals - m16_expected\n",
    "err = err.reshape(x.shape)\n",
    "m16_expected = m16_expected.reshape(x.shape)\n",
    "m16_vals = m16_vals.reshape(x.shape)\n",
    "print (err.min(), err.max())\n",
    "rel_err = err / m16_expected\n",
    "print (rel_err.min(), rel_err.max())\n",
    "print (m16.weights)\n",
    "\n",
    "fig = pyplot.figure()\n",
    "ax = fig.add_subplot(111, projection='3d')\n",
    "\n",
    "data = m16_vals\n",
    "\n",
    "data = data/data.max()\n",
    "surf = ax.plot_surface(x, y, z,  rstride=1, cstride=1, facecolors=matplotlib.cm.coolwarm(data), shade=False)\n",
    "\n",
    "# m = matplotlib.cm.ScalarMappable(cmap=surf.cmap, norm=surf.norm)\n",
    "# m.set_array(data)\n",
    "# fig.colorbar(m)"
   ]
  },
  {
   "cell_type": "code",
   "execution_count": null,
   "metadata": {},
   "outputs": [],
   "source": [
    "shd = GlossyTransmissiveDielectricShader(1.5, 3.)\n",
    "shd.InitializeLobes()"
   ]
  },
  {
   "cell_type": "code",
   "execution_count": null,
   "metadata": {
    "scrolled": false
   },
   "outputs": [],
   "source": [
    "fig = pyplot.figure()\n",
    "ax = fig.add_subplot(111, projection='3d')\n",
    "\n",
    "@widgets.interact()\n",
    "def interactive_plot(wi_idx = (1, 179, 1), shd_normal_phi = (1, 179, 1)):\n",
    "    ax.clear()\n",
    "    \n",
    "    shd_normal_phi = np.pi/180.*shd_normal_phi\n",
    "    si = SurfaceInteraction([0., 1., 0.], [np.cos(shd_normal_phi), np.sin(shd_normal_phi), 0.])\n",
    "    \n",
    "    samples = take_samples(shd, incidents[wi_idx], si, 1000)\n",
    "    xs = samples['w'].astype(np.float32)\n",
    "    ws = (samples['f'][:,0] / samples['p']).astype(np.float32)\n",
    "    ax.scatter(*(xs*1.1).T, c='g', s = 10., marker='+')\n",
    "    \n",
    "    vmfm = shd.ComputeLobes(incidents[wi_idx], si)\n",
    "    \n",
    "    ax.scatter(*(vmfm.means*1.05).T, marker='x', c='r', s = 50., lw=2.)\n",
    "    ax.set_xlim(-1.,1.)\n",
    "    ax.set_ylim(-1.,1.)\n",
    "    ax.set_zlim(-1.,1.)\n",
    "    vmfm_smpl = vmfm.sample(1000)\n",
    "    ax.scatter(*vmfm_smpl.T, c='b', marker='x', s= 10.)\n",
    "    pyplot.show()"
   ]
  },
  {
   "cell_type": "code",
   "execution_count": null,
   "metadata": {},
   "outputs": [],
   "source": [
    "shd = GlossyTransmissiveDielectricShader(1.33, 8.)\n",
    "fig = pyplot.figure()\n",
    "ax = fig.add_subplot(111, projection='3d')\n",
    "plot_bsdf(ax, shd, incidents[5], si)"
   ]
  },
  {
   "cell_type": "code",
   "execution_count": null,
   "metadata": {},
   "outputs": [],
   "source": [
    "samples = (take_samples(shd, incidents[5], si, 1000))\n",
    "\n",
    "fig = pyplot.figure()\n",
    "ax = fig.add_subplot(111, projection='3d')\n",
    "ax.scatter(*samples['w'].T, c = samples['f'][:,0], s = 10., marker='+')"
   ]
  },
  {
   "cell_type": "code",
   "execution_count": null,
   "metadata": {},
   "outputs": [],
   "source": [
    "@widgets.interact()\n",
    "def interactive_plot(wi_idx = (1, 179, 1), alpha = (0.1, 5., 0.1), shd_normal_phi = (1, 179, 1)):\n",
    "    shd_normal_phi = np.pi/180.*shd_normal_phi\n",
    "    si = SurfaceInteraction([0., 1., 0.], [np.cos(shd_normal_phi), np.sin(shd_normal_phi), 0.])\n",
    "    shd = GlossyTransmissiveDielectricShader(1.2, alpha)\n",
    "    samples = (take_samples(shd, incidents[wi_idx], si, 1000))\n",
    "    fig = pyplot.figure()\n",
    "    ax = fig.add_subplot(111, projection='polar')\n",
    "    f = np.log10(samples['f'][:,0])\n",
    "    rmax = np.amax(f)\n",
    "    ax.plot([t[wi_idx]+np.pi, t[wi_idx]], [rmax, rmax], color='k', lw=2.)\n",
    "    ax.plot([shd_normal_phi+np.pi, shd_normal_phi], [rmax, rmax], color='g', lw=2.)\n",
    "    c = ax.scatter(np.arctan2(samples['w'][:,1],samples['w'][:,0]), f, s = 0.5)"
   ]
  },
  {
   "cell_type": "code",
   "execution_count": null,
   "metadata": {},
   "outputs": [],
   "source": [
    "wi_idx = 10\n",
    "shd = GlossyTransmissiveDielectricShader(1.33, 3.)\n",
    "samples = take_samples(shd, incidents[wi_idx], si, 10000)\n",
    "xs = samples['w'].astype(np.float32)\n",
    "ws = (samples['f'][:,0] / samples['p']).astype(np.float32)"
   ]
  },
  {
   "cell_type": "code",
   "execution_count": null,
   "metadata": {},
   "outputs": [],
   "source": [
    "prior_nu = 1.\n",
    "prior_alpha = 1.\n",
    "prior_tau = 1.\n",
    "prior_mode = VMFMixture2()\n",
    "prior_mode.concentrations = [1.,1.]\n",
    "\n",
    "vmfm = VMFMixture2()\n",
    "for i in range(10):\n",
    "    incremental = VMFFitIncremental2(\n",
    "        prior_nu = prior_nu, \n",
    "        prior_alpha = prior_alpha, \n",
    "        prior_tau = prior_tau,\n",
    "        prior_mode = prior_mode,\n",
    "        maximization_step_every = 100)\n",
    "    incremental.fit(vmfm, xs[i*1000:(i+1)*1000,:], ws[i*1000:(i+1)*1000])\n",
    "    mu = vmfm.means\n",
    "    mu[:,2] = 0.\n",
    "    mu /= np.linalg.norm(mu, axis=1)[:,np.newaxis]\n",
    "    vmfm.means = mu\n",
    "    #prior_mode = vmfm"
   ]
  },
  {
   "cell_type": "code",
   "execution_count": null,
   "metadata": {},
   "outputs": [],
   "source": [
    "fig = pyplot.figure()\n",
    "ax = fig.add_subplot(111, projection='3d')\n",
    "ax.scatter(*(vmfm.means*1.1).T, marker='x', c='r', s = 50., lw=2.)\n",
    "ax.scatter(*(xs[:1000]*1.1).T, c=ws[:1000], s = 10., marker='+')\n",
    "vmfm_smpl = vmfm.sample(1000)\n",
    "ax.scatter(*vmfm_smpl.T, c='gray', marker='x', s= 10.)\n",
    "pyplot.show()"
   ]
  },
  {
   "cell_type": "code",
   "execution_count": null,
   "metadata": {},
   "outputs": [],
   "source": []
  }
 ],
 "metadata": {
  "kernelspec": {
   "display_name": "Python 3",
   "language": "python",
   "name": "python3"
  },
  "language_info": {
   "codemirror_mode": {
    "name": "ipython",
    "version": 3
   },
   "file_extension": ".py",
   "mimetype": "text/x-python",
   "name": "python",
   "nbconvert_exporter": "python",
   "pygments_lexer": "ipython3",
   "version": "3.7.3"
  }
 },
 "nbformat": 4,
 "nbformat_minor": 2
}
