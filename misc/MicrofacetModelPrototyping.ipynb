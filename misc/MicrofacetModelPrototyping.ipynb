{
 "metadata": {
  "name": "",
  "signature": "sha256:9a46fffe888fe6f1c3728397a9494daf108eefee68c63fdca2f97ef15f342cbd"
 },
 "nbformat": 3,
 "nbformat_minor": 0,
 "worksheets": [
  {
   "cells": [
    {
     "cell_type": "code",
     "collapsed": false,
     "input": [
      "from matplotlib import pyplot\n",
      "import matplotlib\n",
      "pyplot.ion()\n",
      "import numpy as np\n",
      "import scipy.integrate"
     ],
     "language": "python",
     "metadata": {},
     "outputs": [],
     "prompt_number": 82
    },
    {
     "cell_type": "code",
     "collapsed": false,
     "input": [
      "def refracted(n, wi, eta):\n",
      "    cosThetaI = np.dot(n, wi)\n",
      "    sin2ThetaI = np.maximum(0., 1. - cosThetaI * cosThetaI)\n",
      "    sin2ThetaT = eta * eta * sin2ThetaI\n",
      "    # Handle total internal reflection for transmission\n",
      "    if sin2ThetaT >= 1: return None\n",
      "    cosThetaT = np.sqrt(1 - sin2ThetaT)\n",
      "    n_prefactor = (eta * np.abs(cosThetaI) - cosThetaT)\n",
      "    n_prefactor = n_prefactor if cosThetaI>=0. else -n_prefactor # Invariance to normal flip.\n",
      "    return -eta * wi + n_prefactor * n"
     ],
     "language": "python",
     "metadata": {},
     "outputs": [],
     "prompt_number": 48
    },
    {
     "cell_type": "code",
     "collapsed": false,
     "input": [
      "def fresnel_(\n",
      "  cs_i,  # cos theta of incident direction\n",
      "  cs_t,  # cos theta of refracted(!) direction. Must be >0.\n",
      "  eta_i_over_t):\n",
      "  # https://en.wikipedia.org/wiki/Fresnel_equations\n",
      "  # I divide both nominator and denominator by eta_2\n",
      "  rs_nom = eta_i_over_t * cs_i - cs_t;\n",
      "  rs_den = eta_i_over_t * cs_i + cs_t;\n",
      "  rp_nom = eta_i_over_t * cs_t - cs_i;\n",
      "  rp_den = eta_i_over_t * cs_t + cs_i;\n",
      "  return 0.5*(np.square(rs_nom/rs_den) + np.square(rp_nom/rp_den));\n",
      "\n",
      "def fresnel1(n, wi, eta):\n",
      "    wt = refracted(n, wi, eta)\n",
      "    if wt is None:\n",
      "        return 1.\n",
      "    else:\n",
      "        return fresnel_(np.dot(n,wi), np.abs(np.dot(n, wt)), eta)"
     ],
     "language": "python",
     "metadata": {},
     "outputs": [],
     "prompt_number": 52
    },
    {
     "cell_type": "code",
     "collapsed": false,
     "input": [
      "t = np.linspace(0, np.pi*0.5, 100)"
     ],
     "language": "python",
     "metadata": {},
     "outputs": [],
     "prompt_number": 53
    },
    {
     "cell_type": "code",
     "collapsed": false,
     "input": [
      "x = np.cos(t)\n",
      "y = np.sin(t)\n",
      "wi = np.vstack((x,y)).T\n",
      "n = np.asarray([1., 0.])"
     ],
     "language": "python",
     "metadata": {},
     "outputs": [],
     "prompt_number": 77
    },
    {
     "cell_type": "code",
     "collapsed": false,
     "input": [
      "fr = np.asarray([fresnel1(n, wi_, 1./1.5) for wi_ in wi])"
     ],
     "language": "python",
     "metadata": {},
     "outputs": [],
     "prompt_number": 62
    },
    {
     "cell_type": "code",
     "collapsed": false,
     "input": [
      "pyplot.plot(t, fr)"
     ],
     "language": "python",
     "metadata": {},
     "outputs": [
      {
       "metadata": {},
       "output_type": "pyout",
       "prompt_number": 63,
       "text": [
        "[<matplotlib.lines.Line2D at 0x7f058dd1f9d0>]"
       ]
      }
     ],
     "prompt_number": 63
    },
    {
     "cell_type": "code",
     "collapsed": false,
     "input": [
      "def fresnel2(n, wi, eta):\n",
      "    \"\"\" eta is eta_i / eta_t, where eta_i is the ior on the incident side \"\"\"\n",
      "    c = np.abs(np.dot(wi,n))\n",
      "    tmp = np.square(1.0/eta) - 1.0 + c*c\n",
      "    if tmp < 0:\n",
      "        return 1. # Total reflection\n",
      "    g = np.sqrt(tmp)\n",
      "    nom = c*(g+c)-1\n",
      "    denom = c*(g-c)+1\n",
      "    return 0.5*np.square((g-c)/(g+c))*(1 + np.square(nom/denom))"
     ],
     "language": "python",
     "metadata": {},
     "outputs": [],
     "prompt_number": 70
    },
    {
     "cell_type": "code",
     "collapsed": false,
     "input": [
      "fr2 = np.asarray([fresnel2(n, wi_, 1./1.5) for wi_ in wi])"
     ],
     "language": "python",
     "metadata": {},
     "outputs": [],
     "prompt_number": 71
    },
    {
     "cell_type": "code",
     "collapsed": false,
     "input": [
      "pyplot.plot(t, fr, t,fr2)"
     ],
     "language": "python",
     "metadata": {},
     "outputs": [
      {
       "metadata": {},
       "output_type": "pyout",
       "prompt_number": 73,
       "text": [
        "[<matplotlib.lines.Line2D at 0x7f058b131a10>,\n",
        " <matplotlib.lines.Line2D at 0x7f058b131ad0>]"
       ]
      }
     ],
     "prompt_number": 73
    },
    {
     "cell_type": "code",
     "collapsed": false,
     "input": [
      "def GGX(dot_n_m, alpha):\n",
      "    denom = np.pi*np.square(np.square(dot_n_m)*(alpha*alpha-1)+1)\n",
      "    return alpha*alpha / denom"
     ],
     "language": "python",
     "metadata": {},
     "outputs": [],
     "prompt_number": 74
    },
    {
     "cell_type": "code",
     "collapsed": false,
     "input": [
      "ggx = np.asarray([GGX(x_, 0.5) for x_ in x])"
     ],
     "language": "python",
     "metadata": {},
     "outputs": [],
     "prompt_number": 80
    },
    {
     "cell_type": "code",
     "collapsed": false,
     "input": [
      "pyplot.plot(x, ggx)"
     ],
     "language": "python",
     "metadata": {},
     "outputs": [
      {
       "metadata": {},
       "output_type": "pyout",
       "prompt_number": 81,
       "text": [
        "[<matplotlib.lines.Line2D at 0x7f058b0bc2d0>]"
       ]
      }
     ],
     "prompt_number": 81
    },
    {
     "cell_type": "markdown",
     "metadata": {},
     "source": [
      "Check if the normalization is correct, i.e. the following is true\n",
      "\n",
      "$$\n",
      "int_S_2^+ (w\\cdotn)D(w)dw = 1\n",
      "$$\n",
      "The integration is carried out over the unit hemisphere in solid angle."
     ]
    },
    {
     "cell_type": "code",
     "collapsed": false,
     "input": [
      "def integrate_ndf_over_angle_range(ndf, alpha, a, b):\n",
      "    def wrapper(theta):\n",
      "        dot_n_m = np.cos(theta)\n",
      "        J = np.sin(theta)*2.*np.pi\n",
      "        return dot_n_m*ndf(dot_n_m, alpha)*J\n",
      "    return scipy.integrate.quad(wrapper, a, b)"
     ],
     "language": "python",
     "metadata": {},
     "outputs": [],
     "prompt_number": 108
    },
    {
     "cell_type": "code",
     "collapsed": false,
     "input": [
      "def normal_distribution_integral_check(ndf, alpha):\n",
      "    return integrate_ndf_over_angle_range(ndf, alpha, 0., np.pi*0.5)\n",
      "normal_distribution_integral_check(GGX, 0.1)"
     ],
     "language": "python",
     "metadata": {},
     "outputs": [
      {
       "metadata": {},
       "output_type": "pyout",
       "prompt_number": 109,
       "text": [
        "(1.000000000000002, 8.345974406090146e-09)"
       ]
      }
     ],
     "prompt_number": 109
    },
    {
     "cell_type": "markdown",
     "metadata": {},
     "source": [
      "Regarding the sampling formulas in Walter et al. (2007) \"Microfacet Models for Refraction\":\n",
      "The terms with arctan in them can be substituted by using the identity:\n",
      "$$\n",
      "cos(arctan(x)) = 1/sqrt(x*x+1)\n",
      "$$"
     ]
    },
    {
     "cell_type": "code",
     "collapsed": false,
     "input": [
      "def SampleGGX(r, alpha):\n",
      "    \"\"\" Actually samples D(m)|m.n| \n",
      "        Returns m.n of the selected facet normal m.\n",
      "    \"\"\"\n",
      "    t = alpha*alpha*r[0]/(1.0-r[0])\n",
      "    cos_n_m = 1.0/np.sqrt(t + 1.0)\n",
      "    return cos_n_m"
     ],
     "language": "python",
     "metadata": {},
     "outputs": [],
     "prompt_number": 89
    },
    {
     "cell_type": "code",
     "collapsed": false,
     "input": [
      "def test_smpl(SampleFun, NDF, alpha, Nsmpl = 1000):\n",
      "    \"\"\" Generate samples of facet normal m. Count statistics in histogram \n",
      "        over |n.m|. Then compute probability of falling in histogram bin\n",
      "        using quadrature integral over NDF.\n",
      "        Overlay probilities in new histogram. Both histograms should match. \"\"\"\n",
      "    def wrapper():\n",
      "        r = np.random.uniform(0., 1., size=2)\n",
      "        return SampleFun(r, alpha)\n",
      "    smpl_cos_n_m = np.asarray([\n",
      "         wrapper() for _ in range(Nsmpl)\n",
      "    ])\n",
      "    bins = np.linspace(0., 1., 11)\n",
      "    pyplot.hist(smpl_cos_n_m, bins = bins, weights=np.ones_like(smpl_cos_n_m)/Nsmpl)\n",
      "    ggx = []\n",
      "    for i in range(len(bins)-1):\n",
      "        a1 = np.arccos(bins[i])\n",
      "        a2 = np.arccos(bins[i+1])\n",
      "        val, _ = integrate_ndf_over_angle_range(NDF, alpha, a2, a1)\n",
      "        ggx.append(val)\n",
      "    pyplot.bar((bins[:-1]+bins[1:])*0.5, ggx, width=bins[1]-bins[0], facecolor='none', edgecolor='r')\n",
      "test_smpl(SampleGGX, GGX, 0.5)"
     ],
     "language": "python",
     "metadata": {},
     "outputs": [],
     "prompt_number": 132
    },
    {
     "cell_type": "code",
     "collapsed": false,
     "input": [],
     "language": "python",
     "metadata": {},
     "outputs": []
    }
   ],
   "metadata": {}
  }
 ]
}