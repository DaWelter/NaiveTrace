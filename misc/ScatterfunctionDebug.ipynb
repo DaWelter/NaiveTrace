{
 "metadata": {
  "name": "",
  "signature": "sha256:8f8f3976b0270acad8d7d414a411707ea96d3dd4150ecc9488a7e81e168a97fd"
 },
 "nbformat": 3,
 "nbformat_minor": 0,
 "worksheets": [
  {
   "cells": [
    {
     "cell_type": "code",
     "collapsed": false,
     "input": [
      "import matplotlib.pyplot as pyplot\n",
      "from mpl_toolkits.mplot3d import Axes3D\n",
      "import os\n",
      "import sys\n",
      "import numpy as np\n",
      "import json\n",
      "Arr = np.asarray\n",
      "%matplotlib"
     ],
     "language": "python",
     "metadata": {},
     "outputs": [
      {
       "output_type": "stream",
       "stream": "stdout",
       "text": [
        "Using matplotlib backend: TkAgg\n"
       ]
      }
     ],
     "prompt_number": 1
    },
    {
     "cell_type": "code",
     "collapsed": false,
     "input": [
      "def json_samples_to_arrays(js):\n",
      "    coordinates = []\n",
      "    probabilities = []\n",
      "    values = []\n",
      "    cosn = []\n",
      "    weights = []\n",
      "    for smpl in js:\n",
      "        probabilities.append(smpl['pdf'])\n",
      "        coordinates.append(smpl['coord'])\n",
      "        values.append(smpl['value'])\n",
      "        cosn.append(smpl['cosn'])\n",
      "        weights.append(smpl['weight'])\n",
      "    coordinates = Arr(coordinates)\n",
      "    probabilities = Arr(probabilities)\n",
      "    values = Arr(values)\n",
      "    cosn = Arr(cosn)\n",
      "    weights = Arr(weights)\n",
      "    return coordinates, probabilities, values, cosn, weights"
     ],
     "language": "python",
     "metadata": {},
     "outputs": [],
     "prompt_number": 2
    },
    {
     "cell_type": "code",
     "collapsed": false,
     "input": [
      "#https://stackoverflow.com/questions/4116658/faster-numpy-cartesian-to-spherical-coordinate-conversion\n",
      "def appendSpherical_np(xyz):\n",
      "    ptsnew = np.hstack((xyz, np.zeros(xyz.shape)))\n",
      "    xy = xyz[:,0]**2 + xyz[:,1]**2\n",
      "    ptsnew[:,3] = np.sqrt(xy + xyz[:,2]**2)\n",
      "    ptsnew[:,4] = np.arctan2(np.sqrt(xy), xyz[:,2]) # for elevation angle defined from Z-axis down\n",
      "    #ptsnew[:,4] = np.arctan2(xyz[:,2], np.sqrt(xy)) # for elevation angle defined from XY-plane up\n",
      "    ptsnew[:,5] = np.arctan2(xyz[:,1], xyz[:,0])\n",
      "    return ptsnew"
     ],
     "language": "python",
     "metadata": {},
     "outputs": [],
     "prompt_number": 3
    },
    {
     "cell_type": "code",
     "collapsed": false,
     "input": [
      "def json_test_cubemap_to_arrays(js):\n",
      "    num_bins = len(js[0])\n",
      "    pr = np.empty((6, num_bins, num_bins))\n",
      "    val = np.empty((6, num_bins, num_bins, 3))\n",
      "    cnt = np.empty((6, num_bins, num_bins))\n",
      "    for side_idx, side in enumerate(js):\n",
      "        for irow, row in enumerate(side):\n",
      "            for icol, col in enumerate(row):\n",
      "                cell = col\n",
      "                pr[side_idx,irow,icol] = cell['prob']\n",
      "                cnt[side_idx,irow,icol] = float(cell['cnt'])\n",
      "    return pr, cnt\n",
      "\n",
      "def json_vis_cubemap_to_arrays(js):\n",
      "    num_bins = len(js[0])\n",
      "    pdf = np.empty((6, num_bins, num_bins))\n",
      "    val = np.empty((6, num_bins, num_bins, 3))\n",
      "    pos = np.empty((6, num_bins, num_bins, 3))\n",
      "    for side_idx, side in enumerate(js):\n",
      "        for irow, row in enumerate(side):\n",
      "            for icol, col in enumerate(row):\n",
      "                cell = col\n",
      "                pdf[side_idx,irow,icol] = cell['pdf']\n",
      "                val[side_idx,irow,icol,:] = cell['val']\n",
      "                pos[side_idx,irow,icol] = cell['pos']\n",
      "    return pos, val, pdf\n"
     ],
     "language": "python",
     "metadata": {},
     "outputs": [],
     "prompt_number": 4
    },
    {
     "cell_type": "code",
     "collapsed": false,
     "input": [
      "side_labels = '+X -X +Y -Y +Z -Z'.split()"
     ],
     "language": "python",
     "metadata": {},
     "outputs": [],
     "prompt_number": 5
    },
    {
     "cell_type": "code",
     "collapsed": false,
     "input": [
      "def plotcubemap(data, vmin=None, vmax=None):\n",
      "    fig, axes = pyplot.subplots(2,3)\n",
      "    axes = axes.flatten()\n",
      "    for side, ax in zip(range(6), axes):\n",
      "        ax.imshow(data[side,...], vmin=vmin, vmax=vmax, interpolation='none')\n",
      "        ax.set(title = side_labels[side])\n",
      "        ax.get_xaxis().set_visible(False)\n",
      "        ax.get_yaxis().set_visible(False)\n",
      "    return fig, axes"
     ],
     "language": "python",
     "metadata": {},
     "outputs": [],
     "prompt_number": 6
    },
    {
     "cell_type": "code",
     "collapsed": false,
     "input": [
      "with open('/tmp/debug2.json', 'r') as f:\n",
      "    all_data = json.load(f)\n",
      "# all_data is deserialized into python types!\n",
      "coordinates, probabilities, values, cosn, weights = json_samples_to_arrays(all_data['vis_samples'])\n",
      "values = np.average(values, axis=1)\n",
      "weights = np.average(weights, axis=1)\n",
      "\n",
      "spherecoord = appendSpherical_np(coordinates)[:,3:]\n",
      "spherecoord[:,[1,2]] *= 180./np.pi\n",
      "\n",
      "if 0:\n",
      "    cube_probabilities, cube_counts = json_test_cubemap_to_arrays(all_data['test_cubemap'])\n",
      "    cube_counts /= np.sum(cube_counts)\n",
      "\n",
      "    tc_pos, tc_val, tc_pdf = json_vis_cubemap_to_arrays(all_data['vis_cubemap'])\n",
      "    tc_val = np.average(tc_val, axis=3)"
     ],
     "language": "python",
     "metadata": {},
     "outputs": [],
     "prompt_number": 13
    },
    {
     "cell_type": "code",
     "collapsed": false,
     "input": [
      "fig = pyplot.figure()\n",
      "ax = fig.add_subplot(131, projection='polar')\n",
      "ax.scatter(spherecoord.T[1]/180.*np.pi, values)\n",
      "ax = fig.add_subplot(132, projection='polar')\n",
      "ax.scatter(spherecoord.T[1]/180.*np.pi, probabilities)\n",
      "ax = fig.add_subplot(133, projection='polar')\n",
      "ax.scatter(spherecoord.T[1]/180.*np.pi, weights)"
     ],
     "language": "python",
     "metadata": {},
     "outputs": [
      {
       "metadata": {},
       "output_type": "pyout",
       "prompt_number": 17,
       "text": [
        "<matplotlib.collections.PathCollection at 0x7f9b85d9da90>"
       ]
      }
     ],
     "prompt_number": 17
    },
    {
     "cell_type": "code",
     "collapsed": false,
     "input": [
      "fig = pyplot.figure()\n",
      "ax = fig.add_subplot(121, projection='3d')\n",
      "ax.scatter(coordinates[:,0], coordinates[:,1], coordinates[:,2], c=probabilities)\n",
      "ax = fig.add_subplot(122, projection='3d')\n",
      "ax.scatter(coordinates[:,0], coordinates[:,1], coordinates[:,2], c=values)"
     ],
     "language": "python",
     "metadata": {},
     "outputs": [
      {
       "metadata": {},
       "output_type": "pyout",
       "prompt_number": 8,
       "text": [
        "<mpl_toolkits.mplot3d.art3d.Path3DCollection at 0x7f73ada84590>"
       ]
      }
     ],
     "prompt_number": 8
    },
    {
     "cell_type": "code",
     "collapsed": false,
     "input": [
      "fig = pyplot.figure()\n",
      "ax = fig.add_subplot(111)\n",
      "#ax.tripcolor(spherecoord[:,1], spherecoord[:,2], np.log(probabilities))\n",
      "ax.scatter(spherecoord[:,1], spherecoord[:,2], s=20., c = probabilities, edgecolor='None')"
     ],
     "language": "python",
     "metadata": {},
     "outputs": [
      {
       "metadata": {},
       "output_type": "pyout",
       "prompt_number": 47,
       "text": [
        "<matplotlib.collections.PathCollection at 0x7f526d08af90>"
       ]
      }
     ],
     "prompt_number": 47
    },
    {
     "cell_type": "code",
     "collapsed": false,
     "input": [
      "data = np.log(cube_probabilities+1.e-4)\n",
      "fig, _ = plotcubemap(data, np.log(1.e-4), 0.)\n",
      "fig.suptitle('probs')\n",
      "data = np.log(cube_counts+1.e-4)\n",
      "fig, _ = plotcubemap(data, np.log(1.e-4), 0.)\n",
      "fig.suptitle('counts')"
     ],
     "language": "python",
     "metadata": {},
     "outputs": [
      {
       "metadata": {},
       "output_type": "pyout",
       "prompt_number": 59,
       "text": [
        "<matplotlib.text.Text at 0x7f526cbd0150>"
       ]
      }
     ],
     "prompt_number": 59
    },
    {
     "cell_type": "code",
     "collapsed": false,
     "input": [
      "data = np.log(tc_val+1.e-4)\n",
      "fig, _ = plotcubemap(data, np.log(1.e-4), 0.)\n",
      "fig.suptitle('value')\n",
      "data = np.log(tc_pdf+1.e-4)\n",
      "fig, _ = plotcubemap(data, np.log(1.e-4), 0.)\n",
      "fig.suptitle('pdf')"
     ],
     "language": "python",
     "metadata": {},
     "outputs": [
      {
       "metadata": {},
       "output_type": "pyout",
       "prompt_number": 60,
       "text": [
        "<matplotlib.text.Text at 0x7f5269f856d0>"
       ]
      }
     ],
     "prompt_number": 60
    },
    {
     "cell_type": "code",
     "collapsed": false,
     "input": [
      "def f(kspecular): return kspecular + (1.-kspecular)*2./42."
     ],
     "language": "python",
     "metadata": {},
     "outputs": [],
     "prompt_number": 50
    },
    {
     "cell_type": "code",
     "collapsed": false,
     "input": [
      "1./(1.-f(0.2))"
     ],
     "language": "python",
     "metadata": {},
     "outputs": [
      {
       "metadata": {},
       "output_type": "pyout",
       "prompt_number": 52,
       "text": [
        "1.3125"
       ]
      }
     ],
     "prompt_number": 52
    },
    {
     "cell_type": "code",
     "collapsed": false,
     "input": [
      "1.5**10"
     ],
     "language": "python",
     "metadata": {},
     "outputs": [
      {
       "metadata": {},
       "output_type": "pyout",
       "prompt_number": 15,
       "text": [
        "57.6650390625"
       ]
      }
     ],
     "prompt_number": 15
    },
    {
     "cell_type": "code",
     "collapsed": false,
     "input": [
      "(1./0.9)**5"
     ],
     "language": "python",
     "metadata": {},
     "outputs": [
      {
       "metadata": {},
       "output_type": "pyout",
       "prompt_number": 16,
       "text": [
        "1.6935087808430291"
       ]
      }
     ],
     "prompt_number": 16
    },
    {
     "cell_type": "code",
     "collapsed": false,
     "input": [],
     "language": "python",
     "metadata": {},
     "outputs": []
    }
   ],
   "metadata": {}
  }
 ]
}