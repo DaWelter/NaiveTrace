{
 "metadata": {
  "name": "",
  "signature": "sha256:85e3741ed5dd9de8954246dd655accf8361e0e79dcac19884f93fb55ab8a04c4"
 },
 "nbformat": 3,
 "nbformat_minor": 0,
 "worksheets": [
  {
   "cells": [
    {
     "cell_type": "code",
     "collapsed": false,
     "input": [
      "import matplotlib.pyplot as pyplot\n",
      "from mpl_toolkits.mplot3d import Axes3D\n",
      "import os\n",
      "import sys\n",
      "import numpy as np\n",
      "import json\n",
      "Arr = np.asarray\n",
      "%matplotlib"
     ],
     "language": "python",
     "metadata": {},
     "outputs": [
      {
       "output_type": "stream",
       "stream": "stdout",
       "text": [
        "Using matplotlib backend: TkAgg\n"
       ]
      }
     ],
     "prompt_number": 1
    },
    {
     "cell_type": "code",
     "collapsed": false,
     "input": [
      "import vtk"
     ],
     "language": "python",
     "metadata": {},
     "outputs": [],
     "prompt_number": 2
    },
    {
     "cell_type": "code",
     "collapsed": false,
     "input": [
      "#https://stackoverflow.com/questions/4116658/faster-numpy-cartesian-to-spherical-coordinate-conversion\n",
      "def appendSpherical_np(xyz):\n",
      "    ptsnew = np.hstack((xyz, np.zeros(xyz.shape)))\n",
      "    xy = xyz[:,0]**2 + xyz[:,1]**2\n",
      "    ptsnew[:,3] = np.sqrt(xy + xyz[:,2]**2)\n",
      "    ptsnew[:,4] = np.arctan2(np.sqrt(xy), xyz[:,2]) # for elevation angle defined from Z-axis down\n",
      "    #ptsnew[:,4] = np.arctan2(xyz[:,2], np.sqrt(xy)) # for elevation angle defined from XY-plane up\n",
      "    ptsnew[:,5] = np.arctan2(xyz[:,1], xyz[:,0])\n",
      "    return ptsnew"
     ],
     "language": "python",
     "metadata": {},
     "outputs": [],
     "prompt_number": 3
    },
    {
     "cell_type": "code",
     "collapsed": false,
     "input": [
      "def json_samples_to_arrays(js):\n",
      "    coordinates = []\n",
      "    probabilities = []\n",
      "    values = []\n",
      "    cosn = []\n",
      "    weights = []\n",
      "    for smpl in js:\n",
      "        probabilities.append(smpl['pdf'])\n",
      "        coordinates.append(smpl['coord'])\n",
      "        values.append(smpl['value'])\n",
      "        cosn.append(smpl['cosn'])\n",
      "        weights.append(smpl['weight'])\n",
      "    coordinates = Arr(coordinates)\n",
      "    probabilities = Arr(probabilities)\n",
      "    values = Arr(values)\n",
      "    cosn = Arr(cosn)\n",
      "    weights = Arr(weights)\n",
      "    return coordinates, probabilities, values, cosn, weights"
     ],
     "language": "python",
     "metadata": {},
     "outputs": [],
     "prompt_number": 4
    },
    {
     "cell_type": "code",
     "collapsed": false,
     "input": [
      "def json_test_cubemap_to_array(js):\n",
      "    num_bins = len(js[0])\n",
      "    val = np.empty((6, num_bins, num_bins))\n",
      "    for side_idx, side in enumerate(js):\n",
      "        for irow, row in enumerate(side):\n",
      "            for icol, col in enumerate(row):\n",
      "                cell = col\n",
      "                val[side_idx,irow,icol] = cell['value']\n",
      "    return val\n",
      "\n",
      "def json_test_cubemap_to_arrays(js):\n",
      "    num_bins = len(js[0])\n",
      "    pr = np.empty((6, num_bins, num_bins))\n",
      "    val = np.empty((6, num_bins, num_bins, 3))\n",
      "    cnt = np.empty((6, num_bins, num_bins))\n",
      "    for side_idx, side in enumerate(js):\n",
      "        for irow, row in enumerate(side):\n",
      "            for icol, col in enumerate(row):\n",
      "                cell = col\n",
      "                pr[side_idx,irow,icol] = cell['prob']\n",
      "                cnt[side_idx,irow,icol] = float(cell['cnt'])\n",
      "    return pr, cnt\n",
      "\n",
      "def json_vis_cubemap_to_arrays(js):\n",
      "    num_bins = len(js[0])\n",
      "    pdf = np.empty((6, num_bins, num_bins))\n",
      "    val = np.empty((6, num_bins, num_bins, 3))\n",
      "    pos = np.empty((6, num_bins, num_bins, 3))\n",
      "    for side_idx, side in enumerate(js):\n",
      "        for irow, row in enumerate(side):\n",
      "            for icol, col in enumerate(row):\n",
      "                cell = col\n",
      "                pdf[side_idx,irow,icol] = cell['pdf']\n",
      "                val[side_idx,irow,icol,:] = cell['val']\n",
      "                pos[side_idx,irow,icol] = cell['pos']\n",
      "    return pos, val, pdf\n"
     ],
     "language": "python",
     "metadata": {},
     "outputs": [],
     "prompt_number": 5
    },
    {
     "cell_type": "code",
     "collapsed": false,
     "input": [
      "side_labels = '+X -X +Y -Y +Z -Z'.split()"
     ],
     "language": "python",
     "metadata": {},
     "outputs": [],
     "prompt_number": 6
    },
    {
     "cell_type": "code",
     "collapsed": false,
     "input": [
      "def plotcubemap(data, vmin=None, vmax=None):\n",
      "    fig, axes = pyplot.subplots(2,3)\n",
      "    axes = axes.flatten()\n",
      "    for side, ax in zip(range(6), axes):\n",
      "        ax.imshow(data[side,...], vmin=vmin, vmax=vmax, interpolation='none')\n",
      "        ax.set(title = side_labels[side])\n",
      "        ax.get_xaxis().set_visible(False)\n",
      "        ax.get_yaxis().set_visible(False)\n",
      "    return fig, axes"
     ],
     "language": "python",
     "metadata": {},
     "outputs": [],
     "prompt_number": 7
    },
    {
     "cell_type": "markdown",
     "metadata": {},
     "source": [
      "with open('/tmp/debug2.json', 'r') as f:\n",
      "    all_data = json.load(f)\n",
      "# all_data is deserialized into python types!\n",
      "coordinates, probabilities, values, cosn, weights = json_samples_to_arrays(all_data['vis_samples'])\n",
      "values = np.average(values, axis=1)\n",
      "weights = np.average(weights, axis=1)\n",
      "\n",
      "spherecoord = appendSpherical_np(coordinates)[:,3:]\n",
      "spherecoord[:,[1,2]] *= 180./np.pi\n",
      "\n",
      "if 1:\n",
      "    cube_probabilities, cube_counts = json_test_cubemap_to_arrays(all_data['test_cubemap'])\n",
      "    cube_counts /= np.sum(cube_counts)\n",
      "\n",
      "    tc_pos, tc_val, tc_pdf = json_vis_cubemap_to_arrays(all_data['vis_cubemap'])\n",
      "    tc_val = np.average(tc_val, axis=3)"
     ]
    },
    {
     "cell_type": "code",
     "collapsed": false,
     "input": [
      "with open('/tmp/cubemap.json', 'r') as f:\n",
      "    all_data = json.load(f)\n",
      "probs = json_test_cubemap_to_array(all_data['probs'])\n",
      "counts = json_test_cubemap_to_array(all_data['counts'])\n",
      "counts /= np.sum(counts)\n",
      "data = np.log(probs+1.e-4)\n",
      "fig, _ = plotcubemap(data, np.log(1.e-4), 0.)\n",
      "fig.suptitle('probs')\n",
      "data = np.log(counts+1.e-4)\n",
      "fig, _ = plotcubemap(data, np.log(1.e-4), 0.)\n",
      "fig.suptitle('counts')"
     ],
     "language": "python",
     "metadata": {},
     "outputs": [
      {
       "metadata": {},
       "output_type": "pyout",
       "prompt_number": 44,
       "text": [
        "Text(0.5,0.98,'counts')"
       ]
      }
     ],
     "prompt_number": 44
    },
    {
     "cell_type": "code",
     "collapsed": false,
     "input": [
      "def MakeLUTFromCTF():\n",
      "    \"\"\"\n",
      "    Use a color transfer Function to generate the colors in the lookup table.\n",
      "    See: http://www.vtk.org/doc/nightly/html/classvtkColorTransferFunction.html\n",
      "    :param: tableSize - The table size\n",
      "    :return: The lookup table.\n",
      "    \"\"\"\n",
      "    ctf = vtk.vtkColorTransferFunction()\n",
      "    ctf.SetColorSpaceToDiverging()\n",
      "    ctf.AddRGBPoint(0.0, 0.0, 0.5, 1)\n",
      "    ctf.AddRGBPoint(0.5, 0.8, 0.2, 1)\n",
      "    ctf.AddRGBPoint(1.0, 0.6, 0.0, 1)\n",
      "    return ctf"
     ],
     "language": "python",
     "metadata": {},
     "outputs": [],
     "prompt_number": 23
    },
    {
     "cell_type": "code",
     "collapsed": false,
     "input": [
      "def plot3dcubemap(data):\n",
      "    bins_per_axis = data[0].shape[0]\n",
      "    \n",
      "    normalizeddata = data / np.amax(data)\n",
      "    \n",
      "    ctf = MakeLUTFromCTF()\n",
      "    \n",
      "    def MakeColor(val):\n",
      "        c = np.clip(np.asarray(ctf.GetColor(val))*255., 0., 255.).astype(np.uint8)\n",
      "        return c\n",
      "    \n",
      "    def Normalized(grid):\n",
      "        return grid / np.linalg.norm(grid, axis=-1)[...,np.newaxis]\n",
      "    \n",
      "    def UVToOmega(side, u, v):\n",
      "        ones = np.ones_like(u)\n",
      "        def concat(a,b,c):\n",
      "            return Normalized(np.concatenate((a[...,np.newaxis],b[...,np.newaxis],c[...,np.newaxis]), axis=-1))\n",
      "        if side==0:\n",
      "            return concat(ones, u, v)\n",
      "        if side==1:\n",
      "            return concat(-ones, u, v)\n",
      "        if side==2:\n",
      "            return concat(u, ones, v)\n",
      "        if side==3:\n",
      "            return concat(u, -ones, v)\n",
      "        if side==4:\n",
      "            return concat(u, v, ones)\n",
      "        if side==5:\n",
      "            return concat(u, v, -ones)\n",
      "    points = vtk.vtkPoints()\n",
      "    quads = vtk.vtkCellArray()\n",
      "    colors = vtk.vtkUnsignedCharArray()\n",
      "    colors.SetName('colors')  # Any name will work here.\n",
      "    colors.SetNumberOfComponents(3)\n",
      "    for side in range(6):\n",
      "        t = np.linspace(-1., 1., bins_per_axis+1)\n",
      "        u, v = np.meshgrid(t,t)\n",
      "        w = UVToOmega(side, u, v)\n",
      "        #print (w)\n",
      "        for i in range(bins_per_axis+1):\n",
      "            for j in range(bins_per_axis+1):\n",
      "                points.InsertNextPoint(w[i,j])\n",
      "        def Add(q, l, i, j):\n",
      "            k = i*(bins_per_axis+1)+j\n",
      "            k += side*(bins_per_axis+1)**2\n",
      "            q.GetPointIds().SetId(l,k)\n",
      "        for i in range(bins_per_axis):\n",
      "            for j in range(bins_per_axis):\n",
      "                quad = vtk.vtkQuad()\n",
      "                Add(quad, 0, i, j)\n",
      "                Add(quad, 1, i+1, j)\n",
      "                Add(quad, 2, i+1, j+1)\n",
      "                Add(quad, 3, i, j+1)\n",
      "                quads.InsertNextCell(quad)\n",
      "                colors.InsertNextTuple3(*MakeColor(normalizeddata[side,i,j]))\n",
      "    polydata = vtk.vtkPolyData()\n",
      "    polydata.SetPoints(points)\n",
      "    polydata.SetPolys(quads)\n",
      "    polydata.GetCellData().SetScalars(colors)\n",
      "    mapper = vtk.vtkPolyDataMapper()\n",
      "    mapper.SetInput(polydata)\n",
      "    mapper.SetScalarModeToUseCellData()\n",
      "    mapper.Update()\n",
      "    actor = vtk.vtkActor()\n",
      "    actor.SetMapper(mapper)\n",
      "    \n",
      "    renderer = vtk.vtkRenderer()\n",
      "    renderWindow = vtk.vtkRenderWindow()\n",
      "    renderWindow.SetWindowName(\"Quad\")\n",
      "    renderWindow.AddRenderer(renderer)\n",
      "    renderWindowInteractor = vtk.vtkRenderWindowInteractor()\n",
      "    renderWindowInteractor.SetRenderWindow(renderWindow)\n",
      "    \n",
      "    renderer.AddActor(actor)\n",
      "    #renderer.SetBackground(colors.GetColor3d(\"Salmon\"))\n",
      "    renderWindow.Render()\n",
      "    renderWindowInteractor.Start()\n",
      "plot3dcubemap(probs)"
     ],
     "language": "python",
     "metadata": {},
     "outputs": [],
     "prompt_number": 31
    },
    {
     "cell_type": "code",
     "collapsed": false,
     "input": [
      "fig = pyplot.figure()\n",
      "ax = fig.add_subplot(131, projection='polar')\n",
      "ax.scatter(spherecoord.T[1]/180.*np.pi, values)\n",
      "ax = fig.add_subplot(132, projection='polar')\n",
      "ax.scatter(spherecoord.T[1]/180.*np.pi, probabilities)\n",
      "ax = fig.add_subplot(133, projection='polar')\n",
      "ax.scatter(spherecoord.T[1]/180.*np.pi, weights)"
     ],
     "language": "python",
     "metadata": {},
     "outputs": [
      {
       "ename": "NameError",
       "evalue": "name 'spherecoord' is not defined",
       "output_type": "pyerr",
       "traceback": [
        "\u001b[0;31m---------------------------------------------------------------------------\u001b[0m\n\u001b[0;31mNameError\u001b[0m                                 Traceback (most recent call last)",
        "\u001b[0;32m<ipython-input-7-9d774f065e9d>\u001b[0m in \u001b[0;36m<module>\u001b[0;34m()\u001b[0m\n\u001b[1;32m      1\u001b[0m \u001b[0mfig\u001b[0m \u001b[0;34m=\u001b[0m \u001b[0mpyplot\u001b[0m\u001b[0;34m.\u001b[0m\u001b[0mfigure\u001b[0m\u001b[0;34m(\u001b[0m\u001b[0;34m)\u001b[0m\u001b[0;34m\u001b[0m\u001b[0m\n\u001b[1;32m      2\u001b[0m \u001b[0max\u001b[0m \u001b[0;34m=\u001b[0m \u001b[0mfig\u001b[0m\u001b[0;34m.\u001b[0m\u001b[0madd_subplot\u001b[0m\u001b[0;34m(\u001b[0m\u001b[0;36m131\u001b[0m\u001b[0;34m,\u001b[0m \u001b[0mprojection\u001b[0m\u001b[0;34m=\u001b[0m\u001b[0;34m'polar'\u001b[0m\u001b[0;34m)\u001b[0m\u001b[0;34m\u001b[0m\u001b[0m\n\u001b[0;32m----> 3\u001b[0;31m \u001b[0max\u001b[0m\u001b[0;34m.\u001b[0m\u001b[0mscatter\u001b[0m\u001b[0;34m(\u001b[0m\u001b[0mspherecoord\u001b[0m\u001b[0;34m.\u001b[0m\u001b[0mT\u001b[0m\u001b[0;34m[\u001b[0m\u001b[0;36m1\u001b[0m\u001b[0;34m]\u001b[0m\u001b[0;34m/\u001b[0m\u001b[0;36m180.\u001b[0m\u001b[0;34m*\u001b[0m\u001b[0mnp\u001b[0m\u001b[0;34m.\u001b[0m\u001b[0mpi\u001b[0m\u001b[0;34m,\u001b[0m \u001b[0mvalues\u001b[0m\u001b[0;34m)\u001b[0m\u001b[0;34m\u001b[0m\u001b[0m\n\u001b[0m\u001b[1;32m      4\u001b[0m \u001b[0max\u001b[0m \u001b[0;34m=\u001b[0m \u001b[0mfig\u001b[0m\u001b[0;34m.\u001b[0m\u001b[0madd_subplot\u001b[0m\u001b[0;34m(\u001b[0m\u001b[0;36m132\u001b[0m\u001b[0;34m,\u001b[0m \u001b[0mprojection\u001b[0m\u001b[0;34m=\u001b[0m\u001b[0;34m'polar'\u001b[0m\u001b[0;34m)\u001b[0m\u001b[0;34m\u001b[0m\u001b[0m\n\u001b[1;32m      5\u001b[0m \u001b[0max\u001b[0m\u001b[0;34m.\u001b[0m\u001b[0mscatter\u001b[0m\u001b[0;34m(\u001b[0m\u001b[0mspherecoord\u001b[0m\u001b[0;34m.\u001b[0m\u001b[0mT\u001b[0m\u001b[0;34m[\u001b[0m\u001b[0;36m1\u001b[0m\u001b[0;34m]\u001b[0m\u001b[0;34m/\u001b[0m\u001b[0;36m180.\u001b[0m\u001b[0;34m*\u001b[0m\u001b[0mnp\u001b[0m\u001b[0;34m.\u001b[0m\u001b[0mpi\u001b[0m\u001b[0;34m,\u001b[0m \u001b[0mprobabilities\u001b[0m\u001b[0;34m)\u001b[0m\u001b[0;34m\u001b[0m\u001b[0m\n",
        "\u001b[0;31mNameError\u001b[0m: name 'spherecoord' is not defined"
       ]
      }
     ],
     "prompt_number": 7
    },
    {
     "cell_type": "code",
     "collapsed": false,
     "input": [
      "fig = pyplot.figure()\n",
      "ax = fig.add_subplot(121, projection='3d')\n",
      "ax.scatter(coordinates[:,0], coordinates[:,1], coordinates[:,2], c=probabilities)\n",
      "ax = fig.add_subplot(122, projection='3d')\n",
      "ax.scatter(coordinates[:,0], coordinates[:,1], coordinates[:,2], c=values)"
     ],
     "language": "python",
     "metadata": {},
     "outputs": [
      {
       "metadata": {},
       "output_type": "pyout",
       "prompt_number": 22,
       "text": [
        "<mpl_toolkits.mplot3d.art3d.Path3DCollection at 0x7f70dabb5710>"
       ]
      }
     ],
     "prompt_number": 22
    },
    {
     "cell_type": "code",
     "collapsed": false,
     "input": [
      "fig = pyplot.figure()\n",
      "ax = fig.add_subplot(111)\n",
      "#ax.tripcolor(spherecoord[:,1], spherecoord[:,2], np.log(probabilities))\n",
      "ax.scatter(spherecoord[:,1], spherecoord[:,2], s=20., c = probabilities, edgecolor='None')"
     ],
     "language": "python",
     "metadata": {},
     "outputs": [
      {
       "metadata": {},
       "output_type": "pyout",
       "prompt_number": 10,
       "text": [
        "<matplotlib.collections.PathCollection at 0x7f70e8380f50>"
       ]
      }
     ],
     "prompt_number": 10
    },
    {
     "cell_type": "code",
     "collapsed": false,
     "input": [
      "data = np.log(cube_probabilities+1.e-4)\n",
      "fig, _ = plotcubemap(data, np.log(1.e-4), 0.)\n",
      "fig.suptitle('probs')\n",
      "data = np.log(cube_counts+1.e-4)\n",
      "fig, _ = plotcubemap(data, np.log(1.e-4), 0.)\n",
      "fig.suptitle('counts')"
     ],
     "language": "python",
     "metadata": {},
     "outputs": [
      {
       "metadata": {},
       "output_type": "pyout",
       "prompt_number": 25,
       "text": [
        "Text(0.5,0.98,'counts')"
       ]
      }
     ],
     "prompt_number": 25
    },
    {
     "cell_type": "code",
     "collapsed": false,
     "input": [
      "data = np.log(tc_val+1.e-4)\n",
      "fig, _ = plotcubemap(data, np.log(1.e-4), 0.)\n",
      "fig.suptitle('value')\n",
      "data = np.log(tc_pdf+1.e-4)\n",
      "fig, _ = plotcubemap(data, np.log(1.e-4), 0.)\n",
      "fig.suptitle('pdf')"
     ],
     "language": "python",
     "metadata": {},
     "outputs": [
      {
       "metadata": {},
       "output_type": "pyout",
       "prompt_number": 24,
       "text": [
        "Text(0.5,0.98,'pdf')"
       ]
      }
     ],
     "prompt_number": 24
    }
   ],
   "metadata": {}
  }
 ]
}