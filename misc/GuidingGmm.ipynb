{
 "cells": [
  {
   "cell_type": "code",
   "execution_count": null,
   "metadata": {},
   "outputs": [],
   "source": [
    "import numpy as np\n",
    "from matplotlib import pyplot\n",
    "import matplotlib\n",
    "from mpl_toolkits.mplot3d import Axes3D"
   ]
  },
  {
   "cell_type": "code",
   "execution_count": null,
   "metadata": {},
   "outputs": [],
   "source": [
    "try:\n",
    "    import path_guiding\n",
    "except ModuleNotFoundError:\n",
    "    import imp\n",
    "    path_guiding = imp.load_dynamic('path_guiding', r'..\\buildwin\\Release\\path_guiding.dll')\n",
    "from path_guiding import GMM2d"
   ]
  },
  {
   "cell_type": "code",
   "execution_count": null,
   "metadata": {},
   "outputs": [],
   "source": [
    "#import path_guiding_kdtree_loader\n",
    "#import path_guiding_kdtree_visualization"
   ]
  },
  {
   "cell_type": "code",
   "execution_count": null,
   "metadata": {},
   "outputs": [],
   "source": [
    "def pdf_image(ax, gmm):\n",
    "    t = np.linspace(-1.,1., 100)\n",
    "    x,y = np.meshgrid(t,t)\n",
    "    coord_list = np.vstack((x.ravel(), y.ravel())).T\n",
    "    pdf_vals = gmm.pdf(coord_list)\n",
    "    pdf_vals = np.reshape(pdf_vals, (t.size,t.size))\n",
    "    return ax.imshow(pdf_vals[::-1,:], extent=(-1.,1,-1.,1.))\n",
    "\n",
    "def rot(a):\n",
    "    a = np.pi/180*a\n",
    "    cs = np.cos(a)\n",
    "    sn = np.sin(a)\n",
    "    rot = [\n",
    "        [cs, sn],\n",
    "        [-sn,cs]\n",
    "    ]\n",
    "    return np.matrix(rot)"
   ]
  },
  {
   "cell_type": "code",
   "execution_count": null,
   "metadata": {},
   "outputs": [],
   "source": [
    "gmm = GMM2d.make_for_unit_circle()\n",
    "pdf_image(pyplot.gca(), gmm)\n",
    "pyplot.show()"
   ]
  },
  {
   "cell_type": "markdown",
   "metadata": {},
   "source": [
    "Check if sampling and evaluation of pdf works\n",
    "=============================================="
   ]
  },
  {
   "cell_type": "code",
   "execution_count": null,
   "metadata": {},
   "outputs": [],
   "source": [
    "init_precisions = np.zeros((8,2,2), dtype=np.float32)\n",
    "\n",
    "for k in range(8):\n",
    "    a = np.random.uniform(0., 360.)\n",
    "    m = np.matrix([\n",
    "        [50., 0.],\n",
    "        [0. , 500.]\n",
    "    ])\n",
    "    r = rot(a)\n",
    "    init_precisions[k,...] = r * m * r.T\n",
    "\n",
    "gmm = GMM2d.make_for_unit_circle()\n",
    "gmm.precisions = init_precisions\n",
    "w = (np.arange(8)+1).astype(np.float32)\n",
    "gmm.weights = w / np.sum(w)\n",
    "    \n",
    "xs = gmm.sample(1000)\n",
    "\n",
    "pdf_image(pyplot.gca(), gmm)\n",
    "pyplot.scatter(*xs.T, color = 'gray', s = 5., marker='x')\n",
    "pyplot.scatter(*gmm.means.T, color = 'r')"
   ]
  },
  {
   "cell_type": "markdown",
   "metadata": {},
   "source": [
    "Try the fitting procedures\n",
    "--------------------------"
   ]
  },
  {
   "cell_type": "code",
   "execution_count": null,
   "metadata": {},
   "outputs": [],
   "source": [
    "gmm = GMM2d.make_for_unit_circle()"
   ]
  },
  {
   "cell_type": "code",
   "execution_count": null,
   "metadata": {},
   "outputs": [],
   "source": [
    "def test_set1():\n",
    "    N = 100\n",
    "    loc1 = (-0.5,0.25)\n",
    "    loc2 = (0.5,-0.25)\n",
    "    test_data_two_gaussian = np.random.normal(loc=loc1, scale=0.33, size=(N,2))\n",
    "    test_data_two_gaussian = np.vstack((test_data_two_gaussian, np.random.normal(loc=loc2, scale=0.33, size=(N,2))))\n",
    "    weights = np.ones(N*2)\n",
    "    return np.array([loc1,loc2]), test_data_two_gaussian, weights\n",
    "\n",
    "def test_set2():\n",
    "    N = 100\n",
    "    loc1 = (-0.33,0.1)\n",
    "    loc2 = (0.33,-0.1)\n",
    "    x1 = np.random.normal(loc=0., scale=0.25, size=(N,2))\n",
    "    x2 = np.random.normal(loc=0., scale=0.25, size=(N,2))\n",
    "    x1[:,0] *= 0.2\n",
    "    x2[:,0] *= 0.2\n",
    "    x1 = np.dot(rot(30.), x1.T).T\n",
    "    x2 = np.dot(rot(-30.), x2.T).T\n",
    "    x1 += np.array(loc1)[np.newaxis,:]\n",
    "    x2 += np.array(loc2)[np.newaxis,:]\n",
    "    weights = np.ones(N*2)\n",
    "    return np.array([loc1,loc2]), np.array(np.concatenate((x1,x2),axis=0)), weights\n",
    "\n",
    "def test_set3():\n",
    "    locs, xs, ws = test_set2()\n",
    "    more_xs = np.random.uniform(-1., 1., size=(200,2))\n",
    "    weights = np.ones(more_xs.shape[0])\n",
    "    xs = np.vstack([xs, more_xs])\n",
    "    ws = np.hstack([ws, weights])\n",
    "    return locs, xs, ws\n",
    "\n",
    "def test_set4():\n",
    "    locs, xs, ws = test_set2()\n",
    "    more_xs = np.random.uniform(-1., 1., size=(200,2))\n",
    "    weights = 0.01*np.ones(more_xs.shape[0])\n",
    "    xs = np.vstack([xs, more_xs])\n",
    "    ws = np.hstack([ws, weights])\n",
    "    return locs, xs, ws\n",
    "\n",
    "def test_set5():\n",
    "    locs, xs, ws = test_set2()\n",
    "    bigx = [0.,1.]\n",
    "    locs = np.vstack((locs, bigx))\n",
    "    xs = np.vstack((xs, bigx))\n",
    "    ws = np.hstack((ws, [100.]))\n",
    "    return locs, xs, ws\n",
    "\n",
    "def test_set6():\n",
    "    xs = np.random.uniform(-1., 1., size = (50*100, 2))\n",
    "    loc1 = (-0.33,0.1)\n",
    "    loc2 = (0.33,-0.1)\n",
    "    locs = np.array([loc1,loc2])\n",
    "    ws = np.zeros(xs.shape[0])\n",
    "    for l in locs:\n",
    "        scale = 0.25\n",
    "        ws += np.exp(-np.linalg.norm(xs - l[np.newaxis,:], axis=1)**2/scale/scale)\n",
    "    return locs, xs, ws\n",
    "\n",
    "def test_set7():\n",
    "    locs, xs, ws = test_set1()\n",
    "    ws[0:10] = 0\n",
    "    ws[np.random.binomial(1, p=0.1, size = ws.shape[0]).astype(np.bool)] = 0\n",
    "    return locs, xs, ws"
   ]
  },
  {
   "cell_type": "code",
   "execution_count": null,
   "metadata": {},
   "outputs": [],
   "source": [
    "locs, xs, ws = test_set6()\n",
    "pyplot.scatter(*xs.T, s = 40, c = ws)\n",
    "print (xs.shape[0])"
   ]
  },
  {
   "cell_type": "code",
   "execution_count": null,
   "metadata": {},
   "outputs": [],
   "source": [
    "prior_nu = 1.00001; prior_alpha = 2.01; prior_u = 1.e-5; max_iters = 1; maximization_step_every = 100;\n",
    "#prior_nu = 1.01; prior_alpha = 2.01; prior_u = 1.e-5; max_iters = 50; maximization_step_every = 10;  # from paper"
   ]
  },
  {
   "cell_type": "raw",
   "metadata": {},
   "source": [
    "gmm = GMM2d.make_for_unit_circle()\n",
    "for i in range(20):\n",
    "    gmm.fit(xs, ws, prior_nu, prior_alpha, prior_u, 1)\n",
    "    fig, ax = pyplot.subplots(1,1, figsize=(10,20))\n",
    "    pdf_image(ax, gmm)\n",
    "    ax.scatter(*xs.T, marker = 'x', s = 40, color = 'gray')\n",
    "    ax.scatter(*locs.T, marker = '+', s = 40, color = 'r')\n",
    "    ax.scatter(*gmm.means().T, marker='o', s = 40, color='r')\n",
    "    pyplot.show()"
   ]
  },
  {
   "cell_type": "code",
   "execution_count": null,
   "metadata": {},
   "outputs": [],
   "source": [
    "gmm = GMM2d.make_for_unit_circle()\n",
    "gmm.fit(xs[:400,...], ws[:400,...], prior_nu, prior_alpha, prior_u, max_iters)\n",
    "fig, ax = pyplot.subplots(1,1, figsize=(10,20))\n",
    "pdf_image(ax, gmm)\n",
    "ax.scatter(*xs[:400,...].T, marker = 'x', s = 40, c = ws[:400])\n",
    "ax.scatter(*locs.T, marker = '+', s = 40, color = 'r')\n",
    "ax.scatter(*gmm.means.T, marker='o', s = 40, color='r')\n",
    "pyplot.show()"
   ]
  },
  {
   "cell_type": "markdown",
   "metadata": {},
   "source": [
    "Incremental Fit\n",
    "==============="
   ]
  },
  {
   "cell_type": "code",
   "execution_count": null,
   "metadata": {
    "scrolled": false
   },
   "outputs": [],
   "source": [
    "prior_nu = 10.\n",
    "prior_alpha = 10.\n",
    "prior_tau = 1.\n",
    "maximization_step_every = 100;\n",
    "prior_mode = GMM2d.make_for_unit_circle()\n",
    "prior_mode.precisions = prior_mode.precisions * np.random.uniform(1., 10., size=(8,))[:,np.newaxis,np.newaxis]\n",
    "w = (np.arange(8)+1).astype(np.float32)\n",
    "prior_mode.weights = w/np.sum(w)\n",
    "\n",
    "gmm = GMM2d.make_for_unit_circle()\n",
    "gmm.means = np.zeros_like(gmm.means)\n",
    "\n",
    "incremental = path_guiding.GMM2dFitIncremental(\n",
    "    prior_nu = prior_nu, \n",
    "    prior_alpha = prior_alpha, \n",
    "    prior_tau = prior_tau,\n",
    "    prior_mode = prior_mode,\n",
    "    maximization_step_every = maximization_step_every)\n",
    "\n",
    "#permutation = np.arange(xs.shape[0]); np.random.shuffle(permutation)\n",
    "pxs = xs\n",
    "pws = ws\n",
    "\n",
    "for i in range(0,pxs.shape[0],maximization_step_every):\n",
    "    seen_xs = pxs[i:i+maximization_step_every,...]\n",
    "    seen_ws = pws[i:i+maximization_step_every]\n",
    "    incremental.fit(gmm, seen_xs, seen_ws)\n",
    "    fig, ax = pyplot.subplots(1,1, figsize=(10,20))\n",
    "    pdf_image(ax, gmm)\n",
    "    ax.scatter(*seen_xs.T, marker = 'x', s = 40, color = 'gray')\n",
    "    ax.scatter(*locs.T, marker = '+', s = 40, color = 'r')\n",
    "    ax.scatter(*gmm.means.T, marker='o', s = 40, color='r')\n",
    "    pyplot.show()\n",
    "\n",
    "# incremental.fit(gmm, xs[permutation,:], ws[permutation])\n",
    "# fig, ax = pyplot.subplots(1,1, figsize=(10,20))\n",
    "# pdf_image(ax, gmm)\n",
    "# ax.scatter(*xs.T, marker = 'x', s = 40, color = 'gray')\n",
    "# ax.scatter(*locs.T, marker = '+', s = 40, color = 'r')\n",
    "# ax.scatter(*gmm.means().T, marker='o', s = 40, color='r')\n",
    "# pyplot.show()"
   ]
  },
  {
   "cell_type": "markdown",
   "metadata": {},
   "source": [
    "Find nice initialization for centers of the gaussians in the mixture\n",
    "-----------------------------------------------------------------------------------\n",
    "Distribute uniformly in the unit circle. That is because I'll fit data in the unit circle only."
   ]
  },
  {
   "cell_type": "code",
   "execution_count": null,
   "metadata": {},
   "outputs": [],
   "source": [
    "# Bascially, compute repulsive forces on each point. \n",
    "# Points are mutually repulsive. And they are also repelled by the boundary of the circle.\n",
    "\n",
    "def forces(pts):\n",
    "    N = pts.shape[0]\n",
    "    meanR = np.sqrt(1. / N)\n",
    "    forces = np.zeros_like(pts)\n",
    "    for i, p in enumerate(pts):\n",
    "        for j, q in enumerate(pts):\n",
    "            if i != j:\n",
    "                d = q-p # points away from p\n",
    "                l = np.linalg.norm(d)+1.e-9\n",
    "                # repulsive?!\n",
    "                f = -np.exp(-l/meanR)/l*d\n",
    "                forces[i] += f\n",
    "        # force of border\n",
    "        l = np.linalg.norm(p)\n",
    "        f = -np.exp((l-1.)/meanR)/l*p\n",
    "        forces[i] += f\n",
    "    return forces\n",
    "\n",
    "# Integrate forces. Neglect momentum. Thus displacement is proportional to force.\n",
    "pts = np.random.normal(loc=0., scale=0.1, size=(8,2)).astype(np.float32)\n",
    "dt = 0.1\n",
    "for iter in range(500):\n",
    "    pts += dt*forces(pts)"
   ]
  },
  {
   "cell_type": "code",
   "execution_count": null,
   "metadata": {},
   "outputs": [],
   "source": [
    "meanR = np.sqrt(1. / pts.shape[0])\n",
    "pyplot.gca().add_patch(matplotlib.patches.Circle((0.,0.),radius=1, facecolor='none', edgecolor='r'))\n",
    "for i in range(pts.shape[0]):\n",
    "    pyplot.gca().add_patch(matplotlib.patches.Circle(pts[i],radius=meanR, facecolor='none', edgecolor='k'))\n",
    "pyplot.scatter(*pts.T, marker = 'x', s = 40, color = 'k')\n",
    "pyplot.gca().autoscale_view()"
   ]
  },
  {
   "cell_type": "markdown",
   "metadata": {},
   "source": [
    "Now the same in 3d\n",
    "-----------------------------"
   ]
  },
  {
   "cell_type": "code",
   "execution_count": null,
   "metadata": {},
   "outputs": [],
   "source": [
    "def forces(pts):\n",
    "    N = pts.shape[0]\n",
    "    meanR = np.sqrt(1. / N)\n",
    "    forces = np.zeros_like(pts)\n",
    "    for i, p in enumerate(pts):\n",
    "        for j, q in enumerate(pts):\n",
    "            if i != j:\n",
    "                d = q-p # points away from p\n",
    "                l = np.linalg.norm(d)+1.e-9\n",
    "                # repulsive?!\n",
    "                f = -np.exp(-l/meanR)/l*d\n",
    "                forces[i] += f\n",
    "    return forces\n",
    "\n",
    "def renormalize(pts):\n",
    "    pts /= np.linalg.norm(pts, axis=1)[:,np.newaxis]\n",
    "\n",
    "# Integrate forces. Neglect momentum. Thus displacement is proportional to force.\n",
    "pts = np.random.normal(loc=0., scale=0.1, size=(16,3)).astype(np.float32)\n",
    "renormalize(pts)\n",
    "dt = 0.1\n",
    "for iter in range(500):\n",
    "    pts += dt*forces(pts)\n",
    "    renormalize(pts)"
   ]
  },
  {
   "cell_type": "code",
   "execution_count": null,
   "metadata": {},
   "outputs": [],
   "source": [
    "from mpl_toolkits.mplot3d import Axes3D"
   ]
  },
  {
   "cell_type": "code",
   "execution_count": null,
   "metadata": {},
   "outputs": [],
   "source": [
    "%matplotlib notebook"
   ]
  },
  {
   "cell_type": "code",
   "execution_count": null,
   "metadata": {},
   "outputs": [],
   "source": [
    "fig = pyplot.figure()\n",
    "ax = fig.add_subplot(111, projection='3d')\n",
    "ax.scatter(*pts.T)"
   ]
  },
  {
   "cell_type": "code",
   "execution_count": null,
   "metadata": {},
   "outputs": [],
   "source": [
    "x = np.float32(1.e-38)\n",
    "np.float32(1.)/x"
   ]
  },
  {
   "cell_type": "code",
   "execution_count": null,
   "metadata": {},
   "outputs": [],
   "source": [
    "for p in pts:\n",
    "    print (\"{{{}}},\".format(','.join(map(str,p))))"
   ]
  }
 ],
 "metadata": {
  "kernelspec": {
   "display_name": "Python 3",
   "language": "python",
   "name": "python3"
  },
  "language_info": {
   "codemirror_mode": {
    "name": "ipython",
    "version": 3
   },
   "file_extension": ".py",
   "mimetype": "text/x-python",
   "name": "python",
   "nbconvert_exporter": "python",
   "pygments_lexer": "ipython3",
   "version": "3.7.3"
  }
 },
 "nbformat": 4,
 "nbformat_minor": 2
}
