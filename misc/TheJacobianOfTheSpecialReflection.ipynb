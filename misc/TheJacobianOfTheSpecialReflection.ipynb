{
 "metadata": {
  "name": "",
  "signature": "sha256:e115963a0c28e3dc753bd3a69ee03b63bd3c64daee9ef3311a6d1e77ea975d77"
 },
 "nbformat": 3,
 "nbformat_minor": 0,
 "worksheets": [
  {
   "cells": [
    {
     "cell_type": "code",
     "collapsed": false,
     "input": [
      "import scipy\n",
      "import numpy as np\n",
      "import sympy\n",
      "from sympy import *"
     ],
     "language": "python",
     "metadata": {},
     "outputs": [],
     "prompt_number": 2
    },
    {
     "cell_type": "code",
     "collapsed": false,
     "input": [
      "ix, iy, iz = symbols('ix iy iz',real=True, constant = True)\n",
      "hx, hy, hz = symbols('hx hy hz',real = True, constant = False)"
     ],
     "language": "python",
     "metadata": {},
     "outputs": [],
     "prompt_number": 33
    },
    {
     "cell_type": "code",
     "collapsed": false,
     "input": [
      "h = Matrix([hx, hy, hz])\n",
      "i = Matrix([ix, iy, iz])\n",
      "tmp = 2.*(h.T*i)[0,0]\n",
      "f = tmp*h - i\n",
      "f = f.subs(ix,0).subs(iy,0).subs(iz,1)\n",
      "f"
     ],
     "language": "python",
     "metadata": {},
     "outputs": [
      {
       "metadata": {},
       "output_type": "pyout",
       "prompt_number": 64,
       "text": [
        "Matrix([\n",
        "[    2.0*hx*hz],\n",
        "[    2.0*hy*hz],\n",
        "[2.0*hz**2 - 1]])"
       ]
      }
     ],
     "prompt_number": 64
    },
    {
     "cell_type": "code",
     "collapsed": false,
     "input": [
      "nx, ny, nz, x, y, z = symbols('nx ny nz x y z')"
     ],
     "language": "python",
     "metadata": {},
     "outputs": [],
     "prompt_number": 65
    },
    {
     "cell_type": "code",
     "collapsed": false,
     "input": [
      "tmp = sqrt(x*x + y*y + z*z)\n",
      "n = Matrix([x, y, z])/tmp\n",
      "n"
     ],
     "language": "python",
     "metadata": {},
     "outputs": [
      {
       "metadata": {},
       "output_type": "pyout",
       "prompt_number": 66,
       "text": [
        "Matrix([\n",
        "[x/sqrt(x**2 + y**2 + z**2)],\n",
        "[y/sqrt(x**2 + y**2 + z**2)],\n",
        "[z/sqrt(x**2 + y**2 + z**2)]])"
       ]
      }
     ],
     "prompt_number": 66
    },
    {
     "cell_type": "code",
     "collapsed": false,
     "input": [
      "Jf = f.jacobian(Matrix([hx, hy, hz]))\n",
      "Jf"
     ],
     "language": "python",
     "metadata": {},
     "outputs": [
      {
       "metadata": {},
       "output_type": "pyout",
       "prompt_number": 67,
       "text": [
        "Matrix([\n",
        "[2.0*hz,      0, 2.0*hx],\n",
        "[     0, 2.0*hz, 2.0*hy],\n",
        "[     0,      0, 4.0*hz]])"
       ]
      }
     ],
     "prompt_number": 67
    },
    {
     "cell_type": "code",
     "collapsed": false,
     "input": [
      "Jf.det()"
     ],
     "language": "python",
     "metadata": {},
     "outputs": [
      {
       "metadata": {},
       "output_type": "pyout",
       "prompt_number": 69,
       "text": [
        "16.0*hz**3"
       ]
      }
     ],
     "prompt_number": 69
    },
    {
     "cell_type": "code",
     "collapsed": false,
     "input": [
      "Jn = n.jacobian(Matrix([x, y, z]))\n",
      "Jn"
     ],
     "language": "python",
     "metadata": {},
     "outputs": [
      {
       "metadata": {},
       "output_type": "pyout",
       "prompt_number": 39,
       "text": [
        "Matrix([\n",
        "[-x**2/(x**2 + y**2 + z**2)**(3/2) + 1/sqrt(x**2 + y**2 + z**2),                               -x*y/(x**2 + y**2 + z**2)**(3/2),                               -x*z/(x**2 + y**2 + z**2)**(3/2)],\n",
        "[                              -x*y/(x**2 + y**2 + z**2)**(3/2), -y**2/(x**2 + y**2 + z**2)**(3/2) + 1/sqrt(x**2 + y**2 + z**2),                               -y*z/(x**2 + y**2 + z**2)**(3/2)],\n",
        "[                              -x*z/(x**2 + y**2 + z**2)**(3/2),                               -y*z/(x**2 + y**2 + z**2)**(3/2), -z**2/(x**2 + y**2 + z**2)**(3/2) + 1/sqrt(x**2 + y**2 + z**2)]])"
       ]
      }
     ],
     "prompt_number": 39
    },
    {
     "cell_type": "code",
     "collapsed": false,
     "input": [
      "Jn.subs(x, f[0,0]).subs(y, f[1,0]).subs(z, f[2,0])*Jf"
     ],
     "language": "python",
     "metadata": {},
     "outputs": [
      {
       "metadata": {},
       "output_type": "pyout",
       "prompt_number": 45,
       "text": [
        "Matrix([\n",
        "[-2.0*hy*ix*(2.0*hx*Abs(hx*ix + hy*iy + hz*iz) - ix)*(2.0*hy*Abs(hx*ix + hy*iy + hz*iz) - iy)*sign(hx*ix + hy*iy + hz*iz)/((2.0*hx*Abs(hx*ix + hy*iy + hz*iz) - ix)**2 + (2.0*hy*Abs(hx*ix + hy*iy + hz*iz) - iy)**2 + (2.0*hz*Abs(hx*ix + hy*iy + hz*iz) - iz)**2)**(3/2) - 2.0*hz*ix*(2.0*hx*Abs(hx*ix + hy*iy + hz*iz) - ix)*(2.0*hz*Abs(hx*ix + hy*iy + hz*iz) - iz)*sign(hx*ix + hy*iy + hz*iz)/((2.0*hx*Abs(hx*ix + hy*iy + hz*iz) - ix)**2 + (2.0*hy*Abs(hx*ix + hy*iy + hz*iz) - iy)**2 + (2.0*hz*Abs(hx*ix + hy*iy + hz*iz) - iz)**2)**(3/2) + (-(2.0*hx*Abs(hx*ix + hy*iy + hz*iz) - ix)**2/((2.0*hx*Abs(hx*ix + hy*iy + hz*iz) - ix)**2 + (2.0*hy*Abs(hx*ix + hy*iy + hz*iz) - iy)**2 + (2.0*hz*Abs(hx*ix + hy*iy + hz*iz) - iz)**2)**(3/2) + 1/sqrt((2.0*hx*Abs(hx*ix + hy*iy + hz*iz) - ix)**2 + (2.0*hy*Abs(hx*ix + hy*iy + hz*iz) - iy)**2 + (2.0*hz*Abs(hx*ix + hy*iy + hz*iz) - iz)**2))*(2.0*hx*ix*sign(hx*ix + hy*iy + hz*iz) + 2.0*Abs(hx*ix + hy*iy + hz*iz)),  2.0*hx*iy*(-(2.0*hx*Abs(hx*ix + hy*iy + hz*iz) - ix)**2/((2.0*hx*Abs(hx*ix + hy*iy + hz*iz) - ix)**2 + (2.0*hy*Abs(hx*ix + hy*iy + hz*iz) - iy)**2 + (2.0*hz*Abs(hx*ix + hy*iy + hz*iz) - iz)**2)**(3/2) + 1/sqrt((2.0*hx*Abs(hx*ix + hy*iy + hz*iz) - ix)**2 + (2.0*hy*Abs(hx*ix + hy*iy + hz*iz) - iy)**2 + (2.0*hz*Abs(hx*ix + hy*iy + hz*iz) - iz)**2))*sign(hx*ix + hy*iy + hz*iz) - 2.0*hz*iy*(2.0*hx*Abs(hx*ix + hy*iy + hz*iz) - ix)*(2.0*hz*Abs(hx*ix + hy*iy + hz*iz) - iz)*sign(hx*ix + hy*iy + hz*iz)/((2.0*hx*Abs(hx*ix + hy*iy + hz*iz) - ix)**2 + (2.0*hy*Abs(hx*ix + hy*iy + hz*iz) - iy)**2 + (2.0*hz*Abs(hx*ix + hy*iy + hz*iz) - iz)**2)**(3/2) - (2.0*hx*Abs(hx*ix + hy*iy + hz*iz) - ix)*(2.0*hy*Abs(hx*ix + hy*iy + hz*iz) - iy)*(2.0*hy*iy*sign(hx*ix + hy*iy + hz*iz) + 2.0*Abs(hx*ix + hy*iy + hz*iz))/((2.0*hx*Abs(hx*ix + hy*iy + hz*iz) - ix)**2 + (2.0*hy*Abs(hx*ix + hy*iy + hz*iz) - iy)**2 + (2.0*hz*Abs(hx*ix + hy*iy + hz*iz) - iz)**2)**(3/2),  2.0*hx*iz*(-(2.0*hx*Abs(hx*ix + hy*iy + hz*iz) - ix)**2/((2.0*hx*Abs(hx*ix + hy*iy + hz*iz) - ix)**2 + (2.0*hy*Abs(hx*ix + hy*iy + hz*iz) - iy)**2 + (2.0*hz*Abs(hx*ix + hy*iy + hz*iz) - iz)**2)**(3/2) + 1/sqrt((2.0*hx*Abs(hx*ix + hy*iy + hz*iz) - ix)**2 + (2.0*hy*Abs(hx*ix + hy*iy + hz*iz) - iy)**2 + (2.0*hz*Abs(hx*ix + hy*iy + hz*iz) - iz)**2))*sign(hx*ix + hy*iy + hz*iz) - 2.0*hy*iz*(2.0*hx*Abs(hx*ix + hy*iy + hz*iz) - ix)*(2.0*hy*Abs(hx*ix + hy*iy + hz*iz) - iy)*sign(hx*ix + hy*iy + hz*iz)/((2.0*hx*Abs(hx*ix + hy*iy + hz*iz) - ix)**2 + (2.0*hy*Abs(hx*ix + hy*iy + hz*iz) - iy)**2 + (2.0*hz*Abs(hx*ix + hy*iy + hz*iz) - iz)**2)**(3/2) - (2.0*hx*Abs(hx*ix + hy*iy + hz*iz) - ix)*(2.0*hz*Abs(hx*ix + hy*iy + hz*iz) - iz)*(2.0*hz*iz*sign(hx*ix + hy*iy + hz*iz) + 2.0*Abs(hx*ix + hy*iy + hz*iz))/((2.0*hx*Abs(hx*ix + hy*iy + hz*iz) - ix)**2 + (2.0*hy*Abs(hx*ix + hy*iy + hz*iz) - iy)**2 + (2.0*hz*Abs(hx*ix + hy*iy + hz*iz) - iz)**2)**(3/2)],\n",
        "[ 2.0*hy*ix*(-(2.0*hy*Abs(hx*ix + hy*iy + hz*iz) - iy)**2/((2.0*hx*Abs(hx*ix + hy*iy + hz*iz) - ix)**2 + (2.0*hy*Abs(hx*ix + hy*iy + hz*iz) - iy)**2 + (2.0*hz*Abs(hx*ix + hy*iy + hz*iz) - iz)**2)**(3/2) + 1/sqrt((2.0*hx*Abs(hx*ix + hy*iy + hz*iz) - ix)**2 + (2.0*hy*Abs(hx*ix + hy*iy + hz*iz) - iy)**2 + (2.0*hz*Abs(hx*ix + hy*iy + hz*iz) - iz)**2))*sign(hx*ix + hy*iy + hz*iz) - 2.0*hz*ix*(2.0*hy*Abs(hx*ix + hy*iy + hz*iz) - iy)*(2.0*hz*Abs(hx*ix + hy*iy + hz*iz) - iz)*sign(hx*ix + hy*iy + hz*iz)/((2.0*hx*Abs(hx*ix + hy*iy + hz*iz) - ix)**2 + (2.0*hy*Abs(hx*ix + hy*iy + hz*iz) - iy)**2 + (2.0*hz*Abs(hx*ix + hy*iy + hz*iz) - iz)**2)**(3/2) - (2.0*hx*Abs(hx*ix + hy*iy + hz*iz) - ix)*(2.0*hy*Abs(hx*ix + hy*iy + hz*iz) - iy)*(2.0*hx*ix*sign(hx*ix + hy*iy + hz*iz) + 2.0*Abs(hx*ix + hy*iy + hz*iz))/((2.0*hx*Abs(hx*ix + hy*iy + hz*iz) - ix)**2 + (2.0*hy*Abs(hx*ix + hy*iy + hz*iz) - iy)**2 + (2.0*hz*Abs(hx*ix + hy*iy + hz*iz) - iz)**2)**(3/2), -2.0*hx*iy*(2.0*hx*Abs(hx*ix + hy*iy + hz*iz) - ix)*(2.0*hy*Abs(hx*ix + hy*iy + hz*iz) - iy)*sign(hx*ix + hy*iy + hz*iz)/((2.0*hx*Abs(hx*ix + hy*iy + hz*iz) - ix)**2 + (2.0*hy*Abs(hx*ix + hy*iy + hz*iz) - iy)**2 + (2.0*hz*Abs(hx*ix + hy*iy + hz*iz) - iz)**2)**(3/2) - 2.0*hz*iy*(2.0*hy*Abs(hx*ix + hy*iy + hz*iz) - iy)*(2.0*hz*Abs(hx*ix + hy*iy + hz*iz) - iz)*sign(hx*ix + hy*iy + hz*iz)/((2.0*hx*Abs(hx*ix + hy*iy + hz*iz) - ix)**2 + (2.0*hy*Abs(hx*ix + hy*iy + hz*iz) - iy)**2 + (2.0*hz*Abs(hx*ix + hy*iy + hz*iz) - iz)**2)**(3/2) + (-(2.0*hy*Abs(hx*ix + hy*iy + hz*iz) - iy)**2/((2.0*hx*Abs(hx*ix + hy*iy + hz*iz) - ix)**2 + (2.0*hy*Abs(hx*ix + hy*iy + hz*iz) - iy)**2 + (2.0*hz*Abs(hx*ix + hy*iy + hz*iz) - iz)**2)**(3/2) + 1/sqrt((2.0*hx*Abs(hx*ix + hy*iy + hz*iz) - ix)**2 + (2.0*hy*Abs(hx*ix + hy*iy + hz*iz) - iy)**2 + (2.0*hz*Abs(hx*ix + hy*iy + hz*iz) - iz)**2))*(2.0*hy*iy*sign(hx*ix + hy*iy + hz*iz) + 2.0*Abs(hx*ix + hy*iy + hz*iz)), -2.0*hx*iz*(2.0*hx*Abs(hx*ix + hy*iy + hz*iz) - ix)*(2.0*hy*Abs(hx*ix + hy*iy + hz*iz) - iy)*sign(hx*ix + hy*iy + hz*iz)/((2.0*hx*Abs(hx*ix + hy*iy + hz*iz) - ix)**2 + (2.0*hy*Abs(hx*ix + hy*iy + hz*iz) - iy)**2 + (2.0*hz*Abs(hx*ix + hy*iy + hz*iz) - iz)**2)**(3/2) + 2.0*hy*iz*(-(2.0*hy*Abs(hx*ix + hy*iy + hz*iz) - iy)**2/((2.0*hx*Abs(hx*ix + hy*iy + hz*iz) - ix)**2 + (2.0*hy*Abs(hx*ix + hy*iy + hz*iz) - iy)**2 + (2.0*hz*Abs(hx*ix + hy*iy + hz*iz) - iz)**2)**(3/2) + 1/sqrt((2.0*hx*Abs(hx*ix + hy*iy + hz*iz) - ix)**2 + (2.0*hy*Abs(hx*ix + hy*iy + hz*iz) - iy)**2 + (2.0*hz*Abs(hx*ix + hy*iy + hz*iz) - iz)**2))*sign(hx*ix + hy*iy + hz*iz) - (2.0*hy*Abs(hx*ix + hy*iy + hz*iz) - iy)*(2.0*hz*Abs(hx*ix + hy*iy + hz*iz) - iz)*(2.0*hz*iz*sign(hx*ix + hy*iy + hz*iz) + 2.0*Abs(hx*ix + hy*iy + hz*iz))/((2.0*hx*Abs(hx*ix + hy*iy + hz*iz) - ix)**2 + (2.0*hy*Abs(hx*ix + hy*iy + hz*iz) - iy)**2 + (2.0*hz*Abs(hx*ix + hy*iy + hz*iz) - iz)**2)**(3/2)],\n",
        "[-2.0*hy*ix*(2.0*hy*Abs(hx*ix + hy*iy + hz*iz) - iy)*(2.0*hz*Abs(hx*ix + hy*iy + hz*iz) - iz)*sign(hx*ix + hy*iy + hz*iz)/((2.0*hx*Abs(hx*ix + hy*iy + hz*iz) - ix)**2 + (2.0*hy*Abs(hx*ix + hy*iy + hz*iz) - iy)**2 + (2.0*hz*Abs(hx*ix + hy*iy + hz*iz) - iz)**2)**(3/2) + 2.0*hz*ix*(-(2.0*hz*Abs(hx*ix + hy*iy + hz*iz) - iz)**2/((2.0*hx*Abs(hx*ix + hy*iy + hz*iz) - ix)**2 + (2.0*hy*Abs(hx*ix + hy*iy + hz*iz) - iy)**2 + (2.0*hz*Abs(hx*ix + hy*iy + hz*iz) - iz)**2)**(3/2) + 1/sqrt((2.0*hx*Abs(hx*ix + hy*iy + hz*iz) - ix)**2 + (2.0*hy*Abs(hx*ix + hy*iy + hz*iz) - iy)**2 + (2.0*hz*Abs(hx*ix + hy*iy + hz*iz) - iz)**2))*sign(hx*ix + hy*iy + hz*iz) - (2.0*hx*Abs(hx*ix + hy*iy + hz*iz) - ix)*(2.0*hz*Abs(hx*ix + hy*iy + hz*iz) - iz)*(2.0*hx*ix*sign(hx*ix + hy*iy + hz*iz) + 2.0*Abs(hx*ix + hy*iy + hz*iz))/((2.0*hx*Abs(hx*ix + hy*iy + hz*iz) - ix)**2 + (2.0*hy*Abs(hx*ix + hy*iy + hz*iz) - iy)**2 + (2.0*hz*Abs(hx*ix + hy*iy + hz*iz) - iz)**2)**(3/2), -2.0*hx*iy*(2.0*hx*Abs(hx*ix + hy*iy + hz*iz) - ix)*(2.0*hz*Abs(hx*ix + hy*iy + hz*iz) - iz)*sign(hx*ix + hy*iy + hz*iz)/((2.0*hx*Abs(hx*ix + hy*iy + hz*iz) - ix)**2 + (2.0*hy*Abs(hx*ix + hy*iy + hz*iz) - iy)**2 + (2.0*hz*Abs(hx*ix + hy*iy + hz*iz) - iz)**2)**(3/2) + 2.0*hz*iy*(-(2.0*hz*Abs(hx*ix + hy*iy + hz*iz) - iz)**2/((2.0*hx*Abs(hx*ix + hy*iy + hz*iz) - ix)**2 + (2.0*hy*Abs(hx*ix + hy*iy + hz*iz) - iy)**2 + (2.0*hz*Abs(hx*ix + hy*iy + hz*iz) - iz)**2)**(3/2) + 1/sqrt((2.0*hx*Abs(hx*ix + hy*iy + hz*iz) - ix)**2 + (2.0*hy*Abs(hx*ix + hy*iy + hz*iz) - iy)**2 + (2.0*hz*Abs(hx*ix + hy*iy + hz*iz) - iz)**2))*sign(hx*ix + hy*iy + hz*iz) - (2.0*hy*Abs(hx*ix + hy*iy + hz*iz) - iy)*(2.0*hz*Abs(hx*ix + hy*iy + hz*iz) - iz)*(2.0*hy*iy*sign(hx*ix + hy*iy + hz*iz) + 2.0*Abs(hx*ix + hy*iy + hz*iz))/((2.0*hx*Abs(hx*ix + hy*iy + hz*iz) - ix)**2 + (2.0*hy*Abs(hx*ix + hy*iy + hz*iz) - iy)**2 + (2.0*hz*Abs(hx*ix + hy*iy + hz*iz) - iz)**2)**(3/2), -2.0*hx*iz*(2.0*hx*Abs(hx*ix + hy*iy + hz*iz) - ix)*(2.0*hz*Abs(hx*ix + hy*iy + hz*iz) - iz)*sign(hx*ix + hy*iy + hz*iz)/((2.0*hx*Abs(hx*ix + hy*iy + hz*iz) - ix)**2 + (2.0*hy*Abs(hx*ix + hy*iy + hz*iz) - iy)**2 + (2.0*hz*Abs(hx*ix + hy*iy + hz*iz) - iz)**2)**(3/2) - 2.0*hy*iz*(2.0*hy*Abs(hx*ix + hy*iy + hz*iz) - iy)*(2.0*hz*Abs(hx*ix + hy*iy + hz*iz) - iz)*sign(hx*ix + hy*iy + hz*iz)/((2.0*hx*Abs(hx*ix + hy*iy + hz*iz) - ix)**2 + (2.0*hy*Abs(hx*ix + hy*iy + hz*iz) - iy)**2 + (2.0*hz*Abs(hx*ix + hy*iy + hz*iz) - iz)**2)**(3/2) + (-(2.0*hz*Abs(hx*ix + hy*iy + hz*iz) - iz)**2/((2.0*hx*Abs(hx*ix + hy*iy + hz*iz) - ix)**2 + (2.0*hy*Abs(hx*ix + hy*iy + hz*iz) - iy)**2 + (2.0*hz*Abs(hx*ix + hy*iy + hz*iz) - iz)**2)**(3/2) + 1/sqrt((2.0*hx*Abs(hx*ix + hy*iy + hz*iz) - ix)**2 + (2.0*hy*Abs(hx*ix + hy*iy + hz*iz) - iy)**2 + (2.0*hz*Abs(hx*ix + hy*iy + hz*iz) - iz)**2))*(2.0*hz*iz*sign(hx*ix + hy*iy + hz*iz) + 2.0*Abs(hx*ix + hy*iy + hz*iz))]])"
       ]
      }
     ],
     "prompt_number": 45
    },
    {
     "cell_type": "code",
     "collapsed": false,
     "input": [],
     "language": "python",
     "metadata": {},
     "outputs": []
    }
   ],
   "metadata": {}
  }
 ]
}