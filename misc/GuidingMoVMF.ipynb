{
 "cells": [
  {
   "cell_type": "code",
   "execution_count": null,
   "metadata": {},
   "outputs": [],
   "source": [
    "import numpy as np\n",
    "from matplotlib import pyplot\n",
    "import matplotlib\n",
    "from mpl_toolkits.mplot3d import Axes3D"
   ]
  },
  {
   "cell_type": "code",
   "execution_count": null,
   "metadata": {},
   "outputs": [],
   "source": [
    "from path_guiding import VMFMixture, VMFFitIncremental"
   ]
  },
  {
   "cell_type": "code",
   "execution_count": null,
   "metadata": {},
   "outputs": [],
   "source": [
    "%matplotlib notebook"
   ]
  },
  {
   "cell_type": "code",
   "execution_count": null,
   "metadata": {},
   "outputs": [],
   "source": [
    "def plot_vmf_pdf(ax, vmfm):\n",
    "    # https://scipython.com/book/chapter-8-scipy/examples/visualizing-the-spherical-harmonics/\n",
    "    phi = np.linspace(0, np.pi, 100)\n",
    "    theta = np.linspace(0, 2*np.pi, 100)\n",
    "    phi, theta = np.meshgrid(phi, theta)\n",
    "\n",
    "    # The Cartesian coordinates of the unit sphere\n",
    "    x = np.sin(phi) * np.cos(theta)\n",
    "    y = np.sin(phi) * np.sin(theta)\n",
    "    z = np.cos(phi)\n",
    "\n",
    "    pts = np.vstack((x.ravel(),y.ravel(),z.ravel())).T\n",
    "    fcolors = vmfm.pdf(pts).reshape(x.shape)\n",
    "    fcolors /= fcolors.max()\n",
    "    \n",
    "    ax.plot_surface(x, y, z,  rstride=1, cstride=1, facecolors=matplotlib.cm.coolwarm(fcolors), shade=False)\n",
    "    return fcolors"
   ]
  },
  {
   "cell_type": "raw",
   "metadata": {},
   "source": [
    "fig = pyplot.figure()\n",
    "ax = fig.add_subplot(111, projection='3d')\n",
    "plot_vmf_pdf(ax, VMFMixture())\n",
    "pyplot.show()"
   ]
  },
  {
   "cell_type": "code",
   "execution_count": null,
   "metadata": {},
   "outputs": [],
   "source": [
    "def two_modes_vmfm():\n",
    "    vmfm = VMFMixture()\n",
    "    w = vmfm.weights \n",
    "    w[:] = 0\n",
    "    w[0] = 0.2\n",
    "    w[1] = 0.8\n",
    "    vmfm.weights = w\n",
    "    c = vmfm.concentrations\n",
    "    c[:] = 20\n",
    "    vmfm.concentrations = c\n",
    "    m = vmfm.means\n",
    "    m[:,:] = 0\n",
    "    m[0,:] = [1, 0, 0]\n",
    "    m[1,:] = [0, 1, 0]\n",
    "    vmfm.means = m\n",
    "    return vmfm\n",
    "\n",
    "def uniform_vmfm():\n",
    "    vmfm = VMFMixture()\n",
    "    w = vmfm.weights \n",
    "    w[:] = 0\n",
    "    w[0] = 1.\n",
    "    vmfm.weights = w\n",
    "    c = vmfm.concentrations\n",
    "    c[:] = 0.1\n",
    "    vmfm.concentrations = c\n",
    "    return vmfm\n",
    "\n",
    "def make_half_sphere_vmfm():\n",
    "    vmfm = VMFMixture()\n",
    "    means = vmfm.means\n",
    "    i = means[:,0] < 0.\n",
    "    w = vmfm.weights\n",
    "    w[i] = 0.\n",
    "    w[~i] *= 2.\n",
    "    vmfm.weights = w\n",
    "    return vmfm\n",
    "\n",
    "def _shuffle(xs, ws):\n",
    "    n = xs.shape[0]\n",
    "    idx = np.random.permutation(n)\n",
    "    return xs[idx,...], ws[idx]\n",
    "\n",
    "\n",
    "def make_uniform_samples(n):\n",
    "    vmfm = uniform_vmfm()\n",
    "    samples = vmfm.sample(n)\n",
    "    return _shuffle(samples, np.ones(n, np.float32))\n",
    "\n",
    "\n",
    "def make_two_modes_samples(n):\n",
    "    vmfm = two_modes_vmfm()\n",
    "    samples = vmfm.sample(n)\n",
    "    return _shuffle(samples, np.ones(n, np.float32))\n",
    "\n",
    "\n",
    "def make_half_sphere_samples(n):\n",
    "    vmfm = make_half_sphere_vmfm()\n",
    "    samples = vmfm.sample(n)\n",
    "    return _shuffle(samples, np.ones(n, np.float32))\n",
    "\n",
    "\n",
    "def make_two_modes_weighted(n):\n",
    "    vmfm = two_modes_vmfm()\n",
    "    samples = uniform_vmfm().sample(n)\n",
    "    weights = vmfm.pdf(samples)\n",
    "    return _shuffle(samples, weights)"
   ]
  },
  {
   "cell_type": "raw",
   "metadata": {},
   "source": [
    "fig = pyplot.figure()\n",
    "ax = fig.add_subplot(111, projection='3d')\n",
    "\n",
    "samples, weights = make_two_modes_samples(1000)\n",
    "\n",
    "ax.scatter(*samples.T, c=weights)"
   ]
  },
  {
   "cell_type": "raw",
   "metadata": {},
   "source": [
    "fig = pyplot.figure()\n",
    "ax = fig.add_subplot(111, projection='3d')\n",
    "\n",
    "samples, weights = make_two_modes_weighted(1000)\n",
    "\n",
    "ax.scatter(*samples.T, c = weights)"
   ]
  },
  {
   "cell_type": "raw",
   "metadata": {},
   "source": [
    "fig = pyplot.figure()\n",
    "ax = fig.add_subplot(111, projection='3d')\n",
    "\n",
    "samples, weights = make_uniform_samples(1000)\n",
    "\n",
    "ax.scatter(*samples.T, c = weights)"
   ]
  },
  {
   "cell_type": "code",
   "execution_count": null,
   "metadata": {},
   "outputs": [],
   "source": [
    "prior_nu = 10.\n",
    "prior_alpha = 10.\n",
    "prior_tau = 10.\n",
    "maximization_step_every = 100;\n",
    "prior_mode = VMFMixture()\n",
    "incremental = VMFFitIncremental(\n",
    "    prior_nu = prior_nu, \n",
    "    prior_alpha = prior_alpha, \n",
    "    prior_tau = prior_tau,\n",
    "    prior_mode = prior_mode,\n",
    "    maximization_step_every = maximization_step_every)\n",
    "\n",
    "xs, ws = make_uniform_samples(1000)\n",
    "vmfm = VMFMixture()\n",
    "incremental.fit(vmfm, xs, ws)\n",
    "\n",
    "fig = pyplot.figure()\n",
    "ax = fig.add_subplot(111, projection='3d')\n",
    "v = plot_vmf_pdf(ax, vmfm)\n",
    "\n",
    "print (vmfm.concentrations)\n",
    "\n",
    "m = matplotlib.cm.ScalarMappable(cmap=matplotlib.cm.coolwarm)\n",
    "m.set_array(v)\n",
    "pyplot.colorbar(m)\n",
    "\n",
    "pyplot.show()"
   ]
  },
  {
   "cell_type": "code",
   "execution_count": null,
   "metadata": {},
   "outputs": [],
   "source": [
    "prior_nu = 10.\n",
    "prior_alpha = 10.\n",
    "prior_tau = 10.\n",
    "maximization_step_every = 100;\n",
    "prior_mode = VMFMixture()\n",
    "incremental = VMFFitIncremental(\n",
    "    prior_nu = prior_nu, \n",
    "    prior_alpha = prior_alpha, \n",
    "    prior_tau = prior_tau,\n",
    "    prior_mode = prior_mode,\n",
    "    maximization_step_every = maximization_step_every)\n",
    "\n",
    "xs, ws = make_half_sphere_samples(1000)\n",
    "vmfm = VMFMixture()\n",
    "incremental.fit(vmfm, xs, ws)\n",
    "\n",
    "fig = pyplot.figure()\n",
    "ax = fig.add_subplot(111, projection='3d')\n",
    "v = plot_vmf_pdf(ax, vmfm)\n",
    "\n",
    "print (vmfm.concentrations)\n",
    "\n",
    "m = matplotlib.cm.ScalarMappable(cmap=matplotlib.cm.coolwarm)\n",
    "m.set_array(v)\n",
    "pyplot.colorbar(m)\n",
    "\n",
    "pyplot.show()"
   ]
  },
  {
   "cell_type": "code",
   "execution_count": null,
   "metadata": {},
   "outputs": [],
   "source": [
    "prior_nu = 10.\n",
    "prior_alpha = 10.\n",
    "prior_tau = 1.\n",
    "maximization_step_every = 100;\n",
    "prior_mode = VMFMixture()\n",
    "incremental = VMFFitIncremental(\n",
    "    prior_nu = prior_nu, \n",
    "    prior_alpha = prior_alpha, \n",
    "    prior_tau = prior_tau,\n",
    "    prior_mode = prior_mode,\n",
    "    maximization_step_every = maximization_step_every)\n",
    "\n",
    "xs, ws = make_two_modes_samples(1000)\n",
    "vmfm = VMFMixture()\n",
    "incremental.fit(vmfm, xs, ws)\n",
    "\n",
    "fig = pyplot.figure()\n",
    "ax = fig.add_subplot(111, projection='3d')\n",
    "plot_vmf_pdf(ax, vmfm)\n",
    "pyplot.show()"
   ]
  },
  {
   "cell_type": "code",
   "execution_count": null,
   "metadata": {
    "scrolled": false
   },
   "outputs": [],
   "source": [
    "prior_nu = 10.\n",
    "prior_alpha = 10.\n",
    "prior_tau = 1.\n",
    "maximization_step_every = 100;\n",
    "prior_mode = VMFMixture()\n",
    "incremental = VMFFitIncremental(\n",
    "    prior_nu = prior_nu, \n",
    "    prior_alpha = prior_alpha, \n",
    "    prior_tau = prior_tau,\n",
    "    prior_mode = prior_mode,\n",
    "    maximization_step_every = maximization_step_every)\n",
    "\n",
    "xs, ws = make_two_modes_weighted(1000)\n",
    "vmfm = VMFMixture()\n",
    "incremental.fit(vmfm, xs, ws)\n",
    "\n",
    "fig = pyplot.figure()\n",
    "ax = fig.add_subplot(111, projection='3d')\n",
    "plot_vmf_pdf(ax, vmfm)\n",
    "ax.scatter(*(vmfm.means*1.1).T, marker='x', c='r', s = 30.)\n",
    "pyplot.show()"
   ]
  },
  {
   "cell_type": "code",
   "execution_count": null,
   "metadata": {},
   "outputs": [],
   "source": []
  }
 ],
 "metadata": {
  "kernelspec": {
   "display_name": "Python 3",
   "language": "python",
   "name": "python3"
  },
  "language_info": {
   "codemirror_mode": {
    "name": "ipython",
    "version": 3
   },
   "file_extension": ".py",
   "mimetype": "text/x-python",
   "name": "python",
   "nbconvert_exporter": "python",
   "pygments_lexer": "ipython3",
   "version": "3.7.3"
  }
 },
 "nbformat": 4,
 "nbformat_minor": 2
}
