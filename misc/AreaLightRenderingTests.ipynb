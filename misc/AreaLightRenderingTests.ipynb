{
 "metadata": {
  "name": "",
  "signature": "sha256:0a3b765e91d87f087272201cdfb69c57cbc5db8a716c5a17c0254be0c81567cf"
 },
 "nbformat": 3,
 "nbformat_minor": 0,
 "worksheets": [
  {
   "cells": [
    {
     "cell_type": "code",
     "collapsed": false,
     "input": [
      "import os, sys\n",
      "import subprocess\n",
      "from math import pi\n",
      "import numpy as np\n",
      "from collections import OrderedDict"
     ],
     "language": "python",
     "metadata": {},
     "outputs": [],
     "prompt_number": 105
    },
    {
     "cell_type": "code",
     "collapsed": false,
     "input": [
      "os.chdir('../scenes')"
     ],
     "language": "python",
     "metadata": {},
     "outputs": [],
     "prompt_number": 22
    },
    {
     "cell_type": "code",
     "collapsed": false,
     "input": [
      "import datetime"
     ],
     "language": "python",
     "metadata": {},
     "outputs": [],
     "prompt_number": 24
    },
    {
     "cell_type": "code",
     "collapsed": false,
     "input": [
      "destination_dir = \\\n",
      "    os.path.join('..', 'misc', 'renders-'+datetime.datetime.now().strftime('%d-%m-%Y-%H-%M'))\n",
      "os.mkdir(destination_dir)"
     ],
     "language": "python",
     "metadata": {},
     "outputs": [],
     "prompt_number": 30
    },
    {
     "cell_type": "code",
     "collapsed": false,
     "input": [
      "from PIL import Image, ImageDraw, ImageFont"
     ],
     "language": "python",
     "metadata": {},
     "outputs": [],
     "prompt_number": 78
    },
    {
     "cell_type": "code",
     "collapsed": false,
     "input": [
      "import tempfile"
     ],
     "language": "python",
     "metadata": {},
     "outputs": [],
     "prompt_number": 79
    },
    {
     "cell_type": "code",
     "collapsed": false,
     "input": [
      "def toytrace(scene, output_file, opts):\n",
      "    use_tmpfile = not output_file\n",
      "    if use_tmpfile:\n",
      "        output_file = tempfile.mktemp(suffix='.png', prefix='/tmp/')\n",
      "    else:\n",
      "        output_file = os.path.join(destination_dir, output_file)\n",
      "    opts = sum([[k, str(v)] for k,v in opts.items()], [])\n",
      "    if os.path.isfile(scene):\n",
      "        input_file = scene\n",
      "    else:\n",
      "        input_file = '-'\n",
      "    cmd = ['../buildopt/toytrace', '--input-file', input_file, '--output-file', output_file]\n",
      "    cmd += opts\n",
      "    #print cmd\n",
      "    if os.path.isfile(scene):\n",
      "        p = subprocess.Popen(cmd)\n",
      "        p.communicate()\n",
      "    else:\n",
      "        p = subprocess.Popen(cmd, stdin = subprocess.PIPE)\n",
      "        stdout, stderr = p.communicate(input = scene)        \n",
      "    if p.wait() != 0:\n",
      "        raise RuntimeError(\"Toytrace failed!\")\n",
      "    if use_tmpfile:\n",
      "        return Image.open(output_file)"
     ],
     "language": "python",
     "metadata": {},
     "outputs": [],
     "prompt_number": 100
    },
    {
     "cell_type": "code",
     "collapsed": false,
     "input": [
      "img = toytrace('cornelbox4.nff', '', {'--max-spp' : 4})"
     ],
     "language": "python",
     "metadata": {},
     "outputs": [
      {
       "output_type": "stream",
       "stream": "stdout",
       "text": [
        "True\n",
        "/tmp/i9vsf3.png\n"
       ]
      }
     ],
     "prompt_number": 89
    },
    {
     "cell_type": "code",
     "collapsed": false,
     "input": [
      "del img"
     ],
     "language": "python",
     "metadata": {},
     "outputs": [],
     "prompt_number": 91
    },
    {
     "cell_type": "code",
     "collapsed": false,
     "input": [
      "light_specs = OrderedDict()\n",
      "area_light_test_template = \"\"\"\n",
      "v\n",
      "from 0 0.5 1.4\n",
      "at 0 0.5 0\n",
      "up 0 1 0\n",
      "resolution 640 480\n",
      "angle 40\n",
      "\n",
      "{light_spec}\n",
      "\n",
      "diffuse white  1 1 1 0.8\n",
      "diffuse red    1 0 0 0.8\n",
      "diffuse green  0 1 0 0.8\n",
      "diffuse blue   1 1 1 0.8\n",
      "\n",
      "# reset transform\n",
      "transform\n",
      "\n",
      "m cornelbox.dae\n",
      "\n",
      "glossy spheremat 1 1 1 0.8 0.1\n",
      "s 0.3 0.2 -0.5 0.2\n",
      "\n",
      "diffuse boxmat 1 1 1 0.4\n",
      "m box_in_cornelbox.dae\n",
      "\"\"\"\n",
      "\n",
      "# Reference for radiometric quantities: https://en.wikipedia.org/wiki/Radiometry\n",
      "radiant_flux = 4.  # In Watt. \n",
      "light_specs['point_light'] = \"\"\"\n",
      "l 0 0.8 -0.5  1. 1. 1. %f\n",
      "\"\"\" % radiant_flux\n",
      "print \"Point light flux =\", radiant_flux\n",
      "\n",
      "# Uniform area lights are specified in terms of Irradiance, i.e. (Spectral) power per area.\n",
      "radius = 0.001\n",
      "area = (4.*pi*radius**2)\n",
      "irradiance = radiant_flux / area\n",
      "light_specs['small_sphere_light'] = \"\"\"\n",
      "larea arealight1 uniform 1. 1. 1. %f\n",
      "diffuse black  1 1 1 0.\n",
      "s 0 0.8 -0.5 %f\n",
      "larea none\n",
      "\"\"\" % (irradiance, radius)\n",
      "print \"Small sphere irradiance\", irradiance\n",
      "\n",
      "radius = 0.1\n",
      "area = (4.*pi*radius**2)\n",
      "irradiance = radiant_flux / area\n",
      "light_specs['big_sphere_light'] = \"\"\"\n",
      "larea arealight1 uniform 1. 1. 1. %f\n",
      "diffuse black  1 1 1 0.\n",
      "s 0 0.8 -0.5 %f\n",
      "larea none\n",
      "\"\"\" % (irradiance, radius)\n",
      "print \"Big sphere irradiance\", irradiance\n",
      "\n",
      "size = 0.05\n",
      "area = (6.*size*size)\n",
      "irradiance = radiant_flux / area\n",
      "light_specs['small_cube_light'] = \"\"\"\n",
      "larea arealight1 uniform 1. 1. 1. %f\n",
      "diffuse black  1 1 1 0.\n",
      "transform 0 0.8 -0.5 0 0 0 %f %f %f\n",
      "m unitcube.dae\n",
      "larea none\n",
      "\"\"\" % (irradiance, size, size, size)\n",
      "print \"Small cube irradiance\", irradiance\n",
      "\n",
      "size = 0.25\n",
      "area = (6.*size*size)\n",
      "irradiance = radiant_flux / area\n",
      "light_specs['big_cube_light'] = \"\"\"\n",
      "larea arealight1 uniform 1. 1. 1. %f\n",
      "diffuse black  1 1 1 0.\n",
      "transform 0 0.8 -0.5 0 0 0 %f %f %f\n",
      "m unitcube.dae\n",
      "larea none\n",
      "\"\"\" % (irradiance, size, size, size)\n",
      "print \"Big cube irradiance\", irradiance"
     ],
     "language": "python",
     "metadata": {},
     "outputs": [
      {
       "output_type": "stream",
       "stream": "stdout",
       "text": [
        "Point light flux = 4.0\n",
        "Small sphere irradiance 318309.886184\n",
        "Big sphere irradiance 31.8309886184\n",
        "Small cube irradiance 266.666666667\n",
        "Big cube irradiance 10.6666666667\n"
       ]
      }
     ],
     "prompt_number": 126
    },
    {
     "cell_type": "code",
     "collapsed": false,
     "input": [
      "W = 320\n",
      "H = 320\n",
      "imagegrid = []\n",
      "for name, light_spec in light_specs.items():\n",
      "    scene = area_light_test_template.format(**{'light_spec' : light_spec})\n",
      "    image_row = []\n",
      "    for mode in 'both bsdf lights'.split():\n",
      "        img = toytrace(scene, '', {'--max-spp' : 16, '--w' : W, '--h' : H, '--pt-sample-mode' : mode})\n",
      "        image_row.append((name, mode, img))\n",
      "        #print name, mode,'->', img\n",
      "    imagegrid.append(image_row)"
     ],
     "language": "python",
     "metadata": {},
     "outputs": [],
     "prompt_number": 127
    },
    {
     "cell_type": "code",
     "collapsed": false,
     "input": [
      "# References for PIL:\n",
      "# http://pillow.readthedocs.io/en/5.0.0/reference/ImageDraw.html\n",
      "# https://stackoverflow.com/questions/30227466/combine-several-images-horizontally-with-python"
     ],
     "language": "python",
     "metadata": {},
     "outputs": [],
     "prompt_number": 122
    },
    {
     "cell_type": "code",
     "collapsed": false,
     "input": [
      "new_im = Image.new('RGB', (W*3, 10+H*len(imagegrid)))"
     ],
     "language": "python",
     "metadata": {},
     "outputs": [],
     "prompt_number": 128
    },
    {
     "cell_type": "code",
     "collapsed": false,
     "input": [
      "d = ImageDraw.Draw(new_im)\n",
      "for i, row in enumerate(imagegrid):\n",
      "    for j, (name, mode, img) in enumerate(row):\n",
      "        new_im.paste(img, (j*W, 10+i*H))\n",
      "        if i == 0:\n",
      "            d.text((1 + j*W, 1), mode)\n",
      "        if j == 0:\n",
      "            d.text((1, 11+i*H), name)\n",
      "new_im.save(os.path.join(destination_dir, 'arealights.png'))"
     ],
     "language": "python",
     "metadata": {},
     "outputs": [],
     "prompt_number": 129
    },
    {
     "cell_type": "code",
     "collapsed": false,
     "input": [],
     "language": "python",
     "metadata": {},
     "outputs": []
    }
   ],
   "metadata": {}
  }
 ]
}