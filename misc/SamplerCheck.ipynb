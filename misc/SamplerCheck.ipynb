{
 "cells": [
  {
   "cell_type": "code",
   "execution_count": null,
   "metadata": {},
   "outputs": [],
   "source": [
    "import numpy as np"
   ]
  },
  {
   "cell_type": "code",
   "execution_count": null,
   "metadata": {},
   "outputs": [],
   "source": [
    "from path_guiding import Sampler"
   ]
  },
  {
   "cell_type": "code",
   "execution_count": null,
   "metadata": {},
   "outputs": [],
   "source": [
    "from matplotlib import pyplot"
   ]
  },
  {
   "cell_type": "code",
   "execution_count": null,
   "metadata": {},
   "outputs": [],
   "source": [
    "import random\n",
    "Rnd = lambda: random.getrandbits(32)"
   ]
  },
  {
   "cell_type": "code",
   "execution_count": null,
   "metadata": {},
   "outputs": [],
   "source": [
    "sampler = Sampler(True)"
   ]
  },
  {
   "cell_type": "code",
   "execution_count": null,
   "metadata": {},
   "outputs": [],
   "source": [
    "def Samples(sampler, N):    \n",
    "    def X(i):\n",
    "        sampler.SetPointNum(i)\n",
    "        return sampler.UniformUnitSquare()\n",
    "    return np.asarray([X(i) for i in range(N)])"
   ]
  },
  {
   "cell_type": "code",
   "execution_count": null,
   "metadata": {},
   "outputs": [],
   "source": [
    "sampler.SetSubsequenceId(5)\n",
    "sampler.SetPixelIndex((0,0))\n",
    "pts = Samples(sampler, 1024)\n",
    "pyplot.scatter(*pts.T, c = np.arange(len(pts)))\n",
    "pyplot.gca().add_artist(pyplot.Rectangle((0,0),1,1,fill=False))"
   ]
  },
  {
   "cell_type": "code",
   "execution_count": null,
   "metadata": {},
   "outputs": [],
   "source": [
    "r1 = 1*2 #Rnd()\n",
    "r2 = 2*2 #Rnd()\n",
    "print(f\"{hex(r1)}, {hex(r2)}\")\n",
    "sampler.SetSubsequenceId(r1) # (3<<8) | 1)\n",
    "sampler.SetPixelIndex((0,0))\n",
    "pts = Samples(sampler, 128)\n",
    "#sampler.SetPixelIndex((5,2))\n",
    "sampler.SetSubsequenceId(r2) #(3<<8) | 2)\n",
    "pts2 = Samples(sampler, 128)\n",
    "pyplot.scatter(*pts.T, c = np.arange(len(pts)), marker='+')\n",
    "pyplot.scatter(*pts2.T, c = np.arange(len(pts)), marker='x')\n",
    "pyplot.gca().add_artist(pyplot.Rectangle((0,0),1,1,fill=False))"
   ]
  },
  {
   "cell_type": "code",
   "execution_count": null,
   "metadata": {},
   "outputs": [],
   "source": []
  }
 ],
 "metadata": {
  "kernelspec": {
   "display_name": "Python 3.7.3 64-bit ('base': conda)",
   "language": "python",
   "name": "python37364bitbaseconda9e3abde003724f85a3814823454b693e"
  },
  "language_info": {
   "codemirror_mode": {
    "name": "ipython",
    "version": 3
   },
   "file_extension": ".py",
   "mimetype": "text/x-python",
   "name": "python",
   "nbconvert_exporter": "python",
   "pygments_lexer": "ipython3",
   "version": "3.7.3"
  }
 },
 "nbformat": 4,
 "nbformat_minor": 4
}
