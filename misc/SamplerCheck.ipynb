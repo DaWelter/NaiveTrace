{
 "cells": [
  {
   "cell_type": "code",
   "execution_count": null,
   "metadata": {},
   "outputs": [],
   "source": [
    "import numpy as np"
   ]
  },
  {
   "cell_type": "code",
   "execution_count": null,
   "metadata": {},
   "outputs": [],
   "source": [
    "from path_guiding import Sampler, SobolSequence"
   ]
  },
  {
   "cell_type": "code",
   "execution_count": null,
   "metadata": {},
   "outputs": [],
   "source": [
    "from matplotlib import pyplot"
   ]
  },
  {
   "cell_type": "code",
   "execution_count": null,
   "metadata": {},
   "outputs": [],
   "source": [
    "import random\n",
    "Rnd = lambda: random.getrandbits(32)"
   ]
  },
  {
   "cell_type": "code",
   "execution_count": null,
   "metadata": {},
   "outputs": [],
   "source": [
    "sampler = Sampler(True)"
   ]
  },
  {
   "cell_type": "code",
   "execution_count": null,
   "metadata": {},
   "outputs": [],
   "source": [
    "def Samples(sampler, N):    \n",
    "    def X(i):\n",
    "        sampler.SetPointNum(i)\n",
    "        return sampler.UniformUnitSquare()\n",
    "    return np.asarray([X(i) for i in range(N)])\n",
    "\n",
    "def Samples1D(sampler, N, sequenceid):\n",
    "    def X(i):\n",
    "        sampler.SetPointNum(i)\n",
    "        return sampler.Uniform01()\n",
    "    return np.asarray([X(i) for i in range(N)])"
   ]
  },
  {
   "cell_type": "code",
   "execution_count": null,
   "metadata": {},
   "outputs": [],
   "source": [
    "sampler.SetSubsequenceId(1)\n",
    "sampler.SetPixelIndex((0,0))\n",
    "pts = Samples(sampler, 1024)\n",
    "pyplot.scatter(*pts.T, c = np.arange(len(pts)))\n",
    "pyplot.gca().add_artist(pyplot.Rectangle((0,0),1,1,fill=False))"
   ]
  },
  {
   "cell_type": "code",
   "execution_count": null,
   "metadata": {},
   "outputs": [],
   "source": [
    "N = 1024\n",
    "xs = [ SobolSequence(i,63) for i in range(N)]\n",
    "ys = [ SobolSequence(i,64) for i in range(N)]\n",
    "pyplot.scatter(xs, ys, c = np.arange(N))"
   ]
  },
  {
   "cell_type": "code",
   "execution_count": null,
   "metadata": {},
   "outputs": [],
   "source": [
    "fig, ax = pyplot.subplots(1, 1, figsize=(5,5))\n",
    "Npts = 4\n",
    "seq_id = 1\n",
    "dims = 64\n",
    "def X(i):\n",
    "    sampler.SetPointNum(i)\n",
    "    sampler.SetSubsequenceId(seq_id)\n",
    "    return [ sampler.Uniform01() for _ in range(dims) ]\n",
    "xs1 = np.asarray([X(i) for i in range(Npts)])\n",
    "ax.scatter(xs1[:,32], xs1[:,31], marker='x')\n",
    "pyplot.show()"
   ]
  },
  {
   "cell_type": "code",
   "execution_count": null,
   "metadata": {},
   "outputs": [],
   "source": [
    "fig, ax = pyplot.subplots(1, 1, figsize=(20,3))\n",
    "fig.suptitle(\"element value vs dimension\")\n",
    "Npts = 8\n",
    "pt_start = 0\n",
    "seq_id = 1\n",
    "start = 0\n",
    "dims = 16\n",
    "def X(i):\n",
    "    return [ SobolSequence(i+pt_start,d) for d in range(start,start+dims) ]\n",
    "xs = np.asarray([X(i) for i in range(Npts)])\n",
    "dim_nums = np.arange(start,start+dims)\n",
    "for pt in range(Npts):\n",
    "    ax.plot(dim_nums, xs[pt,:], label=f\"point {pt+pt_start}\")\n",
    "ax.legend()\n",
    "ax.set(xlabel=\"dim\", ylabel=\"value\", ylim=(0.,1.))"
   ]
  },
  {
   "cell_type": "raw",
   "metadata": {},
   "source": [
    "fig, ax = pyplot.subplots(1, 1, figsize=(20,5))\n",
    "verticals = []\n",
    "Npts = 1000\n",
    "for i in range(5):\n",
    "    #sampler.SetSubsequenceId(i)\n",
    "    ys = Samples1D(sampler, Npts)\n",
    "    xs = i*np.ones_like(ys)\n",
    "    verticals.append(np.vstack((xs, ys)))\n",
    "verticals = np.array(verticals)\n",
    "print(verticals.shape)\n",
    "for i in range(Npts):\n",
    "    ax.plot(verticals[:,0,i],verticals[:,1,i], alpha = 0.1)\n",
    "pyplot.show()"
   ]
  },
  {
   "cell_type": "raw",
   "metadata": {},
   "source": [
    "r1 = 1*2 #Rnd()\n",
    "r2 = 2*2 #Rnd()\n",
    "print(f\"{hex(r1)}, {hex(r2)}\")\n",
    "sampler.SetSubsequenceId(r1) # (3<<8) | 1)\n",
    "sampler.SetPixelIndex((0,0))\n",
    "pts = Samples(sampler, 128)\n",
    "#sampler.SetPixelIndex((5,2))\n",
    "sampler.SetSubsequenceId(r2) #(3<<8) | 2)\n",
    "pts2 = Samples(sampler, 128)\n",
    "pyplot.scatter(*pts.T, c = np.arange(len(pts)), marker='+')\n",
    "pyplot.scatter(*pts2.T, c = np.arange(len(pts)), marker='x')\n",
    "pyplot.gca().add_artist(pyplot.Rectangle((0,0),1,1,fill=False))"
   ]
  }
 ],
 "metadata": {
  "kernelspec": {
   "display_name": "Python 3.7.3 64-bit ('base': conda)",
   "language": "python",
   "name": "python37364bitbaseconda9e3abde003724f85a3814823454b693e"
  },
  "language_info": {
   "codemirror_mode": {
    "name": "ipython",
    "version": 3
   },
   "file_extension": ".py",
   "mimetype": "text/x-python",
   "name": "python",
   "nbconvert_exporter": "python",
   "pygments_lexer": "ipython3",
   "version": "3.7.3"
  }
 },
 "nbformat": 4,
 "nbformat_minor": 4
}
