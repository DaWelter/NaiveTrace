{
 "cells": [
  {
   "cell_type": "code",
   "execution_count": null,
   "metadata": {},
   "outputs": [],
   "source": [
    "import numpy as np\n",
    "from matplotlib import pyplot"
   ]
  },
  {
   "cell_type": "code",
   "execution_count": null,
   "metadata": {},
   "outputs": [],
   "source": [
    "def f(x):\n",
    "    return np.power(2., x)-1."
   ]
  },
  {
   "cell_type": "code",
   "execution_count": null,
   "metadata": {},
   "outputs": [],
   "source": [
    "x = np.linspace(0., 1., 100, dtype=np.float32)\n",
    "y = f(x)\n",
    "poly = np.polyfit(x, y, deg=2).astype(np.float32)\n",
    "fit = np.polyval(poly, x.astype(np.float32))\n",
    "\n",
    "pyplot.plot(x, y)\n",
    "pyplot.plot(x, fit, color='r')"
   ]
  },
  {
   "cell_type": "code",
   "execution_count": null,
   "metadata": {},
   "outputs": [],
   "source": [
    "poly"
   ]
  },
  {
   "cell_type": "code",
   "execution_count": null,
   "metadata": {},
   "outputs": [],
   "source": [
    "np.finfo(np.float32)"
   ]
  },
  {
   "cell_type": "code",
   "execution_count": null,
   "metadata": {},
   "outputs": [],
   "source": [
    "x = np.float32(0.)\n",
    "print (bin(x.view(dtype=np.uint32).copy()))\n",
    "exponent = ((x.view(dtype=np.uint32).copy() >> 23) & (255)) - 127\n",
    "exponent"
   ]
  },
  {
   "cell_type": "code",
   "execution_count": null,
   "metadata": {},
   "outputs": [],
   "source": [
    "np.log2(np.e)"
   ]
  },
  {
   "cell_type": "code",
   "execution_count": null,
   "metadata": {},
   "outputs": [],
   "source": [
    "def exp_approx(x):\n",
    "        # http://spfrnd.de/posts/2018-03-10-fast-exponential.html\n",
    "        x = x * np.log2(np.e)\n",
    "        xi = np.int32(np.floor(x))\n",
    "        xf = x - xi\n",
    "        y = np.power(np.float32(2.), xi)\n",
    "        corr = np.float32(1.) + np.polyval(poly, xf).astype(np.float32)\n",
    "        iview = corr.view(dtype=np.uint32)\n",
    "        print (bin(iview[0]))\n",
    "        iview &= np.uint32(~(255 << 23))\n",
    "        iview |= (((xi + 127) << 23)).astype(np.uint32)\n",
    "        print (bin(iview[0]))\n",
    "        return corr\n",
    "        #return y*corr"
   ]
  },
  {
   "cell_type": "code",
   "execution_count": null,
   "metadata": {},
   "outputs": [],
   "source": [
    "bin(np.uint32(~(255 << 23)))"
   ]
  },
  {
   "cell_type": "code",
   "execution_count": null,
   "metadata": {},
   "outputs": [],
   "source": [
    "logs = np.linspace(7., 10., 10000)\n",
    "y = exp_approx(logs)\n",
    "ref = np.exp(logs)"
   ]
  },
  {
   "cell_type": "code",
   "execution_count": null,
   "metadata": {},
   "outputs": [],
   "source": [
    "rel_err = np.abs(ref - y) / ref\n",
    "print (rel_err.max())\n",
    "pyplot.plot(logs, rel_err)\n",
    "pyplot.gca().set(yscale='log')"
   ]
  },
  {
   "cell_type": "code",
   "execution_count": null,
   "metadata": {},
   "outputs": [],
   "source": [
    "pyplot.plot(logs, y)\n",
    "pyplot.plot(logs, ref)\n",
    "pyplot.gca().set(yscale='log')"
   ]
  },
  {
   "cell_type": "code",
   "execution_count": null,
   "metadata": {},
   "outputs": [],
   "source": [
    "from path_guiding import ExpApproximation\n",
    "\n",
    "logs = np.linspace(-30., 10., 1024, dtype=np.float32)\n",
    "ref = np.exp(logs)\n",
    "\n",
    "# Vectorized version\n",
    "M = 8\n",
    "y = np.zeros(len(logs), dtype=np.float32)\n",
    "for i in range(0, 1024, M):\n",
    "    y[i:i+M] = ExpApproximation(logs[i:i+M])\n",
    "\n",
    "\n",
    "pyplot.plot(logs, np.abs(ref - y) / ref)\n",
    "pyplot.gca().set(yscale='log')\n",
    "pyplot.show()\n",
    "\n",
    "pyplot.plot(logs, y)\n",
    "pyplot.plot(logs, ref)\n",
    "pyplot.gca().set(yscale='log')\n",
    "pyplot.show()\n",
    "\n",
    "del y\n",
    "\n",
    "# Scalar version\n",
    "M = 8\n",
    "y = np.array([ ExpApproximation(l) for l in logs ], dtype=np.float32)\n",
    "pyplot.plot(logs, np.abs(ref - y) / ref)\n",
    "pyplot.gca().set(yscale='log')\n",
    "pyplot.show()"
   ]
  },
  {
   "cell_type": "markdown",
   "metadata": {},
   "source": [
    "Fast $\\log_2$ approximation\n",
    "--------------------------------------\n",
    "\n",
    "Based on the floating point representation $x=m2^e$. Hence\n",
    "\\begin{equation}\n",
    "\\log_2 x = \\log_2 m + e\n",
    "\\end{equation}\n",
    "where $m \\in [1,2)$."
   ]
  },
  {
   "cell_type": "code",
   "execution_count": null,
   "metadata": {},
   "outputs": [],
   "source": [
    "# Need a fit for values in [1,2]\n",
    "x = np.linspace(0.9, 2.1, 100, dtype=np.float32)\n",
    "y = np.log2(x)\n",
    "log2_poly = np.polyfit(x, y, deg=3).astype(np.float32)\n",
    "fit = np.polyval(log2_poly, x.astype(np.float32))\n",
    "\n",
    "pyplot.plot(x, y)\n",
    "pyplot.plot(x, fit, color='r')"
   ]
  },
  {
   "cell_type": "code",
   "execution_count": null,
   "metadata": {},
   "outputs": [],
   "source": [
    "def log2_taylor(x):\n",
    "    # Expansion around x=1\n",
    "    x = x-np.float32(1)\n",
    "    y = x*(np.float32(1.) + x*(np.float32(1./3.)*x - np.float32(1./2.)))\n",
    "    y /= np.float32(np.log(2.))\n",
    "    return y\n",
    "\n",
    "def log2_approx(x):\n",
    "    iview = x.view(dtype=np.uint32)\n",
    "    #print ('bin view = {}'.format(bin(iview)))\n",
    "    exponent = iview & np.uint32(255 << 23)\n",
    "    exponent = (exponent >> 23) - 127\n",
    "    mantisse = (iview & np.uint32(~(255 << 23)) | np.uint32((127 << 23)))\n",
    "    mantisse = mantisse.view(dtype=np.float32)\n",
    "    # The mantisse always lies between 1 and 2\n",
    "    # Close to x=1, the general log2_poly-based approximation diverges from the true value.\n",
    "    # So these cases are treated separately.\n",
    "    if exponent == -1 and mantisse>1.6:\n",
    "        # The argument lies close to 1 due to division by 2.\n",
    "        return log2_taylor(mantisse/np.float32(2))\n",
    "    elif exponent == 0 and mantisse<1.2:\n",
    "        return log2_taylor(mantisse)\n",
    "    else:\n",
    "        return np.polyval(log2_poly, mantisse) + exponent"
   ]
  },
  {
   "cell_type": "code",
   "execution_count": null,
   "metadata": {},
   "outputs": [],
   "source": [
    "def f(x):\n",
    "    return log2_approx(np.float32(x))"
   ]
  },
  {
   "cell_type": "code",
   "execution_count": null,
   "metadata": {},
   "outputs": [],
   "source": [
    "x = 2.**(-0.0000001)\n",
    "y = f(x)\n",
    "yref = np.log2(np.float32(x))\n",
    "print(x, y, yref, (y-yref)/yref)"
   ]
  },
  {
   "cell_type": "code",
   "execution_count": null,
   "metadata": {},
   "outputs": [],
   "source": [
    "np.log2(1.9999998807907104) - 1."
   ]
  },
  {
   "cell_type": "code",
   "execution_count": null,
   "metadata": {},
   "outputs": [],
   "source": [
    "np.log2(1.9999998807907104 * 0.5)"
   ]
  },
  {
   "cell_type": "code",
   "execution_count": null,
   "metadata": {},
   "outputs": [],
   "source": [
    "logs = np.linspace(-2., 2., 10000, dtype=np.float32)\n",
    "x = np.power(np.float32(2.),logs)\n",
    "\n",
    "yref = np.log2(x)\n",
    "y = np.array([f(x_) for x_ in x ])\n",
    "\n",
    "rel_err = np.abs(yref - y) / np.abs(yref)\n",
    "pyplot.plot(logs, rel_err)\n",
    "pyplot.gca().set(yscale='log')"
   ]
  },
  {
   "cell_type": "code",
   "execution_count": null,
   "metadata": {},
   "outputs": [],
   "source": []
  }
 ],
 "metadata": {
  "kernelspec": {
   "display_name": "Python 3",
   "language": "python",
   "name": "python3"
  },
  "language_info": {
   "codemirror_mode": {
    "name": "ipython",
    "version": 3
   },
   "file_extension": ".py",
   "mimetype": "text/x-python",
   "name": "python",
   "nbconvert_exporter": "python",
   "pygments_lexer": "ipython3",
   "version": "3.7.3"
  }
 },
 "nbformat": 4,
 "nbformat_minor": 2
}
