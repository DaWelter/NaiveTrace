{
 "cells": [
  {
   "cell_type": "code",
   "execution_count": null,
   "metadata": {},
   "outputs": [],
   "source": [
    "import numpy as np\n",
    "from matplotlib import pyplot"
   ]
  },
  {
   "cell_type": "code",
   "execution_count": null,
   "metadata": {},
   "outputs": [],
   "source": [
    "def f(x):\n",
    "    return np.power(2., x)-1."
   ]
  },
  {
   "cell_type": "code",
   "execution_count": null,
   "metadata": {},
   "outputs": [],
   "source": [
    "x = np.linspace(0., 1., 100, dtype=np.float32)"
   ]
  },
  {
   "cell_type": "code",
   "execution_count": null,
   "metadata": {},
   "outputs": [],
   "source": [
    "y = f(x)"
   ]
  },
  {
   "cell_type": "code",
   "execution_count": null,
   "metadata": {},
   "outputs": [],
   "source": [
    "poly = np.polyfit(x, y, deg=2).astype(np.float32)"
   ]
  },
  {
   "cell_type": "code",
   "execution_count": null,
   "metadata": {},
   "outputs": [],
   "source": [
    "fit = np.polyval(poly, x.astype(np.float32))"
   ]
  },
  {
   "cell_type": "code",
   "execution_count": null,
   "metadata": {},
   "outputs": [],
   "source": [
    "pyplot.plot(x, y)\n",
    "pyplot.plot(x, fit, color='r')"
   ]
  },
  {
   "cell_type": "code",
   "execution_count": null,
   "metadata": {},
   "outputs": [],
   "source": [
    "poly"
   ]
  },
  {
   "cell_type": "code",
   "execution_count": null,
   "metadata": {},
   "outputs": [],
   "source": [
    "np.finfo(np.float32)"
   ]
  },
  {
   "cell_type": "code",
   "execution_count": null,
   "metadata": {},
   "outputs": [],
   "source": [
    "x = np.float32(0.)\n",
    "print (bin(x.view(dtype=np.uint32).copy()))\n",
    "exponent = ((x.view(dtype=np.uint32).copy() >> 23) & (255)) - 127\n",
    "exponent"
   ]
  },
  {
   "cell_type": "code",
   "execution_count": null,
   "metadata": {},
   "outputs": [],
   "source": [
    "np.log2(np.e)"
   ]
  },
  {
   "cell_type": "code",
   "execution_count": null,
   "metadata": {},
   "outputs": [],
   "source": [
    "def exp_approx(x):\n",
    "        # http://spfrnd.de/posts/2018-03-10-fast-exponential.html\n",
    "        x = x * np.log2(np.e)\n",
    "        xi = np.int32(np.floor(x))\n",
    "        xf = x - xi\n",
    "        y = np.power(np.float32(2.), xi)\n",
    "        corr = np.float32(1.) + np.polyval(poly, xf).astype(np.float32)\n",
    "        iview = corr.view(dtype=np.uint32)\n",
    "        print (bin(iview[0]))\n",
    "        iview &= np.uint32(~(255 << 23))\n",
    "        iview |= (((xi + 127) << 23)).astype(np.uint32)\n",
    "        print (bin(iview[0]))\n",
    "        return corr\n",
    "        #return y*corr"
   ]
  },
  {
   "cell_type": "code",
   "execution_count": null,
   "metadata": {},
   "outputs": [],
   "source": [
    "bin(np.uint32(~(255 << 23)))"
   ]
  },
  {
   "cell_type": "code",
   "execution_count": null,
   "metadata": {},
   "outputs": [],
   "source": [
    "logs = np.linspace(-30., 10., 1000)\n",
    "y = exp_approx(logs)\n",
    "ref = np.exp(logs)"
   ]
  },
  {
   "cell_type": "code",
   "execution_count": null,
   "metadata": {},
   "outputs": [],
   "source": [
    "pyplot.plot(logs, np.abs(ref - y) / ref)\n",
    "pyplot.gca().set(yscale='log')"
   ]
  },
  {
   "cell_type": "code",
   "execution_count": null,
   "metadata": {},
   "outputs": [],
   "source": [
    "pyplot.plot(logs, y)\n",
    "pyplot.plot(logs, ref)\n",
    "pyplot.gca().set(yscale='log')"
   ]
  },
  {
   "cell_type": "code",
   "execution_count": null,
   "metadata": {},
   "outputs": [],
   "source": [
    "from path_guiding import ExpApproximation\n",
    "\n",
    "\n",
    "logs = np.linspace(-30., 10., 1024)\n",
    "y = np.zeros(len(logs), dtype=np.float32)\n",
    "for i in range(0, 1024, 16):\n",
    "    y[i:i+16] = ExpApproximation(logs[i:i+16])\n",
    "ref = np.exp(logs)\n",
    "print(y)\n",
    "\n",
    "pyplot.plot(logs, np.abs(ref - y) / ref)\n",
    "pyplot.gca().set(yscale='log')\n",
    "pyplot.show()\n",
    "\n",
    "pyplot.plot(logs, y)\n",
    "pyplot.plot(logs, ref)\n",
    "pyplot.gca().set(yscale='log')\n",
    "pyplot.show()"
   ]
  },
  {
   "cell_type": "code",
   "execution_count": null,
   "metadata": {},
   "outputs": [],
   "source": []
  }
 ],
 "metadata": {
  "kernelspec": {
   "display_name": "Python 3",
   "language": "python",
   "name": "python3"
  },
  "language_info": {
   "codemirror_mode": {
    "name": "ipython",
    "version": 3
   },
   "file_extension": ".py",
   "mimetype": "text/x-python",
   "name": "python",
   "nbconvert_exporter": "python",
   "pygments_lexer": "ipython3",
   "version": "3.7.1"
  }
 },
 "nbformat": 4,
 "nbformat_minor": 2
}
